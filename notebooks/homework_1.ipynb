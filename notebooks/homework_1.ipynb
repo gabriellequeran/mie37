{
 "cells": [
  {
   "cell_type": "markdown",
   "metadata": {},
   "source": [
    "# Homework 1"
   ]
  },
  {
   "cell_type": "markdown",
   "metadata": {},
   "source": [
    "## Solow Model"
   ]
  },
  {
   "cell_type": "markdown",
   "metadata": {},
   "source": [
    "\n",
    "We consider here, another deterministic version of the neoclassical growth model, but propose a slightly different solution method.\n",
    "\n",
    "A representative agent uses capital $k_t$ to produce $y_t$ using the following production function:\n",
    "\n",
    "$$y_t = k_t^{\\alpha}$$\n",
    "\n",
    "He chooses to consume an amount $c_t \\in ]0, y_t]$ and invests what remains:\n",
    "\n",
    "$$i_t = y_t - c_t$$ \n",
    "\n",
    "He accumulates capital $k_t$ according to:\n",
    "\n",
    "$$k_{t+1} = \\left( 1-\\delta \\right) k_{t} + i_{t}$$\n",
    "\n",
    "where $\\delta$ is the depreciation rate and $i_t$ is the amount invested.\n",
    "\n",
    "The goal of the representative agent is to maximize:\n",
    "\n",
    "$$\\sum_{t\\geq 0} \\beta^t U(c_t)$$\n",
    "\n",
    "where $U(x)=\\frac{x^{1-\\gamma}}{1-\\gamma}$ and $\\beta<1$ is the discount factor.\n",
    "\n",
    "For now, we ignore the objective and assume that the saving rate $s=\\frac{c_t}{y_t}$ is constant over time."
   ]
  },
  {
   "cell_type": "markdown",
   "metadata": {},
   "source": [
    "__Create a structure `Parameters` to hold parameter values $\\beta=0.96$, $\\delta=0.1$, $\\alpha=0.3$, $\\gamma=4$__ "
   ]
  },
  {
   "cell_type": "code",
   "execution_count": 1,
   "metadata": {},
   "outputs": [
    {
     "data": {
      "text/plain": [
       "Parameters(0.96, 0.1, 0.3, 4.0)"
      ]
     },
     "metadata": {},
     "output_type": "display_data"
    }
   ],
   "source": [
    "struct Parameters\n",
    "    β\n",
    "    δ\n",
    "    α\n",
    "    γ\n",
    "end\n",
    "\n",
    "parms = Parameters(0.96, 0.1, 0.3, 4.)"
   ]
  },
  {
   "cell_type": "markdown",
   "metadata": {},
   "source": [
    "__Write down the formula of function $f$ such that $k_{t+1}$: $k_{t+1} = f(k_t)$.__\n",
    "\n",
    "We have that $k_{t+1} = (1-\\delta)k_t + i_t $. But, $i_t = y_t-c_t = y_t(1-s) = k_t^\\alpha (1-s)$. Thus, we deduce that : $ k_{t+1} = (1-\\delta)k_t + k_t^\\alpha (1-s) $."
   ]
  },
  {
   "cell_type": "markdown",
   "metadata": {},
   "source": [
    "__Define a function `f(k::Float64, p::Parameters)::Float64` to represent $f$ for a given calibration__"
   ]
  },
  {
   "cell_type": "code",
   "execution_count": 2,
   "metadata": {},
   "outputs": [
    {
     "data": {
      "text/plain": [
       "f (generic function with 1 method)"
      ]
     },
     "metadata": {},
     "output_type": "display_data"
    }
   ],
   "source": [
    "function f(k::Float64, p::Parameters)\n",
    "    return (1-p.δ)*k + k^p.α * (1-s)\n",
    "end"
   ]
  },
  {
   "cell_type": "markdown",
   "metadata": {},
   "source": [
    "__Write a function `simulate(k0::Float64, T::Int, p::Parameters)::Vector{Float64}` to compute the simulation over `T` periods starting from initial capital level `k0`.__"
   ]
  },
  {
   "cell_type": "code",
   "execution_count": 3,
   "metadata": {},
   "outputs": [
    {
     "data": {
      "text/plain": [
       "simulate (generic function with 1 method)"
      ]
     },
     "metadata": {},
     "output_type": "display_data"
    }
   ],
   "source": [
    "function simulate(k0::Float64, T::Int, p::Parameters)\n",
    "    list_of_k = [k0]\n",
    "    for i in 1:T\n",
    "        k0 = f(k0,p)\n",
    "        append!(list_of_k,k0)\n",
    "    end\n",
    "    return list_of_k\n",
    "end"
   ]
  },
  {
   "cell_type": "code",
   "execution_count": 4,
   "metadata": {},
   "outputs": [
    {
     "data": {
      "text/plain": [
       "0.1"
      ]
     },
     "metadata": {},
     "output_type": "display_data"
    }
   ],
   "source": [
    "s = 0.1"
   ]
  },
  {
   "cell_type": "markdown",
   "metadata": {},
   "source": [
    "__Make a nice plot to illustrate the convergence. Do we get convergence from any initial level of capital?__"
   ]
  },
  {
   "cell_type": "code",
   "execution_count": 5,
   "metadata": {},
   "outputs": [],
   "source": [
    "using Plots"
   ]
  },
  {
   "cell_type": "code",
   "execution_count": 50,
   "metadata": {},
   "outputs": [
    {
     "data": {
      "image/png": "[encoded data removed]",
      "image/svg+xml": "<?xml version=\"1.0\" encoding=\"utf-8\"?>\n<svg xmlns=\"http://www.w3.org/2000/svg\" xmlns:xlink=\"http://www.w3.org/1999/xlink\" width=\"600\" height=\"400\" viewBox=\"0 0 2400 1600\">\n<defs>\n  <clipPath id=\"clip960\">\n    <rect x=\"0\" y=\"0\" width=\"2400\" height=\"1600\"/>\n  </clipPath>\n</defs>\n<path clip-path=\"url(#clip960)\" d=\"\nM0 1600 L2400 1600 L2400 0 L0 0  Z\n  \" fill=\"#ffffff\" fill-rule=\"evenodd\" fill-opacity=\"1\"/>\n<defs>\n  <clipPath id=\"clip961\">\n    <rect x=\"480\" y=\"0\" width=\"1681\" height=\"1600\"/>\n  </clipPath>\n</defs>\n<path clip-path=\"url(#clip960)\" d=\"\nM138.959 1486.45 L2352.76 1486.45 L2352.76 47.2441 L138.959 47.2441  Z\n  \" fill=\"#ffffff\" fill-rule=\"evenodd\" fill-opacity=\"1\"/>\n<defs>\n  <clipPath id=\"clip962\">\n    <rect x=\"138\" y=\"47\" width=\"2215\" height=\"1440\"/>\n  </clipPath>\n</defs>\n<polyline clip-path=\"url(#clip962)\" style=\"stroke:#000000; stroke-linecap:butt; stroke-linejoin:round; stroke-width:2; stroke-opacity:0.1; fill:none\" points=\"\n  201.614,1486.45 201.614,47.2441 \n  \"/>\n<polyline clip-path=\"url(#clip962)\" style=\"stroke:#000000; stroke-linecap:butt; stroke-linejoin:round; stroke-width:2; stroke-opacity:0.1; fill:none\" points=\"\n  723.736,1486.45 723.736,47.2441 \n  \"/>\n<polyline clip-path=\"url(#clip962)\" style=\"stroke:#000000; stroke-linecap:butt; stroke-linejoin:round; stroke-width:2; stroke-opacity:0.1; fill:none\" points=\"\n  1245.86,1486.45 1245.86,47.2441 \n  \"/>\n<polyline clip-path=\"url(#clip962)\" style=\"stroke:#000000; stroke-linecap:butt; stroke-linejoin:round; stroke-width:2; stroke-opacity:0.1; fill:none\" points=\"\n  1767.98,1486.45 1767.98,47.2441 \n  \"/>\n<polyline clip-path=\"url(#clip962)\" style=\"stroke:#000000; stroke-linecap:butt; stroke-linejoin:round; stroke-width:2; stroke-opacity:0.1; fill:none\" points=\"\n  2290.1,1486.45 2290.1,47.2441 \n  \"/>\n<polyline clip-path=\"url(#clip960)\" style=\"stroke:#000000; stroke-linecap:butt; stroke-linejoin:round; stroke-width:4; stroke-opacity:1; fill:none\" points=\"\n  138.959,1486.45 2352.76,1486.45 \n  \"/>\n<polyline clip-path=\"url(#clip960)\" style=\"stroke:#000000; stroke-linecap:butt; stroke-linejoin:round; stroke-width:4; stroke-opacity:1; fill:none\" points=\"\n  201.614,1486.45 201.614,1467.55 \n  \"/>\n<polyline clip-path=\"url(#clip960)\" style=\"stroke:#000000; stroke-linecap:butt; stroke-linejoin:round; stroke-width:4; stroke-opacity:1; fill:none\" points=\"\n  723.736,1486.45 723.736,1467.55 \n  \"/>\n<polyline clip-path=\"url(#clip960)\" style=\"stroke:#000000; stroke-linecap:butt; stroke-linejoin:round; stroke-width:4; stroke-opacity:1; fill:none\" points=\"\n  1245.86,1486.45 1245.86,1467.55 \n  \"/>\n<polyline clip-path=\"url(#clip960)\" style=\"stroke:#000000; stroke-linecap:butt; stroke-linejoin:round; stroke-width:4; stroke-opacity:1; fill:none\" points=\"\n  1767.98,1486.45 1767.98,1467.55 \n  \"/>\n<polyline clip-path=\"url(#clip960)\" style=\"stroke:#000000; stroke-linecap:butt; stroke-linejoin:round; stroke-width:4; stroke-opacity:1; fill:none\" points=\"\n  2290.1,1486.45 2290.1,1467.55 \n  \"/>\n<path clip-path=\"url(#clip960)\" d=\"M201.614 1517.37 Q198.003 1517.37 196.174 1520.93 Q194.369 1524.47 194.369 1531.6 Q194.369 1538.71 196.174 1542.27 Q198.003 1545.82 201.614 1545.82 Q205.248 1545.82 207.054 1542.27 Q208.883 1538.71 208.883 1531.6 Q208.883 1524.47 207.054 1520.93 Q205.248 1517.37 201.614 1517.37 M201.614 1513.66 Q207.424 1513.66 210.48 1518.27 Q213.558 1522.85 213.558 1531.6 Q213.558 1540.33 210.48 1544.94 Q207.424 1549.52 201.614 1549.52 Q195.804 1549.52 192.725 1544.94 Q189.67 1540.33 189.67 1531.6 Q189.67 1522.85 192.725 1518.27 Q195.804 1513.66 201.614 1513.66 Z\" fill=\"#000000\" fill-rule=\"evenodd\" fill-opacity=\"1\" /><path clip-path=\"url(#clip960)\" d=\"M698.435 1514.29 L716.791 1514.29 L716.791 1518.22 L702.717 1518.22 L702.717 1526.7 Q703.736 1526.35 704.754 1526.19 Q705.773 1526 706.792 1526 Q712.579 1526 715.958 1529.17 Q719.338 1532.34 719.338 1537.76 Q719.338 1543.34 715.866 1546.44 Q712.393 1549.52 706.074 1549.52 Q703.898 1549.52 701.63 1549.15 Q699.384 1548.78 696.977 1548.04 L696.977 1543.34 Q699.06 1544.47 701.282 1545.03 Q703.504 1545.58 705.981 1545.58 Q709.986 1545.58 712.324 1543.48 Q714.662 1541.37 714.662 1537.76 Q714.662 1534.15 712.324 1532.04 Q709.986 1529.94 705.981 1529.94 Q704.106 1529.94 702.231 1530.35 Q700.38 1530.77 698.435 1531.65 L698.435 1514.29 Z\" fill=\"#000000\" fill-rule=\"evenodd\" fill-opacity=\"1\" /><path clip-path=\"url(#clip960)\" d=\"M738.551 1517.37 Q734.94 1517.37 733.111 1520.93 Q731.305 1524.47 731.305 1531.6 Q731.305 1538.71 733.111 1542.27 Q734.94 1545.82 738.551 1545.82 Q742.185 1545.82 743.99 1542.27 Q745.819 1538.71 745.819 1531.6 Q745.819 1524.47 743.99 1520.93 Q742.185 1517.37 738.551 1517.37 M738.551 1513.66 Q744.361 1513.66 747.416 1518.27 Q750.495 1522.85 750.495 1531.6 Q750.495 1540.33 747.416 1544.94 Q744.361 1549.52 738.551 1549.52 Q732.74 1549.52 729.662 1544.94 Q726.606 1540.33 726.606 1531.6 Q726.606 1522.85 729.662 1518.27 Q732.74 1513.66 738.551 1513.66 Z\" fill=\"#000000\" fill-rule=\"evenodd\" fill-opacity=\"1\" /><path clip-path=\"url(#clip960)\" d=\"M1205.46 1544.91 L1213.1 1544.91 L1213.1 1518.55 L1204.79 1520.21 L1204.79 1515.95 L1213.06 1514.29 L1217.73 1514.29 L1217.73 1544.91 L1225.37 1544.91 L1225.37 1548.85 L1205.46 1548.85 L1205.46 1544.91 Z\" fill=\"#000000\" fill-rule=\"evenodd\" fill-opacity=\"1\" /><path clip-path=\"url(#clip960)\" d=\"M1244.82 1517.37 Q1241.2 1517.37 1239.38 1520.93 Q1237.57 1524.47 1237.57 1531.6 Q1237.57 1538.71 1239.38 1542.27 Q1241.2 1545.82 1244.82 1545.82 Q1248.45 1545.82 1250.26 1542.27 Q1252.08 1538.71 1252.08 1531.6 Q1252.08 1524.47 1250.26 1520.93 Q1248.45 1517.37 1244.82 1517.37 M1244.82 1513.66 Q1250.63 1513.66 1253.68 1518.27 Q1256.76 1522.85 1256.76 1531.6 Q1256.76 1540.33 1253.68 1544.94 Q1250.63 1549.52 1244.82 1549.52 Q1239.01 1549.52 1235.93 1544.94 Q1232.87 1540.33 1232.87 1531.6 Q1232.87 1522.85 1235.93 1518.27 Q1239.01 1513.66 1244.82 1513.66 Z\" fill=\"#000000\" fill-rule=\"evenodd\" fill-opacity=\"1\" /><path clip-path=\"url(#clip960)\" d=\"M1274.98 1517.37 Q1271.37 1517.37 1269.54 1520.93 Q1267.73 1524.47 1267.73 1531.6 Q1267.73 1538.71 1269.54 1542.27 Q1271.37 1545.82 1274.98 1545.82 Q1278.61 1545.82 1280.42 1542.27 Q1282.25 1538.71 1282.25 1531.6 Q1282.25 1524.47 1280.42 1520.93 Q1278.61 1517.37 1274.98 1517.37 M1274.98 1513.66 Q1280.79 1513.66 1283.84 1518.27 Q1286.92 1522.85 1286.92 1531.6 Q1286.92 1540.33 1283.84 1544.94 Q1280.79 1549.52 1274.98 1549.52 Q1269.17 1549.52 1266.09 1544.94 Q1263.03 1540.33 1263.03 1531.6 Q1263.03 1522.85 1266.09 1518.27 Q1269.17 1513.66 1274.98 1513.66 Z\" fill=\"#000000\" fill-rule=\"evenodd\" fill-opacity=\"1\" /><path clip-path=\"url(#clip960)\" d=\"M1727.59 1544.91 L1735.23 1544.91 L1735.23 1518.55 L1726.91 1520.21 L1726.91 1515.95 L1735.18 1514.29 L1739.85 1514.29 L1739.85 1544.91 L1747.49 1544.91 L1747.49 1548.85 L1727.59 1548.85 L1727.59 1544.91 Z\" fill=\"#000000\" fill-rule=\"evenodd\" fill-opacity=\"1\" /><path clip-path=\"url(#clip960)\" d=\"M1756.98 1514.29 L1775.34 1514.29 L1775.34 1518.22 L1761.27 1518.22 L1761.27 1526.7 Q1762.29 1526.35 1763.3 1526.19 Q1764.32 1526 1765.34 1526 Q1771.13 1526 1774.51 1529.17 Q1777.89 1532.34 1777.89 1537.76 Q1777.89 1543.34 1774.41 1546.44 Q1770.94 1549.52 1764.62 1549.52 Q1762.45 1549.52 1760.18 1549.15 Q1757.93 1548.78 1755.53 1548.04 L1755.53 1543.34 Q1757.61 1544.47 1759.83 1545.03 Q1762.05 1545.58 1764.53 1545.58 Q1768.54 1545.58 1770.87 1543.48 Q1773.21 1541.37 1773.21 1537.76 Q1773.21 1534.15 1770.87 1532.04 Q1768.54 1529.94 1764.53 1529.94 Q1762.66 1529.94 1760.78 1530.35 Q1758.93 1530.77 1756.98 1531.65 L1756.98 1514.29 Z\" fill=\"#000000\" fill-rule=\"evenodd\" fill-opacity=\"1\" /><path clip-path=\"url(#clip960)\" d=\"M1797.1 1517.37 Q1793.49 1517.37 1791.66 1520.93 Q1789.85 1524.47 1789.85 1531.6 Q1789.85 1538.71 1791.66 1542.27 Q1793.49 1545.82 1797.1 1545.82 Q1800.73 1545.82 1802.54 1542.27 Q1804.37 1538.71 1804.37 1531.6 Q1804.37 1524.47 1802.54 1520.93 Q1800.73 1517.37 1797.1 1517.37 M1797.1 1513.66 Q1802.91 1513.66 1805.97 1518.27 Q1809.04 1522.85 1809.04 1531.6 Q1809.04 1540.33 1805.97 1544.94 Q1802.91 1549.52 1797.1 1549.52 Q1791.29 1549.52 1788.21 1544.94 Q1785.16 1540.33 1785.16 1531.6 Q1785.16 1522.85 1788.21 1518.27 Q1791.29 1513.66 1797.1 1513.66 Z\" fill=\"#000000\" fill-rule=\"evenodd\" fill-opacity=\"1\" /><path clip-path=\"url(#clip960)\" d=\"M2253.79 1544.91 L2270.11 1544.91 L2270.11 1548.85 L2248.17 1548.85 L2248.17 1544.91 Q2250.83 1542.16 2255.41 1537.53 Q2260.02 1532.88 2261.2 1531.53 Q2263.45 1529.01 2264.33 1527.27 Q2265.23 1525.51 2265.23 1523.82 Q2265.23 1521.07 2263.28 1519.33 Q2261.36 1517.6 2258.26 1517.6 Q2256.06 1517.6 2253.61 1518.36 Q2251.18 1519.13 2248.4 1520.68 L2248.4 1515.95 Q2251.22 1514.82 2253.68 1514.24 Q2256.13 1513.66 2258.17 1513.66 Q2263.54 1513.66 2266.73 1516.35 Q2269.93 1519.03 2269.93 1523.52 Q2269.93 1525.65 2269.12 1527.57 Q2268.33 1529.47 2266.22 1532.07 Q2265.65 1532.74 2262.54 1535.95 Q2259.44 1539.15 2253.79 1544.91 Z\" fill=\"#000000\" fill-rule=\"evenodd\" fill-opacity=\"1\" /><path clip-path=\"url(#clip960)\" d=\"M2289.93 1517.37 Q2286.32 1517.37 2284.49 1520.93 Q2282.68 1524.47 2282.68 1531.6 Q2282.68 1538.71 2284.49 1542.27 Q2286.32 1545.82 2289.93 1545.82 Q2293.56 1545.82 2295.37 1542.27 Q2297.2 1538.71 2297.2 1531.6 Q2297.2 1524.47 2295.37 1520.93 Q2293.56 1517.37 2289.93 1517.37 M2289.93 1513.66 Q2295.74 1513.66 2298.79 1518.27 Q2301.87 1522.85 2301.87 1531.6 Q2301.87 1540.33 2298.79 1544.94 Q2295.74 1549.52 2289.93 1549.52 Q2284.12 1549.52 2281.04 1544.94 Q2277.98 1540.33 2277.98 1531.6 Q2277.98 1522.85 2281.04 1518.27 Q2284.12 1513.66 2289.93 1513.66 Z\" fill=\"#000000\" fill-rule=\"evenodd\" fill-opacity=\"1\" /><path clip-path=\"url(#clip960)\" d=\"M2320.09 1517.37 Q2316.48 1517.37 2314.65 1520.93 Q2312.84 1524.47 2312.84 1531.6 Q2312.84 1538.71 2314.65 1542.27 Q2316.48 1545.82 2320.09 1545.82 Q2323.72 1545.82 2325.53 1542.27 Q2327.36 1538.71 2327.36 1531.6 Q2327.36 1524.47 2325.53 1520.93 Q2323.72 1517.37 2320.09 1517.37 M2320.09 1513.66 Q2325.9 1513.66 2328.96 1518.27 Q2332.03 1522.85 2332.03 1531.6 Q2332.03 1540.33 2328.96 1544.94 Q2325.9 1549.52 2320.09 1549.52 Q2314.28 1549.52 2311.2 1544.94 Q2308.15 1540.33 2308.15 1531.6 Q2308.15 1522.85 2311.2 1518.27 Q2314.28 1513.66 2320.09 1513.66 Z\" fill=\"#000000\" fill-rule=\"evenodd\" fill-opacity=\"1\" /><polyline clip-path=\"url(#clip962)\" style=\"stroke:#000000; stroke-linecap:butt; stroke-linejoin:round; stroke-width:2; stroke-opacity:0.1; fill:none\" points=\"\n  138.959,1445.72 2352.76,1445.72 \n  \"/>\n<polyline clip-path=\"url(#clip962)\" style=\"stroke:#000000; stroke-linecap:butt; stroke-linejoin:round; stroke-width:2; stroke-opacity:0.1; fill:none\" points=\"\n  138.959,1104.84 2352.76,1104.84 \n  \"/>\n<polyline clip-path=\"url(#clip962)\" style=\"stroke:#000000; stroke-linecap:butt; stroke-linejoin:round; stroke-width:2; stroke-opacity:0.1; fill:none\" points=\"\n  138.959,763.963 2352.76,763.963 \n  \"/>\n<polyline clip-path=\"url(#clip962)\" style=\"stroke:#000000; stroke-linecap:butt; stroke-linejoin:round; stroke-width:2; stroke-opacity:0.1; fill:none\" points=\"\n  138.959,423.087 2352.76,423.087 \n  \"/>\n<polyline clip-path=\"url(#clip962)\" style=\"stroke:#000000; stroke-linecap:butt; stroke-linejoin:round; stroke-width:2; stroke-opacity:0.1; fill:none\" points=\"\n  138.959,82.2106 2352.76,82.2106 \n  \"/>\n<polyline clip-path=\"url(#clip960)\" style=\"stroke:#000000; stroke-linecap:butt; stroke-linejoin:round; stroke-width:4; stroke-opacity:1; fill:none\" points=\"\n  138.959,1486.45 138.959,47.2441 \n  \"/>\n<polyline clip-path=\"url(#clip960)\" style=\"stroke:#000000; stroke-linecap:butt; stroke-linejoin:round; stroke-width:4; stroke-opacity:1; fill:none\" points=\"\n  138.959,1445.72 157.857,1445.72 \n  \"/>\n<polyline clip-path=\"url(#clip960)\" style=\"stroke:#000000; stroke-linecap:butt; stroke-linejoin:round; stroke-width:4; stroke-opacity:1; fill:none\" points=\"\n  138.959,1104.84 157.857,1104.84 \n  \"/>\n<polyline clip-path=\"url(#clip960)\" style=\"stroke:#000000; stroke-linecap:butt; stroke-linejoin:round; stroke-width:4; stroke-opacity:1; fill:none\" points=\"\n  138.959,763.963 157.857,763.963 \n  \"/>\n<polyline clip-path=\"url(#clip960)\" style=\"stroke:#000000; stroke-linecap:butt; stroke-linejoin:round; stroke-width:4; stroke-opacity:1; fill:none\" points=\"\n  138.959,423.087 157.857,423.087 \n  \"/>\n<polyline clip-path=\"url(#clip960)\" style=\"stroke:#000000; stroke-linecap:butt; stroke-linejoin:round; stroke-width:4; stroke-opacity:1; fill:none\" points=\"\n  138.959,82.2106 157.857,82.2106 \n  \"/>\n<path clip-path=\"url(#clip960)\" d=\"M86.6401 1459.06 L102.959 1459.06 L102.959 1463 L81.0151 1463 L81.0151 1459.06 Q83.6771 1456.31 88.2604 1451.68 Q92.8669 1447.02 94.0475 1445.68 Q96.2928 1443.16 97.1724 1441.42 Q98.0752 1439.66 98.0752 1437.97 Q98.0752 1435.22 96.1308 1433.48 Q94.2095 1431.75 91.1077 1431.75 Q88.9086 1431.75 86.4549 1432.51 Q84.0244 1433.27 81.2466 1434.82 L81.2466 1430.1 Q84.0707 1428.97 86.5243 1428.39 Q88.978 1427.81 91.0151 1427.81 Q96.3854 1427.81 99.5798 1430.5 Q102.774 1433.18 102.774 1437.67 Q102.774 1439.8 101.964 1441.72 Q101.177 1443.62 99.0706 1446.21 Q98.4919 1446.88 95.39 1450.1 Q92.2882 1453.3 86.6401 1459.06 Z\" fill=\"#000000\" fill-rule=\"evenodd\" fill-opacity=\"1\" /><path clip-path=\"url(#clip960)\" d=\"M93.3762 1091.63 L81.5707 1110.08 L93.3762 1110.08 L93.3762 1091.63 M92.1493 1087.56 L98.0289 1087.56 L98.0289 1110.08 L102.959 1110.08 L102.959 1113.97 L98.0289 1113.97 L98.0289 1122.12 L93.3762 1122.12 L93.3762 1113.97 L77.7744 1113.97 L77.7744 1109.46 L92.1493 1087.56 Z\" fill=\"#000000\" fill-rule=\"evenodd\" fill-opacity=\"1\" /><path clip-path=\"url(#clip960)\" d=\"M91.4317 762.1 Q88.2836 762.1 86.4318 764.253 Q84.6031 766.405 84.6031 770.155 Q84.6031 773.882 86.4318 776.058 Q88.2836 778.211 91.4317 778.211 Q94.5799 778.211 96.4085 776.058 Q98.2604 773.882 98.2604 770.155 Q98.2604 766.405 96.4085 764.253 Q94.5799 762.1 91.4317 762.1 M100.714 747.447 L100.714 751.706 Q98.9548 750.873 97.1493 750.433 Q95.3669 749.993 93.6076 749.993 Q88.978 749.993 86.5243 753.118 Q84.0938 756.243 83.7466 762.563 Q85.1123 760.549 87.1725 759.484 Q89.2327 758.396 91.7095 758.396 Q96.9178 758.396 99.927 761.567 Q102.959 764.715 102.959 770.155 Q102.959 775.479 99.8113 778.697 Q96.6632 781.914 91.4317 781.914 Q85.4364 781.914 82.2651 777.331 Q79.0938 772.725 79.0938 763.998 Q79.0938 755.803 82.9827 750.942 Q86.8716 746.058 93.4225 746.058 Q95.1817 746.058 96.9641 746.405 Q98.7696 746.753 100.714 747.447 Z\" fill=\"#000000\" fill-rule=\"evenodd\" fill-opacity=\"1\" /><path clip-path=\"url(#clip960)\" d=\"M91.1077 423.955 Q87.7743 423.955 85.8531 425.737 Q83.9549 427.52 83.9549 430.645 Q83.9549 433.77 85.8531 435.552 Q87.7743 437.335 91.1077 437.335 Q94.441 437.335 96.3623 435.552 Q98.2835 433.747 98.2835 430.645 Q98.2835 427.52 96.3623 425.737 Q94.4641 423.955 91.1077 423.955 M86.4318 421.964 Q83.4225 421.223 81.7327 419.163 Q80.066 417.103 80.066 414.14 Q80.066 409.997 83.0058 407.589 Q85.9688 405.182 91.1077 405.182 Q96.2697 405.182 99.2095 407.589 Q102.149 409.997 102.149 414.14 Q102.149 417.103 100.459 419.163 Q98.7928 421.223 95.8067 421.964 Q99.1863 422.751 101.061 425.043 Q102.959 427.335 102.959 430.645 Q102.959 435.668 99.8808 438.353 Q96.8252 441.038 91.1077 441.038 Q85.3901 441.038 82.3114 438.353 Q79.2559 435.668 79.2559 430.645 Q79.2559 427.335 81.154 425.043 Q83.0521 422.751 86.4318 421.964 M84.7188 414.58 Q84.7188 417.265 86.3855 418.77 Q88.0753 420.274 91.1077 420.274 Q94.1169 420.274 95.8067 418.77 Q97.5197 417.265 97.5197 414.58 Q97.5197 411.895 95.8067 410.39 Q94.1169 408.886 91.1077 408.886 Q88.0753 408.886 86.3855 410.39 Q84.7188 411.895 84.7188 414.58 Z\" fill=\"#000000\" fill-rule=\"evenodd\" fill-opacity=\"1\" /><path clip-path=\"url(#clip960)\" d=\"M51.6634 95.5555 L59.3023 95.5555 L59.3023 69.1899 L50.9921 70.8565 L50.9921 66.5973 L59.256 64.9306 L63.9319 64.9306 L63.9319 95.5555 L71.5707 95.5555 L71.5707 99.4906 L51.6634 99.4906 L51.6634 95.5555 Z\" fill=\"#000000\" fill-rule=\"evenodd\" fill-opacity=\"1\" /><path clip-path=\"url(#clip960)\" d=\"M91.0151 68.0093 Q87.404 68.0093 85.5753 71.5741 Q83.7697 75.1158 83.7697 82.2454 Q83.7697 89.3518 85.5753 92.9166 Q87.404 96.4583 91.0151 96.4583 Q94.6493 96.4583 96.4548 92.9166 Q98.2835 89.3518 98.2835 82.2454 Q98.2835 75.1158 96.4548 71.5741 Q94.6493 68.0093 91.0151 68.0093 M91.0151 64.3056 Q96.8252 64.3056 99.8808 68.9121 Q102.959 73.4954 102.959 82.2454 Q102.959 90.9722 99.8808 95.5786 Q96.8252 100.162 91.0151 100.162 Q85.2049 100.162 82.1262 95.5786 Q79.0707 90.9722 79.0707 82.2454 Q79.0707 73.4954 82.1262 68.9121 Q85.2049 64.3056 91.0151 64.3056 Z\" fill=\"#000000\" fill-rule=\"evenodd\" fill-opacity=\"1\" /><polyline clip-path=\"url(#clip962)\" style=\"stroke:#009af9; stroke-linecap:butt; stroke-linejoin:round; stroke-width:4; stroke-opacity:1; fill:none\" points=\"\n  201.614,1445.72 212.056,1374.89 222.499,1305.03 232.941,1236.81 243.384,1170.69 253.826,1106.99 264.269,1045.9 274.711,987.552 285.154,931.988 295.596,879.22 \n  306.038,829.222 316.481,781.941 326.923,737.305 337.366,695.228 347.808,655.614 358.251,618.362 368.693,583.366 379.135,550.52 389.578,519.715 400.02,490.847 \n  410.463,463.81 420.905,438.504 431.348,414.83 441.79,392.694 452.233,372.004 462.675,352.674 473.117,334.621 483.56,317.766 494.002,302.035 504.445,287.356 \n  514.887,273.663 525.33,260.892 535.772,248.984 546.214,237.883 556.657,227.536 567.099,217.893 577.542,208.908 587.984,200.537 598.427,192.739 608.869,185.476 \n  619.312,178.711 629.754,172.412 640.196,166.547 650.639,161.086 661.081,156.002 671.524,151.27 681.966,146.865 692.409,142.764 702.851,138.948 713.293,135.396 \n  723.736,132.091 734.178,129.015 744.621,126.153 755.063,123.489 765.506,121.011 775.948,118.706 786.39,116.56 796.833,114.565 807.275,112.708 817.718,110.98 \n  828.16,109.373 838.603,107.878 849.045,106.488 859.488,105.194 869.93,103.99 880.372,102.871 890.815,101.83 901.257,100.861 911.7,99.9601 922.142,99.122 \n  932.585,98.3426 943.027,97.6175 953.469,96.9432 963.912,96.3159 974.354,95.7325 984.797,95.1899 995.239,94.6852 1005.68,94.2158 1016.12,93.7792 1026.57,93.3732 \n  1037.01,92.9955 1047.45,92.6443 1057.89,92.3176 1068.34,92.0137 1078.78,91.7312 1089.22,91.4683 1099.66,91.2239 1110.11,90.9966 1120.55,90.7852 1130.99,90.5885 \n  1141.43,90.4057 1151.88,90.2356 1162.32,90.0774 1172.76,89.9303 1183.2,89.7935 1193.65,89.6662 1204.09,89.5479 1214.53,89.4378 1224.97,89.3355 1235.42,89.2403 \n  1245.86,89.1518 1256.3,89.0694 1266.74,88.9929 1277.18,88.9217 1287.63,88.8554 1298.07,88.7938 1308.51,88.7365 1318.95,88.6833 1329.4,88.6337 1339.84,88.5877 \n  1350.28,88.5448 1360.72,88.5049 1371.17,88.4679 1381.61,88.4334 1392.05,88.4014 1402.49,88.3715 1412.94,88.3438 1423.38,88.318 1433.82,88.2941 1444.26,88.2718 \n  1454.71,88.251 1465.15,88.2317 1475.59,88.2138 1486.03,88.1971 1496.48,88.1816 1506.92,88.1672 1517.36,88.1537 1527.8,88.1413 1538.25,88.1296 1548.69,88.1189 \n  1559.13,88.1088 1569.57,88.0995 1580.02,88.0908 1590.46,88.0827 1600.9,88.0752 1611.34,88.0682 1621.79,88.0617 1632.23,88.0557 1642.67,88.0501 1653.11,88.0449 \n  1663.56,88.04 1674,88.0355 1684.44,88.0313 1694.88,88.0274 1705.32,88.0237 1715.77,88.0204 1726.21,88.0172 1736.65,88.0143 1747.09,88.0116 1757.54,88.009 \n  1767.98,88.0067 1778.42,88.0045 1788.86,88.0025 1799.31,88.0006 1809.75,87.9988 1820.19,87.9972 1830.63,87.9957 1841.08,87.9942 1851.52,87.9929 1861.96,87.9917 \n  1872.4,87.9906 1882.85,87.9895 1893.29,87.9885 1903.73,87.9876 1914.17,87.9868 1924.62,87.986 1935.06,87.9852 1945.5,87.9845 1955.94,87.9839 1966.39,87.9833 \n  1976.83,87.9828 1987.27,87.9823 1997.71,87.9818 2008.16,87.9813 2018.6,87.9809 2029.04,87.9805 2039.48,87.9802 2049.93,87.9799 2060.37,87.9795 2070.81,87.9793 \n  2081.25,87.979 2091.7,87.9787 2102.14,87.9785 2112.58,87.9783 2123.02,87.9781 2133.46,87.9779 2143.91,87.9777 2154.35,87.9776 2164.79,87.9774 2175.23,87.9773 \n  2185.68,87.9772 2196.12,87.977 2206.56,87.9769 2217,87.9768 2227.45,87.9767 2237.89,87.9766 2248.33,87.9766 2258.77,87.9765 2269.22,87.9764 2279.66,87.9763 \n  2290.1,87.9763 \n  \"/>\n<path clip-path=\"url(#clip960)\" d=\"\nM1858.62 198.898 L2278.96 198.898 L2278.96 95.2176 L1858.62 95.2176  Z\n  \" fill=\"#ffffff\" fill-rule=\"evenodd\" fill-opacity=\"1\"/>\n<polyline clip-path=\"url(#clip960)\" style=\"stroke:#000000; stroke-linecap:butt; stroke-linejoin:round; stroke-width:4; stroke-opacity:1; fill:none\" points=\"\n  1858.62,198.898 2278.96,198.898 2278.96,95.2176 1858.62,95.2176 1858.62,198.898 \n  \"/>\n<polyline clip-path=\"url(#clip960)\" style=\"stroke:#009af9; stroke-linecap:butt; stroke-linejoin:round; stroke-width:4; stroke-opacity:1; fill:none\" points=\"\n  1882.62,147.058 2026.62,147.058 \n  \"/>\n<path clip-path=\"url(#clip960)\" d=\"M2050.62 128.319 L2054.9 128.319 L2054.9 149.592 L2067.61 138.412 L2073.05 138.412 L2059.3 150.541 L2073.63 164.338 L2068.07 164.338 L2054.9 151.676 L2054.9 164.338 L2050.62 164.338 L2050.62 128.319 Z\" fill=\"#000000\" fill-rule=\"evenodd\" fill-opacity=\"1\" /><path clip-path=\"url(#clip960)\" d=\"M2088.83 132.856 Q2085.22 132.856 2083.39 136.421 Q2081.59 139.963 2081.59 147.092 Q2081.59 154.199 2083.39 157.764 Q2085.22 161.305 2088.83 161.305 Q2092.47 161.305 2094.27 157.764 Q2096.1 154.199 2096.1 147.092 Q2096.1 139.963 2094.27 136.421 Q2092.47 132.856 2088.83 132.856 M2088.83 129.153 Q2094.64 129.153 2097.7 133.759 Q2100.78 138.342 2100.78 147.092 Q2100.78 155.819 2097.7 160.426 Q2094.64 165.009 2088.83 165.009 Q2083.02 165.009 2079.94 160.426 Q2076.89 155.819 2076.89 147.092 Q2076.89 138.342 2079.94 133.759 Q2083.02 129.153 2088.83 129.153 Z\" fill=\"#000000\" fill-rule=\"evenodd\" fill-opacity=\"1\" /><path clip-path=\"url(#clip960)\" d=\"M2108.95 142.81 L2138.63 142.81 L2138.63 146.699 L2108.95 146.699 L2108.95 142.81 M2108.95 152.254 L2138.63 152.254 L2138.63 156.189 L2108.95 156.189 L2108.95 152.254 Z\" fill=\"#000000\" fill-rule=\"evenodd\" fill-opacity=\"1\" /><path clip-path=\"url(#clip960)\" d=\"M2167.81 160.402 L2184.13 160.402 L2184.13 164.338 L2162.19 164.338 L2162.19 160.402 Q2164.85 157.648 2169.44 153.018 Q2174.04 148.365 2175.22 147.023 Q2177.47 144.5 2178.35 142.764 Q2179.25 141.004 2179.25 139.315 Q2179.25 136.56 2177.31 134.824 Q2175.38 133.088 2172.28 133.088 Q2170.08 133.088 2167.63 133.852 Q2165.2 134.615 2162.42 136.166 L2162.42 131.444 Q2165.25 130.31 2167.7 129.731 Q2170.15 129.153 2172.19 129.153 Q2177.56 129.153 2180.75 131.838 Q2183.95 134.523 2183.95 139.014 Q2183.95 141.143 2183.14 143.065 Q2182.35 144.963 2180.25 147.555 Q2179.67 148.227 2176.56 151.444 Q2173.46 154.639 2167.81 160.402 Z\" fill=\"#000000\" fill-rule=\"evenodd\" fill-opacity=\"1\" /><path clip-path=\"url(#clip960)\" d=\"M2193.95 158.458 L2198.83 158.458 L2198.83 164.338 L2193.95 164.338 L2193.95 158.458 Z\" fill=\"#000000\" fill-rule=\"evenodd\" fill-opacity=\"1\" /><path clip-path=\"url(#clip960)\" d=\"M2219.02 132.856 Q2215.41 132.856 2213.58 136.421 Q2211.77 139.963 2211.77 147.092 Q2211.77 154.199 2213.58 157.764 Q2215.41 161.305 2219.02 161.305 Q2222.65 161.305 2224.46 157.764 Q2226.29 154.199 2226.29 147.092 Q2226.29 139.963 2224.46 136.421 Q2222.65 132.856 2219.02 132.856 M2219.02 129.153 Q2224.83 129.153 2227.88 133.759 Q2230.96 138.342 2230.96 147.092 Q2230.96 155.819 2227.88 160.426 Q2224.83 165.009 2219.02 165.009 Q2213.21 165.009 2210.13 160.426 Q2207.07 155.819 2207.07 147.092 Q2207.07 138.342 2210.13 133.759 Q2213.21 129.153 2219.02 129.153 Z\" fill=\"#000000\" fill-rule=\"evenodd\" fill-opacity=\"1\" /></svg>\n",
      "text/html": [
       "<?xml version=\"1.0\" encoding=\"utf-8\"?>\n",
       "<svg xmlns=\"http://www.w3.org/2000/svg\" xmlns:xlink=\"http://www.w3.org/1999/xlink\" width=\"600\" height=\"400\" viewBox=\"0 0 2400 1600\">\n",
       "<defs>\n",
       "  <clipPath id=\"clip010\">\n",
       "    <rect x=\"0\" y=\"0\" width=\"2400\" height=\"1600\"/>\n",
       "  </clipPath>\n",
       "</defs>\n",
       "<path clip-path=\"url(#clip010)\" d=\"\n",
       "M0 1600 L2400 1600 L2400 0 L0 0  Z\n",
       "  \" fill=\"#ffffff\" fill-rule=\"evenodd\" fill-opacity=\"1\"/>\n",
       "<defs>\n",
       "  <clipPath id=\"clip011\">\n",
       "    <rect x=\"480\" y=\"0\" width=\"1681\" height=\"1600\"/>\n",
       "  </clipPath>\n",
       "</defs>\n",
       "<path clip-path=\"url(#clip010)\" d=\"\n",
       "M138.959 1486.45 L2352.76 1486.45 L2352.76 47.2441 L138.959 47.2441  Z\n",
       "  \" fill=\"#ffffff\" fill-rule=\"evenodd\" fill-opacity=\"1\"/>\n",
       "<defs>\n",
       "  <clipPath id=\"clip012\">\n",
       "    <rect x=\"138\" y=\"47\" width=\"2215\" height=\"1440\"/>\n",
       "  </clipPath>\n",
       "</defs>\n",
       "<polyline clip-path=\"url(#clip012)\" style=\"stroke:#000000; stroke-linecap:butt; stroke-linejoin:round; stroke-width:2; stroke-opacity:0.1; fill:none\" points=\"\n",
       "  201.614,1486.45 201.614,47.2441 \n",
       "  \"/>\n",
       "<polyline clip-path=\"url(#clip012)\" style=\"stroke:#000000; stroke-linecap:butt; stroke-linejoin:round; stroke-width:2; stroke-opacity:0.1; fill:none\" points=\"\n",
       "  723.736,1486.45 723.736,47.2441 \n",
       "  \"/>\n",
       "<polyline clip-path=\"url(#clip012)\" style=\"stroke:#000000; stroke-linecap:butt; stroke-linejoin:round; stroke-width:2; stroke-opacity:0.1; fill:none\" points=\"\n",
       "  1245.86,1486.45 1245.86,47.2441 \n",
       "  \"/>\n",
       "<polyline clip-path=\"url(#clip012)\" style=\"stroke:#000000; stroke-linecap:butt; stroke-linejoin:round; stroke-width:2; stroke-opacity:0.1; fill:none\" points=\"\n",
       "  1767.98,1486.45 1767.98,47.2441 \n",
       "  \"/>\n",
       "<polyline clip-path=\"url(#clip012)\" style=\"stroke:#000000; stroke-linecap:butt; stroke-linejoin:round; stroke-width:2; stroke-opacity:0.1; fill:none\" points=\"\n",
       "  2290.1,1486.45 2290.1,47.2441 \n",
       "  \"/>\n",
       "<polyline clip-path=\"url(#clip010)\" style=\"stroke:#000000; stroke-linecap:butt; stroke-linejoin:round; stroke-width:4; stroke-opacity:1; fill:none\" points=\"\n",
       "  138.959,1486.45 2352.76,1486.45 \n",
       "  \"/>\n",
       "<polyline clip-path=\"url(#clip010)\" style=\"stroke:#000000; stroke-linecap:butt; stroke-linejoin:round; stroke-width:4; stroke-opacity:1; fill:none\" points=\"\n",
       "  201.614,1486.45 201.614,1467.55 \n",
       "  \"/>\n",
       "<polyline clip-path=\"url(#clip010)\" style=\"stroke:#000000; stroke-linecap:butt; stroke-linejoin:round; stroke-width:4; stroke-opacity:1; fill:none\" points=\"\n",
       "  723.736,1486.45 723.736,1467.55 \n",
       "  \"/>\n",
       "<polyline clip-path=\"url(#clip010)\" style=\"stroke:#000000; stroke-linecap:butt; stroke-linejoin:round; stroke-width:4; stroke-opacity:1; fill:none\" points=\"\n",
       "  1245.86,1486.45 1245.86,1467.55 \n",
       "  \"/>\n",
       "<polyline clip-path=\"url(#clip010)\" style=\"stroke:#000000; stroke-linecap:butt; stroke-linejoin:round; stroke-width:4; stroke-opacity:1; fill:none\" points=\"\n",
       "  1767.98,1486.45 1767.98,1467.55 \n",
       "  \"/>\n",
       "<polyline clip-path=\"url(#clip010)\" style=\"stroke:#000000; stroke-linecap:butt; stroke-linejoin:round; stroke-width:4; stroke-opacity:1; fill:none\" points=\"\n",
       "  2290.1,1486.45 2290.1,1467.55 \n",
       "  \"/>\n",
       "<path clip-path=\"url(#clip010)\" d=\"M201.614 1517.37 Q198.003 1517.37 196.174 1520.93 Q194.369 1524.47 194.369 1531.6 Q194.369 1538.71 196.174 1542.27 Q198.003 1545.82 201.614 1545.82 Q205.248 1545.82 207.054 1542.27 Q208.883 1538.71 208.883 1531.6 Q208.883 1524.47 207.054 1520.93 Q205.248 1517.37 201.614 1517.37 M201.614 1513.66 Q207.424 1513.66 210.48 1518.27 Q213.558 1522.85 213.558 1531.6 Q213.558 1540.33 210.48 1544.94 Q207.424 1549.52 201.614 1549.52 Q195.804 1549.52 192.725 1544.94 Q189.67 1540.33 189.67 1531.6 Q189.67 1522.85 192.725 1518.27 Q195.804 1513.66 201.614 1513.66 Z\" fill=\"#000000\" fill-rule=\"evenodd\" fill-opacity=\"1\" /><path clip-path=\"url(#clip010)\" d=\"M698.435 1514.29 L716.791 1514.29 L716.791 1518.22 L702.717 1518.22 L702.717 1526.7 Q703.736 1526.35 704.754 1526.19 Q705.773 1526 706.792 1526 Q712.579 1526 715.958 1529.17 Q719.338 1532.34 719.338 1537.76 Q719.338 1543.34 715.866 1546.44 Q712.393 1549.52 706.074 1549.52 Q703.898 1549.52 701.63 1549.15 Q699.384 1548.78 696.977 1548.04 L696.977 1543.34 Q699.06 1544.47 701.282 1545.03 Q703.504 1545.58 705.981 1545.58 Q709.986 1545.58 712.324 1543.48 Q714.662 1541.37 714.662 1537.76 Q714.662 1534.15 712.324 1532.04 Q709.986 1529.94 705.981 1529.94 Q704.106 1529.94 702.231 1530.35 Q700.38 1530.77 698.435 1531.65 L698.435 1514.29 Z\" fill=\"#000000\" fill-rule=\"evenodd\" fill-opacity=\"1\" /><path clip-path=\"url(#clip010)\" d=\"M738.551 1517.37 Q734.94 1517.37 733.111 1520.93 Q731.305 1524.47 731.305 1531.6 Q731.305 1538.71 733.111 1542.27 Q734.94 1545.82 738.551 1545.82 Q742.185 1545.82 743.99 1542.27 Q745.819 1538.71 745.819 1531.6 Q745.819 1524.47 743.99 1520.93 Q742.185 1517.37 738.551 1517.37 M738.551 1513.66 Q744.361 1513.66 747.416 1518.27 Q750.495 1522.85 750.495 1531.6 Q750.495 1540.33 747.416 1544.94 Q744.361 1549.52 738.551 1549.52 Q732.74 1549.52 729.662 1544.94 Q726.606 1540.33 726.606 1531.6 Q726.606 1522.85 729.662 1518.27 Q732.74 1513.66 738.551 1513.66 Z\" fill=\"#000000\" fill-rule=\"evenodd\" fill-opacity=\"1\" /><path clip-path=\"url(#clip010)\" d=\"M1205.46 1544.91 L1213.1 1544.91 L1213.1 1518.55 L1204.79 1520.21 L1204.79 1515.95 L1213.06 1514.29 L1217.73 1514.29 L1217.73 1544.91 L1225.37 1544.91 L1225.37 1548.85 L1205.46 1548.85 L1205.46 1544.91 Z\" fill=\"#000000\" fill-rule=\"evenodd\" fill-opacity=\"1\" /><path clip-path=\"url(#clip010)\" d=\"M1244.82 1517.37 Q1241.2 1517.37 1239.38 1520.93 Q1237.57 1524.47 1237.57 1531.6 Q1237.57 1538.71 1239.38 1542.27 Q1241.2 1545.82 1244.82 1545.82 Q1248.45 1545.82 1250.26 1542.27 Q1252.08 1538.71 1252.08 1531.6 Q1252.08 1524.47 1250.26 1520.93 Q1248.45 1517.37 1244.82 1517.37 M1244.82 1513.66 Q1250.63 1513.66 1253.68 1518.27 Q1256.76 1522.85 1256.76 1531.6 Q1256.76 1540.33 1253.68 1544.94 Q1250.63 1549.52 1244.82 1549.52 Q1239.01 1549.52 1235.93 1544.94 Q1232.87 1540.33 1232.87 1531.6 Q1232.87 1522.85 1235.93 1518.27 Q1239.01 1513.66 1244.82 1513.66 Z\" fill=\"#000000\" fill-rule=\"evenodd\" fill-opacity=\"1\" /><path clip-path=\"url(#clip010)\" d=\"M1274.98 1517.37 Q1271.37 1517.37 1269.54 1520.93 Q1267.73 1524.47 1267.73 1531.6 Q1267.73 1538.71 1269.54 1542.27 Q1271.37 1545.82 1274.98 1545.82 Q1278.61 1545.82 1280.42 1542.27 Q1282.25 1538.71 1282.25 1531.6 Q1282.25 1524.47 1280.42 1520.93 Q1278.61 1517.37 1274.98 1517.37 M1274.98 1513.66 Q1280.79 1513.66 1283.84 1518.27 Q1286.92 1522.85 1286.92 1531.6 Q1286.92 1540.33 1283.84 1544.94 Q1280.79 1549.52 1274.98 1549.52 Q1269.17 1549.52 1266.09 1544.94 Q1263.03 1540.33 1263.03 1531.6 Q1263.03 1522.85 1266.09 1518.27 Q1269.17 1513.66 1274.98 1513.66 Z\" fill=\"#000000\" fill-rule=\"evenodd\" fill-opacity=\"1\" /><path clip-path=\"url(#clip010)\" d=\"M1727.59 1544.91 L1735.23 1544.91 L1735.23 1518.55 L1726.91 1520.21 L1726.91 1515.95 L1735.18 1514.29 L1739.85 1514.29 L1739.85 1544.91 L1747.49 1544.91 L1747.49 1548.85 L1727.59 1548.85 L1727.59 1544.91 Z\" fill=\"#000000\" fill-rule=\"evenodd\" fill-opacity=\"1\" /><path clip-path=\"url(#clip010)\" d=\"M1756.98 1514.29 L1775.34 1514.29 L1775.34 1518.22 L1761.27 1518.22 L1761.27 1526.7 Q1762.29 1526.35 1763.3 1526.19 Q1764.32 1526 1765.34 1526 Q1771.13 1526 1774.51 1529.17 Q1777.89 1532.34 1777.89 1537.76 Q1777.89 1543.34 1774.41 1546.44 Q1770.94 1549.52 1764.62 1549.52 Q1762.45 1549.52 1760.18 1549.15 Q1757.93 1548.78 1755.53 1548.04 L1755.53 1543.34 Q1757.61 1544.47 1759.83 1545.03 Q1762.05 1545.58 1764.53 1545.58 Q1768.54 1545.58 1770.87 1543.48 Q1773.21 1541.37 1773.21 1537.76 Q1773.21 1534.15 1770.87 1532.04 Q1768.54 1529.94 1764.53 1529.94 Q1762.66 1529.94 1760.78 1530.35 Q1758.93 1530.77 1756.98 1531.65 L1756.98 1514.29 Z\" fill=\"#000000\" fill-rule=\"evenodd\" fill-opacity=\"1\" /><path clip-path=\"url(#clip010)\" d=\"M1797.1 1517.37 Q1793.49 1517.37 1791.66 1520.93 Q1789.85 1524.47 1789.85 1531.6 Q1789.85 1538.71 1791.66 1542.27 Q1793.49 1545.82 1797.1 1545.82 Q1800.73 1545.82 1802.54 1542.27 Q1804.37 1538.71 1804.37 1531.6 Q1804.37 1524.47 1802.54 1520.93 Q1800.73 1517.37 1797.1 1517.37 M1797.1 1513.66 Q1802.91 1513.66 1805.97 1518.27 Q1809.04 1522.85 1809.04 1531.6 Q1809.04 1540.33 1805.97 1544.94 Q1802.91 1549.52 1797.1 1549.52 Q1791.29 1549.52 1788.21 1544.94 Q1785.16 1540.33 1785.16 1531.6 Q1785.16 1522.85 1788.21 1518.27 Q1791.29 1513.66 1797.1 1513.66 Z\" fill=\"#000000\" fill-rule=\"evenodd\" fill-opacity=\"1\" /><path clip-path=\"url(#clip010)\" d=\"M2253.79 1544.91 L2270.11 1544.91 L2270.11 1548.85 L2248.17 1548.85 L2248.17 1544.91 Q2250.83 1542.16 2255.41 1537.53 Q2260.02 1532.88 2261.2 1531.53 Q2263.45 1529.01 2264.33 1527.27 Q2265.23 1525.51 2265.23 1523.82 Q2265.23 1521.07 2263.28 1519.33 Q2261.36 1517.6 2258.26 1517.6 Q2256.06 1517.6 2253.61 1518.36 Q2251.18 1519.13 2248.4 1520.68 L2248.4 1515.95 Q2251.22 1514.82 2253.68 1514.24 Q2256.13 1513.66 2258.17 1513.66 Q2263.54 1513.66 2266.73 1516.35 Q2269.93 1519.03 2269.93 1523.52 Q2269.93 1525.65 2269.12 1527.57 Q2268.33 1529.47 2266.22 1532.07 Q2265.65 1532.74 2262.54 1535.95 Q2259.44 1539.15 2253.79 1544.91 Z\" fill=\"#000000\" fill-rule=\"evenodd\" fill-opacity=\"1\" /><path clip-path=\"url(#clip010)\" d=\"M2289.93 1517.37 Q2286.32 1517.37 2284.49 1520.93 Q2282.68 1524.47 2282.68 1531.6 Q2282.68 1538.71 2284.49 1542.27 Q2286.32 1545.82 2289.93 1545.82 Q2293.56 1545.82 2295.37 1542.27 Q2297.2 1538.71 2297.2 1531.6 Q2297.2 1524.47 2295.37 1520.93 Q2293.56 1517.37 2289.93 1517.37 M2289.93 1513.66 Q2295.74 1513.66 2298.79 1518.27 Q2301.87 1522.85 2301.87 1531.6 Q2301.87 1540.33 2298.79 1544.94 Q2295.74 1549.52 2289.93 1549.52 Q2284.12 1549.52 2281.04 1544.94 Q2277.98 1540.33 2277.98 1531.6 Q2277.98 1522.85 2281.04 1518.27 Q2284.12 1513.66 2289.93 1513.66 Z\" fill=\"#000000\" fill-rule=\"evenodd\" fill-opacity=\"1\" /><path clip-path=\"url(#clip010)\" d=\"M2320.09 1517.37 Q2316.48 1517.37 2314.65 1520.93 Q2312.84 1524.47 2312.84 1531.6 Q2312.84 1538.71 2314.65 1542.27 Q2316.48 1545.82 2320.09 1545.82 Q2323.72 1545.82 2325.53 1542.27 Q2327.36 1538.71 2327.36 1531.6 Q2327.36 1524.47 2325.53 1520.93 Q2323.72 1517.37 2320.09 1517.37 M2320.09 1513.66 Q2325.9 1513.66 2328.96 1518.27 Q2332.03 1522.85 2332.03 1531.6 Q2332.03 1540.33 2328.96 1544.94 Q2325.9 1549.52 2320.09 1549.52 Q2314.28 1549.52 2311.2 1544.94 Q2308.15 1540.33 2308.15 1531.6 Q2308.15 1522.85 2311.2 1518.27 Q2314.28 1513.66 2320.09 1513.66 Z\" fill=\"#000000\" fill-rule=\"evenodd\" fill-opacity=\"1\" /><polyline clip-path=\"url(#clip012)\" style=\"stroke:#000000; stroke-linecap:butt; stroke-linejoin:round; stroke-width:2; stroke-opacity:0.1; fill:none\" points=\"\n",
       "  138.959,1445.72 2352.76,1445.72 \n",
       "  \"/>\n",
       "<polyline clip-path=\"url(#clip012)\" style=\"stroke:#000000; stroke-linecap:butt; stroke-linejoin:round; stroke-width:2; stroke-opacity:0.1; fill:none\" points=\"\n",
       "  138.959,1104.84 2352.76,1104.84 \n",
       "  \"/>\n",
       "<polyline clip-path=\"url(#clip012)\" style=\"stroke:#000000; stroke-linecap:butt; stroke-linejoin:round; stroke-width:2; stroke-opacity:0.1; fill:none\" points=\"\n",
       "  138.959,763.963 2352.76,763.963 \n",
       "  \"/>\n",
       "<polyline clip-path=\"url(#clip012)\" style=\"stroke:#000000; stroke-linecap:butt; stroke-linejoin:round; stroke-width:2; stroke-opacity:0.1; fill:none\" points=\"\n",
       "  138.959,423.087 2352.76,423.087 \n",
       "  \"/>\n",
       "<polyline clip-path=\"url(#clip012)\" style=\"stroke:#000000; stroke-linecap:butt; stroke-linejoin:round; stroke-width:2; stroke-opacity:0.1; fill:none\" points=\"\n",
       "  138.959,82.2106 2352.76,82.2106 \n",
       "  \"/>\n",
       "<polyline clip-path=\"url(#clip010)\" style=\"stroke:#000000; stroke-linecap:butt; stroke-linejoin:round; stroke-width:4; stroke-opacity:1; fill:none\" points=\"\n",
       "  138.959,1486.45 138.959,47.2441 \n",
       "  \"/>\n",
       "<polyline clip-path=\"url(#clip010)\" style=\"stroke:#000000; stroke-linecap:butt; stroke-linejoin:round; stroke-width:4; stroke-opacity:1; fill:none\" points=\"\n",
       "  138.959,1445.72 157.857,1445.72 \n",
       "  \"/>\n",
       "<polyline clip-path=\"url(#clip010)\" style=\"stroke:#000000; stroke-linecap:butt; stroke-linejoin:round; stroke-width:4; stroke-opacity:1; fill:none\" points=\"\n",
       "  138.959,1104.84 157.857,1104.84 \n",
       "  \"/>\n",
       "<polyline clip-path=\"url(#clip010)\" style=\"stroke:#000000; stroke-linecap:butt; stroke-linejoin:round; stroke-width:4; stroke-opacity:1; fill:none\" points=\"\n",
       "  138.959,763.963 157.857,763.963 \n",
       "  \"/>\n",
       "<polyline clip-path=\"url(#clip010)\" style=\"stroke:#000000; stroke-linecap:butt; stroke-linejoin:round; stroke-width:4; stroke-opacity:1; fill:none\" points=\"\n",
       "  138.959,423.087 157.857,423.087 \n",
       "  \"/>\n",
       "<polyline clip-path=\"url(#clip010)\" style=\"stroke:#000000; stroke-linecap:butt; stroke-linejoin:round; stroke-width:4; stroke-opacity:1; fill:none\" points=\"\n",
       "  138.959,82.2106 157.857,82.2106 \n",
       "  \"/>\n",
       "<path clip-path=\"url(#clip010)\" d=\"M86.6401 1459.06 L102.959 1459.06 L102.959 1463 L81.0151 1463 L81.0151 1459.06 Q83.6771 1456.31 88.2604 1451.68 Q92.8669 1447.02 94.0475 1445.68 Q96.2928 1443.16 97.1724 1441.42 Q98.0752 1439.66 98.0752 1437.97 Q98.0752 1435.22 96.1308 1433.48 Q94.2095 1431.75 91.1077 1431.75 Q88.9086 1431.75 86.4549 1432.51 Q84.0244 1433.27 81.2466 1434.82 L81.2466 1430.1 Q84.0707 1428.97 86.5243 1428.39 Q88.978 1427.81 91.0151 1427.81 Q96.3854 1427.81 99.5798 1430.5 Q102.774 1433.18 102.774 1437.67 Q102.774 1439.8 101.964 1441.72 Q101.177 1443.62 99.0706 1446.21 Q98.4919 1446.88 95.39 1450.1 Q92.2882 1453.3 86.6401 1459.06 Z\" fill=\"#000000\" fill-rule=\"evenodd\" fill-opacity=\"1\" /><path clip-path=\"url(#clip010)\" d=\"M93.3762 1091.63 L81.5707 1110.08 L93.3762 1110.08 L93.3762 1091.63 M92.1493 1087.56 L98.0289 1087.56 L98.0289 1110.08 L102.959 1110.08 L102.959 1113.97 L98.0289 1113.97 L98.0289 1122.12 L93.3762 1122.12 L93.3762 1113.97 L77.7744 1113.97 L77.7744 1109.46 L92.1493 1087.56 Z\" fill=\"#000000\" fill-rule=\"evenodd\" fill-opacity=\"1\" /><path clip-path=\"url(#clip010)\" d=\"M91.4317 762.1 Q88.2836 762.1 86.4318 764.253 Q84.6031 766.405 84.6031 770.155 Q84.6031 773.882 86.4318 776.058 Q88.2836 778.211 91.4317 778.211 Q94.5799 778.211 96.4085 776.058 Q98.2604 773.882 98.2604 770.155 Q98.2604 766.405 96.4085 764.253 Q94.5799 762.1 91.4317 762.1 M100.714 747.447 L100.714 751.706 Q98.9548 750.873 97.1493 750.433 Q95.3669 749.993 93.6076 749.993 Q88.978 749.993 86.5243 753.118 Q84.0938 756.243 83.7466 762.563 Q85.1123 760.549 87.1725 759.484 Q89.2327 758.396 91.7095 758.396 Q96.9178 758.396 99.927 761.567 Q102.959 764.715 102.959 770.155 Q102.959 775.479 99.8113 778.697 Q96.6632 781.914 91.4317 781.914 Q85.4364 781.914 82.2651 777.331 Q79.0938 772.725 79.0938 763.998 Q79.0938 755.803 82.9827 750.942 Q86.8716 746.058 93.4225 746.058 Q95.1817 746.058 96.9641 746.405 Q98.7696 746.753 100.714 747.447 Z\" fill=\"#000000\" fill-rule=\"evenodd\" fill-opacity=\"1\" /><path clip-path=\"url(#clip010)\" d=\"M91.1077 423.955 Q87.7743 423.955 85.8531 425.737 Q83.9549 427.52 83.9549 430.645 Q83.9549 433.77 85.8531 435.552 Q87.7743 437.335 91.1077 437.335 Q94.441 437.335 96.3623 435.552 Q98.2835 433.747 98.2835 430.645 Q98.2835 427.52 96.3623 425.737 Q94.4641 423.955 91.1077 423.955 M86.4318 421.964 Q83.4225 421.223 81.7327 419.163 Q80.066 417.103 80.066 414.14 Q80.066 409.997 83.0058 407.589 Q85.9688 405.182 91.1077 405.182 Q96.2697 405.182 99.2095 407.589 Q102.149 409.997 102.149 414.14 Q102.149 417.103 100.459 419.163 Q98.7928 421.223 95.8067 421.964 Q99.1863 422.751 101.061 425.043 Q102.959 427.335 102.959 430.645 Q102.959 435.668 99.8808 438.353 Q96.8252 441.038 91.1077 441.038 Q85.3901 441.038 82.3114 438.353 Q79.2559 435.668 79.2559 430.645 Q79.2559 427.335 81.154 425.043 Q83.0521 422.751 86.4318 421.964 M84.7188 414.58 Q84.7188 417.265 86.3855 418.77 Q88.0753 420.274 91.1077 420.274 Q94.1169 420.274 95.8067 418.77 Q97.5197 417.265 97.5197 414.58 Q97.5197 411.895 95.8067 410.39 Q94.1169 408.886 91.1077 408.886 Q88.0753 408.886 86.3855 410.39 Q84.7188 411.895 84.7188 414.58 Z\" fill=\"#000000\" fill-rule=\"evenodd\" fill-opacity=\"1\" /><path clip-path=\"url(#clip010)\" d=\"M51.6634 95.5555 L59.3023 95.5555 L59.3023 69.1899 L50.9921 70.8565 L50.9921 66.5973 L59.256 64.9306 L63.9319 64.9306 L63.9319 95.5555 L71.5707 95.5555 L71.5707 99.4906 L51.6634 99.4906 L51.6634 95.5555 Z\" fill=\"#000000\" fill-rule=\"evenodd\" fill-opacity=\"1\" /><path clip-path=\"url(#clip010)\" d=\"M91.0151 68.0093 Q87.404 68.0093 85.5753 71.5741 Q83.7697 75.1158 83.7697 82.2454 Q83.7697 89.3518 85.5753 92.9166 Q87.404 96.4583 91.0151 96.4583 Q94.6493 96.4583 96.4548 92.9166 Q98.2835 89.3518 98.2835 82.2454 Q98.2835 75.1158 96.4548 71.5741 Q94.6493 68.0093 91.0151 68.0093 M91.0151 64.3056 Q96.8252 64.3056 99.8808 68.9121 Q102.959 73.4954 102.959 82.2454 Q102.959 90.9722 99.8808 95.5786 Q96.8252 100.162 91.0151 100.162 Q85.2049 100.162 82.1262 95.5786 Q79.0707 90.9722 79.0707 82.2454 Q79.0707 73.4954 82.1262 68.9121 Q85.2049 64.3056 91.0151 64.3056 Z\" fill=\"#000000\" fill-rule=\"evenodd\" fill-opacity=\"1\" /><polyline clip-path=\"url(#clip012)\" style=\"stroke:#009af9; stroke-linecap:butt; stroke-linejoin:round; stroke-width:4; stroke-opacity:1; fill:none\" points=\"\n",
       "  201.614,1445.72 212.056,1374.89 222.499,1305.03 232.941,1236.81 243.384,1170.69 253.826,1106.99 264.269,1045.9 274.711,987.552 285.154,931.988 295.596,879.22 \n",
       "  306.038,829.222 316.481,781.941 326.923,737.305 337.366,695.228 347.808,655.614 358.251,618.362 368.693,583.366 379.135,550.52 389.578,519.715 400.02,490.847 \n",
       "  410.463,463.81 420.905,438.504 431.348,414.83 441.79,392.694 452.233,372.004 462.675,352.674 473.117,334.621 483.56,317.766 494.002,302.035 504.445,287.356 \n",
       "  514.887,273.663 525.33,260.892 535.772,248.984 546.214,237.883 556.657,227.536 567.099,217.893 577.542,208.908 587.984,200.537 598.427,192.739 608.869,185.476 \n",
       "  619.312,178.711 629.754,172.412 640.196,166.547 650.639,161.086 661.081,156.002 671.524,151.27 681.966,146.865 692.409,142.764 702.851,138.948 713.293,135.396 \n",
       "  723.736,132.091 734.178,129.015 744.621,126.153 755.063,123.489 765.506,121.011 775.948,118.706 786.39,116.56 796.833,114.565 807.275,112.708 817.718,110.98 \n",
       "  828.16,109.373 838.603,107.878 849.045,106.488 859.488,105.194 869.93,103.99 880.372,102.871 890.815,101.83 901.257,100.861 911.7,99.9601 922.142,99.122 \n",
       "  932.585,98.3426 943.027,97.6175 953.469,96.9432 963.912,96.3159 974.354,95.7325 984.797,95.1899 995.239,94.6852 1005.68,94.2158 1016.12,93.7792 1026.57,93.3732 \n",
       "  1037.01,92.9955 1047.45,92.6443 1057.89,92.3176 1068.34,92.0137 1078.78,91.7312 1089.22,91.4683 1099.66,91.2239 1110.11,90.9966 1120.55,90.7852 1130.99,90.5885 \n",
       "  1141.43,90.4057 1151.88,90.2356 1162.32,90.0774 1172.76,89.9303 1183.2,89.7935 1193.65,89.6662 1204.09,89.5479 1214.53,89.4378 1224.97,89.3355 1235.42,89.2403 \n",
       "  1245.86,89.1518 1256.3,89.0694 1266.74,88.9929 1277.18,88.9217 1287.63,88.8554 1298.07,88.7938 1308.51,88.7365 1318.95,88.6833 1329.4,88.6337 1339.84,88.5877 \n",
       "  1350.28,88.5448 1360.72,88.5049 1371.17,88.4679 1381.61,88.4334 1392.05,88.4014 1402.49,88.3715 1412.94,88.3438 1423.38,88.318 1433.82,88.2941 1444.26,88.2718 \n",
       "  1454.71,88.251 1465.15,88.2317 1475.59,88.2138 1486.03,88.1971 1496.48,88.1816 1506.92,88.1672 1517.36,88.1537 1527.8,88.1413 1538.25,88.1296 1548.69,88.1189 \n",
       "  1559.13,88.1088 1569.57,88.0995 1580.02,88.0908 1590.46,88.0827 1600.9,88.0752 1611.34,88.0682 1621.79,88.0617 1632.23,88.0557 1642.67,88.0501 1653.11,88.0449 \n",
       "  1663.56,88.04 1674,88.0355 1684.44,88.0313 1694.88,88.0274 1705.32,88.0237 1715.77,88.0204 1726.21,88.0172 1736.65,88.0143 1747.09,88.0116 1757.54,88.009 \n",
       "  1767.98,88.0067 1778.42,88.0045 1788.86,88.0025 1799.31,88.0006 1809.75,87.9988 1820.19,87.9972 1830.63,87.9957 1841.08,87.9942 1851.52,87.9929 1861.96,87.9917 \n",
       "  1872.4,87.9906 1882.85,87.9895 1893.29,87.9885 1903.73,87.9876 1914.17,87.9868 1924.62,87.986 1935.06,87.9852 1945.5,87.9845 1955.94,87.9839 1966.39,87.9833 \n",
       "  1976.83,87.9828 1987.27,87.9823 1997.71,87.9818 2008.16,87.9813 2018.6,87.9809 2029.04,87.9805 2039.48,87.9802 2049.93,87.9799 2060.37,87.9795 2070.81,87.9793 \n",
       "  2081.25,87.979 2091.7,87.9787 2102.14,87.9785 2112.58,87.9783 2123.02,87.9781 2133.46,87.9779 2143.91,87.9777 2154.35,87.9776 2164.79,87.9774 2175.23,87.9773 \n",
       "  2185.68,87.9772 2196.12,87.977 2206.56,87.9769 2217,87.9768 2227.45,87.9767 2237.89,87.9766 2248.33,87.9766 2258.77,87.9765 2269.22,87.9764 2279.66,87.9763 \n",
       "  2290.1,87.9763 \n",
       "  \"/>\n",
       "<path clip-path=\"url(#clip010)\" d=\"\n",
       "M1858.62 198.898 L2278.96 198.898 L2278.96 95.2176 L1858.62 95.2176  Z\n",
       "  \" fill=\"#ffffff\" fill-rule=\"evenodd\" fill-opacity=\"1\"/>\n",
       "<polyline clip-path=\"url(#clip010)\" style=\"stroke:#000000; stroke-linecap:butt; stroke-linejoin:round; stroke-width:4; stroke-opacity:1; fill:none\" points=\"\n",
       "  1858.62,198.898 2278.96,198.898 2278.96,95.2176 1858.62,95.2176 1858.62,198.898 \n",
       "  \"/>\n",
       "<polyline clip-path=\"url(#clip010)\" style=\"stroke:#009af9; stroke-linecap:butt; stroke-linejoin:round; stroke-width:4; stroke-opacity:1; fill:none\" points=\"\n",
       "  1882.62,147.058 2026.62,147.058 \n",
       "  \"/>\n",
       "<path clip-path=\"url(#clip010)\" d=\"M2050.62 128.319 L2054.9 128.319 L2054.9 149.592 L2067.61 138.412 L2073.05 138.412 L2059.3 150.541 L2073.63 164.338 L2068.07 164.338 L2054.9 151.676 L2054.9 164.338 L2050.62 164.338 L2050.62 128.319 Z\" fill=\"#000000\" fill-rule=\"evenodd\" fill-opacity=\"1\" /><path clip-path=\"url(#clip010)\" d=\"M2088.83 132.856 Q2085.22 132.856 2083.39 136.421 Q2081.59 139.963 2081.59 147.092 Q2081.59 154.199 2083.39 157.764 Q2085.22 161.305 2088.83 161.305 Q2092.47 161.305 2094.27 157.764 Q2096.1 154.199 2096.1 147.092 Q2096.1 139.963 2094.27 136.421 Q2092.47 132.856 2088.83 132.856 M2088.83 129.153 Q2094.64 129.153 2097.7 133.759 Q2100.78 138.342 2100.78 147.092 Q2100.78 155.819 2097.7 160.426 Q2094.64 165.009 2088.83 165.009 Q2083.02 165.009 2079.94 160.426 Q2076.89 155.819 2076.89 147.092 Q2076.89 138.342 2079.94 133.759 Q2083.02 129.153 2088.83 129.153 Z\" fill=\"#000000\" fill-rule=\"evenodd\" fill-opacity=\"1\" /><path clip-path=\"url(#clip010)\" d=\"M2108.95 142.81 L2138.63 142.81 L2138.63 146.699 L2108.95 146.699 L2108.95 142.81 M2108.95 152.254 L2138.63 152.254 L2138.63 156.189 L2108.95 156.189 L2108.95 152.254 Z\" fill=\"#000000\" fill-rule=\"evenodd\" fill-opacity=\"1\" /><path clip-path=\"url(#clip010)\" d=\"M2167.81 160.402 L2184.13 160.402 L2184.13 164.338 L2162.19 164.338 L2162.19 160.402 Q2164.85 157.648 2169.44 153.018 Q2174.04 148.365 2175.22 147.023 Q2177.47 144.5 2178.35 142.764 Q2179.25 141.004 2179.25 139.315 Q2179.25 136.56 2177.31 134.824 Q2175.38 133.088 2172.28 133.088 Q2170.08 133.088 2167.63 133.852 Q2165.2 134.615 2162.42 136.166 L2162.42 131.444 Q2165.25 130.31 2167.7 129.731 Q2170.15 129.153 2172.19 129.153 Q2177.56 129.153 2180.75 131.838 Q2183.95 134.523 2183.95 139.014 Q2183.95 141.143 2183.14 143.065 Q2182.35 144.963 2180.25 147.555 Q2179.67 148.227 2176.56 151.444 Q2173.46 154.639 2167.81 160.402 Z\" fill=\"#000000\" fill-rule=\"evenodd\" fill-opacity=\"1\" /><path clip-path=\"url(#clip010)\" d=\"M2193.95 158.458 L2198.83 158.458 L2198.83 164.338 L2193.95 164.338 L2193.95 158.458 Z\" fill=\"#000000\" fill-rule=\"evenodd\" fill-opacity=\"1\" /><path clip-path=\"url(#clip010)\" d=\"M2219.02 132.856 Q2215.41 132.856 2213.58 136.421 Q2211.77 139.963 2211.77 147.092 Q2211.77 154.199 2213.58 157.764 Q2215.41 161.305 2219.02 161.305 Q2222.65 161.305 2224.46 157.764 Q2226.29 154.199 2226.29 147.092 Q2226.29 139.963 2224.46 136.421 Q2222.65 132.856 2219.02 132.856 M2219.02 129.153 Q2224.83 129.153 2227.88 133.759 Q2230.96 138.342 2230.96 147.092 Q2230.96 155.819 2227.88 160.426 Q2224.83 165.009 2219.02 165.009 Q2213.21 165.009 2210.13 160.426 Q2207.07 155.819 2207.07 147.092 Q2207.07 138.342 2210.13 133.759 Q2213.21 129.153 2219.02 129.153 Z\" fill=\"#000000\" fill-rule=\"evenodd\" fill-opacity=\"1\" /></svg>\n"
      ]
     },
     "metadata": {},
     "output_type": "display_data"
    }
   ],
   "source": [
    "T = 200\n",
    "k0 = 2.\n",
    "s = 0.5\n",
    "plot([i for i in 0:T], simulate(k0,T, parms), lab = \"k0= $k0\")"
   ]
  },
  {
   "cell_type": "markdown",
   "metadata": {},
   "source": [
    "We get the convergence for any $s \\in [0.,1.]$ and $k_0$, given the parameters fixed above.\n",
    "\n",
    "Indeed, $k_{t+1} = 0.9k_t + k_t^0.3(1-s) := f(k_t)$. Thus : $\\frac{k_{t+1}}{k_t} = 0.9 + k_t^{-0.7}(1-s) := g(k_t)$.\n",
    "\n",
    "But : $g'(k) = -0.7(1-s)k^{-1.7} ≤ 0$. And $g(k) = 1 <=> k = (\\frac{0.1}{1-s})^0.7 := k_{SS}$. We deduce that if $k_t > k_{SS}$ (resp. $k_t ≤ k_{SS}$) then $k_{t+1} < k_t$ (resp. $k_{t+1} ≥ k_t$). The remaining question is then whether, if $k_t > k_{SS}$ (resp. $k_t ≤ k_{SS}$), we have that $k_{t+1} ≥ k_{SS}$ (resp. $k_{t+1} ≤ k_{SS}$).\n",
    "\n",
    "We know that $f'(k) = 0.9 + 0.3(1-s)k^{-0.7} ≥ 0 $. It is thus clear that g increases on $[0,+∞]$ and has a fixed point in $k_{SS}$. This validates the previous question and confirms the systematic convergence."
   ]
  },
  {
   "cell_type": "markdown",
   "metadata": {},
   "source": [
    "__Suppose you were interested in using `f` to compute the steady-state. What would you propose to measure convergence speed? To speed-up convergence? Implement these ideas.__"
   ]
  },
  {
   "cell_type": "markdown",
   "metadata": {},
   "source": [
    "It would be interesting to define and follow the evolution of $\\eta_t := |k_{t+1} - k_t|$ and use Steffenson's algorithm."
   ]
  },
  {
   "cell_type": "code",
   "execution_count": 7,
   "metadata": {},
   "outputs": [
    {
     "data": {
      "text/plain": [
       "steffenson (generic function with 1 method)"
      ]
     },
     "metadata": {},
     "output_type": "display_data"
    }
   ],
   "source": [
    "function η(k0::Float64,k1::Float64)\n",
    "    return abs(k1-k0)\n",
    "end\n",
    "\n",
    "function aitken_guess(k0::Float64,k1::Float64,k2::Float64)\n",
    "    return k0 - (k1-k0)^2 / (k2 - 2*k1 + k0)\n",
    "end\n",
    "\n",
    "function speed(k1,k2,k_star)\n",
    "    return abs(k2-k_star)/abs(k1-k_star)\n",
    "end\n",
    "\n",
    "tolerance = 1e-5\n",
    "T_max = 500\n",
    "\n",
    "function steffenson(k0::Float64,p::Parameters)\n",
    "    k1 = f(k0,p)\n",
    "    k2 = f(k1,p)\n",
    "    k0 = aitken_guess(k0,k1,k2)\n",
    "    list_of_speed = [speed(k1, k2, k0)]\n",
    "    t = 0\n",
    "    while (t<T_max && η(k2,k0)>tolerance)\n",
    "        k1 = f(k0,p)\n",
    "        k2 = f(k1,p)\n",
    "        k0 = aitken_guess(k0,k1,k2)\n",
    "        t += 1\n",
    "        append!(list_of_speed,speed(k1, k2, k0))\n",
    "    end\n",
    "    if t==T_max\n",
    "        return \"does not seem to converge\"\n",
    "    end\n",
    "    return \"limit:\", k0, \"speed:\", list_of_speed, \"iterations:\", t+1\n",
    "end"
   ]
  },
  {
   "cell_type": "code",
   "execution_count": 8,
   "metadata": {},
   "outputs": [
    {
     "data": {
      "text/plain": [
       "(\"limit:\", 9.966176578194627, \"speed:\", [0.9863151514566416, 0.9134198196532634, 0.9274358354131216, 0.9299531660538092, 0.9299999809508589], \"iterations:\", 5)"
      ]
     },
     "metadata": {},
     "output_type": "display_data"
    }
   ],
   "source": [
    "s = 0.5\n",
    "steffenson(2.,parms) # Very strangely, the speed of convergence seems to be rather linear here (but it might be because I am considering only the first values of the speed whereas it is better to look at the speed for high T)."
   ]
  },
  {
   "cell_type": "markdown",
   "metadata": {},
   "source": [
    "__Consider now the full intertemporal objective. Propose a function to approximate it numerically . Plot this objective as a function of the saving rate. Does it depend on the initial capital?__\n"
   ]
  },
  {
   "cell_type": "code",
   "execution_count": 9,
   "metadata": {},
   "outputs": [
    {
     "data": {
      "text/plain": [
       "objective (generic function with 1 method)"
      ]
     },
     "metadata": {},
     "output_type": "display_data"
    }
   ],
   "source": [
    "function u(x::Vector{Float64},p::Parameters)\n",
    "    return x .^ (1-p.γ) ./ (1-p.γ)\n",
    "end\n",
    "\n",
    "function objective(p::Parameters, T::Int, k0::Float64)\n",
    "    list_of_k = simulate(k0,T,p)\n",
    "    list_of_c = s*list_of_k .^ p.α\n",
    "    list_of_u = u(list_of_c,p)\n",
    "    return sum([p.β^k for k in 0:T] .* list_of_u) + list_of_u[T+1]*p.β^(T+1)/(1-p.β)\n",
    "end"
   ]
  },
  {
   "cell_type": "code",
   "execution_count": 10,
   "metadata": {},
   "outputs": [
    {
     "data": {
      "image/png": "[encoded data removed]",
      "image/svg+xml": "<?xml version=\"1.0\" encoding=\"utf-8\"?>\n<svg xmlns=\"http://www.w3.org/2000/svg\" xmlns:xlink=\"http://www.w3.org/1999/xlink\" width=\"600\" height=\"400\" viewBox=\"0 0 2400 1600\">\n<defs>\n  <clipPath id=\"clip870\">\n    <rect x=\"0\" y=\"0\" width=\"2400\" height=\"1600\"/>\n  </clipPath>\n</defs>\n<path clip-path=\"url(#clip870)\" d=\"\nM0 1600 L2400 1600 L2400 0 L0 0  Z\n  \" fill=\"#ffffff\" fill-rule=\"evenodd\" fill-opacity=\"1\"/>\n<defs>\n  <clipPath id=\"clip871\">\n    <rect x=\"480\" y=\"0\" width=\"1681\" height=\"1600\"/>\n  </clipPath>\n</defs>\n<path clip-path=\"url(#clip870)\" d=\"\nM376.509 1423.18 L1189.78 1423.18 L1189.78 47.2441 L376.509 47.2441  Z\n  \" fill=\"#ffffff\" fill-rule=\"evenodd\" fill-opacity=\"1\"/>\n<defs>\n  <clipPath id=\"clip872\">\n    <rect x=\"376\" y=\"47\" width=\"814\" height=\"1377\"/>\n  </clipPath>\n</defs>\n<polyline clip-path=\"url(#clip872)\" style=\"stroke:#000000; stroke-linecap:butt; stroke-linejoin:round; stroke-width:2; stroke-opacity:0.1; fill:none\" points=\"\n  399.526,1423.18 399.526,47.2441 \n  \"/>\n<polyline clip-path=\"url(#clip872)\" style=\"stroke:#000000; stroke-linecap:butt; stroke-linejoin:round; stroke-width:2; stroke-opacity:0.1; fill:none\" points=\"\n  591.336,1423.18 591.336,47.2441 \n  \"/>\n<polyline clip-path=\"url(#clip872)\" style=\"stroke:#000000; stroke-linecap:butt; stroke-linejoin:round; stroke-width:2; stroke-opacity:0.1; fill:none\" points=\"\n  783.145,1423.18 783.145,47.2441 \n  \"/>\n<polyline clip-path=\"url(#clip872)\" style=\"stroke:#000000; stroke-linecap:butt; stroke-linejoin:round; stroke-width:2; stroke-opacity:0.1; fill:none\" points=\"\n  974.955,1423.18 974.955,47.2441 \n  \"/>\n<polyline clip-path=\"url(#clip872)\" style=\"stroke:#000000; stroke-linecap:butt; stroke-linejoin:round; stroke-width:2; stroke-opacity:0.1; fill:none\" points=\"\n  1166.76,1423.18 1166.76,47.2441 \n  \"/>\n<polyline clip-path=\"url(#clip870)\" style=\"stroke:#000000; stroke-linecap:butt; stroke-linejoin:round; stroke-width:4; stroke-opacity:1; fill:none\" points=\"\n  376.509,1423.18 1189.78,1423.18 \n  \"/>\n<polyline clip-path=\"url(#clip870)\" style=\"stroke:#000000; stroke-linecap:butt; stroke-linejoin:round; stroke-width:4; stroke-opacity:1; fill:none\" points=\"\n  399.526,1423.18 399.526,1404.28 \n  \"/>\n<polyline clip-path=\"url(#clip870)\" style=\"stroke:#000000; stroke-linecap:butt; stroke-linejoin:round; stroke-width:4; stroke-opacity:1; fill:none\" points=\"\n  591.336,1423.18 591.336,1404.28 \n  \"/>\n<polyline clip-path=\"url(#clip870)\" style=\"stroke:#000000; stroke-linecap:butt; stroke-linejoin:round; stroke-width:4; stroke-opacity:1; fill:none\" points=\"\n  783.145,1423.18 783.145,1404.28 \n  \"/>\n<polyline clip-path=\"url(#clip870)\" style=\"stroke:#000000; stroke-linecap:butt; stroke-linejoin:round; stroke-width:4; stroke-opacity:1; fill:none\" points=\"\n  974.955,1423.18 974.955,1404.28 \n  \"/>\n<polyline clip-path=\"url(#clip870)\" style=\"stroke:#000000; stroke-linecap:butt; stroke-linejoin:round; stroke-width:4; stroke-opacity:1; fill:none\" points=\"\n  1166.76,1423.18 1166.76,1404.28 \n  \"/>\n<path clip-path=\"url(#clip870)\" d=\"M361.83 1454.1 Q358.218 1454.1 356.39 1457.66 Q354.584 1461.2 354.584 1468.33 Q354.584 1475.44 356.39 1479.01 Q358.218 1482.55 361.83 1482.55 Q365.464 1482.55 367.269 1479.01 Q369.098 1475.44 369.098 1468.33 Q369.098 1461.2 367.269 1457.66 Q365.464 1454.1 361.83 1454.1 M361.83 1450.39 Q367.64 1450.39 370.695 1455 Q373.774 1459.58 373.774 1468.33 Q373.774 1477.06 370.695 1481.67 Q367.64 1486.25 361.83 1486.25 Q356.019 1486.25 352.941 1481.67 Q349.885 1477.06 349.885 1468.33 Q349.885 1459.58 352.941 1455 Q356.019 1450.39 361.83 1450.39 Z\" fill=\"#000000\" fill-rule=\"evenodd\" fill-opacity=\"1\" /><path clip-path=\"url(#clip870)\" d=\"M381.991 1479.7 L386.876 1479.7 L386.876 1485.58 L381.991 1485.58 L381.991 1479.7 Z\" fill=\"#000000\" fill-rule=\"evenodd\" fill-opacity=\"1\" /><path clip-path=\"url(#clip870)\" d=\"M407.061 1454.1 Q403.45 1454.1 401.621 1457.66 Q399.815 1461.2 399.815 1468.33 Q399.815 1475.44 401.621 1479.01 Q403.45 1482.55 407.061 1482.55 Q410.695 1482.55 412.501 1479.01 Q414.329 1475.44 414.329 1468.33 Q414.329 1461.2 412.501 1457.66 Q410.695 1454.1 407.061 1454.1 M407.061 1450.39 Q412.871 1450.39 415.926 1455 Q419.005 1459.58 419.005 1468.33 Q419.005 1477.06 415.926 1481.67 Q412.871 1486.25 407.061 1486.25 Q401.251 1486.25 398.172 1481.67 Q395.116 1477.06 395.116 1468.33 Q395.116 1459.58 398.172 1455 Q401.251 1450.39 407.061 1450.39 Z\" fill=\"#000000\" fill-rule=\"evenodd\" fill-opacity=\"1\" /><path clip-path=\"url(#clip870)\" d=\"M437.223 1454.1 Q433.612 1454.1 431.783 1457.66 Q429.977 1461.2 429.977 1468.33 Q429.977 1475.44 431.783 1479.01 Q433.612 1482.55 437.223 1482.55 Q440.857 1482.55 442.662 1479.01 Q444.491 1475.44 444.491 1468.33 Q444.491 1461.2 442.662 1457.66 Q440.857 1454.1 437.223 1454.1 M437.223 1450.39 Q443.033 1450.39 446.088 1455 Q449.167 1459.58 449.167 1468.33 Q449.167 1477.06 446.088 1481.67 Q443.033 1486.25 437.223 1486.25 Q431.412 1486.25 428.334 1481.67 Q425.278 1477.06 425.278 1468.33 Q425.278 1459.58 428.334 1455 Q431.412 1450.39 437.223 1450.39 Z\" fill=\"#000000\" fill-rule=\"evenodd\" fill-opacity=\"1\" /><path clip-path=\"url(#clip870)\" d=\"M554.137 1454.1 Q550.526 1454.1 548.697 1457.66 Q546.891 1461.2 546.891 1468.33 Q546.891 1475.44 548.697 1479.01 Q550.526 1482.55 554.137 1482.55 Q557.771 1482.55 559.576 1479.01 Q561.405 1475.44 561.405 1468.33 Q561.405 1461.2 559.576 1457.66 Q557.771 1454.1 554.137 1454.1 M554.137 1450.39 Q559.947 1450.39 563.002 1455 Q566.081 1459.58 566.081 1468.33 Q566.081 1477.06 563.002 1481.67 Q559.947 1486.25 554.137 1486.25 Q548.327 1486.25 545.248 1481.67 Q542.192 1477.06 542.192 1468.33 Q542.192 1459.58 545.248 1455 Q548.327 1450.39 554.137 1450.39 Z\" fill=\"#000000\" fill-rule=\"evenodd\" fill-opacity=\"1\" /><path clip-path=\"url(#clip870)\" d=\"M574.299 1479.7 L579.183 1479.7 L579.183 1485.58 L574.299 1485.58 L574.299 1479.7 Z\" fill=\"#000000\" fill-rule=\"evenodd\" fill-opacity=\"1\" /><path clip-path=\"url(#clip870)\" d=\"M593.396 1481.64 L609.715 1481.64 L609.715 1485.58 L587.771 1485.58 L587.771 1481.64 Q590.433 1478.89 595.016 1474.26 Q599.623 1469.61 600.803 1468.27 Q603.048 1465.74 603.928 1464.01 Q604.831 1462.25 604.831 1460.56 Q604.831 1457.8 602.886 1456.07 Q600.965 1454.33 597.863 1454.33 Q595.664 1454.33 593.211 1455.09 Q590.78 1455.86 588.002 1457.41 L588.002 1452.69 Q590.826 1451.55 593.28 1450.97 Q595.734 1450.39 597.771 1450.39 Q603.141 1450.39 606.335 1453.08 Q609.53 1455.77 609.53 1460.26 Q609.53 1462.39 608.72 1464.31 Q607.933 1466.2 605.826 1468.8 Q605.248 1469.47 602.146 1472.69 Q599.044 1475.88 593.396 1481.64 Z\" fill=\"#000000\" fill-rule=\"evenodd\" fill-opacity=\"1\" /><path clip-path=\"url(#clip870)\" d=\"M619.576 1451.02 L637.933 1451.02 L637.933 1454.96 L623.859 1454.96 L623.859 1463.43 Q624.877 1463.08 625.896 1462.92 Q626.914 1462.73 627.933 1462.73 Q633.72 1462.73 637.099 1465.9 Q640.479 1469.08 640.479 1474.49 Q640.479 1480.07 637.007 1483.17 Q633.534 1486.25 627.215 1486.25 Q625.039 1486.25 622.771 1485.88 Q620.525 1485.51 618.118 1484.77 L618.118 1480.07 Q620.201 1481.2 622.423 1481.76 Q624.646 1482.32 627.122 1482.32 Q631.127 1482.32 633.465 1480.21 Q635.803 1478.1 635.803 1474.49 Q635.803 1470.88 633.465 1468.77 Q631.127 1466.67 627.122 1466.67 Q625.247 1466.67 623.372 1467.08 Q621.521 1467.5 619.576 1468.38 L619.576 1451.02 Z\" fill=\"#000000\" fill-rule=\"evenodd\" fill-opacity=\"1\" /><path clip-path=\"url(#clip870)\" d=\"M745.449 1454.1 Q741.837 1454.1 740.009 1457.66 Q738.203 1461.2 738.203 1468.33 Q738.203 1475.44 740.009 1479.01 Q741.837 1482.55 745.449 1482.55 Q749.083 1482.55 750.888 1479.01 Q752.717 1475.44 752.717 1468.33 Q752.717 1461.2 750.888 1457.66 Q749.083 1454.1 745.449 1454.1 M745.449 1450.39 Q751.259 1450.39 754.314 1455 Q757.393 1459.58 757.393 1468.33 Q757.393 1477.06 754.314 1481.67 Q751.259 1486.25 745.449 1486.25 Q739.638 1486.25 736.56 1481.67 Q733.504 1477.06 733.504 1468.33 Q733.504 1459.58 736.56 1455 Q739.638 1450.39 745.449 1450.39 Z\" fill=\"#000000\" fill-rule=\"evenodd\" fill-opacity=\"1\" /><path clip-path=\"url(#clip870)\" d=\"M765.61 1479.7 L770.495 1479.7 L770.495 1485.58 L765.61 1485.58 L765.61 1479.7 Z\" fill=\"#000000\" fill-rule=\"evenodd\" fill-opacity=\"1\" /><path clip-path=\"url(#clip870)\" d=\"M780.726 1451.02 L799.082 1451.02 L799.082 1454.96 L785.008 1454.96 L785.008 1463.43 Q786.027 1463.08 787.045 1462.92 Q788.064 1462.73 789.083 1462.73 Q794.87 1462.73 798.249 1465.9 Q801.629 1469.08 801.629 1474.49 Q801.629 1480.07 798.157 1483.17 Q794.684 1486.25 788.365 1486.25 Q786.189 1486.25 783.921 1485.88 Q781.675 1485.51 779.268 1484.77 L779.268 1480.07 Q781.351 1481.2 783.573 1481.76 Q785.796 1482.32 788.272 1482.32 Q792.277 1482.32 794.615 1480.21 Q796.953 1478.1 796.953 1474.49 Q796.953 1470.88 794.615 1468.77 Q792.277 1466.67 788.272 1466.67 Q786.397 1466.67 784.522 1467.08 Q782.671 1467.5 780.726 1468.38 L780.726 1451.02 Z\" fill=\"#000000\" fill-rule=\"evenodd\" fill-opacity=\"1\" /><path clip-path=\"url(#clip870)\" d=\"M820.842 1454.1 Q817.231 1454.1 815.402 1457.66 Q813.596 1461.2 813.596 1468.33 Q813.596 1475.44 815.402 1479.01 Q817.231 1482.55 820.842 1482.55 Q824.476 1482.55 826.281 1479.01 Q828.11 1475.44 828.11 1468.33 Q828.11 1461.2 826.281 1457.66 Q824.476 1454.1 820.842 1454.1 M820.842 1450.39 Q826.652 1450.39 829.707 1455 Q832.786 1459.58 832.786 1468.33 Q832.786 1477.06 829.707 1481.67 Q826.652 1486.25 820.842 1486.25 Q815.031 1486.25 811.953 1481.67 Q808.897 1477.06 808.897 1468.33 Q808.897 1459.58 811.953 1455 Q815.031 1450.39 820.842 1450.39 Z\" fill=\"#000000\" fill-rule=\"evenodd\" fill-opacity=\"1\" /><path clip-path=\"url(#clip870)\" d=\"M937.756 1454.1 Q934.145 1454.1 932.316 1457.66 Q930.51 1461.2 930.51 1468.33 Q930.51 1475.44 932.316 1479.01 Q934.145 1482.55 937.756 1482.55 Q941.39 1482.55 943.195 1479.01 Q945.024 1475.44 945.024 1468.33 Q945.024 1461.2 943.195 1457.66 Q941.39 1454.1 937.756 1454.1 M937.756 1450.39 Q943.566 1450.39 946.621 1455 Q949.7 1459.58 949.7 1468.33 Q949.7 1477.06 946.621 1481.67 Q943.566 1486.25 937.756 1486.25 Q931.946 1486.25 928.867 1481.67 Q925.811 1477.06 925.811 1468.33 Q925.811 1459.58 928.867 1455 Q931.946 1450.39 937.756 1450.39 Z\" fill=\"#000000\" fill-rule=\"evenodd\" fill-opacity=\"1\" /><path clip-path=\"url(#clip870)\" d=\"M957.918 1479.7 L962.802 1479.7 L962.802 1485.58 L957.918 1485.58 L957.918 1479.7 Z\" fill=\"#000000\" fill-rule=\"evenodd\" fill-opacity=\"1\" /><path clip-path=\"url(#clip870)\" d=\"M971.806 1451.02 L994.029 1451.02 L994.029 1453.01 L981.482 1485.58 L976.598 1485.58 L988.404 1454.96 L971.806 1454.96 L971.806 1451.02 Z\" fill=\"#000000\" fill-rule=\"evenodd\" fill-opacity=\"1\" /><path clip-path=\"url(#clip870)\" d=\"M1003.2 1451.02 L1021.55 1451.02 L1021.55 1454.96 L1007.48 1454.96 L1007.48 1463.43 Q1008.5 1463.08 1009.51 1462.92 Q1010.53 1462.73 1011.55 1462.73 Q1017.34 1462.73 1020.72 1465.9 Q1024.1 1469.08 1024.1 1474.49 Q1024.1 1480.07 1020.63 1483.17 Q1017.15 1486.25 1010.83 1486.25 Q1008.66 1486.25 1006.39 1485.88 Q1004.14 1485.51 1001.74 1484.77 L1001.74 1480.07 Q1003.82 1481.2 1006.04 1481.76 Q1008.26 1482.32 1010.74 1482.32 Q1014.75 1482.32 1017.08 1480.21 Q1019.42 1478.1 1019.42 1474.49 Q1019.42 1470.88 1017.08 1468.77 Q1014.75 1466.67 1010.74 1466.67 Q1008.87 1466.67 1006.99 1467.08 Q1005.14 1467.5 1003.2 1468.38 L1003.2 1451.02 Z\" fill=\"#000000\" fill-rule=\"evenodd\" fill-opacity=\"1\" /><path clip-path=\"url(#clip870)\" d=\"M1118.84 1481.64 L1126.47 1481.64 L1126.47 1455.28 L1118.16 1456.95 L1118.16 1452.69 L1126.43 1451.02 L1131.1 1451.02 L1131.1 1481.64 L1138.74 1481.64 L1138.74 1485.58 L1118.84 1485.58 L1118.84 1481.64 Z\" fill=\"#000000\" fill-rule=\"evenodd\" fill-opacity=\"1\" /><path clip-path=\"url(#clip870)\" d=\"M1148.19 1479.7 L1153.07 1479.7 L1153.07 1485.58 L1148.19 1485.58 L1148.19 1479.7 Z\" fill=\"#000000\" fill-rule=\"evenodd\" fill-opacity=\"1\" /><path clip-path=\"url(#clip870)\" d=\"M1173.26 1454.1 Q1169.65 1454.1 1167.82 1457.66 Q1166.01 1461.2 1166.01 1468.33 Q1166.01 1475.44 1167.82 1479.01 Q1169.65 1482.55 1173.26 1482.55 Q1176.89 1482.55 1178.7 1479.01 Q1180.53 1475.44 1180.53 1468.33 Q1180.53 1461.2 1178.7 1457.66 Q1176.89 1454.1 1173.26 1454.1 M1173.26 1450.39 Q1179.07 1450.39 1182.12 1455 Q1185.2 1459.58 1185.2 1468.33 Q1185.2 1477.06 1182.12 1481.67 Q1179.07 1486.25 1173.26 1486.25 Q1167.45 1486.25 1164.37 1481.67 Q1161.31 1477.06 1161.31 1468.33 Q1161.31 1459.58 1164.37 1455 Q1167.45 1450.39 1173.26 1450.39 Z\" fill=\"#000000\" fill-rule=\"evenodd\" fill-opacity=\"1\" /><path clip-path=\"url(#clip870)\" d=\"M1203.42 1454.1 Q1199.81 1454.1 1197.98 1457.66 Q1196.17 1461.2 1196.17 1468.33 Q1196.17 1475.44 1197.98 1479.01 Q1199.81 1482.55 1203.42 1482.55 Q1207.05 1482.55 1208.86 1479.01 Q1210.69 1475.44 1210.69 1468.33 Q1210.69 1461.2 1208.86 1457.66 Q1207.05 1454.1 1203.42 1454.1 M1203.42 1450.39 Q1209.23 1450.39 1212.28 1455 Q1215.36 1459.58 1215.36 1468.33 Q1215.36 1477.06 1212.28 1481.67 Q1209.23 1486.25 1203.42 1486.25 Q1197.61 1486.25 1194.53 1481.67 Q1191.47 1477.06 1191.47 1468.33 Q1191.47 1459.58 1194.53 1455 Q1197.61 1450.39 1203.42 1450.39 Z\" fill=\"#000000\" fill-rule=\"evenodd\" fill-opacity=\"1\" /><path clip-path=\"url(#clip870)\" d=\"M794.858 1533.45 L794.858 1538.98 Q792.375 1537.71 789.702 1537.07 Q787.028 1536.44 784.164 1536.44 Q779.803 1536.44 777.607 1537.77 Q775.443 1539.11 775.443 1541.79 Q775.443 1543.82 777.002 1545 Q778.562 1546.15 783.272 1547.2 L785.278 1547.64 Q791.516 1548.98 794.126 1551.43 Q796.768 1553.85 796.768 1558.21 Q796.768 1563.17 792.821 1566.07 Q788.906 1568.97 782.031 1568.97 Q779.166 1568.97 776.047 1568.39 Q772.96 1567.85 769.522 1566.74 L769.522 1560.69 Q772.769 1562.38 775.92 1563.24 Q779.071 1564.07 782.158 1564.07 Q786.296 1564.07 788.524 1562.66 Q790.752 1561.23 790.752 1558.65 Q790.752 1556.27 789.129 1554.99 Q787.537 1553.72 782.095 1552.54 L780.058 1552.07 Q774.615 1550.92 772.196 1548.56 Q769.777 1546.18 769.777 1542.04 Q769.777 1537.01 773.342 1534.27 Q776.907 1531.54 783.463 1531.54 Q786.71 1531.54 789.574 1532.01 Q792.439 1532.49 794.858 1533.45 Z\" fill=\"#000000\" fill-rule=\"evenodd\" fill-opacity=\"1\" /><polyline clip-path=\"url(#clip872)\" style=\"stroke:#000000; stroke-linecap:butt; stroke-linejoin:round; stroke-width:2; stroke-opacity:0.1; fill:none\" points=\"\n  376.509,1326.85 1189.78,1326.85 \n  \"/>\n<polyline clip-path=\"url(#clip872)\" style=\"stroke:#000000; stroke-linecap:butt; stroke-linejoin:round; stroke-width:2; stroke-opacity:0.1; fill:none\" points=\"\n  376.509,1120.07 1189.78,1120.07 \n  \"/>\n<polyline clip-path=\"url(#clip872)\" style=\"stroke:#000000; stroke-linecap:butt; stroke-linejoin:round; stroke-width:2; stroke-opacity:0.1; fill:none\" points=\"\n  376.509,913.296 1189.78,913.296 \n  \"/>\n<polyline clip-path=\"url(#clip872)\" style=\"stroke:#000000; stroke-linecap:butt; stroke-linejoin:round; stroke-width:2; stroke-opacity:0.1; fill:none\" points=\"\n  376.509,706.518 1189.78,706.518 \n  \"/>\n<polyline clip-path=\"url(#clip872)\" style=\"stroke:#000000; stroke-linecap:butt; stroke-linejoin:round; stroke-width:2; stroke-opacity:0.1; fill:none\" points=\"\n  376.509,499.741 1189.78,499.741 \n  \"/>\n<polyline clip-path=\"url(#clip872)\" style=\"stroke:#000000; stroke-linecap:butt; stroke-linejoin:round; stroke-width:2; stroke-opacity:0.1; fill:none\" points=\"\n  376.509,292.963 1189.78,292.963 \n  \"/>\n<polyline clip-path=\"url(#clip872)\" style=\"stroke:#000000; stroke-linecap:butt; stroke-linejoin:round; stroke-width:2; stroke-opacity:0.1; fill:none\" points=\"\n  376.509,86.1857 1189.78,86.1857 \n  \"/>\n<polyline clip-path=\"url(#clip870)\" style=\"stroke:#000000; stroke-linecap:butt; stroke-linejoin:round; stroke-width:4; stroke-opacity:1; fill:none\" points=\"\n  376.509,1423.18 376.509,47.2441 \n  \"/>\n<polyline clip-path=\"url(#clip870)\" style=\"stroke:#000000; stroke-linecap:butt; stroke-linejoin:round; stroke-width:4; stroke-opacity:1; fill:none\" points=\"\n  376.509,1326.85 395.407,1326.85 \n  \"/>\n<polyline clip-path=\"url(#clip870)\" style=\"stroke:#000000; stroke-linecap:butt; stroke-linejoin:round; stroke-width:4; stroke-opacity:1; fill:none\" points=\"\n  376.509,1120.07 395.407,1120.07 \n  \"/>\n<polyline clip-path=\"url(#clip870)\" style=\"stroke:#000000; stroke-linecap:butt; stroke-linejoin:round; stroke-width:4; stroke-opacity:1; fill:none\" points=\"\n  376.509,913.296 395.407,913.296 \n  \"/>\n<polyline clip-path=\"url(#clip870)\" style=\"stroke:#000000; stroke-linecap:butt; stroke-linejoin:round; stroke-width:4; stroke-opacity:1; fill:none\" points=\"\n  376.509,706.518 395.407,706.518 \n  \"/>\n<polyline clip-path=\"url(#clip870)\" style=\"stroke:#000000; stroke-linecap:butt; stroke-linejoin:round; stroke-width:4; stroke-opacity:1; fill:none\" points=\"\n  376.509,499.741 395.407,499.741 \n  \"/>\n<polyline clip-path=\"url(#clip870)\" style=\"stroke:#000000; stroke-linecap:butt; stroke-linejoin:round; stroke-width:4; stroke-opacity:1; fill:none\" points=\"\n  376.509,292.963 395.407,292.963 \n  \"/>\n<polyline clip-path=\"url(#clip870)\" style=\"stroke:#000000; stroke-linecap:butt; stroke-linejoin:round; stroke-width:4; stroke-opacity:1; fill:none\" points=\"\n  376.509,86.1857 395.407,86.1857 \n  \"/>\n<path clip-path=\"url(#clip870)\" d=\"M114.26 1333.75 L143.936 1333.75 L143.936 1337.69 L114.26 1337.69 L114.26 1333.75 Z\" fill=\"#000000\" fill-rule=\"evenodd\" fill-opacity=\"1\" /><path clip-path=\"url(#clip870)\" d=\"M164.607 1331.44 Q161.459 1331.44 159.607 1333.59 Q157.778 1335.74 157.778 1339.49 Q157.778 1343.22 159.607 1345.39 Q161.459 1347.55 164.607 1347.55 Q167.755 1347.55 169.584 1345.39 Q171.436 1343.22 171.436 1339.49 Q171.436 1335.74 169.584 1333.59 Q167.755 1331.44 164.607 1331.44 M173.889 1316.78 L173.889 1321.04 Q172.13 1320.21 170.325 1319.77 Q168.542 1319.33 166.783 1319.33 Q162.153 1319.33 159.7 1322.45 Q157.269 1325.58 156.922 1331.9 Q158.288 1329.88 160.348 1328.82 Q162.408 1327.73 164.885 1327.73 Q170.093 1327.73 173.102 1330.9 Q176.135 1334.05 176.135 1339.49 Q176.135 1344.81 172.987 1348.03 Q169.839 1351.25 164.607 1351.25 Q158.612 1351.25 155.44 1346.67 Q152.269 1342.06 152.269 1333.33 Q152.269 1325.14 156.158 1320.28 Q160.047 1315.39 166.598 1315.39 Q168.357 1315.39 170.139 1315.74 Q171.945 1316.09 173.889 1316.78 Z\" fill=\"#000000\" fill-rule=\"evenodd\" fill-opacity=\"1\" /><path clip-path=\"url(#clip870)\" d=\"M184.19 1344.7 L189.075 1344.7 L189.075 1350.58 L184.19 1350.58 L184.19 1344.7 Z\" fill=\"#000000\" fill-rule=\"evenodd\" fill-opacity=\"1\" /><path clip-path=\"url(#clip870)\" d=\"M209.26 1319.1 Q205.649 1319.1 203.82 1322.66 Q202.014 1326.2 202.014 1333.33 Q202.014 1340.44 203.82 1344 Q205.649 1347.55 209.26 1347.55 Q212.894 1347.55 214.699 1344 Q216.528 1340.44 216.528 1333.33 Q216.528 1326.2 214.699 1322.66 Q212.894 1319.1 209.26 1319.1 M209.26 1315.39 Q215.07 1315.39 218.125 1320 Q221.204 1324.58 221.204 1333.33 Q221.204 1342.06 218.125 1346.67 Q215.07 1351.25 209.26 1351.25 Q203.449 1351.25 200.371 1346.67 Q197.315 1342.06 197.315 1333.33 Q197.315 1324.58 200.371 1320 Q203.449 1315.39 209.26 1315.39 Z\" fill=\"#000000\" fill-rule=\"evenodd\" fill-opacity=\"1\" /><path clip-path=\"url(#clip870)\" d=\"M257.593 1325.12 L247.014 1335.74 L257.593 1346.32 L254.838 1349.12 L244.213 1338.5 L233.588 1349.12 L230.857 1346.32 L241.412 1335.74 L230.857 1325.12 L233.588 1322.31 L244.213 1332.94 L254.838 1322.31 L257.593 1325.12 Z\" fill=\"#000000\" fill-rule=\"evenodd\" fill-opacity=\"1\" /><path clip-path=\"url(#clip870)\" d=\"M269.954 1346.64 L277.593 1346.64 L277.593 1320.28 L269.282 1321.94 L269.282 1317.69 L277.546 1316.02 L282.222 1316.02 L282.222 1346.64 L289.861 1346.64 L289.861 1350.58 L269.954 1350.58 L269.954 1346.64 Z\" fill=\"#000000\" fill-rule=\"evenodd\" fill-opacity=\"1\" /><path clip-path=\"url(#clip870)\" d=\"M309.305 1319.1 Q305.694 1319.1 303.866 1322.66 Q302.06 1326.2 302.06 1333.33 Q302.06 1340.44 303.866 1344 Q305.694 1347.55 309.305 1347.55 Q312.94 1347.55 314.745 1344 Q316.574 1340.44 316.574 1333.33 Q316.574 1326.2 314.745 1322.66 Q312.94 1319.1 309.305 1319.1 M309.305 1315.39 Q315.116 1315.39 318.171 1320 Q321.25 1324.58 321.25 1333.33 Q321.25 1342.06 318.171 1346.67 Q315.116 1351.25 309.305 1351.25 Q303.495 1351.25 300.417 1346.67 Q297.361 1342.06 297.361 1333.33 Q297.361 1324.58 300.417 1320 Q303.495 1315.39 309.305 1315.39 Z\" fill=\"#000000\" fill-rule=\"evenodd\" fill-opacity=\"1\" /><path clip-path=\"url(#clip870)\" d=\"M330.879 1309.83 Q328.171 1309.83 326.61 1311.28 Q325.068 1312.73 325.068 1315.27 Q325.068 1317.81 326.61 1319.26 Q328.171 1320.7 330.879 1320.7 Q333.588 1320.7 335.149 1319.26 Q336.71 1317.79 336.71 1315.27 Q336.71 1312.73 335.149 1311.28 Q333.606 1309.83 330.879 1309.83 M327.08 1308.22 Q324.635 1307.61 323.262 1305.94 Q321.908 1304.27 321.908 1301.86 Q321.908 1298.49 324.297 1296.54 Q326.704 1294.58 330.879 1294.58 Q335.073 1294.58 337.462 1296.54 Q339.851 1298.49 339.851 1301.86 Q339.851 1304.27 338.478 1305.94 Q337.124 1307.61 334.697 1308.22 Q337.443 1308.86 338.967 1310.72 Q340.509 1312.58 340.509 1315.27 Q340.509 1319.35 338.008 1321.53 Q335.525 1323.71 330.879 1323.71 Q326.234 1323.71 323.732 1321.53 Q321.25 1319.35 321.25 1315.27 Q321.25 1312.58 322.792 1310.72 Q324.334 1308.86 327.08 1308.22 M325.688 1302.22 Q325.688 1304.4 327.043 1305.62 Q328.416 1306.84 330.879 1306.84 Q333.324 1306.84 334.697 1305.62 Q336.089 1304.4 336.089 1302.22 Q336.089 1300.03 334.697 1298.81 Q333.324 1297.59 330.879 1297.59 Q328.416 1297.59 327.043 1298.81 Q325.688 1300.03 325.688 1302.22 Z\" fill=\"#000000\" fill-rule=\"evenodd\" fill-opacity=\"1\" /><path clip-path=\"url(#clip870)\" d=\"M114.26 1126.97 L143.936 1126.97 L143.936 1130.91 L114.26 1130.91 L114.26 1126.97 Z\" fill=\"#000000\" fill-rule=\"evenodd\" fill-opacity=\"1\" /><path clip-path=\"url(#clip870)\" d=\"M154.075 1109.24 L172.431 1109.24 L172.431 1113.18 L158.357 1113.18 L158.357 1121.65 Q159.376 1121.3 160.394 1121.14 Q161.413 1120.95 162.431 1120.95 Q168.218 1120.95 171.598 1124.13 Q174.977 1127.3 174.977 1132.71 Q174.977 1138.29 171.505 1141.39 Q168.033 1144.47 161.714 1144.47 Q159.538 1144.47 157.269 1144.1 Q155.024 1143.73 152.616 1142.99 L152.616 1138.29 Q154.7 1139.43 156.922 1139.98 Q159.144 1140.54 161.621 1140.54 Q165.626 1140.54 167.964 1138.43 Q170.302 1136.32 170.302 1132.71 Q170.302 1129.1 167.964 1127 Q165.626 1124.89 161.621 1124.89 Q159.746 1124.89 157.871 1125.31 Q156.019 1125.72 154.075 1126.6 L154.075 1109.24 Z\" fill=\"#000000\" fill-rule=\"evenodd\" fill-opacity=\"1\" /><path clip-path=\"url(#clip870)\" d=\"M184.19 1137.92 L189.075 1137.92 L189.075 1143.8 L184.19 1143.8 L184.19 1137.92 Z\" fill=\"#000000\" fill-rule=\"evenodd\" fill-opacity=\"1\" /><path clip-path=\"url(#clip870)\" d=\"M209.26 1112.32 Q205.649 1112.32 203.82 1115.88 Q202.014 1119.43 202.014 1126.56 Q202.014 1133.66 203.82 1137.23 Q205.649 1140.77 209.26 1140.77 Q212.894 1140.77 214.699 1137.23 Q216.528 1133.66 216.528 1126.56 Q216.528 1119.43 214.699 1115.88 Q212.894 1112.32 209.26 1112.32 M209.26 1108.62 Q215.07 1108.62 218.125 1113.22 Q221.204 1117.81 221.204 1126.56 Q221.204 1135.28 218.125 1139.89 Q215.07 1144.47 209.26 1144.47 Q203.449 1144.47 200.371 1139.89 Q197.315 1135.28 197.315 1126.56 Q197.315 1117.81 200.371 1113.22 Q203.449 1108.62 209.26 1108.62 Z\" fill=\"#000000\" fill-rule=\"evenodd\" fill-opacity=\"1\" /><path clip-path=\"url(#clip870)\" d=\"M257.593 1118.34 L247.014 1128.96 L257.593 1139.54 L254.838 1142.34 L244.213 1131.72 L233.588 1142.34 L230.857 1139.54 L241.412 1128.96 L230.857 1118.34 L233.588 1115.54 L244.213 1126.16 L254.838 1115.54 L257.593 1118.34 Z\" fill=\"#000000\" fill-rule=\"evenodd\" fill-opacity=\"1\" /><path clip-path=\"url(#clip870)\" d=\"M269.954 1139.87 L277.593 1139.87 L277.593 1113.5 L269.282 1115.17 L269.282 1110.91 L277.546 1109.24 L282.222 1109.24 L282.222 1139.87 L289.861 1139.87 L289.861 1143.8 L269.954 1143.8 L269.954 1139.87 Z\" fill=\"#000000\" fill-rule=\"evenodd\" fill-opacity=\"1\" /><path clip-path=\"url(#clip870)\" d=\"M309.305 1112.32 Q305.694 1112.32 303.866 1115.88 Q302.06 1119.43 302.06 1126.56 Q302.06 1133.66 303.866 1137.23 Q305.694 1140.77 309.305 1140.77 Q312.94 1140.77 314.745 1137.23 Q316.574 1133.66 316.574 1126.56 Q316.574 1119.43 314.745 1115.88 Q312.94 1112.32 309.305 1112.32 M309.305 1108.62 Q315.116 1108.62 318.171 1113.22 Q321.25 1117.81 321.25 1126.56 Q321.25 1135.28 318.171 1139.89 Q315.116 1144.47 309.305 1144.47 Q303.495 1144.47 300.417 1139.89 Q297.361 1135.28 297.361 1126.56 Q297.361 1117.81 300.417 1113.22 Q303.495 1108.62 309.305 1108.62 Z\" fill=\"#000000\" fill-rule=\"evenodd\" fill-opacity=\"1\" /><path clip-path=\"url(#clip870)\" d=\"M330.879 1103.06 Q328.171 1103.06 326.61 1104.5 Q325.068 1105.95 325.068 1108.49 Q325.068 1111.03 326.61 1112.48 Q328.171 1113.93 330.879 1113.93 Q333.588 1113.93 335.149 1112.48 Q336.71 1111.01 336.71 1108.49 Q336.71 1105.95 335.149 1104.5 Q333.606 1103.06 330.879 1103.06 M327.08 1101.44 Q324.635 1100.84 323.262 1099.16 Q321.908 1097.49 321.908 1095.08 Q321.908 1091.71 324.297 1089.76 Q326.704 1087.8 330.879 1087.8 Q335.073 1087.8 337.462 1089.76 Q339.851 1091.71 339.851 1095.08 Q339.851 1097.49 338.478 1099.16 Q337.124 1100.84 334.697 1101.44 Q337.443 1102.08 338.967 1103.94 Q340.509 1105.8 340.509 1108.49 Q340.509 1112.57 338.008 1114.75 Q335.525 1116.94 330.879 1116.94 Q326.234 1116.94 323.732 1114.75 Q321.25 1112.57 321.25 1108.49 Q321.25 1105.8 322.792 1103.94 Q324.334 1102.08 327.08 1101.44 M325.688 1095.44 Q325.688 1097.62 327.043 1098.84 Q328.416 1100.07 330.879 1100.07 Q333.324 1100.07 334.697 1098.84 Q336.089 1097.62 336.089 1095.44 Q336.089 1093.26 334.697 1092.03 Q333.324 1090.81 330.879 1090.81 Q328.416 1090.81 327.043 1092.03 Q325.688 1093.26 325.688 1095.44 Z\" fill=\"#000000\" fill-rule=\"evenodd\" fill-opacity=\"1\" /><path clip-path=\"url(#clip870)\" d=\"M114.26 920.195 L143.936 920.195 L143.936 924.13 L114.26 924.13 L114.26 920.195 Z\" fill=\"#000000\" fill-rule=\"evenodd\" fill-opacity=\"1\" /><path clip-path=\"url(#clip870)\" d=\"M166.876 906.537 L155.07 924.986 L166.876 924.986 L166.876 906.537 M165.649 902.463 L171.528 902.463 L171.528 924.986 L176.459 924.986 L176.459 928.875 L171.528 928.875 L171.528 937.023 L166.876 937.023 L166.876 928.875 L151.274 928.875 L151.274 924.361 L165.649 902.463 Z\" fill=\"#000000\" fill-rule=\"evenodd\" fill-opacity=\"1\" /><path clip-path=\"url(#clip870)\" d=\"M184.19 931.144 L189.075 931.144 L189.075 937.023 L184.19 937.023 L184.19 931.144 Z\" fill=\"#000000\" fill-rule=\"evenodd\" fill-opacity=\"1\" /><path clip-path=\"url(#clip870)\" d=\"M209.26 905.542 Q205.649 905.542 203.82 909.107 Q202.014 912.649 202.014 919.778 Q202.014 926.885 203.82 930.449 Q205.649 933.991 209.26 933.991 Q212.894 933.991 214.699 930.449 Q216.528 926.885 216.528 919.778 Q216.528 912.649 214.699 909.107 Q212.894 905.542 209.26 905.542 M209.26 901.838 Q215.07 901.838 218.125 906.445 Q221.204 911.028 221.204 919.778 Q221.204 928.505 218.125 933.111 Q215.07 937.695 209.26 937.695 Q203.449 937.695 200.371 933.111 Q197.315 928.505 197.315 919.778 Q197.315 911.028 200.371 906.445 Q203.449 901.838 209.26 901.838 Z\" fill=\"#000000\" fill-rule=\"evenodd\" fill-opacity=\"1\" /><path clip-path=\"url(#clip870)\" d=\"M257.593 911.561 L247.014 922.186 L257.593 932.764 L254.838 935.565 L244.213 924.94 L233.588 935.565 L230.857 932.764 L241.412 922.186 L230.857 911.561 L233.588 908.76 L244.213 919.385 L254.838 908.76 L257.593 911.561 Z\" fill=\"#000000\" fill-rule=\"evenodd\" fill-opacity=\"1\" /><path clip-path=\"url(#clip870)\" d=\"M269.954 933.088 L277.593 933.088 L277.593 906.723 L269.282 908.389 L269.282 904.13 L277.546 902.463 L282.222 902.463 L282.222 933.088 L289.861 933.088 L289.861 937.023 L269.954 937.023 L269.954 933.088 Z\" fill=\"#000000\" fill-rule=\"evenodd\" fill-opacity=\"1\" /><path clip-path=\"url(#clip870)\" d=\"M309.305 905.542 Q305.694 905.542 303.866 909.107 Q302.06 912.649 302.06 919.778 Q302.06 926.885 303.866 930.449 Q305.694 933.991 309.305 933.991 Q312.94 933.991 314.745 930.449 Q316.574 926.885 316.574 919.778 Q316.574 912.649 314.745 909.107 Q312.94 905.542 309.305 905.542 M309.305 901.838 Q315.116 901.838 318.171 906.445 Q321.25 911.028 321.25 919.778 Q321.25 928.505 318.171 933.111 Q315.116 937.695 309.305 937.695 Q303.495 937.695 300.417 933.111 Q297.361 928.505 297.361 919.778 Q297.361 911.028 300.417 906.445 Q303.495 901.838 309.305 901.838 Z\" fill=\"#000000\" fill-rule=\"evenodd\" fill-opacity=\"1\" /><path clip-path=\"url(#clip870)\" d=\"M330.879 896.278 Q328.171 896.278 326.61 897.727 Q325.068 899.175 325.068 901.714 Q325.068 904.253 326.61 905.701 Q328.171 907.149 330.879 907.149 Q333.588 907.149 335.149 905.701 Q336.71 904.234 336.71 901.714 Q336.71 899.175 335.149 897.727 Q333.606 896.278 330.879 896.278 M327.08 894.661 Q324.635 894.059 323.262 892.385 Q321.908 890.711 321.908 888.304 Q321.908 884.937 324.297 882.981 Q326.704 881.025 330.879 881.025 Q335.073 881.025 337.462 882.981 Q339.851 884.937 339.851 888.304 Q339.851 890.711 338.478 892.385 Q337.124 894.059 334.697 894.661 Q337.443 895.3 338.967 897.162 Q340.509 899.024 340.509 901.714 Q340.509 905.795 338.008 907.977 Q335.525 910.158 330.879 910.158 Q326.234 910.158 323.732 907.977 Q321.25 905.795 321.25 901.714 Q321.25 899.024 322.792 897.162 Q324.334 895.3 327.08 894.661 M325.688 888.661 Q325.688 890.843 327.043 892.065 Q328.416 893.288 330.879 893.288 Q333.324 893.288 334.697 892.065 Q336.089 890.843 336.089 888.661 Q336.089 886.479 334.697 885.257 Q333.324 884.034 330.879 884.034 Q328.416 884.034 327.043 885.257 Q325.688 886.479 325.688 888.661 Z\" fill=\"#000000\" fill-rule=\"evenodd\" fill-opacity=\"1\" /><path clip-path=\"url(#clip870)\" d=\"M114.26 713.417 L143.936 713.417 L143.936 717.352 L114.26 717.352 L114.26 713.417 Z\" fill=\"#000000\" fill-rule=\"evenodd\" fill-opacity=\"1\" /><path clip-path=\"url(#clip870)\" d=\"M168.195 711.612 Q171.552 712.329 173.427 714.598 Q175.325 716.866 175.325 720.2 Q175.325 725.315 171.806 728.116 Q168.288 730.917 161.806 730.917 Q159.63 730.917 157.315 730.477 Q155.024 730.061 152.57 729.204 L152.57 724.69 Q154.515 725.825 156.829 726.403 Q159.144 726.982 161.667 726.982 Q166.065 726.982 168.357 725.246 Q170.672 723.51 170.672 720.2 Q170.672 717.144 168.519 715.431 Q166.39 713.695 162.57 713.695 L158.542 713.695 L158.542 709.852 L162.755 709.852 Q166.204 709.852 168.033 708.487 Q169.862 707.098 169.862 704.505 Q169.862 701.843 167.964 700.431 Q166.089 698.996 162.57 698.996 Q160.649 698.996 158.45 699.413 Q156.251 699.829 153.612 700.709 L153.612 696.542 Q156.274 695.802 158.589 695.431 Q160.927 695.061 162.987 695.061 Q168.311 695.061 171.413 697.491 Q174.514 699.899 174.514 704.019 Q174.514 706.89 172.871 708.88 Q171.227 710.848 168.195 711.612 Z\" fill=\"#000000\" fill-rule=\"evenodd\" fill-opacity=\"1\" /><path clip-path=\"url(#clip870)\" d=\"M184.19 724.366 L189.075 724.366 L189.075 730.246 L184.19 730.246 L184.19 724.366 Z\" fill=\"#000000\" fill-rule=\"evenodd\" fill-opacity=\"1\" /><path clip-path=\"url(#clip870)\" d=\"M209.26 698.765 Q205.649 698.765 203.82 702.329 Q202.014 705.871 202.014 713.001 Q202.014 720.107 203.82 723.672 Q205.649 727.213 209.26 727.213 Q212.894 727.213 214.699 723.672 Q216.528 720.107 216.528 713.001 Q216.528 705.871 214.699 702.329 Q212.894 698.765 209.26 698.765 M209.26 695.061 Q215.07 695.061 218.125 699.667 Q221.204 704.251 221.204 713.001 Q221.204 721.727 218.125 726.334 Q215.07 730.917 209.26 730.917 Q203.449 730.917 200.371 726.334 Q197.315 721.727 197.315 713.001 Q197.315 704.251 200.371 699.667 Q203.449 695.061 209.26 695.061 Z\" fill=\"#000000\" fill-rule=\"evenodd\" fill-opacity=\"1\" /><path clip-path=\"url(#clip870)\" d=\"M257.593 704.783 L247.014 715.408 L257.593 725.987 L254.838 728.788 L244.213 718.163 L233.588 728.788 L230.857 725.987 L241.412 715.408 L230.857 704.783 L233.588 701.982 L244.213 712.607 L254.838 701.982 L257.593 704.783 Z\" fill=\"#000000\" fill-rule=\"evenodd\" fill-opacity=\"1\" /><path clip-path=\"url(#clip870)\" d=\"M269.954 726.311 L277.593 726.311 L277.593 699.945 L269.282 701.612 L269.282 697.353 L277.546 695.686 L282.222 695.686 L282.222 726.311 L289.861 726.311 L289.861 730.246 L269.954 730.246 L269.954 726.311 Z\" fill=\"#000000\" fill-rule=\"evenodd\" fill-opacity=\"1\" /><path clip-path=\"url(#clip870)\" d=\"M309.305 698.765 Q305.694 698.765 303.866 702.329 Q302.06 705.871 302.06 713.001 Q302.06 720.107 303.866 723.672 Q305.694 727.213 309.305 727.213 Q312.94 727.213 314.745 723.672 Q316.574 720.107 316.574 713.001 Q316.574 705.871 314.745 702.329 Q312.94 698.765 309.305 698.765 M309.305 695.061 Q315.116 695.061 318.171 699.667 Q321.25 704.251 321.25 713.001 Q321.25 721.727 318.171 726.334 Q315.116 730.917 309.305 730.917 Q303.495 730.917 300.417 726.334 Q297.361 721.727 297.361 713.001 Q297.361 704.251 300.417 699.667 Q303.495 695.061 309.305 695.061 Z\" fill=\"#000000\" fill-rule=\"evenodd\" fill-opacity=\"1\" /><path clip-path=\"url(#clip870)\" d=\"M330.879 689.501 Q328.171 689.501 326.61 690.949 Q325.068 692.397 325.068 694.936 Q325.068 697.475 326.61 698.923 Q328.171 700.372 330.879 700.372 Q333.588 700.372 335.149 698.923 Q336.71 697.456 336.71 694.936 Q336.71 692.397 335.149 690.949 Q333.606 689.501 330.879 689.501 M327.08 687.883 Q324.635 687.281 323.262 685.608 Q321.908 683.934 321.908 681.526 Q321.908 678.16 324.297 676.204 Q326.704 674.248 330.879 674.248 Q335.073 674.248 337.462 676.204 Q339.851 678.16 339.851 681.526 Q339.851 683.934 338.478 685.608 Q337.124 687.281 334.697 687.883 Q337.443 688.523 338.967 690.385 Q340.509 692.247 340.509 694.936 Q340.509 699.018 338.008 701.199 Q335.525 703.381 330.879 703.381 Q326.234 703.381 323.732 701.199 Q321.25 699.018 321.25 694.936 Q321.25 692.247 322.792 690.385 Q324.334 688.523 327.08 687.883 M325.688 681.884 Q325.688 684.065 327.043 685.288 Q328.416 686.51 330.879 686.51 Q333.324 686.51 334.697 685.288 Q336.089 684.065 336.089 681.884 Q336.089 679.702 334.697 678.479 Q333.324 677.257 330.879 677.257 Q328.416 677.257 327.043 678.479 Q325.688 679.702 325.688 681.884 Z\" fill=\"#000000\" fill-rule=\"evenodd\" fill-opacity=\"1\" /><path clip-path=\"url(#clip870)\" d=\"M114.26 506.64 L143.936 506.64 L143.936 510.575 L114.26 510.575 L114.26 506.64 Z\" fill=\"#000000\" fill-rule=\"evenodd\" fill-opacity=\"1\" /><path clip-path=\"url(#clip870)\" d=\"M158.056 519.533 L174.376 519.533 L174.376 523.468 L152.431 523.468 L152.431 519.533 Q155.093 516.779 159.677 512.149 Q164.283 507.496 165.464 506.154 Q167.709 503.63 168.589 501.894 Q169.491 500.135 169.491 498.445 Q169.491 495.691 167.547 493.955 Q165.626 492.219 162.524 492.219 Q160.325 492.219 157.871 492.982 Q155.44 493.746 152.663 495.297 L152.663 490.575 Q155.487 489.441 157.94 488.862 Q160.394 488.283 162.431 488.283 Q167.802 488.283 170.996 490.969 Q174.19 493.654 174.19 498.144 Q174.19 500.274 173.38 502.195 Q172.593 504.093 170.487 506.686 Q169.908 507.357 166.806 510.575 Q163.704 513.769 158.056 519.533 Z\" fill=\"#000000\" fill-rule=\"evenodd\" fill-opacity=\"1\" /><path clip-path=\"url(#clip870)\" d=\"M184.19 517.589 L189.075 517.589 L189.075 523.468 L184.19 523.468 L184.19 517.589 Z\" fill=\"#000000\" fill-rule=\"evenodd\" fill-opacity=\"1\" /><path clip-path=\"url(#clip870)\" d=\"M209.26 491.987 Q205.649 491.987 203.82 495.552 Q202.014 499.093 202.014 506.223 Q202.014 513.33 203.82 516.894 Q205.649 520.436 209.26 520.436 Q212.894 520.436 214.699 516.894 Q216.528 513.33 216.528 506.223 Q216.528 499.093 214.699 495.552 Q212.894 491.987 209.26 491.987 M209.26 488.283 Q215.07 488.283 218.125 492.89 Q221.204 497.473 221.204 506.223 Q221.204 514.95 218.125 519.556 Q215.07 524.14 209.26 524.14 Q203.449 524.14 200.371 519.556 Q197.315 514.95 197.315 506.223 Q197.315 497.473 200.371 492.89 Q203.449 488.283 209.26 488.283 Z\" fill=\"#000000\" fill-rule=\"evenodd\" fill-opacity=\"1\" /><path clip-path=\"url(#clip870)\" d=\"M257.593 498.006 L247.014 508.63 L257.593 519.209 L254.838 522.01 L244.213 511.385 L233.588 522.01 L230.857 519.209 L241.412 508.63 L230.857 498.006 L233.588 495.205 L244.213 505.83 L254.838 495.205 L257.593 498.006 Z\" fill=\"#000000\" fill-rule=\"evenodd\" fill-opacity=\"1\" /><path clip-path=\"url(#clip870)\" d=\"M269.954 519.533 L277.593 519.533 L277.593 493.168 L269.282 494.834 L269.282 490.575 L277.546 488.908 L282.222 488.908 L282.222 519.533 L289.861 519.533 L289.861 523.468 L269.954 523.468 L269.954 519.533 Z\" fill=\"#000000\" fill-rule=\"evenodd\" fill-opacity=\"1\" /><path clip-path=\"url(#clip870)\" d=\"M309.305 491.987 Q305.694 491.987 303.866 495.552 Q302.06 499.093 302.06 506.223 Q302.06 513.33 303.866 516.894 Q305.694 520.436 309.305 520.436 Q312.94 520.436 314.745 516.894 Q316.574 513.33 316.574 506.223 Q316.574 499.093 314.745 495.552 Q312.94 491.987 309.305 491.987 M309.305 488.283 Q315.116 488.283 318.171 492.89 Q321.25 497.473 321.25 506.223 Q321.25 514.95 318.171 519.556 Q315.116 524.14 309.305 524.14 Q303.495 524.14 300.417 519.556 Q297.361 514.95 297.361 506.223 Q297.361 497.473 300.417 492.89 Q303.495 488.283 309.305 488.283 Z\" fill=\"#000000\" fill-rule=\"evenodd\" fill-opacity=\"1\" /><path clip-path=\"url(#clip870)\" d=\"M330.879 482.723 Q328.171 482.723 326.61 484.171 Q325.068 485.62 325.068 488.159 Q325.068 490.698 326.61 492.146 Q328.171 493.594 330.879 493.594 Q333.588 493.594 335.149 492.146 Q336.71 490.679 336.71 488.159 Q336.71 485.62 335.149 484.171 Q333.606 482.723 330.879 482.723 M327.08 481.106 Q324.635 480.504 323.262 478.83 Q321.908 477.156 321.908 474.749 Q321.908 471.382 324.297 469.426 Q326.704 467.47 330.879 467.47 Q335.073 467.47 337.462 469.426 Q339.851 471.382 339.851 474.749 Q339.851 477.156 338.478 478.83 Q337.124 480.504 334.697 481.106 Q337.443 481.745 338.967 483.607 Q340.509 485.469 340.509 488.159 Q340.509 492.24 338.008 494.422 Q335.525 496.603 330.879 496.603 Q326.234 496.603 323.732 494.422 Q321.25 492.24 321.25 488.159 Q321.25 485.469 322.792 483.607 Q324.334 481.745 327.08 481.106 M325.688 475.106 Q325.688 477.288 327.043 478.51 Q328.416 479.733 330.879 479.733 Q333.324 479.733 334.697 478.51 Q336.089 477.288 336.089 475.106 Q336.089 472.924 334.697 471.702 Q333.324 470.479 330.879 470.479 Q328.416 470.479 327.043 471.702 Q325.688 472.924 325.688 475.106 Z\" fill=\"#000000\" fill-rule=\"evenodd\" fill-opacity=\"1\" /><path clip-path=\"url(#clip870)\" d=\"M114.26 299.862 L143.936 299.862 L143.936 303.797 L114.26 303.797 L114.26 299.862 Z\" fill=\"#000000\" fill-rule=\"evenodd\" fill-opacity=\"1\" /><path clip-path=\"url(#clip870)\" d=\"M154.839 312.756 L162.477 312.756 L162.477 286.39 L154.167 288.057 L154.167 283.797 L162.431 282.131 L167.107 282.131 L167.107 312.756 L174.746 312.756 L174.746 316.691 L154.839 316.691 L154.839 312.756 Z\" fill=\"#000000\" fill-rule=\"evenodd\" fill-opacity=\"1\" /><path clip-path=\"url(#clip870)\" d=\"M184.19 310.811 L189.075 310.811 L189.075 316.691 L184.19 316.691 L184.19 310.811 Z\" fill=\"#000000\" fill-rule=\"evenodd\" fill-opacity=\"1\" /><path clip-path=\"url(#clip870)\" d=\"M209.26 285.209 Q205.649 285.209 203.82 288.774 Q202.014 292.316 202.014 299.446 Q202.014 306.552 203.82 310.117 Q205.649 313.658 209.26 313.658 Q212.894 313.658 214.699 310.117 Q216.528 306.552 216.528 299.446 Q216.528 292.316 214.699 288.774 Q212.894 285.209 209.26 285.209 M209.26 281.506 Q215.07 281.506 218.125 286.112 Q221.204 290.696 221.204 299.446 Q221.204 308.172 218.125 312.779 Q215.07 317.362 209.26 317.362 Q203.449 317.362 200.371 312.779 Q197.315 308.172 197.315 299.446 Q197.315 290.696 200.371 286.112 Q203.449 281.506 209.26 281.506 Z\" fill=\"#000000\" fill-rule=\"evenodd\" fill-opacity=\"1\" /><path clip-path=\"url(#clip870)\" d=\"M257.593 291.228 L247.014 301.853 L257.593 312.432 L254.838 315.232 L244.213 304.608 L233.588 315.232 L230.857 312.432 L241.412 301.853 L230.857 291.228 L233.588 288.427 L244.213 299.052 L254.838 288.427 L257.593 291.228 Z\" fill=\"#000000\" fill-rule=\"evenodd\" fill-opacity=\"1\" /><path clip-path=\"url(#clip870)\" d=\"M269.954 312.756 L277.593 312.756 L277.593 286.39 L269.282 288.057 L269.282 283.797 L277.546 282.131 L282.222 282.131 L282.222 312.756 L289.861 312.756 L289.861 316.691 L269.954 316.691 L269.954 312.756 Z\" fill=\"#000000\" fill-rule=\"evenodd\" fill-opacity=\"1\" /><path clip-path=\"url(#clip870)\" d=\"M309.305 285.209 Q305.694 285.209 303.866 288.774 Q302.06 292.316 302.06 299.446 Q302.06 306.552 303.866 310.117 Q305.694 313.658 309.305 313.658 Q312.94 313.658 314.745 310.117 Q316.574 306.552 316.574 299.446 Q316.574 292.316 314.745 288.774 Q312.94 285.209 309.305 285.209 M309.305 281.506 Q315.116 281.506 318.171 286.112 Q321.25 290.696 321.25 299.446 Q321.25 308.172 318.171 312.779 Q315.116 317.362 309.305 317.362 Q303.495 317.362 300.417 312.779 Q297.361 308.172 297.361 299.446 Q297.361 290.696 300.417 286.112 Q303.495 281.506 309.305 281.506 Z\" fill=\"#000000\" fill-rule=\"evenodd\" fill-opacity=\"1\" /><path clip-path=\"url(#clip870)\" d=\"M330.879 275.946 Q328.171 275.946 326.61 277.394 Q325.068 278.842 325.068 281.381 Q325.068 283.92 326.61 285.368 Q328.171 286.817 330.879 286.817 Q333.588 286.817 335.149 285.368 Q336.71 283.901 336.71 281.381 Q336.71 278.842 335.149 277.394 Q333.606 275.946 330.879 275.946 M327.08 274.328 Q324.635 273.726 323.262 272.052 Q321.908 270.379 321.908 267.971 Q321.908 264.605 324.297 262.649 Q326.704 260.693 330.879 260.693 Q335.073 260.693 337.462 262.649 Q339.851 264.605 339.851 267.971 Q339.851 270.379 338.478 272.052 Q337.124 273.726 334.697 274.328 Q337.443 274.968 338.967 276.83 Q340.509 278.692 340.509 281.381 Q340.509 285.462 338.008 287.644 Q335.525 289.826 330.879 289.826 Q326.234 289.826 323.732 287.644 Q321.25 285.462 321.25 281.381 Q321.25 278.692 322.792 276.83 Q324.334 274.968 327.08 274.328 M325.688 268.329 Q325.688 270.51 327.043 271.733 Q328.416 272.955 330.879 272.955 Q333.324 272.955 334.697 271.733 Q336.089 270.51 336.089 268.329 Q336.089 266.147 334.697 264.924 Q333.324 263.702 330.879 263.702 Q328.416 263.702 327.043 264.924 Q325.688 266.147 325.688 268.329 Z\" fill=\"#000000\" fill-rule=\"evenodd\" fill-opacity=\"1\" /><path clip-path=\"url(#clip870)\" d=\"M328.565 71.9844 Q324.953 71.9844 323.125 75.5491 Q321.319 79.0908 321.319 86.2204 Q321.319 93.3268 323.125 96.8916 Q324.953 100.433 328.565 100.433 Q332.199 100.433 334.004 96.8916 Q335.833 93.3268 335.833 86.2204 Q335.833 79.0908 334.004 75.5491 Q332.199 71.9844 328.565 71.9844 M328.565 68.2807 Q334.375 68.2807 337.43 72.8871 Q340.509 77.4704 340.509 86.2204 Q340.509 94.9472 337.43 99.5537 Q334.375 104.137 328.565 104.137 Q322.754 104.137 319.676 99.5537 Q316.62 94.9472 316.62 86.2204 Q316.62 77.4704 319.676 72.8871 Q322.754 68.2807 328.565 68.2807 Z\" fill=\"#000000\" fill-rule=\"evenodd\" fill-opacity=\"1\" /><path clip-path=\"url(#clip870)\" d=\"M14.479 751.031 L14.479 745.142 L43.7294 745.142 L28.3562 727.669 L28.3562 720.189 L45.0344 739.095 L64.0042 719.393 L64.0042 727.032 L46.5939 745.142 L64.0042 745.142 L64.0042 751.031 L14.479 751.031 Z\" fill=\"#000000\" fill-rule=\"evenodd\" fill-opacity=\"1\" /><polyline clip-path=\"url(#clip872)\" style=\"stroke:#009af9; stroke-linecap:butt; stroke-linejoin:round; stroke-width:4; stroke-opacity:1; fill:none\" points=\"\n  401.444,1384.24 403.362,248.529 405.28,134.313 407.198,106.5 409.117,96.5924 411.035,92.2113 412.953,89.9823 414.871,88.7305 416.789,87.974 418.707,87.4901 \n  420.625,87.1662 422.543,86.9414 424.461,86.7804 426.379,86.6621 428.298,86.5732 430.216,86.5052 432.134,86.4522 434.052,86.4103 435.97,86.3768 437.888,86.3496 \n  439.806,86.3274 441.724,86.309 443.642,86.2937 445.56,86.2808 447.478,86.2699 449.397,86.2606 451.315,86.2526 453.233,86.2457 455.151,86.2397 457.069,86.2345 \n  458.987,86.23 460.905,86.226 462.823,86.2225 464.741,86.2193 466.659,86.2165 468.577,86.2141 470.496,86.2118 472.414,86.2098 474.332,86.208 476.25,86.2064 \n  478.168,86.2049 480.086,86.2036 482.004,86.2024 483.922,86.2013 485.84,86.2003 487.758,86.1994 489.677,86.1985 491.595,86.1977 493.513,86.197 495.431,86.1964 \n  497.349,86.1957 499.267,86.1952 501.185,86.1947 503.103,86.1942 505.021,86.1937 506.939,86.1933 508.857,86.1929 510.776,86.1926 512.694,86.1922 514.612,86.1919 \n  516.53,86.1916 518.448,86.1913 520.366,86.1911 522.284,86.1908 524.202,86.1906 526.12,86.1904 528.038,86.1902 529.957,86.19 531.875,86.1898 533.793,86.1896 \n  535.711,86.1895 537.629,86.1893 539.547,86.1892 541.465,86.189 543.383,86.1889 545.301,86.1888 547.219,86.1887 549.137,86.1885 551.056,86.1884 552.974,86.1883 \n  554.892,86.1882 556.81,86.1881 558.728,86.1881 560.646,86.188 562.564,86.1879 564.482,86.1878 566.4,86.1878 568.318,86.1877 570.237,86.1876 572.155,86.1876 \n  574.073,86.1875 575.991,86.1874 577.909,86.1874 579.827,86.1873 581.745,86.1873 583.663,86.1872 585.581,86.1872 587.499,86.1871 589.417,86.1871 591.336,86.1871 \n  593.254,86.187 595.172,86.187 597.09,86.1869 599.008,86.1869 600.926,86.1869 602.844,86.1868 604.762,86.1868 606.68,86.1868 608.598,86.1867 610.517,86.1867 \n  612.435,86.1867 614.353,86.1867 616.271,86.1866 618.189,86.1866 620.107,86.1866 622.025,86.1866 623.943,86.1865 625.861,86.1865 627.779,86.1865 629.697,86.1865 \n  631.616,86.1865 633.534,86.1864 635.452,86.1864 637.37,86.1864 639.288,86.1864 641.206,86.1864 643.124,86.1864 645.042,86.1863 646.96,86.1863 648.878,86.1863 \n  650.797,86.1863 652.715,86.1863 654.633,86.1863 656.551,86.1863 658.469,86.1863 660.387,86.1862 662.305,86.1862 664.223,86.1862 666.141,86.1862 668.059,86.1862 \n  669.977,86.1862 671.896,86.1862 673.814,86.1862 675.732,86.1862 677.65,86.1861 679.568,86.1861 681.486,86.1861 683.404,86.1861 685.322,86.1861 687.24,86.1861 \n  689.158,86.1861 691.077,86.1861 692.995,86.1861 694.913,86.1861 696.831,86.1861 698.749,86.1861 700.667,86.186 702.585,86.186 704.503,86.186 706.421,86.186 \n  708.339,86.186 710.257,86.186 712.176,86.186 714.094,86.186 716.012,86.186 717.93,86.186 719.848,86.186 721.766,86.186 723.684,86.186 725.602,86.186 \n  727.52,86.186 729.438,86.186 731.356,86.186 733.275,86.186 735.193,86.1859 737.111,86.1859 739.029,86.1859 740.947,86.1859 742.865,86.1859 744.783,86.1859 \n  746.701,86.1859 748.619,86.1859 750.537,86.1859 752.456,86.1859 754.374,86.1859 756.292,86.1859 758.21,86.1859 760.128,86.1859 762.046,86.1859 763.964,86.1859 \n  765.882,86.1859 767.8,86.1859 769.718,86.1859 771.636,86.1859 773.555,86.1859 775.473,86.1859 777.391,86.1859 779.309,86.1859 781.227,86.1859 783.145,86.1859 \n  785.063,86.1859 786.981,86.1859 788.899,86.1859 790.817,86.1859 792.736,86.1859 794.654,86.1858 796.572,86.1858 798.49,86.1858 800.408,86.1858 802.326,86.1858 \n  804.244,86.1858 806.162,86.1858 808.08,86.1858 809.998,86.1858 811.916,86.1858 813.835,86.1858 815.753,86.1858 817.671,86.1858 819.589,86.1858 821.507,86.1858 \n  823.425,86.1858 825.343,86.1858 827.261,86.1858 829.179,86.1858 831.097,86.1858 833.016,86.1858 834.934,86.1858 836.852,86.1858 838.77,86.1858 840.688,86.1858 \n  842.606,86.1858 844.524,86.1858 846.442,86.1858 848.36,86.1858 850.278,86.1858 852.196,86.1858 854.115,86.1858 856.033,86.1858 857.951,86.1858 859.869,86.1858 \n  861.787,86.1858 863.705,86.1858 865.623,86.1858 867.541,86.1858 869.459,86.1858 871.377,86.1858 873.296,86.1858 875.214,86.1858 877.132,86.1858 879.05,86.1858 \n  880.968,86.1858 882.886,86.1858 884.804,86.1858 886.722,86.1858 888.64,86.1858 890.558,86.1858 892.476,86.1858 894.395,86.1858 896.313,86.1858 898.231,86.1858 \n  900.149,86.1858 902.067,86.1858 903.985,86.1858 905.903,86.1858 907.821,86.1858 909.739,86.1858 911.657,86.1858 913.576,86.1858 915.494,86.1858 917.412,86.1858 \n  919.33,86.1858 921.248,86.1858 923.166,86.1858 925.084,86.1858 927.002,86.1858 928.92,86.1858 930.838,86.1858 932.756,86.1858 934.675,86.1858 936.593,86.1858 \n  938.511,86.1858 940.429,86.1858 942.347,86.1858 944.265,86.1858 946.183,86.1858 948.101,86.1858 950.019,86.1858 951.937,86.1858 953.856,86.1858 955.774,86.1857 \n  957.692,86.1857 959.61,86.1857 961.528,86.1857 963.446,86.1857 965.364,86.1857 967.282,86.1857 969.2,86.1857 971.118,86.1857 973.036,86.1857 974.955,86.1857 \n  976.873,86.1857 978.791,86.1857 980.709,86.1857 982.627,86.1857 984.545,86.1857 986.463,86.1857 988.381,86.1857 990.299,86.1857 992.217,86.1857 994.135,86.1857 \n  996.054,86.1857 997.972,86.1857 999.89,86.1857 1001.81,86.1857 1003.73,86.1857 1005.64,86.1857 1007.56,86.1857 1009.48,86.1857 1011.4,86.1857 1013.32,86.1857 \n  1015.23,86.1857 1017.15,86.1857 1019.07,86.1857 1020.99,86.1857 1022.91,86.1857 1024.83,86.1857 1026.74,86.1857 1028.66,86.1857 1030.58,86.1857 1032.5,86.1857 \n  1034.42,86.1857 1036.33,86.1857 1038.25,86.1857 1040.17,86.1857 1042.09,86.1857 1044.01,86.1857 1045.92,86.1857 1047.84,86.1857 1049.76,86.1857 1051.68,86.1857 \n  1053.6,86.1857 1055.51,86.1857 1057.43,86.1857 1059.35,86.1857 1061.27,86.1857 1063.19,86.1857 1065.11,86.1857 1067.02,86.1857 1068.94,86.1857 1070.86,86.1857 \n  1072.78,86.1857 1074.7,86.1857 1076.61,86.1857 1078.53,86.1857 1080.45,86.1857 1082.37,86.1857 1084.29,86.1857 1086.2,86.1857 1088.12,86.1857 1090.04,86.1857 \n  1091.96,86.1857 1093.88,86.1857 1095.79,86.1857 1097.71,86.1858 1099.63,86.1858 1101.55,86.1858 1103.47,86.1858 1105.38,86.1858 1107.3,86.1858 1109.22,86.1858 \n  1111.14,86.1858 1113.06,86.1858 1114.98,86.1858 1116.89,86.1858 1118.81,86.1858 1120.73,86.1858 1122.65,86.1858 1124.57,86.1858 1126.48,86.1858 1128.4,86.1858 \n  1130.32,86.1858 1132.24,86.1858 1134.16,86.1858 1136.07,86.1858 1137.99,86.1858 1139.91,86.1858 1141.83,86.1858 1143.75,86.1858 1145.66,86.1858 1147.58,86.1859 \n  1149.5,86.1859 1151.42,86.1859 1153.34,86.1859 1155.26,86.1859 1157.17,86.186 1159.09,86.186 1161.01,86.1861 1162.93,86.1863 1164.85,86.1868 1166.76,120.325 \n  \n  \"/>\n<polyline clip-path=\"url(#clip872)\" style=\"stroke:#e26f46; stroke-linecap:butt; stroke-linejoin:round; stroke-width:4; stroke-opacity:1; fill:none\" points=\"\n  401.444,391.112 403.362,124.357 405.28,97.512 407.198,90.9709 409.117,88.6393 411.035,87.6077 412.953,87.0825 414.871,86.7873 416.789,86.6089 418.707,86.4946 \n  420.625,86.4181 422.543,86.365 424.461,86.3269 426.379,86.2989 428.298,86.2779 430.216,86.2618 432.134,86.2492 434.052,86.2393 435.97,86.2313 437.888,86.2249 \n  439.806,86.2196 441.724,86.2152 443.642,86.2116 445.56,86.2085 447.478,86.2059 449.397,86.2037 451.315,86.2018 453.233,86.2001 455.151,86.1987 457.069,86.1975 \n  458.987,86.1964 460.905,86.1954 462.823,86.1946 464.741,86.1938 466.659,86.1932 468.577,86.1926 470.496,86.192 472.414,86.1915 474.332,86.1911 476.25,86.1907 \n  478.168,86.1904 480.086,86.1901 482.004,86.1898 483.922,86.1895 485.84,86.1893 487.758,86.189 489.677,86.1888 491.595,86.1886 493.513,86.1885 495.431,86.1883 \n  497.349,86.1882 499.267,86.188 501.185,86.1879 503.103,86.1878 505.021,86.1877 506.939,86.1876 508.857,86.1875 510.776,86.1874 512.694,86.1873 514.612,86.1872 \n  516.53,86.1871 518.448,86.1871 520.366,86.187 522.284,86.187 524.202,86.1869 526.12,86.1868 528.038,86.1868 529.957,86.1867 531.875,86.1867 533.793,86.1867 \n  535.711,86.1866 537.629,86.1866 539.547,86.1865 541.465,86.1865 543.383,86.1865 545.301,86.1865 547.219,86.1864 549.137,86.1864 551.056,86.1864 552.974,86.1863 \n  554.892,86.1863 556.81,86.1863 558.728,86.1863 560.646,86.1863 562.564,86.1862 564.482,86.1862 566.4,86.1862 568.318,86.1862 570.237,86.1862 572.155,86.1862 \n  574.073,86.1861 575.991,86.1861 577.909,86.1861 579.827,86.1861 581.745,86.1861 583.663,86.1861 585.581,86.1861 587.499,86.186 589.417,86.186 591.336,86.186 \n  593.254,86.186 595.172,86.186 597.09,86.186 599.008,86.186 600.926,86.186 602.844,86.186 604.762,86.186 606.68,86.186 608.598,86.186 610.517,86.1859 \n  612.435,86.1859 614.353,86.1859 616.271,86.1859 618.189,86.1859 620.107,86.1859 622.025,86.1859 623.943,86.1859 625.861,86.1859 627.779,86.1859 629.697,86.1859 \n  631.616,86.1859 633.534,86.1859 635.452,86.1859 637.37,86.1859 639.288,86.1859 641.206,86.1859 643.124,86.1859 645.042,86.1859 646.96,86.1858 648.878,86.1858 \n  650.797,86.1858 652.715,86.1858 654.633,86.1858 656.551,86.1858 658.469,86.1858 660.387,86.1858 662.305,86.1858 664.223,86.1858 666.141,86.1858 668.059,86.1858 \n  669.977,86.1858 671.896,86.1858 673.814,86.1858 675.732,86.1858 677.65,86.1858 679.568,86.1858 681.486,86.1858 683.404,86.1858 685.322,86.1858 687.24,86.1858 \n  689.158,86.1858 691.077,86.1858 692.995,86.1858 694.913,86.1858 696.831,86.1858 698.749,86.1858 700.667,86.1858 702.585,86.1858 704.503,86.1858 706.421,86.1858 \n  708.339,86.1858 710.257,86.1858 712.176,86.1858 714.094,86.1858 716.012,86.1858 717.93,86.1858 719.848,86.1858 721.766,86.1858 723.684,86.1858 725.602,86.1858 \n  727.52,86.1858 729.438,86.1858 731.356,86.1858 733.275,86.1857 735.193,86.1857 737.111,86.1857 739.029,86.1857 740.947,86.1857 742.865,86.1857 744.783,86.1857 \n  746.701,86.1857 748.619,86.1857 750.537,86.1857 752.456,86.1857 754.374,86.1857 756.292,86.1857 758.21,86.1857 760.128,86.1857 762.046,86.1857 763.964,86.1857 \n  765.882,86.1857 767.8,86.1857 769.718,86.1857 771.636,86.1857 773.555,86.1857 775.473,86.1857 777.391,86.1857 779.309,86.1857 781.227,86.1857 783.145,86.1857 \n  785.063,86.1857 786.981,86.1857 788.899,86.1857 790.817,86.1857 792.736,86.1857 794.654,86.1857 796.572,86.1857 798.49,86.1857 800.408,86.1857 802.326,86.1857 \n  804.244,86.1857 806.162,86.1857 808.08,86.1857 809.998,86.1857 811.916,86.1857 813.835,86.1857 815.753,86.1857 817.671,86.1857 819.589,86.1857 821.507,86.1857 \n  823.425,86.1857 825.343,86.1857 827.261,86.1857 829.179,86.1857 831.097,86.1857 833.016,86.1857 834.934,86.1857 836.852,86.1857 838.77,86.1857 840.688,86.1857 \n  842.606,86.1857 844.524,86.1857 846.442,86.1857 848.36,86.1857 850.278,86.1857 852.196,86.1857 854.115,86.1857 856.033,86.1857 857.951,86.1857 859.869,86.1857 \n  861.787,86.1857 863.705,86.1857 865.623,86.1857 867.541,86.1857 869.459,86.1857 871.377,86.1857 873.296,86.1857 875.214,86.1857 877.132,86.1857 879.05,86.1857 \n  880.968,86.1857 882.886,86.1857 884.804,86.1857 886.722,86.1857 888.64,86.1857 890.558,86.1857 892.476,86.1857 894.395,86.1857 896.313,86.1857 898.231,86.1857 \n  900.149,86.1857 902.067,86.1857 903.985,86.1857 905.903,86.1857 907.821,86.1857 909.739,86.1857 911.657,86.1857 913.576,86.1857 915.494,86.1857 917.412,86.1857 \n  919.33,86.1857 921.248,86.1857 923.166,86.1857 925.084,86.1857 927.002,86.1857 928.92,86.1857 930.838,86.1857 932.756,86.1857 934.675,86.1857 936.593,86.1857 \n  938.511,86.1857 940.429,86.1857 942.347,86.1857 944.265,86.1857 946.183,86.1857 948.101,86.1857 950.019,86.1857 951.937,86.1857 953.856,86.1857 955.774,86.1857 \n  957.692,86.1857 959.61,86.1857 961.528,86.1857 963.446,86.1857 965.364,86.1857 967.282,86.1857 969.2,86.1857 971.118,86.1857 973.036,86.1857 974.955,86.1857 \n  976.873,86.1857 978.791,86.1857 980.709,86.1857 982.627,86.1857 984.545,86.1857 986.463,86.1857 988.381,86.1857 990.299,86.1857 992.217,86.1857 994.135,86.1857 \n  996.054,86.1857 997.972,86.1857 999.89,86.1857 1001.81,86.1857 1003.73,86.1857 1005.64,86.1857 1007.56,86.1857 1009.48,86.1857 1011.4,86.1857 1013.32,86.1857 \n  1015.23,86.1857 1017.15,86.1857 1019.07,86.1857 1020.99,86.1857 1022.91,86.1857 1024.83,86.1857 1026.74,86.1857 1028.66,86.1857 1030.58,86.1857 1032.5,86.1857 \n  1034.42,86.1857 1036.33,86.1857 1038.25,86.1857 1040.17,86.1857 1042.09,86.1857 1044.01,86.1857 1045.92,86.1857 1047.84,86.1857 1049.76,86.1857 1051.68,86.1857 \n  1053.6,86.1857 1055.51,86.1857 1057.43,86.1857 1059.35,86.1857 1061.27,86.1857 1063.19,86.1857 1065.11,86.1857 1067.02,86.1857 1068.94,86.1857 1070.86,86.1857 \n  1072.78,86.1857 1074.7,86.1857 1076.61,86.1857 1078.53,86.1857 1080.45,86.1857 1082.37,86.1857 1084.29,86.1857 1086.2,86.1857 1088.12,86.1857 1090.04,86.1857 \n  1091.96,86.1857 1093.88,86.1857 1095.79,86.1857 1097.71,86.1857 1099.63,86.1857 1101.55,86.1857 1103.47,86.1857 1105.38,86.1857 1107.3,86.1857 1109.22,86.1857 \n  1111.14,86.1857 1113.06,86.1857 1114.98,86.1857 1116.89,86.1857 1118.81,86.1857 1120.73,86.1857 1122.65,86.1857 1124.57,86.1857 1126.48,86.1857 1128.4,86.1857 \n  1130.32,86.1857 1132.24,86.1857 1134.16,86.1857 1136.07,86.1857 1137.99,86.1857 1139.91,86.1857 1141.83,86.1857 1143.75,86.1857 1145.66,86.1857 1147.58,86.1858 \n  1149.5,86.1858 1151.42,86.1858 1153.34,86.1858 1155.26,86.1858 1157.17,86.1858 1159.09,86.1858 1161.01,86.1859 1162.93,86.1859 1164.85,86.1861 1166.76,90.4836 \n  \n  \"/>\n<polyline clip-path=\"url(#clip872)\" style=\"stroke:#3da44d; stroke-linecap:butt; stroke-linejoin:round; stroke-width:4; stroke-opacity:1; fill:none\" points=\"\n  401.444,205.874 403.362,101.176 405.28,90.6362 407.198,88.067 409.117,87.1508 411.035,86.7453 412.953,86.5388 414.871,86.4227 416.789,86.3525 418.707,86.3075 \n  420.625,86.2774 422.543,86.2565 424.461,86.2415 426.379,86.2304 428.298,86.2221 430.216,86.2158 432.134,86.2108 434.052,86.2069 435.97,86.2038 437.888,86.2012 \n  439.806,86.1991 441.724,86.1974 443.642,86.196 445.56,86.1947 447.478,86.1937 449.397,86.1928 451.315,86.1921 453.233,86.1914 455.151,86.1909 457.069,86.1904 \n  458.987,86.1899 460.905,86.1896 462.823,86.1892 464.741,86.1889 466.659,86.1887 468.577,86.1884 470.496,86.1882 472.414,86.188 474.332,86.1879 476.25,86.1877 \n  478.168,86.1876 480.086,86.1874 482.004,86.1873 483.922,86.1872 485.84,86.1871 487.758,86.187 489.677,86.1869 491.595,86.1869 493.513,86.1868 495.431,86.1867 \n  497.349,86.1867 499.267,86.1866 501.185,86.1866 503.103,86.1865 505.021,86.1865 506.939,86.1864 508.857,86.1864 510.776,86.1864 512.694,86.1863 514.612,86.1863 \n  516.53,86.1863 518.448,86.1862 520.366,86.1862 522.284,86.1862 524.202,86.1862 526.12,86.1861 528.038,86.1861 529.957,86.1861 531.875,86.1861 533.793,86.1861 \n  535.711,86.1861 537.629,86.186 539.547,86.186 541.465,86.186 543.383,86.186 545.301,86.186 547.219,86.186 549.137,86.186 551.056,86.186 552.974,86.1859 \n  554.892,86.1859 556.81,86.1859 558.728,86.1859 560.646,86.1859 562.564,86.1859 564.482,86.1859 566.4,86.1859 568.318,86.1859 570.237,86.1859 572.155,86.1859 \n  574.073,86.1859 575.991,86.1859 577.909,86.1858 579.827,86.1858 581.745,86.1858 583.663,86.1858 585.581,86.1858 587.499,86.1858 589.417,86.1858 591.336,86.1858 \n  593.254,86.1858 595.172,86.1858 597.09,86.1858 599.008,86.1858 600.926,86.1858 602.844,86.1858 604.762,86.1858 606.68,86.1858 608.598,86.1858 610.517,86.1858 \n  612.435,86.1858 614.353,86.1858 616.271,86.1858 618.189,86.1858 620.107,86.1858 622.025,86.1858 623.943,86.1858 625.861,86.1858 627.779,86.1858 629.697,86.1858 \n  631.616,86.1858 633.534,86.1858 635.452,86.1858 637.37,86.1858 639.288,86.1857 641.206,86.1857 643.124,86.1857 645.042,86.1857 646.96,86.1857 648.878,86.1857 \n  650.797,86.1857 652.715,86.1857 654.633,86.1857 656.551,86.1857 658.469,86.1857 660.387,86.1857 662.305,86.1857 664.223,86.1857 666.141,86.1857 668.059,86.1857 \n  669.977,86.1857 671.896,86.1857 673.814,86.1857 675.732,86.1857 677.65,86.1857 679.568,86.1857 681.486,86.1857 683.404,86.1857 685.322,86.1857 687.24,86.1857 \n  689.158,86.1857 691.077,86.1857 692.995,86.1857 694.913,86.1857 696.831,86.1857 698.749,86.1857 700.667,86.1857 702.585,86.1857 704.503,86.1857 706.421,86.1857 \n  708.339,86.1857 710.257,86.1857 712.176,86.1857 714.094,86.1857 716.012,86.1857 717.93,86.1857 719.848,86.1857 721.766,86.1857 723.684,86.1857 725.602,86.1857 \n  727.52,86.1857 729.438,86.1857 731.356,86.1857 733.275,86.1857 735.193,86.1857 737.111,86.1857 739.029,86.1857 740.947,86.1857 742.865,86.1857 744.783,86.1857 \n  746.701,86.1857 748.619,86.1857 750.537,86.1857 752.456,86.1857 754.374,86.1857 756.292,86.1857 758.21,86.1857 760.128,86.1857 762.046,86.1857 763.964,86.1857 \n  765.882,86.1857 767.8,86.1857 769.718,86.1857 771.636,86.1857 773.555,86.1857 775.473,86.1857 777.391,86.1857 779.309,86.1857 781.227,86.1857 783.145,86.1857 \n  785.063,86.1857 786.981,86.1857 788.899,86.1857 790.817,86.1857 792.736,86.1857 794.654,86.1857 796.572,86.1857 798.49,86.1857 800.408,86.1857 802.326,86.1857 \n  804.244,86.1857 806.162,86.1857 808.08,86.1857 809.998,86.1857 811.916,86.1857 813.835,86.1857 815.753,86.1857 817.671,86.1857 819.589,86.1857 821.507,86.1857 \n  823.425,86.1857 825.343,86.1857 827.261,86.1857 829.179,86.1857 831.097,86.1857 833.016,86.1857 834.934,86.1857 836.852,86.1857 838.77,86.1857 840.688,86.1857 \n  842.606,86.1857 844.524,86.1857 846.442,86.1857 848.36,86.1857 850.278,86.1857 852.196,86.1857 854.115,86.1857 856.033,86.1857 857.951,86.1857 859.869,86.1857 \n  861.787,86.1857 863.705,86.1857 865.623,86.1857 867.541,86.1857 869.459,86.1857 871.377,86.1857 873.296,86.1857 875.214,86.1857 877.132,86.1857 879.05,86.1857 \n  880.968,86.1857 882.886,86.1857 884.804,86.1857 886.722,86.1857 888.64,86.1857 890.558,86.1857 892.476,86.1857 894.395,86.1857 896.313,86.1857 898.231,86.1857 \n  900.149,86.1857 902.067,86.1857 903.985,86.1857 905.903,86.1857 907.821,86.1857 909.739,86.1857 911.657,86.1857 913.576,86.1857 915.494,86.1857 917.412,86.1857 \n  919.33,86.1857 921.248,86.1857 923.166,86.1857 925.084,86.1857 927.002,86.1857 928.92,86.1857 930.838,86.1857 932.756,86.1857 934.675,86.1857 936.593,86.1857 \n  938.511,86.1857 940.429,86.1857 942.347,86.1857 944.265,86.1857 946.183,86.1857 948.101,86.1857 950.019,86.1857 951.937,86.1857 953.856,86.1857 955.774,86.1857 \n  957.692,86.1857 959.61,86.1857 961.528,86.1857 963.446,86.1857 965.364,86.1857 967.282,86.1857 969.2,86.1857 971.118,86.1857 973.036,86.1857 974.955,86.1857 \n  976.873,86.1857 978.791,86.1857 980.709,86.1857 982.627,86.1857 984.545,86.1857 986.463,86.1857 988.381,86.1857 990.299,86.1857 992.217,86.1857 994.135,86.1857 \n  996.054,86.1857 997.972,86.1857 999.89,86.1857 1001.81,86.1857 1003.73,86.1857 1005.64,86.1857 1007.56,86.1857 1009.48,86.1857 1011.4,86.1857 1013.32,86.1857 \n  1015.23,86.1857 1017.15,86.1857 1019.07,86.1857 1020.99,86.1857 1022.91,86.1857 1024.83,86.1857 1026.74,86.1857 1028.66,86.1857 1030.58,86.1857 1032.5,86.1857 \n  1034.42,86.1857 1036.33,86.1857 1038.25,86.1857 1040.17,86.1857 1042.09,86.1857 1044.01,86.1857 1045.92,86.1857 1047.84,86.1857 1049.76,86.1857 1051.68,86.1857 \n  1053.6,86.1857 1055.51,86.1857 1057.43,86.1857 1059.35,86.1857 1061.27,86.1857 1063.19,86.1857 1065.11,86.1857 1067.02,86.1857 1068.94,86.1857 1070.86,86.1857 \n  1072.78,86.1857 1074.7,86.1857 1076.61,86.1857 1078.53,86.1857 1080.45,86.1857 1082.37,86.1857 1084.29,86.1857 1086.2,86.1857 1088.12,86.1857 1090.04,86.1857 \n  1091.96,86.1857 1093.88,86.1857 1095.79,86.1857 1097.71,86.1857 1099.63,86.1857 1101.55,86.1857 1103.47,86.1857 1105.38,86.1857 1107.3,86.1857 1109.22,86.1857 \n  1111.14,86.1857 1113.06,86.1857 1114.98,86.1857 1116.89,86.1857 1118.81,86.1857 1120.73,86.1857 1122.65,86.1857 1124.57,86.1857 1126.48,86.1857 1128.4,86.1857 \n  1130.32,86.1857 1132.24,86.1857 1134.16,86.1857 1136.07,86.1857 1137.99,86.1857 1139.91,86.1857 1141.83,86.1857 1143.75,86.1857 1145.66,86.1857 1147.58,86.1857 \n  1149.5,86.1857 1151.42,86.1857 1153.34,86.1857 1155.26,86.1857 1157.17,86.1857 1159.09,86.1857 1161.01,86.1858 1162.93,86.1858 1164.85,86.1859 1166.76,86.7267 \n  \n  \"/>\n<polyline clip-path=\"url(#clip872)\" style=\"stroke:#c271d2; stroke-linecap:butt; stroke-linejoin:round; stroke-width:4; stroke-opacity:1; fill:none\" points=\"\n  401.444,141.31 403.362,93.0901 405.28,88.2356 407.198,87.0522 409.117,86.6303 411.035,86.4435 412.953,86.3484 414.871,86.2949 416.789,86.2625 418.707,86.2418 \n  420.625,86.2279 422.543,86.2183 424.461,86.2114 426.379,86.2063 428.298,86.2025 430.216,86.1995 432.134,86.1973 434.052,86.1955 435.97,86.194 437.888,86.1928 \n  439.806,86.1919 441.724,86.1911 443.642,86.1904 445.56,86.1898 447.478,86.1894 449.397,86.189 451.315,86.1886 453.233,86.1883 455.151,86.1881 457.069,86.1878 \n  458.987,86.1876 460.905,86.1875 462.823,86.1873 464.741,86.1872 466.659,86.187 468.577,86.1869 470.496,86.1868 472.414,86.1868 474.332,86.1867 476.25,86.1866 \n  478.168,86.1865 480.086,86.1865 482.004,86.1864 483.922,86.1864 485.84,86.1863 487.758,86.1863 489.677,86.1863 491.595,86.1862 493.513,86.1862 495.431,86.1862 \n  497.349,86.1861 499.267,86.1861 501.185,86.1861 503.103,86.1861 505.021,86.186 506.939,86.186 508.857,86.186 510.776,86.186 512.694,86.186 514.612,86.186 \n  516.53,86.1859 518.448,86.1859 520.366,86.1859 522.284,86.1859 524.202,86.1859 526.12,86.1859 528.038,86.1859 529.957,86.1859 531.875,86.1859 533.793,86.1859 \n  535.711,86.1858 537.629,86.1858 539.547,86.1858 541.465,86.1858 543.383,86.1858 545.301,86.1858 547.219,86.1858 549.137,86.1858 551.056,86.1858 552.974,86.1858 \n  554.892,86.1858 556.81,86.1858 558.728,86.1858 560.646,86.1858 562.564,86.1858 564.482,86.1858 566.4,86.1858 568.318,86.1858 570.237,86.1858 572.155,86.1858 \n  574.073,86.1858 575.991,86.1858 577.909,86.1858 579.827,86.1857 581.745,86.1857 583.663,86.1857 585.581,86.1857 587.499,86.1857 589.417,86.1857 591.336,86.1857 \n  593.254,86.1857 595.172,86.1857 597.09,86.1857 599.008,86.1857 600.926,86.1857 602.844,86.1857 604.762,86.1857 606.68,86.1857 608.598,86.1857 610.517,86.1857 \n  612.435,86.1857 614.353,86.1857 616.271,86.1857 618.189,86.1857 620.107,86.1857 622.025,86.1857 623.943,86.1857 625.861,86.1857 627.779,86.1857 629.697,86.1857 \n  631.616,86.1857 633.534,86.1857 635.452,86.1857 637.37,86.1857 639.288,86.1857 641.206,86.1857 643.124,86.1857 645.042,86.1857 646.96,86.1857 648.878,86.1857 \n  650.797,86.1857 652.715,86.1857 654.633,86.1857 656.551,86.1857 658.469,86.1857 660.387,86.1857 662.305,86.1857 664.223,86.1857 666.141,86.1857 668.059,86.1857 \n  669.977,86.1857 671.896,86.1857 673.814,86.1857 675.732,86.1857 677.65,86.1857 679.568,86.1857 681.486,86.1857 683.404,86.1857 685.322,86.1857 687.24,86.1857 \n  689.158,86.1857 691.077,86.1857 692.995,86.1857 694.913,86.1857 696.831,86.1857 698.749,86.1857 700.667,86.1857 702.585,86.1857 704.503,86.1857 706.421,86.1857 \n  708.339,86.1857 710.257,86.1857 712.176,86.1857 714.094,86.1857 716.012,86.1857 717.93,86.1857 719.848,86.1857 721.766,86.1857 723.684,86.1857 725.602,86.1857 \n  727.52,86.1857 729.438,86.1857 731.356,86.1857 733.275,86.1857 735.193,86.1857 737.111,86.1857 739.029,86.1857 740.947,86.1857 742.865,86.1857 744.783,86.1857 \n  746.701,86.1857 748.619,86.1857 750.537,86.1857 752.456,86.1857 754.374,86.1857 756.292,86.1857 758.21,86.1857 760.128,86.1857 762.046,86.1857 763.964,86.1857 \n  765.882,86.1857 767.8,86.1857 769.718,86.1857 771.636,86.1857 773.555,86.1857 775.473,86.1857 777.391,86.1857 779.309,86.1857 781.227,86.1857 783.145,86.1857 \n  785.063,86.1857 786.981,86.1857 788.899,86.1857 790.817,86.1857 792.736,86.1857 794.654,86.1857 796.572,86.1857 798.49,86.1857 800.408,86.1857 802.326,86.1857 \n  804.244,86.1857 806.162,86.1857 808.08,86.1857 809.998,86.1857 811.916,86.1857 813.835,86.1857 815.753,86.1857 817.671,86.1857 819.589,86.1857 821.507,86.1857 \n  823.425,86.1857 825.343,86.1857 827.261,86.1857 829.179,86.1857 831.097,86.1857 833.016,86.1857 834.934,86.1857 836.852,86.1857 838.77,86.1857 840.688,86.1857 \n  842.606,86.1857 844.524,86.1857 846.442,86.1857 848.36,86.1857 850.278,86.1857 852.196,86.1857 854.115,86.1857 856.033,86.1857 857.951,86.1857 859.869,86.1857 \n  861.787,86.1857 863.705,86.1857 865.623,86.1857 867.541,86.1857 869.459,86.1857 871.377,86.1857 873.296,86.1857 875.214,86.1857 877.132,86.1857 879.05,86.1857 \n  880.968,86.1857 882.886,86.1857 884.804,86.1857 886.722,86.1857 888.64,86.1857 890.558,86.1857 892.476,86.1857 894.395,86.1857 896.313,86.1857 898.231,86.1857 \n  900.149,86.1857 902.067,86.1857 903.985,86.1857 905.903,86.1857 907.821,86.1857 909.739,86.1857 911.657,86.1857 913.576,86.1857 915.494,86.1857 917.412,86.1857 \n  919.33,86.1857 921.248,86.1857 923.166,86.1857 925.084,86.1857 927.002,86.1857 928.92,86.1857 930.838,86.1857 932.756,86.1857 934.675,86.1857 936.593,86.1857 \n  938.511,86.1857 940.429,86.1857 942.347,86.1857 944.265,86.1857 946.183,86.1857 948.101,86.1857 950.019,86.1857 951.937,86.1857 953.856,86.1857 955.774,86.1857 \n  957.692,86.1857 959.61,86.1857 961.528,86.1857 963.446,86.1857 965.364,86.1857 967.282,86.1857 969.2,86.1857 971.118,86.1857 973.036,86.1857 974.955,86.1857 \n  976.873,86.1857 978.791,86.1857 980.709,86.1857 982.627,86.1857 984.545,86.1857 986.463,86.1857 988.381,86.1857 990.299,86.1857 992.217,86.1857 994.135,86.1857 \n  996.054,86.1857 997.972,86.1857 999.89,86.1857 1001.81,86.1857 1003.73,86.1857 1005.64,86.1857 1007.56,86.1857 1009.48,86.1857 1011.4,86.1857 1013.32,86.1857 \n  1015.23,86.1857 1017.15,86.1857 1019.07,86.1857 1020.99,86.1857 1022.91,86.1857 1024.83,86.1857 1026.74,86.1857 1028.66,86.1857 1030.58,86.1857 1032.5,86.1857 \n  1034.42,86.1857 1036.33,86.1857 1038.25,86.1857 1040.17,86.1857 1042.09,86.1857 1044.01,86.1857 1045.92,86.1857 1047.84,86.1857 1049.76,86.1857 1051.68,86.1857 \n  1053.6,86.1857 1055.51,86.1857 1057.43,86.1857 1059.35,86.1857 1061.27,86.1857 1063.19,86.1857 1065.11,86.1857 1067.02,86.1857 1068.94,86.1857 1070.86,86.1857 \n  1072.78,86.1857 1074.7,86.1857 1076.61,86.1857 1078.53,86.1857 1080.45,86.1857 1082.37,86.1857 1084.29,86.1857 1086.2,86.1857 1088.12,86.1857 1090.04,86.1857 \n  1091.96,86.1857 1093.88,86.1857 1095.79,86.1857 1097.71,86.1857 1099.63,86.1857 1101.55,86.1857 1103.47,86.1857 1105.38,86.1857 1107.3,86.1857 1109.22,86.1857 \n  1111.14,86.1857 1113.06,86.1857 1114.98,86.1857 1116.89,86.1857 1118.81,86.1857 1120.73,86.1857 1122.65,86.1857 1124.57,86.1857 1126.48,86.1857 1128.4,86.1857 \n  1130.32,86.1857 1132.24,86.1857 1134.16,86.1857 1136.07,86.1857 1137.99,86.1857 1139.91,86.1857 1141.83,86.1857 1143.75,86.1857 1145.66,86.1857 1147.58,86.1857 \n  1149.5,86.1857 1151.42,86.1857 1153.34,86.1857 1155.26,86.1857 1157.17,86.1857 1159.09,86.1857 1161.01,86.1857 1162.93,86.1857 1164.85,86.1857 1166.76,86.2538 \n  \n  \"/>\n<path clip-path=\"url(#clip870)\" d=\"\nM757.395 352.309 L1162.67 352.309 L1162.67 93.1086 L757.395 93.1086  Z\n  \" fill=\"#ffffff\" fill-rule=\"evenodd\" fill-opacity=\"1\"/>\n<polyline clip-path=\"url(#clip870)\" style=\"stroke:#000000; stroke-linecap:butt; stroke-linejoin:round; stroke-width:4; stroke-opacity:1; fill:none\" points=\"\n  757.395,352.309 1162.67,352.309 1162.67,93.1086 757.395,93.1086 757.395,352.309 \n  \"/>\n<polyline clip-path=\"url(#clip870)\" style=\"stroke:#009af9; stroke-linecap:butt; stroke-linejoin:round; stroke-width:4; stroke-opacity:1; fill:none\" points=\"\n  781.395,144.949 925.395,144.949 \n  \"/>\n<path clip-path=\"url(#clip870)\" d=\"M949.395 126.21 L953.678 126.21 L953.678 147.483 L966.386 136.303 L971.826 136.303 L958.076 148.432 L972.404 162.229 L966.849 162.229 L953.678 149.567 L953.678 162.229 L949.395 162.229 L949.395 126.21 Z\" fill=\"#000000\" fill-rule=\"evenodd\" fill-opacity=\"1\" /><path clip-path=\"url(#clip870)\" d=\"M977.566 140.701 L1007.24 140.701 L1007.24 144.59 L977.566 144.59 L977.566 140.701 M977.566 150.145 L1007.24 150.145 L1007.24 154.081 L977.566 154.081 L977.566 150.145 Z\" fill=\"#000000\" fill-rule=\"evenodd\" fill-opacity=\"1\" /><path clip-path=\"url(#clip870)\" d=\"M1027.33 130.747 Q1023.72 130.747 1021.89 134.312 Q1020.09 137.854 1020.09 144.983 Q1020.09 152.09 1021.89 155.655 Q1023.72 159.196 1027.33 159.196 Q1030.97 159.196 1032.77 155.655 Q1034.6 152.09 1034.6 144.983 Q1034.6 137.854 1032.77 134.312 Q1030.97 130.747 1027.33 130.747 M1027.33 127.044 Q1033.14 127.044 1036.2 131.65 Q1039.28 136.233 1039.28 144.983 Q1039.28 153.71 1036.2 158.317 Q1033.14 162.9 1027.33 162.9 Q1021.52 162.9 1018.45 158.317 Q1015.39 153.71 1015.39 144.983 Q1015.39 136.233 1018.45 131.65 Q1021.52 127.044 1027.33 127.044 Z\" fill=\"#000000\" fill-rule=\"evenodd\" fill-opacity=\"1\" /><path clip-path=\"url(#clip870)\" d=\"M1047.5 156.349 L1052.38 156.349 L1052.38 162.229 L1047.5 162.229 L1047.5 156.349 Z\" fill=\"#000000\" fill-rule=\"evenodd\" fill-opacity=\"1\" /><path clip-path=\"url(#clip870)\" d=\"M1072.57 130.747 Q1068.95 130.747 1067.13 134.312 Q1065.32 137.854 1065.32 144.983 Q1065.32 152.09 1067.13 155.655 Q1068.95 159.196 1072.57 159.196 Q1076.2 159.196 1078.01 155.655 Q1079.83 152.09 1079.83 144.983 Q1079.83 137.854 1078.01 134.312 Q1076.2 130.747 1072.57 130.747 M1072.57 127.044 Q1078.38 127.044 1081.43 131.65 Q1084.51 136.233 1084.51 144.983 Q1084.51 153.71 1081.43 158.317 Q1078.38 162.9 1072.57 162.9 Q1066.76 162.9 1063.68 158.317 Q1060.62 153.71 1060.62 144.983 Q1060.62 136.233 1063.68 131.65 Q1066.76 127.044 1072.57 127.044 Z\" fill=\"#000000\" fill-rule=\"evenodd\" fill-opacity=\"1\" /><path clip-path=\"url(#clip870)\" d=\"M1106.89 143.594 Q1110.25 144.312 1112.13 146.581 Q1114.02 148.849 1114.02 152.182 Q1114.02 157.298 1110.51 160.099 Q1106.99 162.9 1100.51 162.9 Q1098.33 162.9 1096.01 162.46 Q1093.72 162.043 1091.27 161.187 L1091.27 156.673 Q1093.21 157.807 1095.53 158.386 Q1097.84 158.965 1100.37 158.965 Q1104.76 158.965 1107.06 157.229 Q1109.37 155.493 1109.37 152.182 Q1109.37 149.127 1107.22 147.414 Q1105.09 145.678 1101.27 145.678 L1097.24 145.678 L1097.24 141.835 L1101.45 141.835 Q1104.9 141.835 1106.73 140.469 Q1108.56 139.081 1108.56 136.488 Q1108.56 133.826 1106.66 132.414 Q1104.79 130.979 1101.27 130.979 Q1099.35 130.979 1097.15 131.395 Q1094.95 131.812 1092.31 132.692 L1092.31 128.525 Q1094.97 127.784 1097.29 127.414 Q1099.63 127.044 1101.69 127.044 Q1107.01 127.044 1110.11 129.474 Q1113.21 131.882 1113.21 136.002 Q1113.21 138.872 1111.57 140.863 Q1109.93 142.831 1106.89 143.594 Z\" fill=\"#000000\" fill-rule=\"evenodd\" fill-opacity=\"1\" /><polyline clip-path=\"url(#clip870)\" style=\"stroke:#e26f46; stroke-linecap:butt; stroke-linejoin:round; stroke-width:4; stroke-opacity:1; fill:none\" points=\"\n  781.395,196.789 925.395,196.789 \n  \"/>\n<path clip-path=\"url(#clip870)\" d=\"M949.395 178.05 L953.678 178.05 L953.678 199.323 L966.386 188.143 L971.826 188.143 L958.076 200.272 L972.404 214.069 L966.849 214.069 L953.678 201.407 L953.678 214.069 L949.395 214.069 L949.395 178.05 Z\" fill=\"#000000\" fill-rule=\"evenodd\" fill-opacity=\"1\" /><path clip-path=\"url(#clip870)\" d=\"M977.566 192.541 L1007.24 192.541 L1007.24 196.43 L977.566 196.43 L977.566 192.541 M977.566 201.985 L1007.24 201.985 L1007.24 205.921 L977.566 205.921 L977.566 201.985 Z\" fill=\"#000000\" fill-rule=\"evenodd\" fill-opacity=\"1\" /><path clip-path=\"url(#clip870)\" d=\"M1027.33 182.587 Q1023.72 182.587 1021.89 186.152 Q1020.09 189.694 1020.09 196.823 Q1020.09 203.93 1021.89 207.495 Q1023.72 211.036 1027.33 211.036 Q1030.97 211.036 1032.77 207.495 Q1034.6 203.93 1034.6 196.823 Q1034.6 189.694 1032.77 186.152 Q1030.97 182.587 1027.33 182.587 M1027.33 178.884 Q1033.14 178.884 1036.2 183.49 Q1039.28 188.073 1039.28 196.823 Q1039.28 205.55 1036.2 210.157 Q1033.14 214.74 1027.33 214.74 Q1021.52 214.74 1018.45 210.157 Q1015.39 205.55 1015.39 196.823 Q1015.39 188.073 1018.45 183.49 Q1021.52 178.884 1027.33 178.884 Z\" fill=\"#000000\" fill-rule=\"evenodd\" fill-opacity=\"1\" /><path clip-path=\"url(#clip870)\" d=\"M1047.5 208.189 L1052.38 208.189 L1052.38 214.069 L1047.5 214.069 L1047.5 208.189 Z\" fill=\"#000000\" fill-rule=\"evenodd\" fill-opacity=\"1\" /><path clip-path=\"url(#clip870)\" d=\"M1076.73 195.434 Q1080.09 196.152 1081.96 198.421 Q1083.86 200.689 1083.86 204.022 Q1083.86 209.138 1080.34 211.939 Q1076.83 214.74 1070.34 214.74 Q1068.17 214.74 1065.85 214.3 Q1063.56 213.883 1061.11 213.027 L1061.11 208.513 Q1063.05 209.647 1065.37 210.226 Q1067.68 210.805 1070.2 210.805 Q1074.6 210.805 1076.89 209.069 Q1079.21 207.333 1079.21 204.022 Q1079.21 200.967 1077.06 199.254 Q1074.93 197.518 1071.11 197.518 L1067.08 197.518 L1067.08 193.675 L1071.29 193.675 Q1074.74 193.675 1076.57 192.309 Q1078.4 190.921 1078.4 188.328 Q1078.4 185.666 1076.5 184.254 Q1074.63 182.819 1071.11 182.819 Q1069.19 182.819 1066.99 183.235 Q1064.79 183.652 1062.15 184.532 L1062.15 180.365 Q1064.81 179.624 1067.13 179.254 Q1069.46 178.884 1071.52 178.884 Q1076.85 178.884 1079.95 181.314 Q1083.05 183.722 1083.05 187.842 Q1083.05 190.712 1081.41 192.703 Q1079.76 194.671 1076.73 195.434 Z\" fill=\"#000000\" fill-rule=\"evenodd\" fill-opacity=\"1\" /><polyline clip-path=\"url(#clip870)\" style=\"stroke:#3da44d; stroke-linecap:butt; stroke-linejoin:round; stroke-width:4; stroke-opacity:1; fill:none\" points=\"\n  781.395,248.629 925.395,248.629 \n  \"/>\n<path clip-path=\"url(#clip870)\" d=\"M949.395 229.89 L953.678 229.89 L953.678 251.163 L966.386 239.983 L971.826 239.983 L958.076 252.112 L972.404 265.909 L966.849 265.909 L953.678 253.247 L953.678 265.909 L949.395 265.909 L949.395 229.89 Z\" fill=\"#000000\" fill-rule=\"evenodd\" fill-opacity=\"1\" /><path clip-path=\"url(#clip870)\" d=\"M977.566 244.381 L1007.24 244.381 L1007.24 248.27 L977.566 248.27 L977.566 244.381 M977.566 253.825 L1007.24 253.825 L1007.24 257.761 L977.566 257.761 L977.566 253.825 Z\" fill=\"#000000\" fill-rule=\"evenodd\" fill-opacity=\"1\" /><path clip-path=\"url(#clip870)\" d=\"M1031.5 247.274 Q1034.86 247.992 1036.73 250.261 Q1038.63 252.529 1038.63 255.862 Q1038.63 260.978 1035.11 263.779 Q1031.59 266.58 1025.11 266.58 Q1022.94 266.58 1020.62 266.14 Q1018.33 265.723 1015.88 264.867 L1015.88 260.353 Q1017.82 261.487 1020.14 262.066 Q1022.45 262.645 1024.97 262.645 Q1029.37 262.645 1031.66 260.909 Q1033.98 259.173 1033.98 255.862 Q1033.98 252.807 1031.83 251.094 Q1029.7 249.358 1025.88 249.358 L1021.85 249.358 L1021.85 245.515 L1026.06 245.515 Q1029.51 245.515 1031.34 244.149 Q1033.17 242.761 1033.17 240.168 Q1033.17 237.506 1031.27 236.094 Q1029.39 234.659 1025.88 234.659 Q1023.95 234.659 1021.76 235.075 Q1019.56 235.492 1016.92 236.372 L1016.92 232.205 Q1019.58 231.464 1021.89 231.094 Q1024.23 230.724 1026.29 230.724 Q1031.62 230.724 1034.72 233.154 Q1037.82 235.562 1037.82 239.682 Q1037.82 242.552 1036.18 244.543 Q1034.53 246.511 1031.5 247.274 Z\" fill=\"#000000\" fill-rule=\"evenodd\" fill-opacity=\"1\" /><path clip-path=\"url(#clip870)\" d=\"M1047.5 260.029 L1052.38 260.029 L1052.38 265.909 L1047.5 265.909 L1047.5 260.029 Z\" fill=\"#000000\" fill-rule=\"evenodd\" fill-opacity=\"1\" /><path clip-path=\"url(#clip870)\" d=\"M1072.57 234.427 Q1068.95 234.427 1067.13 237.992 Q1065.32 241.534 1065.32 248.663 Q1065.32 255.77 1067.13 259.335 Q1068.95 262.876 1072.57 262.876 Q1076.2 262.876 1078.01 259.335 Q1079.83 255.77 1079.83 248.663 Q1079.83 241.534 1078.01 237.992 Q1076.2 234.427 1072.57 234.427 M1072.57 230.724 Q1078.38 230.724 1081.43 235.33 Q1084.51 239.913 1084.51 248.663 Q1084.51 257.39 1081.43 261.997 Q1078.38 266.58 1072.57 266.58 Q1066.76 266.58 1063.68 261.997 Q1060.62 257.39 1060.62 248.663 Q1060.62 239.913 1063.68 235.33 Q1066.76 230.724 1072.57 230.724 Z\" fill=\"#000000\" fill-rule=\"evenodd\" fill-opacity=\"1\" /><polyline clip-path=\"url(#clip870)\" style=\"stroke:#c271d2; stroke-linecap:butt; stroke-linejoin:round; stroke-width:4; stroke-opacity:1; fill:none\" points=\"\n  781.395,300.469 925.395,300.469 \n  \"/>\n<path clip-path=\"url(#clip870)\" d=\"M949.395 281.73 L953.678 281.73 L953.678 303.003 L966.386 291.823 L971.826 291.823 L958.076 303.952 L972.404 317.749 L966.849 317.749 L953.678 305.087 L953.678 317.749 L949.395 317.749 L949.395 281.73 Z\" fill=\"#000000\" fill-rule=\"evenodd\" fill-opacity=\"1\" /><path clip-path=\"url(#clip870)\" d=\"M977.566 296.221 L1007.24 296.221 L1007.24 300.11 L977.566 300.11 L977.566 296.221 M977.566 305.665 L1007.24 305.665 L1007.24 309.601 L977.566 309.601 L977.566 305.665 Z\" fill=\"#000000\" fill-rule=\"evenodd\" fill-opacity=\"1\" /><path clip-path=\"url(#clip870)\" d=\"M1031.5 299.114 Q1034.86 299.832 1036.73 302.101 Q1038.63 304.369 1038.63 307.702 Q1038.63 312.818 1035.11 315.619 Q1031.59 318.42 1025.11 318.42 Q1022.94 318.42 1020.62 317.98 Q1018.33 317.563 1015.88 316.707 L1015.88 312.193 Q1017.82 313.327 1020.14 313.906 Q1022.45 314.485 1024.97 314.485 Q1029.37 314.485 1031.66 312.749 Q1033.98 311.013 1033.98 307.702 Q1033.98 304.647 1031.83 302.934 Q1029.7 301.198 1025.88 301.198 L1021.85 301.198 L1021.85 297.355 L1026.06 297.355 Q1029.51 297.355 1031.34 295.989 Q1033.17 294.601 1033.17 292.008 Q1033.17 289.346 1031.27 287.934 Q1029.39 286.499 1025.88 286.499 Q1023.95 286.499 1021.76 286.915 Q1019.56 287.332 1016.92 288.212 L1016.92 284.045 Q1019.58 283.304 1021.89 282.934 Q1024.23 282.564 1026.29 282.564 Q1031.62 282.564 1034.72 284.994 Q1037.82 287.402 1037.82 291.522 Q1037.82 294.392 1036.18 296.383 Q1034.53 298.351 1031.5 299.114 Z\" fill=\"#000000\" fill-rule=\"evenodd\" fill-opacity=\"1\" /><path clip-path=\"url(#clip870)\" d=\"M1057.5 286.267 Q1053.89 286.267 1052.06 289.832 Q1050.25 293.374 1050.25 300.503 Q1050.25 307.61 1052.06 311.175 Q1053.89 314.716 1057.5 314.716 Q1061.13 314.716 1062.94 311.175 Q1064.76 307.61 1064.76 300.503 Q1064.76 293.374 1062.94 289.832 Q1061.13 286.267 1057.5 286.267 M1057.5 282.564 Q1063.31 282.564 1066.36 287.17 Q1069.44 291.753 1069.44 300.503 Q1069.44 309.23 1066.36 313.837 Q1063.31 318.42 1057.5 318.42 Q1051.69 318.42 1048.61 313.837 Q1045.55 309.23 1045.55 300.503 Q1045.55 291.753 1048.61 287.17 Q1051.69 282.564 1057.5 282.564 Z\" fill=\"#000000\" fill-rule=\"evenodd\" fill-opacity=\"1\" /><path clip-path=\"url(#clip870)\" d=\"M1077.66 311.869 L1082.54 311.869 L1082.54 317.749 L1077.66 317.749 L1077.66 311.869 Z\" fill=\"#000000\" fill-rule=\"evenodd\" fill-opacity=\"1\" /><path clip-path=\"url(#clip870)\" d=\"M1102.73 286.267 Q1099.12 286.267 1097.29 289.832 Q1095.48 293.374 1095.48 300.503 Q1095.48 307.61 1097.29 311.175 Q1099.12 314.716 1102.73 314.716 Q1106.36 314.716 1108.17 311.175 Q1110 307.61 1110 300.503 Q1110 293.374 1108.17 289.832 Q1106.36 286.267 1102.73 286.267 M1102.73 282.564 Q1108.54 282.564 1111.59 287.17 Q1114.67 291.753 1114.67 300.503 Q1114.67 309.23 1111.59 313.837 Q1108.54 318.42 1102.73 318.42 Q1096.92 318.42 1093.84 313.837 Q1090.78 309.23 1090.78 300.503 Q1090.78 291.753 1093.84 287.17 Q1096.92 282.564 1102.73 282.564 Z\" fill=\"#000000\" fill-rule=\"evenodd\" fill-opacity=\"1\" /><path clip-path=\"url(#clip870)\" d=\"\nM1539.48 1423.18 L2352.76 1423.18 L2352.76 47.2441 L1539.48 47.2441  Z\n  \" fill=\"#ffffff\" fill-rule=\"evenodd\" fill-opacity=\"1\"/>\n<defs>\n  <clipPath id=\"clip873\">\n    <rect x=\"1539\" y=\"47\" width=\"814\" height=\"1377\"/>\n  </clipPath>\n</defs>\n<polyline clip-path=\"url(#clip873)\" style=\"stroke:#000000; stroke-linecap:butt; stroke-linejoin:round; stroke-width:2; stroke-opacity:0.1; fill:none\" points=\"\n  1630.46,1423.18 1630.46,47.2441 \n  \"/>\n<polyline clip-path=\"url(#clip873)\" style=\"stroke:#000000; stroke-linecap:butt; stroke-linejoin:round; stroke-width:2; stroke-opacity:0.1; fill:none\" points=\"\n  1805.82,1423.18 1805.82,47.2441 \n  \"/>\n<polyline clip-path=\"url(#clip873)\" style=\"stroke:#000000; stroke-linecap:butt; stroke-linejoin:round; stroke-width:2; stroke-opacity:0.1; fill:none\" points=\"\n  1981.19,1423.18 1981.19,47.2441 \n  \"/>\n<polyline clip-path=\"url(#clip873)\" style=\"stroke:#000000; stroke-linecap:butt; stroke-linejoin:round; stroke-width:2; stroke-opacity:0.1; fill:none\" points=\"\n  2156.56,1423.18 2156.56,47.2441 \n  \"/>\n<polyline clip-path=\"url(#clip873)\" style=\"stroke:#000000; stroke-linecap:butt; stroke-linejoin:round; stroke-width:2; stroke-opacity:0.1; fill:none\" points=\"\n  2331.93,1423.18 2331.93,47.2441 \n  \"/>\n<polyline clip-path=\"url(#clip870)\" style=\"stroke:#000000; stroke-linecap:butt; stroke-linejoin:round; stroke-width:4; stroke-opacity:1; fill:none\" points=\"\n  1539.48,1423.18 2352.76,1423.18 \n  \"/>\n<polyline clip-path=\"url(#clip870)\" style=\"stroke:#000000; stroke-linecap:butt; stroke-linejoin:round; stroke-width:4; stroke-opacity:1; fill:none\" points=\"\n  1630.46,1423.18 1630.46,1404.28 \n  \"/>\n<polyline clip-path=\"url(#clip870)\" style=\"stroke:#000000; stroke-linecap:butt; stroke-linejoin:round; stroke-width:4; stroke-opacity:1; fill:none\" points=\"\n  1805.82,1423.18 1805.82,1404.28 \n  \"/>\n<polyline clip-path=\"url(#clip870)\" style=\"stroke:#000000; stroke-linecap:butt; stroke-linejoin:round; stroke-width:4; stroke-opacity:1; fill:none\" points=\"\n  1981.19,1423.18 1981.19,1404.28 \n  \"/>\n<polyline clip-path=\"url(#clip870)\" style=\"stroke:#000000; stroke-linecap:butt; stroke-linejoin:round; stroke-width:4; stroke-opacity:1; fill:none\" points=\"\n  2156.56,1423.18 2156.56,1404.28 \n  \"/>\n<polyline clip-path=\"url(#clip870)\" style=\"stroke:#000000; stroke-linecap:butt; stroke-linejoin:round; stroke-width:4; stroke-opacity:1; fill:none\" points=\"\n  2331.93,1423.18 2331.93,1404.28 \n  \"/>\n<path clip-path=\"url(#clip870)\" d=\"M1608.64 1454.1 Q1605.03 1454.1 1603.2 1457.66 Q1601.39 1461.2 1601.39 1468.33 Q1601.39 1475.44 1603.2 1479.01 Q1605.03 1482.55 1608.64 1482.55 Q1612.27 1482.55 1614.08 1479.01 Q1615.91 1475.44 1615.91 1468.33 Q1615.91 1461.2 1614.08 1457.66 Q1612.27 1454.1 1608.64 1454.1 M1608.64 1450.39 Q1614.45 1450.39 1617.5 1455 Q1620.58 1459.58 1620.58 1468.33 Q1620.58 1477.06 1617.5 1481.67 Q1614.45 1486.25 1608.64 1486.25 Q1602.83 1486.25 1599.75 1481.67 Q1596.69 1477.06 1596.69 1468.33 Q1596.69 1459.58 1599.75 1455 Q1602.83 1450.39 1608.64 1450.39 Z\" fill=\"#000000\" fill-rule=\"evenodd\" fill-opacity=\"1\" /><path clip-path=\"url(#clip870)\" d=\"M1628.8 1479.7 L1633.69 1479.7 L1633.69 1485.58 L1628.8 1485.58 L1628.8 1479.7 Z\" fill=\"#000000\" fill-rule=\"evenodd\" fill-opacity=\"1\" /><path clip-path=\"url(#clip870)\" d=\"M1647.9 1481.64 L1664.22 1481.64 L1664.22 1485.58 L1642.27 1485.58 L1642.27 1481.64 Q1644.94 1478.89 1649.52 1474.26 Q1654.13 1469.61 1655.31 1468.27 Q1657.55 1465.74 1658.43 1464.01 Q1659.33 1462.25 1659.33 1460.56 Q1659.33 1457.8 1657.39 1456.07 Q1655.47 1454.33 1652.37 1454.33 Q1650.17 1454.33 1647.71 1455.09 Q1645.28 1455.86 1642.5 1457.41 L1642.5 1452.69 Q1645.33 1451.55 1647.78 1450.97 Q1650.24 1450.39 1652.27 1450.39 Q1657.64 1450.39 1660.84 1453.08 Q1664.03 1455.77 1664.03 1460.26 Q1664.03 1462.39 1663.22 1464.31 Q1662.44 1466.2 1660.33 1468.8 Q1659.75 1469.47 1656.65 1472.69 Q1653.55 1475.88 1647.9 1481.64 Z\" fill=\"#000000\" fill-rule=\"evenodd\" fill-opacity=\"1\" /><path clip-path=\"url(#clip870)\" d=\"M1782.97 1454.1 Q1779.36 1454.1 1777.53 1457.66 Q1775.72 1461.2 1775.72 1468.33 Q1775.72 1475.44 1777.53 1479.01 Q1779.36 1482.55 1782.97 1482.55 Q1786.6 1482.55 1788.41 1479.01 Q1790.23 1475.44 1790.23 1468.33 Q1790.23 1461.2 1788.41 1457.66 Q1786.6 1454.1 1782.97 1454.1 M1782.97 1450.39 Q1788.78 1450.39 1791.83 1455 Q1794.91 1459.58 1794.91 1468.33 Q1794.91 1477.06 1791.83 1481.67 Q1788.78 1486.25 1782.97 1486.25 Q1777.16 1486.25 1774.08 1481.67 Q1771.02 1477.06 1771.02 1468.33 Q1771.02 1459.58 1774.08 1455 Q1777.16 1450.39 1782.97 1450.39 Z\" fill=\"#000000\" fill-rule=\"evenodd\" fill-opacity=\"1\" /><path clip-path=\"url(#clip870)\" d=\"M1803.13 1479.7 L1808.01 1479.7 L1808.01 1485.58 L1803.13 1485.58 L1803.13 1479.7 Z\" fill=\"#000000\" fill-rule=\"evenodd\" fill-opacity=\"1\" /><path clip-path=\"url(#clip870)\" d=\"M1831.04 1455.09 L1819.24 1473.54 L1831.04 1473.54 L1831.04 1455.09 M1829.82 1451.02 L1835.7 1451.02 L1835.7 1473.54 L1840.63 1473.54 L1840.63 1477.43 L1835.7 1477.43 L1835.7 1485.58 L1831.04 1485.58 L1831.04 1477.43 L1815.44 1477.43 L1815.44 1472.92 L1829.82 1451.02 Z\" fill=\"#000000\" fill-rule=\"evenodd\" fill-opacity=\"1\" /><path clip-path=\"url(#clip870)\" d=\"M1958.5 1454.1 Q1954.89 1454.1 1953.06 1457.66 Q1951.25 1461.2 1951.25 1468.33 Q1951.25 1475.44 1953.06 1479.01 Q1954.89 1482.55 1958.5 1482.55 Q1962.13 1482.55 1963.94 1479.01 Q1965.77 1475.44 1965.77 1468.33 Q1965.77 1461.2 1963.94 1457.66 Q1962.13 1454.1 1958.5 1454.1 M1958.5 1450.39 Q1964.31 1450.39 1967.36 1455 Q1970.44 1459.58 1970.44 1468.33 Q1970.44 1477.06 1967.36 1481.67 Q1964.31 1486.25 1958.5 1486.25 Q1952.69 1486.25 1949.61 1481.67 Q1946.55 1477.06 1946.55 1468.33 Q1946.55 1459.58 1949.61 1455 Q1952.69 1450.39 1958.5 1450.39 Z\" fill=\"#000000\" fill-rule=\"evenodd\" fill-opacity=\"1\" /><path clip-path=\"url(#clip870)\" d=\"M1978.66 1479.7 L1983.54 1479.7 L1983.54 1485.58 L1978.66 1485.58 L1978.66 1479.7 Z\" fill=\"#000000\" fill-rule=\"evenodd\" fill-opacity=\"1\" /><path clip-path=\"url(#clip870)\" d=\"M2004.31 1466.44 Q2001.16 1466.44 1999.31 1468.59 Q1997.48 1470.74 1997.48 1474.49 Q1997.48 1478.22 1999.31 1480.39 Q2001.16 1482.55 2004.31 1482.55 Q2007.45 1482.55 2009.28 1480.39 Q2011.14 1478.22 2011.14 1474.49 Q2011.14 1470.74 2009.28 1468.59 Q2007.45 1466.44 2004.31 1466.44 M2013.59 1451.78 L2013.59 1456.04 Q2011.83 1455.21 2010.02 1454.77 Q2008.24 1454.33 2006.48 1454.33 Q2001.85 1454.33 1999.4 1457.45 Q1996.97 1460.58 1996.62 1466.9 Q1997.99 1464.89 2000.05 1463.82 Q2002.11 1462.73 2004.58 1462.73 Q2009.79 1462.73 2012.8 1465.9 Q2015.83 1469.05 2015.83 1474.49 Q2015.83 1479.82 2012.69 1483.03 Q2009.54 1486.25 2004.31 1486.25 Q1998.31 1486.25 1995.14 1481.67 Q1991.97 1477.06 1991.97 1468.33 Q1991.97 1460.14 1995.86 1455.28 Q1999.75 1450.39 2006.3 1450.39 Q2008.06 1450.39 2009.84 1450.74 Q2011.64 1451.09 2013.59 1451.78 Z\" fill=\"#000000\" fill-rule=\"evenodd\" fill-opacity=\"1\" /><path clip-path=\"url(#clip870)\" d=\"M2133.99 1454.1 Q2130.38 1454.1 2128.55 1457.66 Q2126.75 1461.2 2126.75 1468.33 Q2126.75 1475.44 2128.55 1479.01 Q2130.38 1482.55 2133.99 1482.55 Q2137.63 1482.55 2139.43 1479.01 Q2141.26 1475.44 2141.26 1468.33 Q2141.26 1461.2 2139.43 1457.66 Q2137.63 1454.1 2133.99 1454.1 M2133.99 1450.39 Q2139.8 1450.39 2142.86 1455 Q2145.94 1459.58 2145.94 1468.33 Q2145.94 1477.06 2142.86 1481.67 Q2139.8 1486.25 2133.99 1486.25 Q2128.18 1486.25 2125.1 1481.67 Q2122.05 1477.06 2122.05 1468.33 Q2122.05 1459.58 2125.1 1455 Q2128.18 1450.39 2133.99 1450.39 Z\" fill=\"#000000\" fill-rule=\"evenodd\" fill-opacity=\"1\" /><path clip-path=\"url(#clip870)\" d=\"M2154.15 1479.7 L2159.04 1479.7 L2159.04 1485.58 L2154.15 1485.58 L2154.15 1479.7 Z\" fill=\"#000000\" fill-rule=\"evenodd\" fill-opacity=\"1\" /><path clip-path=\"url(#clip870)\" d=\"M2179.22 1469.17 Q2175.89 1469.17 2173.97 1470.95 Q2172.07 1472.73 2172.07 1475.86 Q2172.07 1478.98 2173.97 1480.77 Q2175.89 1482.55 2179.22 1482.55 Q2182.56 1482.55 2184.48 1480.77 Q2186.4 1478.96 2186.4 1475.86 Q2186.4 1472.73 2184.48 1470.95 Q2182.58 1469.17 2179.22 1469.17 M2174.55 1467.18 Q2171.54 1466.44 2169.85 1464.38 Q2168.18 1462.32 2168.18 1459.35 Q2168.18 1455.21 2171.12 1452.8 Q2174.09 1450.39 2179.22 1450.39 Q2184.39 1450.39 2187.33 1452.8 Q2190.27 1455.21 2190.27 1459.35 Q2190.27 1462.32 2188.58 1464.38 Q2186.91 1466.44 2183.92 1467.18 Q2187.3 1467.96 2189.18 1470.26 Q2191.08 1472.55 2191.08 1475.86 Q2191.08 1480.88 2188 1483.57 Q2184.94 1486.25 2179.22 1486.25 Q2173.51 1486.25 2170.43 1483.57 Q2167.37 1480.88 2167.37 1475.86 Q2167.37 1472.55 2169.27 1470.26 Q2171.17 1467.96 2174.55 1467.18 M2172.84 1459.79 Q2172.84 1462.48 2174.5 1463.98 Q2176.19 1465.49 2179.22 1465.49 Q2182.23 1465.49 2183.92 1463.98 Q2185.64 1462.48 2185.64 1459.79 Q2185.64 1457.11 2183.92 1455.6 Q2182.23 1454.1 2179.22 1454.1 Q2176.19 1454.1 2174.5 1455.6 Q2172.84 1457.11 2172.84 1459.79 Z\" fill=\"#000000\" fill-rule=\"evenodd\" fill-opacity=\"1\" /><path clip-path=\"url(#clip870)\" d=\"M2299.08 1481.64 L2306.72 1481.64 L2306.72 1455.28 L2298.41 1456.95 L2298.41 1452.69 L2306.68 1451.02 L2311.35 1451.02 L2311.35 1481.64 L2318.99 1481.64 L2318.99 1485.58 L2299.08 1485.58 L2299.08 1481.64 Z\" fill=\"#000000\" fill-rule=\"evenodd\" fill-opacity=\"1\" /><path clip-path=\"url(#clip870)\" d=\"M2328.44 1479.7 L2333.32 1479.7 L2333.32 1485.58 L2328.44 1485.58 L2328.44 1479.7 Z\" fill=\"#000000\" fill-rule=\"evenodd\" fill-opacity=\"1\" /><path clip-path=\"url(#clip870)\" d=\"M2353.5 1454.1 Q2349.89 1454.1 2348.07 1457.66 Q2346.26 1461.2 2346.26 1468.33 Q2346.26 1475.44 2348.07 1479.01 Q2349.89 1482.55 2353.5 1482.55 Q2357.14 1482.55 2358.94 1479.01 Q2360.77 1475.44 2360.77 1468.33 Q2360.77 1461.2 2358.94 1457.66 Q2357.14 1454.1 2353.5 1454.1 M2353.5 1450.39 Q2359.31 1450.39 2362.37 1455 Q2365.45 1459.58 2365.45 1468.33 Q2365.45 1477.06 2362.37 1481.67 Q2359.31 1486.25 2353.5 1486.25 Q2347.69 1486.25 2344.62 1481.67 Q2341.56 1477.06 2341.56 1468.33 Q2341.56 1459.58 2344.62 1455 Q2347.69 1450.39 2353.5 1450.39 Z\" fill=\"#000000\" fill-rule=\"evenodd\" fill-opacity=\"1\" /><path clip-path=\"url(#clip870)\" d=\"M1957.83 1533.45 L1957.83 1538.98 Q1955.35 1537.71 1952.68 1537.07 Q1950 1536.44 1947.14 1536.44 Q1942.78 1536.44 1940.58 1537.77 Q1938.42 1539.11 1938.42 1541.79 Q1938.42 1543.82 1939.98 1545 Q1941.54 1546.15 1946.25 1547.2 L1948.25 1547.64 Q1954.49 1548.98 1957.1 1551.43 Q1959.74 1553.85 1959.74 1558.21 Q1959.74 1563.17 1955.8 1566.07 Q1951.88 1568.97 1945.01 1568.97 Q1942.14 1568.97 1939.02 1568.39 Q1935.93 1567.85 1932.5 1566.74 L1932.5 1560.69 Q1935.74 1562.38 1938.89 1563.24 Q1942.05 1564.07 1945.13 1564.07 Q1949.27 1564.07 1951.5 1562.66 Q1953.73 1561.23 1953.73 1558.65 Q1953.73 1556.27 1952.1 1554.99 Q1950.51 1553.72 1945.07 1552.54 L1943.03 1552.07 Q1937.59 1550.92 1935.17 1548.56 Q1932.75 1546.18 1932.75 1542.04 Q1932.75 1537.01 1936.32 1534.27 Q1939.88 1531.54 1946.44 1531.54 Q1949.68 1531.54 1952.55 1532.01 Q1955.41 1532.49 1957.83 1533.45 Z\" fill=\"#000000\" fill-rule=\"evenodd\" fill-opacity=\"1\" /><polyline clip-path=\"url(#clip873)\" style=\"stroke:#000000; stroke-linecap:butt; stroke-linejoin:round; stroke-width:2; stroke-opacity:0.1; fill:none\" points=\"\n  1539.48,1268.11 2352.76,1268.11 \n  \"/>\n<polyline clip-path=\"url(#clip873)\" style=\"stroke:#000000; stroke-linecap:butt; stroke-linejoin:round; stroke-width:2; stroke-opacity:0.1; fill:none\" points=\"\n  1539.48,1031.59 2352.76,1031.59 \n  \"/>\n<polyline clip-path=\"url(#clip873)\" style=\"stroke:#000000; stroke-linecap:butt; stroke-linejoin:round; stroke-width:2; stroke-opacity:0.1; fill:none\" points=\"\n  1539.48,795.067 2352.76,795.067 \n  \"/>\n<polyline clip-path=\"url(#clip873)\" style=\"stroke:#000000; stroke-linecap:butt; stroke-linejoin:round; stroke-width:2; stroke-opacity:0.1; fill:none\" points=\"\n  1539.48,558.544 2352.76,558.544 \n  \"/>\n<polyline clip-path=\"url(#clip873)\" style=\"stroke:#000000; stroke-linecap:butt; stroke-linejoin:round; stroke-width:2; stroke-opacity:0.1; fill:none\" points=\"\n  1539.48,322.022 2352.76,322.022 \n  \"/>\n<polyline clip-path=\"url(#clip873)\" style=\"stroke:#000000; stroke-linecap:butt; stroke-linejoin:round; stroke-width:2; stroke-opacity:0.1; fill:none\" points=\"\n  1539.48,85.4994 2352.76,85.4994 \n  \"/>\n<polyline clip-path=\"url(#clip870)\" style=\"stroke:#000000; stroke-linecap:butt; stroke-linejoin:round; stroke-width:4; stroke-opacity:1; fill:none\" points=\"\n  1539.48,1423.18 1539.48,47.2441 \n  \"/>\n<polyline clip-path=\"url(#clip870)\" style=\"stroke:#000000; stroke-linecap:butt; stroke-linejoin:round; stroke-width:4; stroke-opacity:1; fill:none\" points=\"\n  1539.48,1268.11 1558.38,1268.11 \n  \"/>\n<polyline clip-path=\"url(#clip870)\" style=\"stroke:#000000; stroke-linecap:butt; stroke-linejoin:round; stroke-width:4; stroke-opacity:1; fill:none\" points=\"\n  1539.48,1031.59 1558.38,1031.59 \n  \"/>\n<polyline clip-path=\"url(#clip870)\" style=\"stroke:#000000; stroke-linecap:butt; stroke-linejoin:round; stroke-width:4; stroke-opacity:1; fill:none\" points=\"\n  1539.48,795.067 1558.38,795.067 \n  \"/>\n<polyline clip-path=\"url(#clip870)\" style=\"stroke:#000000; stroke-linecap:butt; stroke-linejoin:round; stroke-width:4; stroke-opacity:1; fill:none\" points=\"\n  1539.48,558.544 1558.38,558.544 \n  \"/>\n<polyline clip-path=\"url(#clip870)\" style=\"stroke:#000000; stroke-linecap:butt; stroke-linejoin:round; stroke-width:4; stroke-opacity:1; fill:none\" points=\"\n  1539.48,322.022 1558.38,322.022 \n  \"/>\n<polyline clip-path=\"url(#clip870)\" style=\"stroke:#000000; stroke-linecap:butt; stroke-linejoin:round; stroke-width:4; stroke-opacity:1; fill:none\" points=\"\n  1539.48,85.4994 1558.38,85.4994 \n  \"/>\n<path clip-path=\"url(#clip870)\" d=\"M1351.29 1268.56 L1380.96 1268.56 L1380.96 1272.5 L1351.29 1272.5 L1351.29 1268.56 Z\" fill=\"#000000\" fill-rule=\"evenodd\" fill-opacity=\"1\" /><path clip-path=\"url(#clip870)\" d=\"M1391.1 1250.83 L1409.46 1250.83 L1409.46 1254.77 L1395.38 1254.77 L1395.38 1263.24 Q1396.4 1262.89 1397.42 1262.73 Q1398.44 1262.54 1399.46 1262.54 Q1405.24 1262.54 1408.62 1265.72 Q1412 1268.89 1412 1274.3 Q1412 1279.88 1408.53 1282.98 Q1405.06 1286.06 1398.74 1286.06 Q1396.56 1286.06 1394.29 1285.69 Q1392.05 1285.32 1389.64 1284.58 L1389.64 1279.88 Q1391.73 1281.02 1393.95 1281.57 Q1396.17 1282.13 1398.65 1282.13 Q1402.65 1282.13 1404.99 1280.02 Q1407.33 1277.91 1407.33 1274.3 Q1407.33 1270.69 1404.99 1268.59 Q1402.65 1266.48 1398.65 1266.48 Q1396.77 1266.48 1394.9 1266.9 Q1393.04 1267.31 1391.1 1268.19 L1391.1 1250.83 Z\" fill=\"#000000\" fill-rule=\"evenodd\" fill-opacity=\"1\" /><path clip-path=\"url(#clip870)\" d=\"M1431.22 1253.91 Q1427.6 1253.91 1425.78 1257.48 Q1423.97 1261.02 1423.97 1268.15 Q1423.97 1275.25 1425.78 1278.82 Q1427.6 1282.36 1431.22 1282.36 Q1434.85 1282.36 1436.66 1278.82 Q1438.48 1275.25 1438.48 1268.15 Q1438.48 1261.02 1436.66 1257.48 Q1434.85 1253.91 1431.22 1253.91 M1431.22 1250.21 Q1437.03 1250.21 1440.08 1254.81 Q1443.16 1259.4 1443.16 1268.15 Q1443.16 1276.87 1440.08 1281.48 Q1437.03 1286.06 1431.22 1286.06 Q1425.41 1286.06 1422.33 1281.48 Q1419.27 1276.87 1419.27 1268.15 Q1419.27 1259.4 1422.33 1254.81 Q1425.41 1250.21 1431.22 1250.21 Z\" fill=\"#000000\" fill-rule=\"evenodd\" fill-opacity=\"1\" /><path clip-path=\"url(#clip870)\" d=\"M1461.38 1253.91 Q1457.77 1253.91 1455.94 1257.48 Q1454.13 1261.02 1454.13 1268.15 Q1454.13 1275.25 1455.94 1278.82 Q1457.77 1282.36 1461.38 1282.36 Q1465.01 1282.36 1466.82 1278.82 Q1468.65 1275.25 1468.65 1268.15 Q1468.65 1261.02 1466.82 1257.48 Q1465.01 1253.91 1461.38 1253.91 M1461.38 1250.21 Q1467.19 1250.21 1470.24 1254.81 Q1473.32 1259.4 1473.32 1268.15 Q1473.32 1276.87 1470.24 1281.48 Q1467.19 1286.06 1461.38 1286.06 Q1455.57 1286.06 1452.49 1281.48 Q1449.43 1276.87 1449.43 1268.15 Q1449.43 1259.4 1452.49 1254.81 Q1455.57 1250.21 1461.38 1250.21 Z\" fill=\"#000000\" fill-rule=\"evenodd\" fill-opacity=\"1\" /><path clip-path=\"url(#clip870)\" d=\"M1491.54 1253.91 Q1487.93 1253.91 1486.1 1257.48 Q1484.29 1261.02 1484.29 1268.15 Q1484.29 1275.25 1486.1 1278.82 Q1487.93 1282.36 1491.54 1282.36 Q1495.17 1282.36 1496.98 1278.82 Q1498.81 1275.25 1498.81 1268.15 Q1498.81 1261.02 1496.98 1257.48 Q1495.17 1253.91 1491.54 1253.91 M1491.54 1250.21 Q1497.35 1250.21 1500.4 1254.81 Q1503.48 1259.4 1503.48 1268.15 Q1503.48 1276.87 1500.4 1281.48 Q1497.35 1286.06 1491.54 1286.06 Q1485.73 1286.06 1482.65 1281.48 Q1479.59 1276.87 1479.59 1268.15 Q1479.59 1259.4 1482.65 1254.81 Q1485.73 1250.21 1491.54 1250.21 Z\" fill=\"#000000\" fill-rule=\"evenodd\" fill-opacity=\"1\" /><path clip-path=\"url(#clip870)\" d=\"M1351.29 1032.04 L1380.96 1032.04 L1380.96 1035.98 L1351.29 1035.98 L1351.29 1032.04 Z\" fill=\"#000000\" fill-rule=\"evenodd\" fill-opacity=\"1\" /><path clip-path=\"url(#clip870)\" d=\"M1403.9 1018.38 L1392.1 1036.83 L1403.9 1036.83 L1403.9 1018.38 M1402.67 1014.31 L1408.55 1014.31 L1408.55 1036.83 L1413.48 1036.83 L1413.48 1040.72 L1408.55 1040.72 L1408.55 1048.87 L1403.9 1048.87 L1403.9 1040.72 L1388.3 1040.72 L1388.3 1036.21 L1402.67 1014.31 Z\" fill=\"#000000\" fill-rule=\"evenodd\" fill-opacity=\"1\" /><path clip-path=\"url(#clip870)\" d=\"M1431.22 1017.39 Q1427.6 1017.39 1425.78 1020.95 Q1423.97 1024.49 1423.97 1031.62 Q1423.97 1038.73 1425.78 1042.3 Q1427.6 1045.84 1431.22 1045.84 Q1434.85 1045.84 1436.66 1042.3 Q1438.48 1038.73 1438.48 1031.62 Q1438.48 1024.49 1436.66 1020.95 Q1434.85 1017.39 1431.22 1017.39 M1431.22 1013.68 Q1437.03 1013.68 1440.08 1018.29 Q1443.16 1022.87 1443.16 1031.62 Q1443.16 1040.35 1440.08 1044.96 Q1437.03 1049.54 1431.22 1049.54 Q1425.41 1049.54 1422.33 1044.96 Q1419.27 1040.35 1419.27 1031.62 Q1419.27 1022.87 1422.33 1018.29 Q1425.41 1013.68 1431.22 1013.68 Z\" fill=\"#000000\" fill-rule=\"evenodd\" fill-opacity=\"1\" /><path clip-path=\"url(#clip870)\" d=\"M1461.38 1017.39 Q1457.77 1017.39 1455.94 1020.95 Q1454.13 1024.49 1454.13 1031.62 Q1454.13 1038.73 1455.94 1042.3 Q1457.77 1045.84 1461.38 1045.84 Q1465.01 1045.84 1466.82 1042.3 Q1468.65 1038.73 1468.65 1031.62 Q1468.65 1024.49 1466.82 1020.95 Q1465.01 1017.39 1461.38 1017.39 M1461.38 1013.68 Q1467.19 1013.68 1470.24 1018.29 Q1473.32 1022.87 1473.32 1031.62 Q1473.32 1040.35 1470.24 1044.96 Q1467.19 1049.54 1461.38 1049.54 Q1455.57 1049.54 1452.49 1044.96 Q1449.43 1040.35 1449.43 1031.62 Q1449.43 1022.87 1452.49 1018.29 Q1455.57 1013.68 1461.38 1013.68 Z\" fill=\"#000000\" fill-rule=\"evenodd\" fill-opacity=\"1\" /><path clip-path=\"url(#clip870)\" d=\"M1491.54 1017.39 Q1487.93 1017.39 1486.1 1020.95 Q1484.29 1024.49 1484.29 1031.62 Q1484.29 1038.73 1486.1 1042.3 Q1487.93 1045.84 1491.54 1045.84 Q1495.17 1045.84 1496.98 1042.3 Q1498.81 1038.73 1498.81 1031.62 Q1498.81 1024.49 1496.98 1020.95 Q1495.17 1017.39 1491.54 1017.39 M1491.54 1013.68 Q1497.35 1013.68 1500.4 1018.29 Q1503.48 1022.87 1503.48 1031.62 Q1503.48 1040.35 1500.4 1044.96 Q1497.35 1049.54 1491.54 1049.54 Q1485.73 1049.54 1482.65 1044.96 Q1479.59 1040.35 1479.59 1031.62 Q1479.59 1022.87 1482.65 1018.29 Q1485.73 1013.68 1491.54 1013.68 Z\" fill=\"#000000\" fill-rule=\"evenodd\" fill-opacity=\"1\" /><path clip-path=\"url(#clip870)\" d=\"M1351.29 795.518 L1380.96 795.518 L1380.96 799.453 L1351.29 799.453 L1351.29 795.518 Z\" fill=\"#000000\" fill-rule=\"evenodd\" fill-opacity=\"1\" /><path clip-path=\"url(#clip870)\" d=\"M1405.22 793.713 Q1408.58 794.43 1410.45 796.699 Q1412.35 798.967 1412.35 802.3 Q1412.35 807.416 1408.83 810.217 Q1405.31 813.018 1398.83 813.018 Q1396.66 813.018 1394.34 812.578 Q1392.05 812.162 1389.6 811.305 L1389.6 806.791 Q1391.54 807.925 1393.85 808.504 Q1396.17 809.083 1398.69 809.083 Q1403.09 809.083 1405.38 807.347 Q1407.7 805.611 1407.7 802.3 Q1407.7 799.245 1405.54 797.532 Q1403.41 795.796 1399.6 795.796 L1395.57 795.796 L1395.57 791.953 L1399.78 791.953 Q1403.23 791.953 1405.06 790.588 Q1406.89 789.199 1406.89 786.606 Q1406.89 783.944 1404.99 782.532 Q1403.11 781.097 1399.6 781.097 Q1397.67 781.097 1395.48 781.514 Q1393.28 781.93 1390.64 782.81 L1390.64 778.643 Q1393.3 777.902 1395.61 777.532 Q1397.95 777.162 1400.01 777.162 Q1405.34 777.162 1408.44 779.592 Q1411.54 782 1411.54 786.12 Q1411.54 788.99 1409.9 790.981 Q1408.25 792.949 1405.22 793.713 Z\" fill=\"#000000\" fill-rule=\"evenodd\" fill-opacity=\"1\" /><path clip-path=\"url(#clip870)\" d=\"M1431.22 780.865 Q1427.6 780.865 1425.78 784.43 Q1423.97 787.972 1423.97 795.101 Q1423.97 802.208 1425.78 805.773 Q1427.6 809.314 1431.22 809.314 Q1434.85 809.314 1436.66 805.773 Q1438.48 802.208 1438.48 795.101 Q1438.48 787.972 1436.66 784.43 Q1434.85 780.865 1431.22 780.865 M1431.22 777.162 Q1437.03 777.162 1440.08 781.768 Q1443.16 786.351 1443.16 795.101 Q1443.16 803.828 1440.08 808.435 Q1437.03 813.018 1431.22 813.018 Q1425.41 813.018 1422.33 808.435 Q1419.27 803.828 1419.27 795.101 Q1419.27 786.351 1422.33 781.768 Q1425.41 777.162 1431.22 777.162 Z\" fill=\"#000000\" fill-rule=\"evenodd\" fill-opacity=\"1\" /><path clip-path=\"url(#clip870)\" d=\"M1461.38 780.865 Q1457.77 780.865 1455.94 784.43 Q1454.13 787.972 1454.13 795.101 Q1454.13 802.208 1455.94 805.773 Q1457.77 809.314 1461.38 809.314 Q1465.01 809.314 1466.82 805.773 Q1468.65 802.208 1468.65 795.101 Q1468.65 787.972 1466.82 784.43 Q1465.01 780.865 1461.38 780.865 M1461.38 777.162 Q1467.19 777.162 1470.24 781.768 Q1473.32 786.351 1473.32 795.101 Q1473.32 803.828 1470.24 808.435 Q1467.19 813.018 1461.38 813.018 Q1455.57 813.018 1452.49 808.435 Q1449.43 803.828 1449.43 795.101 Q1449.43 786.351 1452.49 781.768 Q1455.57 777.162 1461.38 777.162 Z\" fill=\"#000000\" fill-rule=\"evenodd\" fill-opacity=\"1\" /><path clip-path=\"url(#clip870)\" d=\"M1491.54 780.865 Q1487.93 780.865 1486.1 784.43 Q1484.29 787.972 1484.29 795.101 Q1484.29 802.208 1486.1 805.773 Q1487.93 809.314 1491.54 809.314 Q1495.17 809.314 1496.98 805.773 Q1498.81 802.208 1498.81 795.101 Q1498.81 787.972 1496.98 784.43 Q1495.17 780.865 1491.54 780.865 M1491.54 777.162 Q1497.35 777.162 1500.4 781.768 Q1503.48 786.351 1503.48 795.101 Q1503.48 803.828 1500.4 808.435 Q1497.35 813.018 1491.54 813.018 Q1485.73 813.018 1482.65 808.435 Q1479.59 803.828 1479.59 795.101 Q1479.59 786.351 1482.65 781.768 Q1485.73 777.162 1491.54 777.162 Z\" fill=\"#000000\" fill-rule=\"evenodd\" fill-opacity=\"1\" /><path clip-path=\"url(#clip870)\" d=\"M1351.29 558.996 L1380.96 558.996 L1380.96 562.931 L1351.29 562.931 L1351.29 558.996 Z\" fill=\"#000000\" fill-rule=\"evenodd\" fill-opacity=\"1\" /><path clip-path=\"url(#clip870)\" d=\"M1395.08 571.889 L1411.4 571.889 L1411.4 575.824 L1389.46 575.824 L1389.46 571.889 Q1392.12 569.135 1396.7 564.505 Q1401.31 559.852 1402.49 558.51 Q1404.73 555.986 1405.61 554.25 Q1406.52 552.491 1406.52 550.801 Q1406.52 548.047 1404.57 546.311 Q1402.65 544.574 1399.55 544.574 Q1397.35 544.574 1394.9 545.338 Q1392.47 546.102 1389.69 547.653 L1389.69 542.931 Q1392.51 541.797 1394.97 541.218 Q1397.42 540.639 1399.46 540.639 Q1404.83 540.639 1408.02 543.324 Q1411.22 546.01 1411.22 550.5 Q1411.22 552.63 1410.41 554.551 Q1409.62 556.449 1407.51 559.042 Q1406.93 559.713 1403.83 562.931 Q1400.73 566.125 1395.08 571.889 Z\" fill=\"#000000\" fill-rule=\"evenodd\" fill-opacity=\"1\" /><path clip-path=\"url(#clip870)\" d=\"M1431.22 544.343 Q1427.6 544.343 1425.78 547.908 Q1423.97 551.449 1423.97 558.579 Q1423.97 565.685 1425.78 569.25 Q1427.6 572.792 1431.22 572.792 Q1434.85 572.792 1436.66 569.25 Q1438.48 565.685 1438.48 558.579 Q1438.48 551.449 1436.66 547.908 Q1434.85 544.343 1431.22 544.343 M1431.22 540.639 Q1437.03 540.639 1440.08 545.246 Q1443.16 549.829 1443.16 558.579 Q1443.16 567.306 1440.08 571.912 Q1437.03 576.496 1431.22 576.496 Q1425.41 576.496 1422.33 571.912 Q1419.27 567.306 1419.27 558.579 Q1419.27 549.829 1422.33 545.246 Q1425.41 540.639 1431.22 540.639 Z\" fill=\"#000000\" fill-rule=\"evenodd\" fill-opacity=\"1\" /><path clip-path=\"url(#clip870)\" d=\"M1461.38 544.343 Q1457.77 544.343 1455.94 547.908 Q1454.13 551.449 1454.13 558.579 Q1454.13 565.685 1455.94 569.25 Q1457.77 572.792 1461.38 572.792 Q1465.01 572.792 1466.82 569.25 Q1468.65 565.685 1468.65 558.579 Q1468.65 551.449 1466.82 547.908 Q1465.01 544.343 1461.38 544.343 M1461.38 540.639 Q1467.19 540.639 1470.24 545.246 Q1473.32 549.829 1473.32 558.579 Q1473.32 567.306 1470.24 571.912 Q1467.19 576.496 1461.38 576.496 Q1455.57 576.496 1452.49 571.912 Q1449.43 567.306 1449.43 558.579 Q1449.43 549.829 1452.49 545.246 Q1455.57 540.639 1461.38 540.639 Z\" fill=\"#000000\" fill-rule=\"evenodd\" fill-opacity=\"1\" /><path clip-path=\"url(#clip870)\" d=\"M1491.54 544.343 Q1487.93 544.343 1486.1 547.908 Q1484.29 551.449 1484.29 558.579 Q1484.29 565.685 1486.1 569.25 Q1487.93 572.792 1491.54 572.792 Q1495.17 572.792 1496.98 569.25 Q1498.81 565.685 1498.81 558.579 Q1498.81 551.449 1496.98 547.908 Q1495.17 544.343 1491.54 544.343 M1491.54 540.639 Q1497.35 540.639 1500.4 545.246 Q1503.48 549.829 1503.48 558.579 Q1503.48 567.306 1500.4 571.912 Q1497.35 576.496 1491.54 576.496 Q1485.73 576.496 1482.65 571.912 Q1479.59 567.306 1479.59 558.579 Q1479.59 549.829 1482.65 545.246 Q1485.73 540.639 1491.54 540.639 Z\" fill=\"#000000\" fill-rule=\"evenodd\" fill-opacity=\"1\" /><path clip-path=\"url(#clip870)\" d=\"M1351.29 322.473 L1380.96 322.473 L1380.96 326.408 L1351.29 326.408 L1351.29 322.473 Z\" fill=\"#000000\" fill-rule=\"evenodd\" fill-opacity=\"1\" /><path clip-path=\"url(#clip870)\" d=\"M1391.86 335.367 L1399.5 335.367 L1399.5 309.001 L1391.19 310.668 L1391.19 306.409 L1399.46 304.742 L1404.13 304.742 L1404.13 335.367 L1411.77 335.367 L1411.77 339.302 L1391.86 339.302 L1391.86 335.367 Z\" fill=\"#000000\" fill-rule=\"evenodd\" fill-opacity=\"1\" /><path clip-path=\"url(#clip870)\" d=\"M1431.22 307.821 Q1427.6 307.821 1425.78 311.385 Q1423.97 314.927 1423.97 322.057 Q1423.97 329.163 1425.78 332.728 Q1427.6 336.269 1431.22 336.269 Q1434.85 336.269 1436.66 332.728 Q1438.48 329.163 1438.48 322.057 Q1438.48 314.927 1436.66 311.385 Q1434.85 307.821 1431.22 307.821 M1431.22 304.117 Q1437.03 304.117 1440.08 308.723 Q1443.16 313.307 1443.16 322.057 Q1443.16 330.783 1440.08 335.39 Q1437.03 339.973 1431.22 339.973 Q1425.41 339.973 1422.33 335.39 Q1419.27 330.783 1419.27 322.057 Q1419.27 313.307 1422.33 308.723 Q1425.41 304.117 1431.22 304.117 Z\" fill=\"#000000\" fill-rule=\"evenodd\" fill-opacity=\"1\" /><path clip-path=\"url(#clip870)\" d=\"M1461.38 307.821 Q1457.77 307.821 1455.94 311.385 Q1454.13 314.927 1454.13 322.057 Q1454.13 329.163 1455.94 332.728 Q1457.77 336.269 1461.38 336.269 Q1465.01 336.269 1466.82 332.728 Q1468.65 329.163 1468.65 322.057 Q1468.65 314.927 1466.82 311.385 Q1465.01 307.821 1461.38 307.821 M1461.38 304.117 Q1467.19 304.117 1470.24 308.723 Q1473.32 313.307 1473.32 322.057 Q1473.32 330.783 1470.24 335.39 Q1467.19 339.973 1461.38 339.973 Q1455.57 339.973 1452.49 335.39 Q1449.43 330.783 1449.43 322.057 Q1449.43 313.307 1452.49 308.723 Q1455.57 304.117 1461.38 304.117 Z\" fill=\"#000000\" fill-rule=\"evenodd\" fill-opacity=\"1\" /><path clip-path=\"url(#clip870)\" d=\"M1491.54 307.821 Q1487.93 307.821 1486.1 311.385 Q1484.29 314.927 1484.29 322.057 Q1484.29 329.163 1486.1 332.728 Q1487.93 336.269 1491.54 336.269 Q1495.17 336.269 1496.98 332.728 Q1498.81 329.163 1498.81 322.057 Q1498.81 314.927 1496.98 311.385 Q1495.17 307.821 1491.54 307.821 M1491.54 304.117 Q1497.35 304.117 1500.4 308.723 Q1503.48 313.307 1503.48 322.057 Q1503.48 330.783 1500.4 335.39 Q1497.35 339.973 1491.54 339.973 Q1485.73 339.973 1482.65 335.39 Q1479.59 330.783 1479.59 322.057 Q1479.59 313.307 1482.65 308.723 Q1485.73 304.117 1491.54 304.117 Z\" fill=\"#000000\" fill-rule=\"evenodd\" fill-opacity=\"1\" /><path clip-path=\"url(#clip870)\" d=\"M1491.54 71.2981 Q1487.93 71.2981 1486.1 74.8629 Q1484.29 78.4046 1484.29 85.5342 Q1484.29 92.6406 1486.1 96.2054 Q1487.93 99.747 1491.54 99.747 Q1495.17 99.747 1496.98 96.2054 Q1498.81 92.6406 1498.81 85.5342 Q1498.81 78.4046 1496.98 74.8629 Q1495.17 71.2981 1491.54 71.2981 M1491.54 67.5944 Q1497.35 67.5944 1500.4 72.2009 Q1503.48 76.7842 1503.48 85.5342 Q1503.48 94.261 1500.4 98.8674 Q1497.35 103.451 1491.54 103.451 Q1485.73 103.451 1482.65 98.8674 Q1479.59 94.261 1479.59 85.5342 Q1479.59 76.7842 1482.65 72.2009 Q1485.73 67.5944 1491.54 67.5944 Z\" fill=\"#000000\" fill-rule=\"evenodd\" fill-opacity=\"1\" /><path clip-path=\"url(#clip870)\" d=\"M1251.5 751.031 L1251.5 745.142 L1280.75 745.142 L1265.38 727.669 L1265.38 720.189 L1282.06 739.095 L1301.03 719.393 L1301.03 727.032 L1283.62 745.142 L1301.03 745.142 L1301.03 751.031 L1251.5 751.031 Z\" fill=\"#000000\" fill-rule=\"evenodd\" fill-opacity=\"1\" /><polyline clip-path=\"url(#clip873)\" style=\"stroke:#009af9; stroke-linecap:butt; stroke-linejoin:round; stroke-width:4; stroke-opacity:1; fill:none\" points=\"\n  1562.5,1384.24 1564.69,1308.68 1566.89,1238.91 1569.08,1174.38 1571.27,1114.61 1573.46,1059.15 1575.65,1007.64 1577.85,959.724 1580.04,915.093 1582.23,873.471 \n  1584.42,834.607 1586.61,798.278 1588.81,764.278 1591,732.424 1593.19,702.548 1595.38,674.5 1597.57,648.141 1599.77,623.345 1601.96,599.998 1604.15,577.996 \n  1606.34,557.242 1608.54,537.65 1610.73,519.139 1612.92,501.635 1615.11,485.07 1617.3,469.382 1619.5,454.514 1621.69,440.412 1623.88,427.029 1626.07,414.317 \n  1628.26,402.236 1630.46,390.748 1632.65,379.815 1634.84,369.404 1637.03,359.486 1639.22,350.03 1641.42,341.011 1643.61,332.402 1645.8,324.182 1647.99,316.328 \n  1650.19,308.819 1652.38,301.638 1654.57,294.767 1656.76,288.188 1658.95,281.886 1661.15,275.848 1663.34,270.058 1665.53,264.506 1667.72,259.177 1669.91,254.062 \n  1672.11,249.149 1674.3,244.43 1676.49,239.893 1678.68,235.531 1680.87,231.334 1683.07,227.296 1685.26,223.409 1687.45,219.666 1689.64,216.06 1691.84,212.584 \n  1694.03,209.234 1696.22,206.003 1698.41,202.887 1700.6,199.879 1702.8,196.976 1704.99,194.173 1707.18,191.465 1709.37,188.849 1711.56,186.32 1713.76,183.876 \n  1715.95,181.512 1718.14,179.225 1720.33,177.012 1722.52,174.871 1724.72,172.797 1726.91,170.79 1729.1,168.845 1731.29,166.961 1733.49,165.135 1735.68,163.365 \n  1737.87,161.648 1740.06,159.984 1742.25,158.369 1744.45,156.802 1746.64,155.282 1748.83,153.806 1751.02,152.373 1753.21,150.981 1755.41,149.629 1757.6,148.315 \n  1759.79,147.038 1761.98,145.798 1764.17,144.591 1766.37,143.418 1768.56,142.278 1770.75,141.168 1772.94,140.088 1775.14,139.037 1777.33,138.015 1779.52,137.019 \n  1781.71,136.05 1783.9,135.106 1786.1,134.186 1788.29,133.291 1790.48,132.418 1792.67,131.567 1794.86,130.738 1797.06,129.93 1799.25,129.142 1801.44,128.374 \n  1803.63,127.625 1805.82,126.894 1808.02,126.181 1810.21,125.485 1812.4,124.806 1814.59,124.143 1816.79,123.496 1818.98,122.864 1821.17,122.247 1823.36,121.645 \n  1825.55,121.057 1827.75,120.482 1829.94,119.92 1832.13,119.371 1834.32,118.835 1836.51,118.311 1838.71,117.799 1840.9,117.298 1843.09,116.808 1845.28,116.329 \n  1847.47,115.861 1849.67,115.403 1851.86,114.955 1854.05,114.517 1856.24,114.088 1858.44,113.668 1860.63,113.257 1862.82,112.855 1865.01,112.462 1867.2,112.076 \n  1869.4,111.699 1871.59,111.33 1873.78,110.968 1875.97,110.614 1878.16,110.267 1880.36,109.927 1882.55,109.594 1884.74,109.268 1886.93,108.949 1889.12,108.635 \n  1891.32,108.328 1893.51,108.028 1895.7,107.733 1897.89,107.444 1900.09,107.16 1902.28,106.882 1904.47,106.61 1906.66,106.343 1908.85,106.081 1911.05,105.824 \n  1913.24,105.572 1915.43,105.325 1917.62,105.082 1919.81,104.844 1922.01,104.611 1924.2,104.382 1926.39,104.157 1928.58,103.937 1930.78,103.72 1932.97,103.508 \n  1935.16,103.3 1937.35,103.095 1939.54,102.894 1941.74,102.697 1943.93,102.504 1946.12,102.313 1948.31,102.127 1950.5,101.944 1952.7,101.764 1954.89,101.587 \n  1957.08,101.414 1959.27,101.243 1961.46,101.076 1963.66,100.912 1965.85,100.751 1968.04,100.592 1970.23,100.436 1972.43,100.283 1974.62,100.133 1976.81,99.9856 \n  1979,99.8406 1981.19,99.6982 1983.39,99.5583 1985.58,99.4209 1987.77,99.2858 1989.96,99.1532 1992.15,99.0228 1994.35,98.8947 1996.54,98.7689 1998.73,98.6453 \n  2000.92,98.5238 2003.11,98.4045 2005.31,98.2873 2007.5,98.1721 2009.69,98.0589 2011.88,97.9477 2014.08,97.8384 2016.27,97.7311 2018.46,97.6257 2020.65,97.5221 \n  2022.84,97.4203 2025.04,97.3204 2027.23,97.2222 2029.42,97.1257 2031.61,97.031 2033.8,96.9379 2036,96.8466 2038.19,96.7568 2040.38,96.6687 2042.57,96.5822 \n  2044.76,96.4972 2046.96,96.4138 2049.15,96.3319 2051.34,96.2515 2053.53,96.1727 2055.73,96.0953 2057.92,96.0193 2060.11,95.9448 2062.3,95.8717 2064.49,95.8 \n  2066.69,95.7297 2068.88,95.6607 2071.07,95.5932 2073.26,95.5269 2075.45,95.462 2077.65,95.3984 2079.84,95.3361 2082.03,95.2751 2084.22,95.2154 2086.41,95.157 \n  2088.61,95.0998 2090.8,95.0439 2092.99,94.9892 2095.18,94.9358 2097.38,94.8836 2099.57,94.8326 2101.76,94.7828 2103.95,94.7343 2106.14,94.6869 2108.34,94.6408 \n  2110.53,94.5958 2112.72,94.5521 2114.91,94.5095 2117.1,94.4681 2119.3,94.428 2121.49,94.389 2123.68,94.3512 2125.87,94.3146 2128.06,94.2792 2130.26,94.245 \n  2132.45,94.212 2134.64,94.1803 2136.83,94.1497 2139.03,94.1203 2141.22,94.0922 2143.41,94.0654 2145.6,94.0397 2147.79,94.0154 2149.99,93.9923 2152.18,93.9705 \n  2154.37,93.95 2156.56,93.9308 2158.75,93.9129 2160.95,93.8964 2163.14,93.8813 2165.33,93.8676 2167.52,93.8552 2169.71,93.8444 2171.91,93.835 2174.1,93.8271 \n  2176.29,93.8207 2178.48,93.816 2180.68,93.8128 2182.87,93.8112 2185.06,93.8114 2187.25,93.8133 2189.44,93.817 2191.64,93.8225 2193.83,93.8299 2196.02,93.8392 \n  2198.21,93.8506 2200.4,93.8641 2202.6,93.8797 2204.79,93.8975 2206.98,93.9177 2209.17,93.9403 2211.36,93.9655 2213.56,93.9932 2215.75,94.0237 2217.94,94.057 \n  2220.13,94.0934 2222.33,94.1329 2224.52,94.1756 2226.71,94.2219 2228.9,94.2718 2231.09,94.3256 2233.29,94.3834 2235.48,94.4456 2237.67,94.5123 2239.86,94.5839 \n  2242.05,94.6606 2244.25,94.7429 2246.44,94.831 2248.63,94.9255 2250.82,95.0267 2253.01,95.1352 2255.21,95.2515 2257.4,95.3762 2259.59,95.5102 2261.78,95.6541 \n  2263.98,95.8088 2266.17,95.9754 2268.36,96.1549 2270.55,96.3487 2272.74,96.5583 2274.94,96.7852 2277.13,97.0316 2279.32,97.2995 2281.51,97.5917 2283.7,97.9113 \n  2285.9,98.2619 2288.09,98.6478 2290.28,99.0743 2292.47,99.5477 2294.67,100.076 2296.86,100.668 2299.05,101.337 2301.24,102.097 2303.43,102.968 2305.63,103.977 \n  2307.82,105.158 2310.01,106.559 2312.2,108.247 2314.39,110.325 2316.59,112.943 2318.78,116.353 2320.97,120.987 2323.16,127.68 2325.35,138.287 2327.55,158.001 \n  2329.74,210.066 \n  \"/>\n<polyline clip-path=\"url(#clip873)\" style=\"stroke:#e26f46; stroke-linecap:butt; stroke-linejoin:round; stroke-width:4; stroke-opacity:1; fill:none\" points=\"\n  1562.5,405.219 1564.69,386.935 1566.89,370.04 1569.08,354.404 1571.27,339.911 1573.46,326.457 1575.65,313.952 1577.85,302.312 1580.04,291.464 1582.23,281.34 \n  1584.42,271.882 1586.61,263.034 1588.81,254.749 1591,246.982 1593.19,239.692 1595.38,232.844 1597.57,226.405 1599.77,220.343 1601.96,214.632 1604.15,209.247 \n  1606.34,204.164 1608.54,199.362 1610.73,194.823 1612.92,190.527 1615.11,186.46 1617.3,182.605 1619.5,178.95 1621.69,175.481 1623.88,172.186 1626.07,169.055 \n  1628.26,166.078 1630.46,163.244 1632.65,160.546 1634.84,157.975 1637.03,155.524 1639.22,153.186 1641.42,150.955 1643.61,148.824 1645.8,146.787 1647.99,144.84 \n  1650.19,142.978 1652.38,141.196 1654.57,139.489 1656.76,137.854 1658.95,136.287 1661.15,134.785 1663.34,133.343 1665.53,131.96 1667.72,130.632 1669.91,129.356 \n  1672.11,128.129 1674.3,126.951 1676.49,125.817 1678.68,124.726 1680.87,123.676 1683.07,122.665 1685.26,121.691 1687.45,120.753 1689.64,119.848 1691.84,118.976 \n  1694.03,118.134 1696.22,117.322 1698.41,116.539 1700.6,115.782 1702.8,115.051 1704.99,114.345 1707.18,113.662 1709.37,113.002 1711.56,112.364 1713.76,111.747 \n  1715.95,111.149 1718.14,110.571 1720.33,110.012 1722.52,109.469 1724.72,108.944 1726.91,108.435 1729.1,107.942 1731.29,107.464 1733.49,107 1735.68,106.551 \n  1737.87,106.114 1740.06,105.691 1742.25,105.28 1744.45,104.881 1746.64,104.494 1748.83,104.117 1751.02,103.752 1753.21,103.397 1755.41,103.051 1757.6,102.716 \n  1759.79,102.389 1761.98,102.072 1764.17,101.763 1766.37,101.463 1768.56,101.17 1770.75,100.886 1772.94,100.609 1775.14,100.339 1777.33,100.077 1779.52,99.8207 \n  1781.71,99.5715 1783.9,99.3287 1786.1,99.0921 1788.29,98.8615 1790.48,98.6366 1792.67,98.4174 1794.86,98.2036 1797.06,97.9951 1799.25,97.7917 1801.44,97.5932 \n  1803.63,97.3996 1805.82,97.2106 1808.02,97.0262 1810.21,96.8461 1812.4,96.6703 1814.59,96.4986 1816.79,96.3309 1818.98,96.1671 1821.17,96.0071 1823.36,95.8508 \n  1825.55,95.698 1827.75,95.5487 1829.94,95.4028 1832.13,95.2601 1834.32,95.1207 1836.51,94.9843 1838.71,94.851 1840.9,94.7206 1843.09,94.593 1845.28,94.4682 \n  1847.47,94.3461 1849.67,94.2267 1851.86,94.1098 1854.05,93.9953 1856.24,93.8834 1858.44,93.7738 1860.63,93.6665 1862.82,93.5614 1865.01,93.4585 1867.2,93.3578 \n  1869.4,93.2591 1871.59,93.1625 1873.78,93.0678 1875.97,92.9751 1878.16,92.8843 1880.36,92.7952 1882.55,92.708 1884.74,92.6226 1886.93,92.5388 1889.12,92.4567 \n  1891.32,92.3762 1893.51,92.2973 1895.7,92.22 1897.89,92.1442 1900.09,92.0698 1902.28,91.9969 1904.47,91.9255 1906.66,91.8554 1908.85,91.7866 1911.05,91.7192 \n  1913.24,91.653 1915.43,91.5882 1917.62,91.5245 1919.81,91.4621 1922.01,91.4009 1924.2,91.3408 1926.39,91.2818 1928.58,91.224 1930.78,91.1672 1932.97,91.1115 \n  1935.16,91.0568 1937.35,91.0032 1939.54,90.9505 1941.74,90.8989 1943.93,90.8482 1946.12,90.7984 1948.31,90.7495 1950.5,90.7016 1952.7,90.6545 1954.89,90.6083 \n  1957.08,90.563 1959.27,90.5185 1961.46,90.4748 1963.66,90.4319 1965.85,90.3898 1968.04,90.3485 1970.23,90.3079 1972.43,90.2681 1974.62,90.2291 1976.81,90.1907 \n  1979,90.153 1981.19,90.1161 1983.39,90.0798 1985.58,90.0442 1987.77,90.0093 1989.96,89.975 1992.15,89.9413 1994.35,89.9083 1996.54,89.8759 1998.73,89.8441 \n  2000.92,89.8129 2003.11,89.7823 2005.31,89.7523 2007.5,89.7229 2009.69,89.694 2011.88,89.6657 2014.08,89.6379 2016.27,89.6107 2018.46,89.584 2020.65,89.5578 \n  2022.84,89.5321 2025.04,89.507 2027.23,89.4823 2029.42,89.4582 2031.61,89.4346 2033.8,89.4114 2036,89.3887 2038.19,89.3665 2040.38,89.3448 2042.57,89.3235 \n  2044.76,89.3027 2046.96,89.2824 2049.15,89.2625 2051.34,89.2431 2053.53,89.2241 2055.73,89.2055 2057.92,89.1874 2060.11,89.1697 2062.3,89.1524 2064.49,89.1356 \n  2066.69,89.1192 2068.88,89.1032 2071.07,89.0876 2073.26,89.0725 2075.45,89.0577 2077.65,89.0434 2079.84,89.0295 2082.03,89.016 2084.22,89.0029 2086.41,88.9902 \n  2088.61,88.9779 2090.8,88.9661 2092.99,88.9546 2095.18,88.9435 2097.38,88.9329 2099.57,88.9226 2101.76,88.9128 2103.95,88.9033 2106.14,88.8943 2108.34,88.8857 \n  2110.53,88.8774 2112.72,88.8696 2114.91,88.8622 2117.1,88.8553 2119.3,88.8487 2121.49,88.8426 2123.68,88.8369 2125.87,88.8316 2128.06,88.8267 2130.26,88.8223 \n  2132.45,88.8183 2134.64,88.8148 2136.83,88.8117 2139.03,88.8091 2141.22,88.807 2143.41,88.8053 2145.6,88.8041 2147.79,88.8033 2149.99,88.8031 2152.18,88.8034 \n  2154.37,88.8041 2156.56,88.8054 2158.75,88.8073 2160.95,88.8096 2163.14,88.8126 2165.33,88.8161 2167.52,88.8201 2169.71,88.8248 2171.91,88.8301 2174.1,88.836 \n  2176.29,88.8425 2178.48,88.8497 2180.68,88.8576 2182.87,88.8662 2185.06,88.8755 2187.25,88.8855 2189.44,88.8964 2191.64,88.908 2193.83,88.9204 2196.02,88.9337 \n  2198.21,88.9479 2200.4,88.963 2202.6,88.9791 2204.79,88.9962 2206.98,89.0143 2209.17,89.0335 2211.36,89.0538 2213.56,89.0753 2215.75,89.0981 2217.94,89.1222 \n  2220.13,89.1476 2222.33,89.1744 2224.52,89.2028 2226.71,89.2328 2228.9,89.2644 2231.09,89.2978 2233.29,89.3331 2235.48,89.3704 2237.67,89.4098 2239.86,89.4515 \n  2242.05,89.4956 2244.25,89.5422 2246.44,89.5915 2248.63,89.6438 2250.82,89.6992 2253.01,89.7579 2255.21,89.8204 2257.4,89.8867 2259.59,89.9573 2261.78,90.0326 \n  2263.98,90.1128 2266.17,90.1986 2268.36,90.2903 2270.55,90.3887 2272.74,90.4943 2274.94,90.608 2277.13,90.7307 2279.32,90.8633 2281.51,91.007 2283.7,91.1634 \n  2285.9,91.3339 2288.09,91.5206 2290.28,91.7259 2292.47,91.9526 2294.67,92.2041 2296.86,92.4847 2299.05,92.7999 2301.24,93.1564 2303.43,93.5629 2305.63,94.0309 \n  2307.82,94.5757 2310.01,95.2186 2312.2,95.9891 2314.39,96.9309 2316.59,98.1106 2318.78,99.6357 2320.97,101.693 2323.16,104.639 2325.35,109.261 2327.55,117.751 \n  2329.74,139.83 \n  \"/>\n<polyline clip-path=\"url(#clip873)\" style=\"stroke:#3da44d; stroke-linecap:butt; stroke-linejoin:round; stroke-width:4; stroke-opacity:1; fill:none\" points=\"\n  1562.5,214.285 1564.69,206.987 1566.89,200.24 1569.08,193.994 1571.27,188.202 1573.46,182.824 1575.65,177.824 1577.85,173.167 1580.04,168.826 1582.23,164.774 \n  1584.42,160.987 1586.61,157.443 1588.81,154.123 1591,151.009 1593.19,148.086 1595.38,145.339 1597.57,142.755 1599.77,140.322 1601.96,138.029 1604.15,135.866 \n  1606.34,133.824 1608.54,131.894 1610.73,130.069 1612.92,128.341 1615.11,126.704 1617.3,125.153 1619.5,123.681 1621.69,122.284 1623.88,120.957 1626.07,119.695 \n  1628.26,118.494 1630.46,117.352 1632.65,116.263 1634.84,115.226 1637.03,114.236 1639.22,113.292 1641.42,112.39 1643.61,111.529 1645.8,110.706 1647.99,109.919 \n  1650.19,109.165 1652.38,108.444 1654.57,107.753 1656.76,107.091 1658.95,106.457 1661.15,105.848 1663.34,105.264 1665.53,104.703 1667.72,104.164 1669.91,103.646 \n  1672.11,103.149 1674.3,102.67 1676.49,102.21 1678.68,101.767 1680.87,101.34 1683.07,100.929 1685.26,100.533 1687.45,100.151 1689.64,99.783 1691.84,99.428 \n  1694.03,99.0854 1696.22,98.7547 1698.41,98.4354 1700.6,98.127 1702.8,97.829 1704.99,97.541 1707.18,97.2625 1709.37,96.9932 1711.56,96.7327 1713.76,96.4806 \n  1715.95,96.2367 1718.14,96.0004 1720.33,95.7716 1722.52,95.55 1724.72,95.3352 1726.91,95.127 1729.1,94.9252 1731.29,94.7295 1733.49,94.5396 1735.68,94.3555 \n  1737.87,94.1767 1740.06,94.0032 1742.25,93.8347 1744.45,93.6711 1746.64,93.5121 1748.83,93.3577 1751.02,93.2077 1753.21,93.0618 1755.41,92.92 1757.6,92.7821 \n  1759.79,92.648 1761.98,92.5175 1764.17,92.3905 1766.37,92.2669 1768.56,92.1467 1770.75,92.0296 1772.94,91.9155 1775.14,91.8045 1777.33,91.6963 1779.52,91.5909 \n  1781.71,91.4882 1783.9,91.3881 1786.1,91.2905 1788.29,91.1954 1790.48,91.1026 1792.67,91.0121 1794.86,90.9239 1797.06,90.8377 1799.25,90.7537 1801.44,90.6717 \n  1803.63,90.5917 1805.82,90.5136 1808.02,90.4373 1810.21,90.3628 1812.4,90.29 1814.59,90.219 1816.79,90.1496 1818.98,90.0817 1821.17,90.0155 1823.36,89.9507 \n  1825.55,89.8874 1827.75,89.8255 1829.94,89.765 1832.13,89.7059 1834.32,89.648 1836.51,89.5914 1838.71,89.5361 1840.9,89.4819 1843.09,89.429 1845.28,89.3771 \n  1847.47,89.3264 1849.67,89.2768 1851.86,89.2282 1854.05,89.1806 1856.24,89.1341 1858.44,89.0885 1860.63,89.0438 1862.82,89.0001 1865.01,88.9573 1867.2,88.9154 \n  1869.4,88.8743 1871.59,88.834 1873.78,88.7946 1875.97,88.756 1878.16,88.7181 1880.36,88.681 1882.55,88.6446 1884.74,88.609 1886.93,88.5741 1889.12,88.5398 \n  1891.32,88.5062 1893.51,88.4733 1895.7,88.441 1897.89,88.4094 1900.09,88.3783 1902.28,88.3479 1904.47,88.318 1906.66,88.2888 1908.85,88.26 1911.05,88.2318 \n  1913.24,88.2042 1915.43,88.1771 1917.62,88.1505 1919.81,88.1244 1922.01,88.0988 1924.2,88.0736 1926.39,88.049 1928.58,88.0247 1930.78,88.001 1932.97,87.9777 \n  1935.16,87.9548 1937.35,87.9323 1939.54,87.9103 1941.74,87.8887 1943.93,87.8674 1946.12,87.8466 1948.31,87.8261 1950.5,87.8061 1952.7,87.7863 1954.89,87.767 \n  1957.08,87.748 1959.27,87.7293 1961.46,87.711 1963.66,87.6931 1965.85,87.6754 1968.04,87.6581 1970.23,87.6411 1972.43,87.6244 1974.62,87.6081 1976.81,87.592 \n  1979,87.5762 1981.19,87.5607 1983.39,87.5455 1985.58,87.5306 1987.77,87.516 1989.96,87.5016 1992.15,87.4875 1994.35,87.4737 1996.54,87.4601 1998.73,87.4468 \n  2000.92,87.4337 2003.11,87.4209 2005.31,87.4083 2007.5,87.396 2009.69,87.3839 2011.88,87.3721 2014.08,87.3605 2016.27,87.3491 2018.46,87.3379 2020.65,87.327 \n  2022.84,87.3162 2025.04,87.3057 2027.23,87.2954 2029.42,87.2853 2031.61,87.2755 2033.8,87.2658 2036,87.2563 2038.19,87.2471 2040.38,87.238 2042.57,87.2292 \n  2044.76,87.2205 2046.96,87.212 2049.15,87.2038 2051.34,87.1957 2053.53,87.1878 2055.73,87.1801 2057.92,87.1726 2060.11,87.1652 2062.3,87.1581 2064.49,87.1511 \n  2066.69,87.1444 2068.88,87.1377 2071.07,87.1313 2073.26,87.1251 2075.45,87.119 2077.65,87.1131 2079.84,87.1074 2082.03,87.1019 2084.22,87.0965 2086.41,87.0914 \n  2088.61,87.0864 2090.8,87.0815 2092.99,87.0769 2095.18,87.0724 2097.38,87.0681 2099.57,87.064 2101.76,87.06 2103.95,87.0562 2106.14,87.0526 2108.34,87.0492 \n  2110.53,87.046 2112.72,87.0429 2114.91,87.04 2117.1,87.0373 2119.3,87.0348 2121.49,87.0325 2123.68,87.0303 2125.87,87.0284 2128.06,87.0266 2130.26,87.025 \n  2132.45,87.0236 2134.64,87.0225 2136.83,87.0215 2139.03,87.0207 2141.22,87.0201 2143.41,87.0197 2145.6,87.0195 2147.79,87.0196 2149.99,87.0198 2152.18,87.0203 \n  2154.37,87.021 2156.56,87.0219 2158.75,87.0231 2160.95,87.0245 2163.14,87.0262 2165.33,87.0281 2167.52,87.0302 2169.71,87.0326 2171.91,87.0353 2174.1,87.0383 \n  2176.29,87.0415 2178.48,87.045 2180.68,87.0489 2182.87,87.053 2185.06,87.0575 2187.25,87.0623 2189.44,87.0674 2191.64,87.0729 2193.83,87.0788 2196.02,87.085 \n  2198.21,87.0916 2200.4,87.0986 2202.6,87.1061 2204.79,87.114 2206.98,87.1223 2209.17,87.1312 2211.36,87.1405 2213.56,87.1503 2215.75,87.1607 2217.94,87.1717 \n  2220.13,87.1833 2222.33,87.1955 2224.52,87.2083 2226.71,87.2219 2228.9,87.2362 2231.09,87.2513 2233.29,87.2672 2235.48,87.284 2237.67,87.3017 2239.86,87.3204 \n  2242.05,87.3401 2244.25,87.361 2246.44,87.383 2248.63,87.4063 2250.82,87.431 2253.01,87.4572 2255.21,87.4849 2257.4,87.5144 2259.59,87.5457 2261.78,87.579 \n  2263.98,87.6145 2266.17,87.6524 2268.36,87.6928 2270.55,87.7362 2272.74,87.7826 2274.94,87.8326 2277.13,87.8864 2279.32,87.9445 2281.51,88.0074 2283.7,88.0756 \n  2285.9,88.15 2288.09,88.2313 2290.28,88.3206 2292.47,88.419 2294.67,88.5279 2296.86,88.6493 2299.05,88.7854 2301.24,88.939 2303.43,89.1138 2305.63,89.3146 \n  2307.82,89.548 2310.01,89.8226 2312.2,90.1509 2314.39,90.5512 2316.59,91.0511 2318.78,91.6956 2320.97,92.5619 2323.16,93.7981 2325.35,95.7298 2327.55,99.262 \n  2329.74,108.398 \n  \"/>\n<polyline clip-path=\"url(#clip873)\" style=\"stroke:#c271d2; stroke-linecap:butt; stroke-linejoin:round; stroke-width:4; stroke-opacity:1; fill:none\" points=\"\n  1562.5,144.913 1564.69,141.548 1566.89,138.436 1569.08,135.556 1571.27,132.885 1573.46,130.405 1575.65,128.099 1577.85,125.951 1580.04,123.949 1582.23,122.08 \n  1584.42,120.333 1586.61,118.699 1588.81,117.167 1591,115.731 1593.19,114.383 1595.38,113.116 1597.57,111.924 1599.77,110.801 1601.96,109.744 1604.15,108.746 \n  1606.34,107.803 1608.54,106.913 1610.73,106.071 1612.92,105.274 1615.11,104.519 1617.3,103.803 1619.5,103.124 1621.69,102.479 1623.88,101.867 1626.07,101.285 \n  1628.26,100.731 1630.46,100.203 1632.65,99.7011 1634.84,99.2224 1637.03,98.7658 1639.22,98.33 1641.42,97.914 1643.61,97.5166 1645.8,97.1366 1647.99,96.7733 \n  1650.19,96.4256 1652.38,96.0927 1654.57,95.7739 1656.76,95.4683 1658.95,95.1754 1661.15,94.8944 1663.34,94.6247 1665.53,94.3658 1667.72,94.1171 1669.91,93.8782 \n  1672.11,93.6484 1674.3,93.4275 1676.49,93.2149 1678.68,93.0104 1680.87,92.8134 1683.07,92.6236 1685.26,92.4408 1687.45,92.2645 1689.64,92.0946 1691.84,91.9307 \n  1694.03,91.7725 1696.22,91.6198 1698.41,91.4724 1700.6,91.3299 1702.8,91.1923 1704.99,91.0593 1707.18,90.9308 1709.37,90.8064 1711.56,90.6861 1713.76,90.5697 \n  1715.95,90.457 1718.14,90.3479 1720.33,90.2422 1722.52,90.1399 1724.72,90.0407 1726.91,89.9445 1729.1,89.8513 1731.29,89.7609 1733.49,89.6732 1735.68,89.5881 \n  1737.87,89.5055 1740.06,89.4254 1742.25,89.3476 1744.45,89.272 1746.64,89.1985 1748.83,89.1272 1751.02,89.0579 1753.21,88.9905 1755.41,88.925 1757.6,88.8612 \n  1759.79,88.7993 1761.98,88.739 1764.17,88.6803 1766.37,88.6232 1768.56,88.5676 1770.75,88.5135 1772.94,88.4608 1775.14,88.4095 1777.33,88.3595 1779.52,88.3108 \n  1781.71,88.2633 1783.9,88.2171 1786.1,88.172 1788.29,88.128 1790.48,88.0851 1792.67,88.0433 1794.86,88.0025 1797.06,87.9627 1799.25,87.9238 1801.44,87.8859 \n  1803.63,87.8489 1805.82,87.8128 1808.02,87.7775 1810.21,87.7431 1812.4,87.7094 1814.59,87.6766 1816.79,87.6445 1818.98,87.6131 1821.17,87.5825 1823.36,87.5525 \n  1825.55,87.5232 1827.75,87.4946 1829.94,87.4666 1832.13,87.4393 1834.32,87.4125 1836.51,87.3863 1838.71,87.3607 1840.9,87.3357 1843.09,87.3112 1845.28,87.2872 \n  1847.47,87.2637 1849.67,87.2408 1851.86,87.2183 1854.05,87.1963 1856.24,87.1747 1858.44,87.1536 1860.63,87.133 1862.82,87.1127 1865.01,87.0929 1867.2,87.0735 \n  1869.4,87.0545 1871.59,87.0358 1873.78,87.0176 1875.97,86.9997 1878.16,86.9821 1880.36,86.965 1882.55,86.9481 1884.74,86.9316 1886.93,86.9154 1889.12,86.8996 \n  1891.32,86.884 1893.51,86.8688 1895.7,86.8538 1897.89,86.8391 1900.09,86.8247 1902.28,86.8106 1904.47,86.7968 1906.66,86.7832 1908.85,86.7699 1911.05,86.7568 \n  1913.24,86.744 1915.43,86.7314 1917.62,86.7191 1919.81,86.707 1922.01,86.6951 1924.2,86.6834 1926.39,86.672 1928.58,86.6608 1930.78,86.6497 1932.97,86.6389 \n  1935.16,86.6283 1937.35,86.6179 1939.54,86.6076 1941.74,86.5976 1943.93,86.5877 1946.12,86.578 1948.31,86.5685 1950.5,86.5592 1952.7,86.55 1954.89,86.541 \n  1957.08,86.5322 1959.27,86.5235 1961.46,86.515 1963.66,86.5066 1965.85,86.4984 1968.04,86.4904 1970.23,86.4825 1972.43,86.4747 1974.62,86.4671 1976.81,86.4596 \n  1979,86.4522 1981.19,86.445 1983.39,86.4379 1985.58,86.431 1987.77,86.4241 1989.96,86.4174 1992.15,86.4108 1994.35,86.4044 1996.54,86.398 1998.73,86.3918 \n  2000.92,86.3857 2003.11,86.3797 2005.31,86.3738 2007.5,86.3681 2009.69,86.3624 2011.88,86.3569 2014.08,86.3514 2016.27,86.3461 2018.46,86.3408 2020.65,86.3357 \n  2022.84,86.3307 2025.04,86.3257 2027.23,86.3209 2029.42,86.3161 2031.61,86.3115 2033.8,86.3069 2036,86.3025 2038.19,86.2981 2040.38,86.2938 2042.57,86.2897 \n  2044.76,86.2856 2046.96,86.2816 2049.15,86.2776 2051.34,86.2738 2053.53,86.2701 2055.73,86.2664 2057.92,86.2628 2060.11,86.2593 2062.3,86.2559 2064.49,86.2526 \n  2066.69,86.2494 2068.88,86.2462 2071.07,86.2431 2073.26,86.2401 2075.45,86.2372 2077.65,86.2344 2079.84,86.2316 2082.03,86.2289 2084.22,86.2263 2086.41,86.2238 \n  2088.61,86.2214 2090.8,86.219 2092.99,86.2167 2095.18,86.2145 2097.38,86.2124 2099.57,86.2103 2101.76,86.2084 2103.95,86.2065 2106.14,86.2046 2108.34,86.2029 \n  2110.53,86.2013 2112.72,86.1997 2114.91,86.1982 2117.1,86.1968 2119.3,86.1954 2121.49,86.1942 2123.68,86.193 2125.87,86.1919 2128.06,86.1909 2130.26,86.19 \n  2132.45,86.1892 2134.64,86.1884 2136.83,86.1878 2139.03,86.1872 2141.22,86.1867 2143.41,86.1863 2145.6,86.186 2147.79,86.1858 2149.99,86.1857 2152.18,86.1857 \n  2154.37,86.1858 2156.56,86.1859 2158.75,86.1862 2160.95,86.1866 2163.14,86.1871 2165.33,86.1877 2167.52,86.1884 2169.71,86.1892 2171.91,86.1901 2174.1,86.1912 \n  2176.29,86.1924 2178.48,86.1937 2180.68,86.1951 2182.87,86.1967 2185.06,86.1984 2187.25,86.2002 2189.44,86.2022 2191.64,86.2044 2193.83,86.2067 2196.02,86.2091 \n  2198.21,86.2117 2200.4,86.2145 2202.6,86.2175 2204.79,86.2207 2206.98,86.224 2209.17,86.2276 2211.36,86.2314 2213.56,86.2354 2215.75,86.2396 2217.94,86.2441 \n  2220.13,86.2488 2222.33,86.2538 2224.52,86.2591 2226.71,86.2646 2228.9,86.2705 2231.09,86.2767 2233.29,86.2833 2235.48,86.2902 2237.67,86.2975 2239.86,86.3052 \n  2242.05,86.3134 2244.25,86.322 2246.44,86.3311 2248.63,86.3408 2250.82,86.3511 2253.01,86.3619 2255.21,86.3734 2257.4,86.3857 2259.59,86.3987 2261.78,86.4125 \n  2263.98,86.4273 2266.17,86.443 2268.36,86.4599 2270.55,86.4779 2272.74,86.4972 2274.94,86.518 2277.13,86.5404 2279.32,86.5646 2281.51,86.5907 2283.7,86.6191 \n  2285.9,86.6501 2288.09,86.6839 2290.28,86.721 2292.47,86.7619 2294.67,86.8072 2296.86,86.8576 2299.05,86.9141 2301.24,86.9779 2303.43,87.0504 2305.63,87.1337 \n  2307.82,87.2304 2310.01,87.3441 2312.2,87.48 2314.39,87.6456 2316.59,87.8523 2318.78,88.1184 2320.97,88.4759 2323.16,88.9854 2325.35,89.7808 2327.55,91.2334 \n  2329.74,94.9854 \n  \"/>\n<path clip-path=\"url(#clip870)\" d=\"\nM1920.37 352.309 L2325.65 352.309 L2325.65 93.1086 L1920.37 93.1086  Z\n  \" fill=\"#ffffff\" fill-rule=\"evenodd\" fill-opacity=\"1\"/>\n<polyline clip-path=\"url(#clip870)\" style=\"stroke:#000000; stroke-linecap:butt; stroke-linejoin:round; stroke-width:4; stroke-opacity:1; fill:none\" points=\"\n  1920.37,352.309 2325.65,352.309 2325.65,93.1086 1920.37,93.1086 1920.37,352.309 \n  \"/>\n<polyline clip-path=\"url(#clip870)\" style=\"stroke:#009af9; stroke-linecap:butt; stroke-linejoin:round; stroke-width:4; stroke-opacity:1; fill:none\" points=\"\n  1944.37,144.949 2088.37,144.949 \n  \"/>\n<path clip-path=\"url(#clip870)\" d=\"M2112.37 126.21 L2116.65 126.21 L2116.65 147.483 L2129.36 136.303 L2134.8 136.303 L2121.05 148.432 L2135.38 162.229 L2129.82 162.229 L2116.65 149.567 L2116.65 162.229 L2112.37 162.229 L2112.37 126.21 Z\" fill=\"#000000\" fill-rule=\"evenodd\" fill-opacity=\"1\" /><path clip-path=\"url(#clip870)\" d=\"M2140.54 140.701 L2170.22 140.701 L2170.22 144.59 L2140.54 144.59 L2140.54 140.701 M2140.54 150.145 L2170.22 150.145 L2170.22 154.081 L2140.54 154.081 L2140.54 150.145 Z\" fill=\"#000000\" fill-rule=\"evenodd\" fill-opacity=\"1\" /><path clip-path=\"url(#clip870)\" d=\"M2190.31 130.747 Q2186.7 130.747 2184.87 134.312 Q2183.06 137.854 2183.06 144.983 Q2183.06 152.09 2184.87 155.655 Q2186.7 159.196 2190.31 159.196 Q2193.94 159.196 2195.75 155.655 Q2197.58 152.09 2197.58 144.983 Q2197.58 137.854 2195.75 134.312 Q2193.94 130.747 2190.31 130.747 M2190.31 127.044 Q2196.12 127.044 2199.18 131.65 Q2202.25 136.233 2202.25 144.983 Q2202.25 153.71 2199.18 158.317 Q2196.12 162.9 2190.31 162.9 Q2184.5 162.9 2181.42 158.317 Q2178.36 153.71 2178.36 144.983 Q2178.36 136.233 2181.42 131.65 Q2184.5 127.044 2190.31 127.044 Z\" fill=\"#000000\" fill-rule=\"evenodd\" fill-opacity=\"1\" /><path clip-path=\"url(#clip870)\" d=\"M2210.47 156.349 L2215.36 156.349 L2215.36 162.229 L2210.47 162.229 L2210.47 156.349 Z\" fill=\"#000000\" fill-rule=\"evenodd\" fill-opacity=\"1\" /><path clip-path=\"url(#clip870)\" d=\"M2235.54 130.747 Q2231.93 130.747 2230.1 134.312 Q2228.3 137.854 2228.3 144.983 Q2228.3 152.09 2230.1 155.655 Q2231.93 159.196 2235.54 159.196 Q2239.17 159.196 2240.98 155.655 Q2242.81 152.09 2242.81 144.983 Q2242.81 137.854 2240.98 134.312 Q2239.17 130.747 2235.54 130.747 M2235.54 127.044 Q2241.35 127.044 2244.41 131.65 Q2247.48 136.233 2247.48 144.983 Q2247.48 153.71 2244.41 158.317 Q2241.35 162.9 2235.54 162.9 Q2229.73 162.9 2226.65 158.317 Q2223.6 153.71 2223.6 144.983 Q2223.6 136.233 2226.65 131.65 Q2229.73 127.044 2235.54 127.044 Z\" fill=\"#000000\" fill-rule=\"evenodd\" fill-opacity=\"1\" /><path clip-path=\"url(#clip870)\" d=\"M2269.87 143.594 Q2273.23 144.312 2275.1 146.581 Q2277 148.849 2277 152.182 Q2277 157.298 2273.48 160.099 Q2269.96 162.9 2263.48 162.9 Q2261.3 162.9 2258.99 162.46 Q2256.7 162.043 2254.24 161.187 L2254.24 156.673 Q2256.19 157.807 2258.5 158.386 Q2260.82 158.965 2263.34 158.965 Q2267.74 158.965 2270.03 157.229 Q2272.35 155.493 2272.35 152.182 Q2272.35 149.127 2270.19 147.414 Q2268.06 145.678 2264.24 145.678 L2260.22 145.678 L2260.22 141.835 L2264.43 141.835 Q2267.88 141.835 2269.71 140.469 Q2271.54 139.081 2271.54 136.488 Q2271.54 133.826 2269.64 132.414 Q2267.76 130.979 2264.24 130.979 Q2262.32 130.979 2260.12 131.395 Q2257.92 131.812 2255.29 132.692 L2255.29 128.525 Q2257.95 127.784 2260.26 127.414 Q2262.6 127.044 2264.66 127.044 Q2269.98 127.044 2273.09 129.474 Q2276.19 131.882 2276.19 136.002 Q2276.19 138.872 2274.54 140.863 Q2272.9 142.831 2269.87 143.594 Z\" fill=\"#000000\" fill-rule=\"evenodd\" fill-opacity=\"1\" /><polyline clip-path=\"url(#clip870)\" style=\"stroke:#e26f46; stroke-linecap:butt; stroke-linejoin:round; stroke-width:4; stroke-opacity:1; fill:none\" points=\"\n  1944.37,196.789 2088.37,196.789 \n  \"/>\n<path clip-path=\"url(#clip870)\" d=\"M2112.37 178.05 L2116.65 178.05 L2116.65 199.323 L2129.36 188.143 L2134.8 188.143 L2121.05 200.272 L2135.38 214.069 L2129.82 214.069 L2116.65 201.407 L2116.65 214.069 L2112.37 214.069 L2112.37 178.05 Z\" fill=\"#000000\" fill-rule=\"evenodd\" fill-opacity=\"1\" /><path clip-path=\"url(#clip870)\" d=\"M2140.54 192.541 L2170.22 192.541 L2170.22 196.43 L2140.54 196.43 L2140.54 192.541 M2140.54 201.985 L2170.22 201.985 L2170.22 205.921 L2140.54 205.921 L2140.54 201.985 Z\" fill=\"#000000\" fill-rule=\"evenodd\" fill-opacity=\"1\" /><path clip-path=\"url(#clip870)\" d=\"M2190.31 182.587 Q2186.7 182.587 2184.87 186.152 Q2183.06 189.694 2183.06 196.823 Q2183.06 203.93 2184.87 207.495 Q2186.7 211.036 2190.31 211.036 Q2193.94 211.036 2195.75 207.495 Q2197.58 203.93 2197.58 196.823 Q2197.58 189.694 2195.75 186.152 Q2193.94 182.587 2190.31 182.587 M2190.31 178.884 Q2196.12 178.884 2199.18 183.49 Q2202.25 188.073 2202.25 196.823 Q2202.25 205.55 2199.18 210.157 Q2196.12 214.74 2190.31 214.74 Q2184.5 214.74 2181.42 210.157 Q2178.36 205.55 2178.36 196.823 Q2178.36 188.073 2181.42 183.49 Q2184.5 178.884 2190.31 178.884 Z\" fill=\"#000000\" fill-rule=\"evenodd\" fill-opacity=\"1\" /><path clip-path=\"url(#clip870)\" d=\"M2210.47 208.189 L2215.36 208.189 L2215.36 214.069 L2210.47 214.069 L2210.47 208.189 Z\" fill=\"#000000\" fill-rule=\"evenodd\" fill-opacity=\"1\" /><path clip-path=\"url(#clip870)\" d=\"M2239.71 195.434 Q2243.06 196.152 2244.94 198.421 Q2246.84 200.689 2246.84 204.022 Q2246.84 209.138 2243.32 211.939 Q2239.8 214.74 2233.32 214.74 Q2231.14 214.74 2228.83 214.3 Q2226.54 213.883 2224.08 213.027 L2224.08 208.513 Q2226.03 209.647 2228.34 210.226 Q2230.66 210.805 2233.18 210.805 Q2237.58 210.805 2239.87 209.069 Q2242.18 207.333 2242.18 204.022 Q2242.18 200.967 2240.03 199.254 Q2237.9 197.518 2234.08 197.518 L2230.05 197.518 L2230.05 193.675 L2234.27 193.675 Q2237.72 193.675 2239.55 192.309 Q2241.37 190.921 2241.37 188.328 Q2241.37 185.666 2239.48 184.254 Q2237.6 182.819 2234.08 182.819 Q2232.16 182.819 2229.96 183.235 Q2227.76 183.652 2225.12 184.532 L2225.12 180.365 Q2227.79 179.624 2230.1 179.254 Q2232.44 178.884 2234.5 178.884 Q2239.82 178.884 2242.92 181.314 Q2246.03 183.722 2246.03 187.842 Q2246.03 190.712 2244.38 192.703 Q2242.74 194.671 2239.71 195.434 Z\" fill=\"#000000\" fill-rule=\"evenodd\" fill-opacity=\"1\" /><polyline clip-path=\"url(#clip870)\" style=\"stroke:#3da44d; stroke-linecap:butt; stroke-linejoin:round; stroke-width:4; stroke-opacity:1; fill:none\" points=\"\n  1944.37,248.629 2088.37,248.629 \n  \"/>\n<path clip-path=\"url(#clip870)\" d=\"M2112.37 229.89 L2116.65 229.89 L2116.65 251.163 L2129.36 239.983 L2134.8 239.983 L2121.05 252.112 L2135.38 265.909 L2129.82 265.909 L2116.65 253.247 L2116.65 265.909 L2112.37 265.909 L2112.37 229.89 Z\" fill=\"#000000\" fill-rule=\"evenodd\" fill-opacity=\"1\" /><path clip-path=\"url(#clip870)\" d=\"M2140.54 244.381 L2170.22 244.381 L2170.22 248.27 L2140.54 248.27 L2140.54 244.381 M2140.54 253.825 L2170.22 253.825 L2170.22 257.761 L2140.54 257.761 L2140.54 253.825 Z\" fill=\"#000000\" fill-rule=\"evenodd\" fill-opacity=\"1\" /><path clip-path=\"url(#clip870)\" d=\"M2194.48 247.274 Q2197.83 247.992 2199.71 250.261 Q2201.61 252.529 2201.61 255.862 Q2201.61 260.978 2198.09 263.779 Q2194.57 266.58 2188.09 266.58 Q2185.91 266.58 2183.6 266.14 Q2181.3 265.723 2178.85 264.867 L2178.85 260.353 Q2180.8 261.487 2183.11 262.066 Q2185.43 262.645 2187.95 262.645 Q2192.35 262.645 2194.64 260.909 Q2196.95 259.173 2196.95 255.862 Q2196.95 252.807 2194.8 251.094 Q2192.67 249.358 2188.85 249.358 L2184.82 249.358 L2184.82 245.515 L2189.04 245.515 Q2192.49 245.515 2194.31 244.149 Q2196.14 242.761 2196.14 240.168 Q2196.14 237.506 2194.24 236.094 Q2192.37 234.659 2188.85 234.659 Q2186.93 234.659 2184.73 235.075 Q2182.53 235.492 2179.89 236.372 L2179.89 232.205 Q2182.55 231.464 2184.87 231.094 Q2187.21 230.724 2189.27 230.724 Q2194.59 230.724 2197.69 233.154 Q2200.8 235.562 2200.8 239.682 Q2200.8 242.552 2199.15 244.543 Q2197.51 246.511 2194.48 247.274 Z\" fill=\"#000000\" fill-rule=\"evenodd\" fill-opacity=\"1\" /><path clip-path=\"url(#clip870)\" d=\"M2210.47 260.029 L2215.36 260.029 L2215.36 265.909 L2210.47 265.909 L2210.47 260.029 Z\" fill=\"#000000\" fill-rule=\"evenodd\" fill-opacity=\"1\" /><path clip-path=\"url(#clip870)\" d=\"M2235.54 234.427 Q2231.93 234.427 2230.1 237.992 Q2228.3 241.534 2228.3 248.663 Q2228.3 255.77 2230.1 259.335 Q2231.93 262.876 2235.54 262.876 Q2239.17 262.876 2240.98 259.335 Q2242.81 255.77 2242.81 248.663 Q2242.81 241.534 2240.98 237.992 Q2239.17 234.427 2235.54 234.427 M2235.54 230.724 Q2241.35 230.724 2244.41 235.33 Q2247.48 239.913 2247.48 248.663 Q2247.48 257.39 2244.41 261.997 Q2241.35 266.58 2235.54 266.58 Q2229.73 266.58 2226.65 261.997 Q2223.6 257.39 2223.6 248.663 Q2223.6 239.913 2226.65 235.33 Q2229.73 230.724 2235.54 230.724 Z\" fill=\"#000000\" fill-rule=\"evenodd\" fill-opacity=\"1\" /><polyline clip-path=\"url(#clip870)\" style=\"stroke:#c271d2; stroke-linecap:butt; stroke-linejoin:round; stroke-width:4; stroke-opacity:1; fill:none\" points=\"\n  1944.37,300.469 2088.37,300.469 \n  \"/>\n<path clip-path=\"url(#clip870)\" d=\"M2112.37 281.73 L2116.65 281.73 L2116.65 303.003 L2129.36 291.823 L2134.8 291.823 L2121.05 303.952 L2135.38 317.749 L2129.82 317.749 L2116.65 305.087 L2116.65 317.749 L2112.37 317.749 L2112.37 281.73 Z\" fill=\"#000000\" fill-rule=\"evenodd\" fill-opacity=\"1\" /><path clip-path=\"url(#clip870)\" d=\"M2140.54 296.221 L2170.22 296.221 L2170.22 300.11 L2140.54 300.11 L2140.54 296.221 M2140.54 305.665 L2170.22 305.665 L2170.22 309.601 L2140.54 309.601 L2140.54 305.665 Z\" fill=\"#000000\" fill-rule=\"evenodd\" fill-opacity=\"1\" /><path clip-path=\"url(#clip870)\" d=\"M2194.48 299.114 Q2197.83 299.832 2199.71 302.101 Q2201.61 304.369 2201.61 307.702 Q2201.61 312.818 2198.09 315.619 Q2194.57 318.42 2188.09 318.42 Q2185.91 318.42 2183.6 317.98 Q2181.3 317.563 2178.85 316.707 L2178.85 312.193 Q2180.8 313.327 2183.11 313.906 Q2185.43 314.485 2187.95 314.485 Q2192.35 314.485 2194.64 312.749 Q2196.95 311.013 2196.95 307.702 Q2196.95 304.647 2194.8 302.934 Q2192.67 301.198 2188.85 301.198 L2184.82 301.198 L2184.82 297.355 L2189.04 297.355 Q2192.49 297.355 2194.31 295.989 Q2196.14 294.601 2196.14 292.008 Q2196.14 289.346 2194.24 287.934 Q2192.37 286.499 2188.85 286.499 Q2186.93 286.499 2184.73 286.915 Q2182.53 287.332 2179.89 288.212 L2179.89 284.045 Q2182.55 283.304 2184.87 282.934 Q2187.21 282.564 2189.27 282.564 Q2194.59 282.564 2197.69 284.994 Q2200.8 287.402 2200.8 291.522 Q2200.8 294.392 2199.15 296.383 Q2197.51 298.351 2194.48 299.114 Z\" fill=\"#000000\" fill-rule=\"evenodd\" fill-opacity=\"1\" /><path clip-path=\"url(#clip870)\" d=\"M2220.47 286.267 Q2216.86 286.267 2215.03 289.832 Q2213.23 293.374 2213.23 300.503 Q2213.23 307.61 2215.03 311.175 Q2216.86 314.716 2220.47 314.716 Q2224.11 314.716 2225.91 311.175 Q2227.74 307.61 2227.74 300.503 Q2227.74 293.374 2225.91 289.832 Q2224.11 286.267 2220.47 286.267 M2220.47 282.564 Q2226.28 282.564 2229.34 287.17 Q2232.42 291.753 2232.42 300.503 Q2232.42 309.23 2229.34 313.837 Q2226.28 318.42 2220.47 318.42 Q2214.66 318.42 2211.58 313.837 Q2208.53 309.23 2208.53 300.503 Q2208.53 291.753 2211.58 287.17 Q2214.66 282.564 2220.47 282.564 Z\" fill=\"#000000\" fill-rule=\"evenodd\" fill-opacity=\"1\" /><path clip-path=\"url(#clip870)\" d=\"M2240.63 311.869 L2245.52 311.869 L2245.52 317.749 L2240.63 317.749 L2240.63 311.869 Z\" fill=\"#000000\" fill-rule=\"evenodd\" fill-opacity=\"1\" /><path clip-path=\"url(#clip870)\" d=\"M2265.7 286.267 Q2262.09 286.267 2260.26 289.832 Q2258.46 293.374 2258.46 300.503 Q2258.46 307.61 2260.26 311.175 Q2262.09 314.716 2265.7 314.716 Q2269.34 314.716 2271.14 311.175 Q2272.97 307.61 2272.97 300.503 Q2272.97 293.374 2271.14 289.832 Q2269.34 286.267 2265.7 286.267 M2265.7 282.564 Q2271.51 282.564 2274.57 287.17 Q2277.65 291.753 2277.65 300.503 Q2277.65 309.23 2274.57 313.837 Q2271.51 318.42 2265.7 318.42 Q2259.89 318.42 2256.81 313.837 Q2253.76 309.23 2253.76 300.503 Q2253.76 291.753 2256.81 287.17 Q2259.89 282.564 2265.7 282.564 Z\" fill=\"#000000\" fill-rule=\"evenodd\" fill-opacity=\"1\" /></svg>\n",
      "text/html": [
       "<?xml version=\"1.0\" encoding=\"utf-8\"?>\n",
       "<svg xmlns=\"http://www.w3.org/2000/svg\" xmlns:xlink=\"http://www.w3.org/1999/xlink\" width=\"600\" height=\"400\" viewBox=\"0 0 2400 1600\">\n",
       "<defs>\n",
       "  <clipPath id=\"clip920\">\n",
       "    <rect x=\"0\" y=\"0\" width=\"2400\" height=\"1600\"/>\n",
       "  </clipPath>\n",
       "</defs>\n",
       "<path clip-path=\"url(#clip920)\" d=\"\n",
       "M0 1600 L2400 1600 L2400 0 L0 0  Z\n",
       "  \" fill=\"#ffffff\" fill-rule=\"evenodd\" fill-opacity=\"1\"/>\n",
       "<defs>\n",
       "  <clipPath id=\"clip921\">\n",
       "    <rect x=\"480\" y=\"0\" width=\"1681\" height=\"1600\"/>\n",
       "  </clipPath>\n",
       "</defs>\n",
       "<path clip-path=\"url(#clip920)\" d=\"\n",
       "M376.509 1423.18 L1189.78 1423.18 L1189.78 47.2441 L376.509 47.2441  Z\n",
       "  \" fill=\"#ffffff\" fill-rule=\"evenodd\" fill-opacity=\"1\"/>\n",
       "<defs>\n",
       "  <clipPath id=\"clip922\">\n",
       "    <rect x=\"376\" y=\"47\" width=\"814\" height=\"1377\"/>\n",
       "  </clipPath>\n",
       "</defs>\n",
       "<polyline clip-path=\"url(#clip922)\" style=\"stroke:#000000; stroke-linecap:butt; stroke-linejoin:round; stroke-width:2; stroke-opacity:0.1; fill:none\" points=\"\n",
       "  399.526,1423.18 399.526,47.2441 \n",
       "  \"/>\n",
       "<polyline clip-path=\"url(#clip922)\" style=\"stroke:#000000; stroke-linecap:butt; stroke-linejoin:round; stroke-width:2; stroke-opacity:0.1; fill:none\" points=\"\n",
       "  591.336,1423.18 591.336,47.2441 \n",
       "  \"/>\n",
       "<polyline clip-path=\"url(#clip922)\" style=\"stroke:#000000; stroke-linecap:butt; stroke-linejoin:round; stroke-width:2; stroke-opacity:0.1; fill:none\" points=\"\n",
       "  783.145,1423.18 783.145,47.2441 \n",
       "  \"/>\n",
       "<polyline clip-path=\"url(#clip922)\" style=\"stroke:#000000; stroke-linecap:butt; stroke-linejoin:round; stroke-width:2; stroke-opacity:0.1; fill:none\" points=\"\n",
       "  974.955,1423.18 974.955,47.2441 \n",
       "  \"/>\n",
       "<polyline clip-path=\"url(#clip922)\" style=\"stroke:#000000; stroke-linecap:butt; stroke-linejoin:round; stroke-width:2; stroke-opacity:0.1; fill:none\" points=\"\n",
       "  1166.76,1423.18 1166.76,47.2441 \n",
       "  \"/>\n",
       "<polyline clip-path=\"url(#clip920)\" style=\"stroke:#000000; stroke-linecap:butt; stroke-linejoin:round; stroke-width:4; stroke-opacity:1; fill:none\" points=\"\n",
       "  376.509,1423.18 1189.78,1423.18 \n",
       "  \"/>\n",
       "<polyline clip-path=\"url(#clip920)\" style=\"stroke:#000000; stroke-linecap:butt; stroke-linejoin:round; stroke-width:4; stroke-opacity:1; fill:none\" points=\"\n",
       "  399.526,1423.18 399.526,1404.28 \n",
       "  \"/>\n",
       "<polyline clip-path=\"url(#clip920)\" style=\"stroke:#000000; stroke-linecap:butt; stroke-linejoin:round; stroke-width:4; stroke-opacity:1; fill:none\" points=\"\n",
       "  591.336,1423.18 591.336,1404.28 \n",
       "  \"/>\n",
       "<polyline clip-path=\"url(#clip920)\" style=\"stroke:#000000; stroke-linecap:butt; stroke-linejoin:round; stroke-width:4; stroke-opacity:1; fill:none\" points=\"\n",
       "  783.145,1423.18 783.145,1404.28 \n",
       "  \"/>\n",
       "<polyline clip-path=\"url(#clip920)\" style=\"stroke:#000000; stroke-linecap:butt; stroke-linejoin:round; stroke-width:4; stroke-opacity:1; fill:none\" points=\"\n",
       "  974.955,1423.18 974.955,1404.28 \n",
       "  \"/>\n",
       "<polyline clip-path=\"url(#clip920)\" style=\"stroke:#000000; stroke-linecap:butt; stroke-linejoin:round; stroke-width:4; stroke-opacity:1; fill:none\" points=\"\n",
       "  1166.76,1423.18 1166.76,1404.28 \n",
       "  \"/>\n",
       "<path clip-path=\"url(#clip920)\" d=\"M361.83 1454.1 Q358.218 1454.1 356.39 1457.66 Q354.584 1461.2 354.584 1468.33 Q354.584 1475.44 356.39 1479.01 Q358.218 1482.55 361.83 1482.55 Q365.464 1482.55 367.269 1479.01 Q369.098 1475.44 369.098 1468.33 Q369.098 1461.2 367.269 1457.66 Q365.464 1454.1 361.83 1454.1 M361.83 1450.39 Q367.64 1450.39 370.695 1455 Q373.774 1459.58 373.774 1468.33 Q373.774 1477.06 370.695 1481.67 Q367.64 1486.25 361.83 1486.25 Q356.019 1486.25 352.941 1481.67 Q349.885 1477.06 349.885 1468.33 Q349.885 1459.58 352.941 1455 Q356.019 1450.39 361.83 1450.39 Z\" fill=\"#000000\" fill-rule=\"evenodd\" fill-opacity=\"1\" /><path clip-path=\"url(#clip920)\" d=\"M381.991 1479.7 L386.876 1479.7 L386.876 1485.58 L381.991 1485.58 L381.991 1479.7 Z\" fill=\"#000000\" fill-rule=\"evenodd\" fill-opacity=\"1\" /><path clip-path=\"url(#clip920)\" d=\"M407.061 1454.1 Q403.45 1454.1 401.621 1457.66 Q399.815 1461.2 399.815 1468.33 Q399.815 1475.44 401.621 1479.01 Q403.45 1482.55 407.061 1482.55 Q410.695 1482.55 412.501 1479.01 Q414.329 1475.44 414.329 1468.33 Q414.329 1461.2 412.501 1457.66 Q410.695 1454.1 407.061 1454.1 M407.061 1450.39 Q412.871 1450.39 415.926 1455 Q419.005 1459.58 419.005 1468.33 Q419.005 1477.06 415.926 1481.67 Q412.871 1486.25 407.061 1486.25 Q401.251 1486.25 398.172 1481.67 Q395.116 1477.06 395.116 1468.33 Q395.116 1459.58 398.172 1455 Q401.251 1450.39 407.061 1450.39 Z\" fill=\"#000000\" fill-rule=\"evenodd\" fill-opacity=\"1\" /><path clip-path=\"url(#clip920)\" d=\"M437.223 1454.1 Q433.612 1454.1 431.783 1457.66 Q429.977 1461.2 429.977 1468.33 Q429.977 1475.44 431.783 1479.01 Q433.612 1482.55 437.223 1482.55 Q440.857 1482.55 442.662 1479.01 Q444.491 1475.44 444.491 1468.33 Q444.491 1461.2 442.662 1457.66 Q440.857 1454.1 437.223 1454.1 M437.223 1450.39 Q443.033 1450.39 446.088 1455 Q449.167 1459.58 449.167 1468.33 Q449.167 1477.06 446.088 1481.67 Q443.033 1486.25 437.223 1486.25 Q431.412 1486.25 428.334 1481.67 Q425.278 1477.06 425.278 1468.33 Q425.278 1459.58 428.334 1455 Q431.412 1450.39 437.223 1450.39 Z\" fill=\"#000000\" fill-rule=\"evenodd\" fill-opacity=\"1\" /><path clip-path=\"url(#clip920)\" d=\"M554.137 1454.1 Q550.526 1454.1 548.697 1457.66 Q546.891 1461.2 546.891 1468.33 Q546.891 1475.44 548.697 1479.01 Q550.526 1482.55 554.137 1482.55 Q557.771 1482.55 559.576 1479.01 Q561.405 1475.44 561.405 1468.33 Q561.405 1461.2 559.576 1457.66 Q557.771 1454.1 554.137 1454.1 M554.137 1450.39 Q559.947 1450.39 563.002 1455 Q566.081 1459.58 566.081 1468.33 Q566.081 1477.06 563.002 1481.67 Q559.947 1486.25 554.137 1486.25 Q548.327 1486.25 545.248 1481.67 Q542.192 1477.06 542.192 1468.33 Q542.192 1459.58 545.248 1455 Q548.327 1450.39 554.137 1450.39 Z\" fill=\"#000000\" fill-rule=\"evenodd\" fill-opacity=\"1\" /><path clip-path=\"url(#clip920)\" d=\"M574.299 1479.7 L579.183 1479.7 L579.183 1485.58 L574.299 1485.58 L574.299 1479.7 Z\" fill=\"#000000\" fill-rule=\"evenodd\" fill-opacity=\"1\" /><path clip-path=\"url(#clip920)\" d=\"M593.396 1481.64 L609.715 1481.64 L609.715 1485.58 L587.771 1485.58 L587.771 1481.64 Q590.433 1478.89 595.016 1474.26 Q599.623 1469.61 600.803 1468.27 Q603.048 1465.74 603.928 1464.01 Q604.831 1462.25 604.831 1460.56 Q604.831 1457.8 602.886 1456.07 Q600.965 1454.33 597.863 1454.33 Q595.664 1454.33 593.211 1455.09 Q590.78 1455.86 588.002 1457.41 L588.002 1452.69 Q590.826 1451.55 593.28 1450.97 Q595.734 1450.39 597.771 1450.39 Q603.141 1450.39 606.335 1453.08 Q609.53 1455.77 609.53 1460.26 Q609.53 1462.39 608.72 1464.31 Q607.933 1466.2 605.826 1468.8 Q605.248 1469.47 602.146 1472.69 Q599.044 1475.88 593.396 1481.64 Z\" fill=\"#000000\" fill-rule=\"evenodd\" fill-opacity=\"1\" /><path clip-path=\"url(#clip920)\" d=\"M619.576 1451.02 L637.933 1451.02 L637.933 1454.96 L623.859 1454.96 L623.859 1463.43 Q624.877 1463.08 625.896 1462.92 Q626.914 1462.73 627.933 1462.73 Q633.72 1462.73 637.099 1465.9 Q640.479 1469.08 640.479 1474.49 Q640.479 1480.07 637.007 1483.17 Q633.534 1486.25 627.215 1486.25 Q625.039 1486.25 622.771 1485.88 Q620.525 1485.51 618.118 1484.77 L618.118 1480.07 Q620.201 1481.2 622.423 1481.76 Q624.646 1482.32 627.122 1482.32 Q631.127 1482.32 633.465 1480.21 Q635.803 1478.1 635.803 1474.49 Q635.803 1470.88 633.465 1468.77 Q631.127 1466.67 627.122 1466.67 Q625.247 1466.67 623.372 1467.08 Q621.521 1467.5 619.576 1468.38 L619.576 1451.02 Z\" fill=\"#000000\" fill-rule=\"evenodd\" fill-opacity=\"1\" /><path clip-path=\"url(#clip920)\" d=\"M745.449 1454.1 Q741.837 1454.1 740.009 1457.66 Q738.203 1461.2 738.203 1468.33 Q738.203 1475.44 740.009 1479.01 Q741.837 1482.55 745.449 1482.55 Q749.083 1482.55 750.888 1479.01 Q752.717 1475.44 752.717 1468.33 Q752.717 1461.2 750.888 1457.66 Q749.083 1454.1 745.449 1454.1 M745.449 1450.39 Q751.259 1450.39 754.314 1455 Q757.393 1459.58 757.393 1468.33 Q757.393 1477.06 754.314 1481.67 Q751.259 1486.25 745.449 1486.25 Q739.638 1486.25 736.56 1481.67 Q733.504 1477.06 733.504 1468.33 Q733.504 1459.58 736.56 1455 Q739.638 1450.39 745.449 1450.39 Z\" fill=\"#000000\" fill-rule=\"evenodd\" fill-opacity=\"1\" /><path clip-path=\"url(#clip920)\" d=\"M765.61 1479.7 L770.495 1479.7 L770.495 1485.58 L765.61 1485.58 L765.61 1479.7 Z\" fill=\"#000000\" fill-rule=\"evenodd\" fill-opacity=\"1\" /><path clip-path=\"url(#clip920)\" d=\"M780.726 1451.02 L799.082 1451.02 L799.082 1454.96 L785.008 1454.96 L785.008 1463.43 Q786.027 1463.08 787.045 1462.92 Q788.064 1462.73 789.083 1462.73 Q794.87 1462.73 798.249 1465.9 Q801.629 1469.08 801.629 1474.49 Q801.629 1480.07 798.157 1483.17 Q794.684 1486.25 788.365 1486.25 Q786.189 1486.25 783.921 1485.88 Q781.675 1485.51 779.268 1484.77 L779.268 1480.07 Q781.351 1481.2 783.573 1481.76 Q785.796 1482.32 788.272 1482.32 Q792.277 1482.32 794.615 1480.21 Q796.953 1478.1 796.953 1474.49 Q796.953 1470.88 794.615 1468.77 Q792.277 1466.67 788.272 1466.67 Q786.397 1466.67 784.522 1467.08 Q782.671 1467.5 780.726 1468.38 L780.726 1451.02 Z\" fill=\"#000000\" fill-rule=\"evenodd\" fill-opacity=\"1\" /><path clip-path=\"url(#clip920)\" d=\"M820.842 1454.1 Q817.231 1454.1 815.402 1457.66 Q813.596 1461.2 813.596 1468.33 Q813.596 1475.44 815.402 1479.01 Q817.231 1482.55 820.842 1482.55 Q824.476 1482.55 826.281 1479.01 Q828.11 1475.44 828.11 1468.33 Q828.11 1461.2 826.281 1457.66 Q824.476 1454.1 820.842 1454.1 M820.842 1450.39 Q826.652 1450.39 829.707 1455 Q832.786 1459.58 832.786 1468.33 Q832.786 1477.06 829.707 1481.67 Q826.652 1486.25 820.842 1486.25 Q815.031 1486.25 811.953 1481.67 Q808.897 1477.06 808.897 1468.33 Q808.897 1459.58 811.953 1455 Q815.031 1450.39 820.842 1450.39 Z\" fill=\"#000000\" fill-rule=\"evenodd\" fill-opacity=\"1\" /><path clip-path=\"url(#clip920)\" d=\"M937.756 1454.1 Q934.145 1454.1 932.316 1457.66 Q930.51 1461.2 930.51 1468.33 Q930.51 1475.44 932.316 1479.01 Q934.145 1482.55 937.756 1482.55 Q941.39 1482.55 943.195 1479.01 Q945.024 1475.44 945.024 1468.33 Q945.024 1461.2 943.195 1457.66 Q941.39 1454.1 937.756 1454.1 M937.756 1450.39 Q943.566 1450.39 946.621 1455 Q949.7 1459.58 949.7 1468.33 Q949.7 1477.06 946.621 1481.67 Q943.566 1486.25 937.756 1486.25 Q931.946 1486.25 928.867 1481.67 Q925.811 1477.06 925.811 1468.33 Q925.811 1459.58 928.867 1455 Q931.946 1450.39 937.756 1450.39 Z\" fill=\"#000000\" fill-rule=\"evenodd\" fill-opacity=\"1\" /><path clip-path=\"url(#clip920)\" d=\"M957.918 1479.7 L962.802 1479.7 L962.802 1485.58 L957.918 1485.58 L957.918 1479.7 Z\" fill=\"#000000\" fill-rule=\"evenodd\" fill-opacity=\"1\" /><path clip-path=\"url(#clip920)\" d=\"M971.806 1451.02 L994.029 1451.02 L994.029 1453.01 L981.482 1485.58 L976.598 1485.58 L988.404 1454.96 L971.806 1454.96 L971.806 1451.02 Z\" fill=\"#000000\" fill-rule=\"evenodd\" fill-opacity=\"1\" /><path clip-path=\"url(#clip920)\" d=\"M1003.2 1451.02 L1021.55 1451.02 L1021.55 1454.96 L1007.48 1454.96 L1007.48 1463.43 Q1008.5 1463.08 1009.51 1462.92 Q1010.53 1462.73 1011.55 1462.73 Q1017.34 1462.73 1020.72 1465.9 Q1024.1 1469.08 1024.1 1474.49 Q1024.1 1480.07 1020.63 1483.17 Q1017.15 1486.25 1010.83 1486.25 Q1008.66 1486.25 1006.39 1485.88 Q1004.14 1485.51 1001.74 1484.77 L1001.74 1480.07 Q1003.82 1481.2 1006.04 1481.76 Q1008.26 1482.32 1010.74 1482.32 Q1014.75 1482.32 1017.08 1480.21 Q1019.42 1478.1 1019.42 1474.49 Q1019.42 1470.88 1017.08 1468.77 Q1014.75 1466.67 1010.74 1466.67 Q1008.87 1466.67 1006.99 1467.08 Q1005.14 1467.5 1003.2 1468.38 L1003.2 1451.02 Z\" fill=\"#000000\" fill-rule=\"evenodd\" fill-opacity=\"1\" /><path clip-path=\"url(#clip920)\" d=\"M1118.84 1481.64 L1126.47 1481.64 L1126.47 1455.28 L1118.16 1456.95 L1118.16 1452.69 L1126.43 1451.02 L1131.1 1451.02 L1131.1 1481.64 L1138.74 1481.64 L1138.74 1485.58 L1118.84 1485.58 L1118.84 1481.64 Z\" fill=\"#000000\" fill-rule=\"evenodd\" fill-opacity=\"1\" /><path clip-path=\"url(#clip920)\" d=\"M1148.19 1479.7 L1153.07 1479.7 L1153.07 1485.58 L1148.19 1485.58 L1148.19 1479.7 Z\" fill=\"#000000\" fill-rule=\"evenodd\" fill-opacity=\"1\" /><path clip-path=\"url(#clip920)\" d=\"M1173.26 1454.1 Q1169.65 1454.1 1167.82 1457.66 Q1166.01 1461.2 1166.01 1468.33 Q1166.01 1475.44 1167.82 1479.01 Q1169.65 1482.55 1173.26 1482.55 Q1176.89 1482.55 1178.7 1479.01 Q1180.53 1475.44 1180.53 1468.33 Q1180.53 1461.2 1178.7 1457.66 Q1176.89 1454.1 1173.26 1454.1 M1173.26 1450.39 Q1179.07 1450.39 1182.12 1455 Q1185.2 1459.58 1185.2 1468.33 Q1185.2 1477.06 1182.12 1481.67 Q1179.07 1486.25 1173.26 1486.25 Q1167.45 1486.25 1164.37 1481.67 Q1161.31 1477.06 1161.31 1468.33 Q1161.31 1459.58 1164.37 1455 Q1167.45 1450.39 1173.26 1450.39 Z\" fill=\"#000000\" fill-rule=\"evenodd\" fill-opacity=\"1\" /><path clip-path=\"url(#clip920)\" d=\"M1203.42 1454.1 Q1199.81 1454.1 1197.98 1457.66 Q1196.17 1461.2 1196.17 1468.33 Q1196.17 1475.44 1197.98 1479.01 Q1199.81 1482.55 1203.42 1482.55 Q1207.05 1482.55 1208.86 1479.01 Q1210.69 1475.44 1210.69 1468.33 Q1210.69 1461.2 1208.86 1457.66 Q1207.05 1454.1 1203.42 1454.1 M1203.42 1450.39 Q1209.23 1450.39 1212.28 1455 Q1215.36 1459.58 1215.36 1468.33 Q1215.36 1477.06 1212.28 1481.67 Q1209.23 1486.25 1203.42 1486.25 Q1197.61 1486.25 1194.53 1481.67 Q1191.47 1477.06 1191.47 1468.33 Q1191.47 1459.58 1194.53 1455 Q1197.61 1450.39 1203.42 1450.39 Z\" fill=\"#000000\" fill-rule=\"evenodd\" fill-opacity=\"1\" /><path clip-path=\"url(#clip920)\" d=\"M794.858 1533.45 L794.858 1538.98 Q792.375 1537.71 789.702 1537.07 Q787.028 1536.44 784.164 1536.44 Q779.803 1536.44 777.607 1537.77 Q775.443 1539.11 775.443 1541.79 Q775.443 1543.82 777.002 1545 Q778.562 1546.15 783.272 1547.2 L785.278 1547.64 Q791.516 1548.98 794.126 1551.43 Q796.768 1553.85 796.768 1558.21 Q796.768 1563.17 792.821 1566.07 Q788.906 1568.97 782.031 1568.97 Q779.166 1568.97 776.047 1568.39 Q772.96 1567.85 769.522 1566.74 L769.522 1560.69 Q772.769 1562.38 775.92 1563.24 Q779.071 1564.07 782.158 1564.07 Q786.296 1564.07 788.524 1562.66 Q790.752 1561.23 790.752 1558.65 Q790.752 1556.27 789.129 1554.99 Q787.537 1553.72 782.095 1552.54 L780.058 1552.07 Q774.615 1550.92 772.196 1548.56 Q769.777 1546.18 769.777 1542.04 Q769.777 1537.01 773.342 1534.27 Q776.907 1531.54 783.463 1531.54 Q786.71 1531.54 789.574 1532.01 Q792.439 1532.49 794.858 1533.45 Z\" fill=\"#000000\" fill-rule=\"evenodd\" fill-opacity=\"1\" /><polyline clip-path=\"url(#clip922)\" style=\"stroke:#000000; stroke-linecap:butt; stroke-linejoin:round; stroke-width:2; stroke-opacity:0.1; fill:none\" points=\"\n",
       "  376.509,1326.85 1189.78,1326.85 \n",
       "  \"/>\n",
       "<polyline clip-path=\"url(#clip922)\" style=\"stroke:#000000; stroke-linecap:butt; stroke-linejoin:round; stroke-width:2; stroke-opacity:0.1; fill:none\" points=\"\n",
       "  376.509,1120.07 1189.78,1120.07 \n",
       "  \"/>\n",
       "<polyline clip-path=\"url(#clip922)\" style=\"stroke:#000000; stroke-linecap:butt; stroke-linejoin:round; stroke-width:2; stroke-opacity:0.1; fill:none\" points=\"\n",
       "  376.509,913.296 1189.78,913.296 \n",
       "  \"/>\n",
       "<polyline clip-path=\"url(#clip922)\" style=\"stroke:#000000; stroke-linecap:butt; stroke-linejoin:round; stroke-width:2; stroke-opacity:0.1; fill:none\" points=\"\n",
       "  376.509,706.518 1189.78,706.518 \n",
       "  \"/>\n",
       "<polyline clip-path=\"url(#clip922)\" style=\"stroke:#000000; stroke-linecap:butt; stroke-linejoin:round; stroke-width:2; stroke-opacity:0.1; fill:none\" points=\"\n",
       "  376.509,499.741 1189.78,499.741 \n",
       "  \"/>\n",
       "<polyline clip-path=\"url(#clip922)\" style=\"stroke:#000000; stroke-linecap:butt; stroke-linejoin:round; stroke-width:2; stroke-opacity:0.1; fill:none\" points=\"\n",
       "  376.509,292.963 1189.78,292.963 \n",
       "  \"/>\n",
       "<polyline clip-path=\"url(#clip922)\" style=\"stroke:#000000; stroke-linecap:butt; stroke-linejoin:round; stroke-width:2; stroke-opacity:0.1; fill:none\" points=\"\n",
       "  376.509,86.1857 1189.78,86.1857 \n",
       "  \"/>\n",
       "<polyline clip-path=\"url(#clip920)\" style=\"stroke:#000000; stroke-linecap:butt; stroke-linejoin:round; stroke-width:4; stroke-opacity:1; fill:none\" points=\"\n",
       "  376.509,1423.18 376.509,47.2441 \n",
       "  \"/>\n",
       "<polyline clip-path=\"url(#clip920)\" style=\"stroke:#000000; stroke-linecap:butt; stroke-linejoin:round; stroke-width:4; stroke-opacity:1; fill:none\" points=\"\n",
       "  376.509,1326.85 395.407,1326.85 \n",
       "  \"/>\n",
       "<polyline clip-path=\"url(#clip920)\" style=\"stroke:#000000; stroke-linecap:butt; stroke-linejoin:round; stroke-width:4; stroke-opacity:1; fill:none\" points=\"\n",
       "  376.509,1120.07 395.407,1120.07 \n",
       "  \"/>\n",
       "<polyline clip-path=\"url(#clip920)\" style=\"stroke:#000000; stroke-linecap:butt; stroke-linejoin:round; stroke-width:4; stroke-opacity:1; fill:none\" points=\"\n",
       "  376.509,913.296 395.407,913.296 \n",
       "  \"/>\n",
       "<polyline clip-path=\"url(#clip920)\" style=\"stroke:#000000; stroke-linecap:butt; stroke-linejoin:round; stroke-width:4; stroke-opacity:1; fill:none\" points=\"\n",
       "  376.509,706.518 395.407,706.518 \n",
       "  \"/>\n",
       "<polyline clip-path=\"url(#clip920)\" style=\"stroke:#000000; stroke-linecap:butt; stroke-linejoin:round; stroke-width:4; stroke-opacity:1; fill:none\" points=\"\n",
       "  376.509,499.741 395.407,499.741 \n",
       "  \"/>\n",
       "<polyline clip-path=\"url(#clip920)\" style=\"stroke:#000000; stroke-linecap:butt; stroke-linejoin:round; stroke-width:4; stroke-opacity:1; fill:none\" points=\"\n",
       "  376.509,292.963 395.407,292.963 \n",
       "  \"/>\n",
       "<polyline clip-path=\"url(#clip920)\" style=\"stroke:#000000; stroke-linecap:butt; stroke-linejoin:round; stroke-width:4; stroke-opacity:1; fill:none\" points=\"\n",
       "  376.509,86.1857 395.407,86.1857 \n",
       "  \"/>\n",
       "<path clip-path=\"url(#clip920)\" d=\"M114.26 1333.75 L143.936 1333.75 L143.936 1337.69 L114.26 1337.69 L114.26 1333.75 Z\" fill=\"#000000\" fill-rule=\"evenodd\" fill-opacity=\"1\" /><path clip-path=\"url(#clip920)\" d=\"M164.607 1331.44 Q161.459 1331.44 159.607 1333.59 Q157.778 1335.74 157.778 1339.49 Q157.778 1343.22 159.607 1345.39 Q161.459 1347.55 164.607 1347.55 Q167.755 1347.55 169.584 1345.39 Q171.436 1343.22 171.436 1339.49 Q171.436 1335.74 169.584 1333.59 Q167.755 1331.44 164.607 1331.44 M173.889 1316.78 L173.889 1321.04 Q172.13 1320.21 170.325 1319.77 Q168.542 1319.33 166.783 1319.33 Q162.153 1319.33 159.7 1322.45 Q157.269 1325.58 156.922 1331.9 Q158.288 1329.88 160.348 1328.82 Q162.408 1327.73 164.885 1327.73 Q170.093 1327.73 173.102 1330.9 Q176.135 1334.05 176.135 1339.49 Q176.135 1344.81 172.987 1348.03 Q169.839 1351.25 164.607 1351.25 Q158.612 1351.25 155.44 1346.67 Q152.269 1342.06 152.269 1333.33 Q152.269 1325.14 156.158 1320.28 Q160.047 1315.39 166.598 1315.39 Q168.357 1315.39 170.139 1315.74 Q171.945 1316.09 173.889 1316.78 Z\" fill=\"#000000\" fill-rule=\"evenodd\" fill-opacity=\"1\" /><path clip-path=\"url(#clip920)\" d=\"M184.19 1344.7 L189.075 1344.7 L189.075 1350.58 L184.19 1350.58 L184.19 1344.7 Z\" fill=\"#000000\" fill-rule=\"evenodd\" fill-opacity=\"1\" /><path clip-path=\"url(#clip920)\" d=\"M209.26 1319.1 Q205.649 1319.1 203.82 1322.66 Q202.014 1326.2 202.014 1333.33 Q202.014 1340.44 203.82 1344 Q205.649 1347.55 209.26 1347.55 Q212.894 1347.55 214.699 1344 Q216.528 1340.44 216.528 1333.33 Q216.528 1326.2 214.699 1322.66 Q212.894 1319.1 209.26 1319.1 M209.26 1315.39 Q215.07 1315.39 218.125 1320 Q221.204 1324.58 221.204 1333.33 Q221.204 1342.06 218.125 1346.67 Q215.07 1351.25 209.26 1351.25 Q203.449 1351.25 200.371 1346.67 Q197.315 1342.06 197.315 1333.33 Q197.315 1324.58 200.371 1320 Q203.449 1315.39 209.26 1315.39 Z\" fill=\"#000000\" fill-rule=\"evenodd\" fill-opacity=\"1\" /><path clip-path=\"url(#clip920)\" d=\"M257.593 1325.12 L247.014 1335.74 L257.593 1346.32 L254.838 1349.12 L244.213 1338.5 L233.588 1349.12 L230.857 1346.32 L241.412 1335.74 L230.857 1325.12 L233.588 1322.31 L244.213 1332.94 L254.838 1322.31 L257.593 1325.12 Z\" fill=\"#000000\" fill-rule=\"evenodd\" fill-opacity=\"1\" /><path clip-path=\"url(#clip920)\" d=\"M269.954 1346.64 L277.593 1346.64 L277.593 1320.28 L269.282 1321.94 L269.282 1317.69 L277.546 1316.02 L282.222 1316.02 L282.222 1346.64 L289.861 1346.64 L289.861 1350.58 L269.954 1350.58 L269.954 1346.64 Z\" fill=\"#000000\" fill-rule=\"evenodd\" fill-opacity=\"1\" /><path clip-path=\"url(#clip920)\" d=\"M309.305 1319.1 Q305.694 1319.1 303.866 1322.66 Q302.06 1326.2 302.06 1333.33 Q302.06 1340.44 303.866 1344 Q305.694 1347.55 309.305 1347.55 Q312.94 1347.55 314.745 1344 Q316.574 1340.44 316.574 1333.33 Q316.574 1326.2 314.745 1322.66 Q312.94 1319.1 309.305 1319.1 M309.305 1315.39 Q315.116 1315.39 318.171 1320 Q321.25 1324.58 321.25 1333.33 Q321.25 1342.06 318.171 1346.67 Q315.116 1351.25 309.305 1351.25 Q303.495 1351.25 300.417 1346.67 Q297.361 1342.06 297.361 1333.33 Q297.361 1324.58 300.417 1320 Q303.495 1315.39 309.305 1315.39 Z\" fill=\"#000000\" fill-rule=\"evenodd\" fill-opacity=\"1\" /><path clip-path=\"url(#clip920)\" d=\"M330.879 1309.83 Q328.171 1309.83 326.61 1311.28 Q325.068 1312.73 325.068 1315.27 Q325.068 1317.81 326.61 1319.26 Q328.171 1320.7 330.879 1320.7 Q333.588 1320.7 335.149 1319.26 Q336.71 1317.79 336.71 1315.27 Q336.71 1312.73 335.149 1311.28 Q333.606 1309.83 330.879 1309.83 M327.08 1308.22 Q324.635 1307.61 323.262 1305.94 Q321.908 1304.27 321.908 1301.86 Q321.908 1298.49 324.297 1296.54 Q326.704 1294.58 330.879 1294.58 Q335.073 1294.58 337.462 1296.54 Q339.851 1298.49 339.851 1301.86 Q339.851 1304.27 338.478 1305.94 Q337.124 1307.61 334.697 1308.22 Q337.443 1308.86 338.967 1310.72 Q340.509 1312.58 340.509 1315.27 Q340.509 1319.35 338.008 1321.53 Q335.525 1323.71 330.879 1323.71 Q326.234 1323.71 323.732 1321.53 Q321.25 1319.35 321.25 1315.27 Q321.25 1312.58 322.792 1310.72 Q324.334 1308.86 327.08 1308.22 M325.688 1302.22 Q325.688 1304.4 327.043 1305.62 Q328.416 1306.84 330.879 1306.84 Q333.324 1306.84 334.697 1305.62 Q336.089 1304.4 336.089 1302.22 Q336.089 1300.03 334.697 1298.81 Q333.324 1297.59 330.879 1297.59 Q328.416 1297.59 327.043 1298.81 Q325.688 1300.03 325.688 1302.22 Z\" fill=\"#000000\" fill-rule=\"evenodd\" fill-opacity=\"1\" /><path clip-path=\"url(#clip920)\" d=\"M114.26 1126.97 L143.936 1126.97 L143.936 1130.91 L114.26 1130.91 L114.26 1126.97 Z\" fill=\"#000000\" fill-rule=\"evenodd\" fill-opacity=\"1\" /><path clip-path=\"url(#clip920)\" d=\"M154.075 1109.24 L172.431 1109.24 L172.431 1113.18 L158.357 1113.18 L158.357 1121.65 Q159.376 1121.3 160.394 1121.14 Q161.413 1120.95 162.431 1120.95 Q168.218 1120.95 171.598 1124.13 Q174.977 1127.3 174.977 1132.71 Q174.977 1138.29 171.505 1141.39 Q168.033 1144.47 161.714 1144.47 Q159.538 1144.47 157.269 1144.1 Q155.024 1143.73 152.616 1142.99 L152.616 1138.29 Q154.7 1139.43 156.922 1139.98 Q159.144 1140.54 161.621 1140.54 Q165.626 1140.54 167.964 1138.43 Q170.302 1136.32 170.302 1132.71 Q170.302 1129.1 167.964 1127 Q165.626 1124.89 161.621 1124.89 Q159.746 1124.89 157.871 1125.31 Q156.019 1125.72 154.075 1126.6 L154.075 1109.24 Z\" fill=\"#000000\" fill-rule=\"evenodd\" fill-opacity=\"1\" /><path clip-path=\"url(#clip920)\" d=\"M184.19 1137.92 L189.075 1137.92 L189.075 1143.8 L184.19 1143.8 L184.19 1137.92 Z\" fill=\"#000000\" fill-rule=\"evenodd\" fill-opacity=\"1\" /><path clip-path=\"url(#clip920)\" d=\"M209.26 1112.32 Q205.649 1112.32 203.82 1115.88 Q202.014 1119.43 202.014 1126.56 Q202.014 1133.66 203.82 1137.23 Q205.649 1140.77 209.26 1140.77 Q212.894 1140.77 214.699 1137.23 Q216.528 1133.66 216.528 1126.56 Q216.528 1119.43 214.699 1115.88 Q212.894 1112.32 209.26 1112.32 M209.26 1108.62 Q215.07 1108.62 218.125 1113.22 Q221.204 1117.81 221.204 1126.56 Q221.204 1135.28 218.125 1139.89 Q215.07 1144.47 209.26 1144.47 Q203.449 1144.47 200.371 1139.89 Q197.315 1135.28 197.315 1126.56 Q197.315 1117.81 200.371 1113.22 Q203.449 1108.62 209.26 1108.62 Z\" fill=\"#000000\" fill-rule=\"evenodd\" fill-opacity=\"1\" /><path clip-path=\"url(#clip920)\" d=\"M257.593 1118.34 L247.014 1128.96 L257.593 1139.54 L254.838 1142.34 L244.213 1131.72 L233.588 1142.34 L230.857 1139.54 L241.412 1128.96 L230.857 1118.34 L233.588 1115.54 L244.213 1126.16 L254.838 1115.54 L257.593 1118.34 Z\" fill=\"#000000\" fill-rule=\"evenodd\" fill-opacity=\"1\" /><path clip-path=\"url(#clip920)\" d=\"M269.954 1139.87 L277.593 1139.87 L277.593 1113.5 L269.282 1115.17 L269.282 1110.91 L277.546 1109.24 L282.222 1109.24 L282.222 1139.87 L289.861 1139.87 L289.861 1143.8 L269.954 1143.8 L269.954 1139.87 Z\" fill=\"#000000\" fill-rule=\"evenodd\" fill-opacity=\"1\" /><path clip-path=\"url(#clip920)\" d=\"M309.305 1112.32 Q305.694 1112.32 303.866 1115.88 Q302.06 1119.43 302.06 1126.56 Q302.06 1133.66 303.866 1137.23 Q305.694 1140.77 309.305 1140.77 Q312.94 1140.77 314.745 1137.23 Q316.574 1133.66 316.574 1126.56 Q316.574 1119.43 314.745 1115.88 Q312.94 1112.32 309.305 1112.32 M309.305 1108.62 Q315.116 1108.62 318.171 1113.22 Q321.25 1117.81 321.25 1126.56 Q321.25 1135.28 318.171 1139.89 Q315.116 1144.47 309.305 1144.47 Q303.495 1144.47 300.417 1139.89 Q297.361 1135.28 297.361 1126.56 Q297.361 1117.81 300.417 1113.22 Q303.495 1108.62 309.305 1108.62 Z\" fill=\"#000000\" fill-rule=\"evenodd\" fill-opacity=\"1\" /><path clip-path=\"url(#clip920)\" d=\"M330.879 1103.06 Q328.171 1103.06 326.61 1104.5 Q325.068 1105.95 325.068 1108.49 Q325.068 1111.03 326.61 1112.48 Q328.171 1113.93 330.879 1113.93 Q333.588 1113.93 335.149 1112.48 Q336.71 1111.01 336.71 1108.49 Q336.71 1105.95 335.149 1104.5 Q333.606 1103.06 330.879 1103.06 M327.08 1101.44 Q324.635 1100.84 323.262 1099.16 Q321.908 1097.49 321.908 1095.08 Q321.908 1091.71 324.297 1089.76 Q326.704 1087.8 330.879 1087.8 Q335.073 1087.8 337.462 1089.76 Q339.851 1091.71 339.851 1095.08 Q339.851 1097.49 338.478 1099.16 Q337.124 1100.84 334.697 1101.44 Q337.443 1102.08 338.967 1103.94 Q340.509 1105.8 340.509 1108.49 Q340.509 1112.57 338.008 1114.75 Q335.525 1116.94 330.879 1116.94 Q326.234 1116.94 323.732 1114.75 Q321.25 1112.57 321.25 1108.49 Q321.25 1105.8 322.792 1103.94 Q324.334 1102.08 327.08 1101.44 M325.688 1095.44 Q325.688 1097.62 327.043 1098.84 Q328.416 1100.07 330.879 1100.07 Q333.324 1100.07 334.697 1098.84 Q336.089 1097.62 336.089 1095.44 Q336.089 1093.26 334.697 1092.03 Q333.324 1090.81 330.879 1090.81 Q328.416 1090.81 327.043 1092.03 Q325.688 1093.26 325.688 1095.44 Z\" fill=\"#000000\" fill-rule=\"evenodd\" fill-opacity=\"1\" /><path clip-path=\"url(#clip920)\" d=\"M114.26 920.195 L143.936 920.195 L143.936 924.13 L114.26 924.13 L114.26 920.195 Z\" fill=\"#000000\" fill-rule=\"evenodd\" fill-opacity=\"1\" /><path clip-path=\"url(#clip920)\" d=\"M166.876 906.537 L155.07 924.986 L166.876 924.986 L166.876 906.537 M165.649 902.463 L171.528 902.463 L171.528 924.986 L176.459 924.986 L176.459 928.875 L171.528 928.875 L171.528 937.023 L166.876 937.023 L166.876 928.875 L151.274 928.875 L151.274 924.361 L165.649 902.463 Z\" fill=\"#000000\" fill-rule=\"evenodd\" fill-opacity=\"1\" /><path clip-path=\"url(#clip920)\" d=\"M184.19 931.144 L189.075 931.144 L189.075 937.023 L184.19 937.023 L184.19 931.144 Z\" fill=\"#000000\" fill-rule=\"evenodd\" fill-opacity=\"1\" /><path clip-path=\"url(#clip920)\" d=\"M209.26 905.542 Q205.649 905.542 203.82 909.107 Q202.014 912.649 202.014 919.778 Q202.014 926.885 203.82 930.449 Q205.649 933.991 209.26 933.991 Q212.894 933.991 214.699 930.449 Q216.528 926.885 216.528 919.778 Q216.528 912.649 214.699 909.107 Q212.894 905.542 209.26 905.542 M209.26 901.838 Q215.07 901.838 218.125 906.445 Q221.204 911.028 221.204 919.778 Q221.204 928.505 218.125 933.111 Q215.07 937.695 209.26 937.695 Q203.449 937.695 200.371 933.111 Q197.315 928.505 197.315 919.778 Q197.315 911.028 200.371 906.445 Q203.449 901.838 209.26 901.838 Z\" fill=\"#000000\" fill-rule=\"evenodd\" fill-opacity=\"1\" /><path clip-path=\"url(#clip920)\" d=\"M257.593 911.561 L247.014 922.186 L257.593 932.764 L254.838 935.565 L244.213 924.94 L233.588 935.565 L230.857 932.764 L241.412 922.186 L230.857 911.561 L233.588 908.76 L244.213 919.385 L254.838 908.76 L257.593 911.561 Z\" fill=\"#000000\" fill-rule=\"evenodd\" fill-opacity=\"1\" /><path clip-path=\"url(#clip920)\" d=\"M269.954 933.088 L277.593 933.088 L277.593 906.723 L269.282 908.389 L269.282 904.13 L277.546 902.463 L282.222 902.463 L282.222 933.088 L289.861 933.088 L289.861 937.023 L269.954 937.023 L269.954 933.088 Z\" fill=\"#000000\" fill-rule=\"evenodd\" fill-opacity=\"1\" /><path clip-path=\"url(#clip920)\" d=\"M309.305 905.542 Q305.694 905.542 303.866 909.107 Q302.06 912.649 302.06 919.778 Q302.06 926.885 303.866 930.449 Q305.694 933.991 309.305 933.991 Q312.94 933.991 314.745 930.449 Q316.574 926.885 316.574 919.778 Q316.574 912.649 314.745 909.107 Q312.94 905.542 309.305 905.542 M309.305 901.838 Q315.116 901.838 318.171 906.445 Q321.25 911.028 321.25 919.778 Q321.25 928.505 318.171 933.111 Q315.116 937.695 309.305 937.695 Q303.495 937.695 300.417 933.111 Q297.361 928.505 297.361 919.778 Q297.361 911.028 300.417 906.445 Q303.495 901.838 309.305 901.838 Z\" fill=\"#000000\" fill-rule=\"evenodd\" fill-opacity=\"1\" /><path clip-path=\"url(#clip920)\" d=\"M330.879 896.278 Q328.171 896.278 326.61 897.727 Q325.068 899.175 325.068 901.714 Q325.068 904.253 326.61 905.701 Q328.171 907.149 330.879 907.149 Q333.588 907.149 335.149 905.701 Q336.71 904.234 336.71 901.714 Q336.71 899.175 335.149 897.727 Q333.606 896.278 330.879 896.278 M327.08 894.661 Q324.635 894.059 323.262 892.385 Q321.908 890.711 321.908 888.304 Q321.908 884.937 324.297 882.981 Q326.704 881.025 330.879 881.025 Q335.073 881.025 337.462 882.981 Q339.851 884.937 339.851 888.304 Q339.851 890.711 338.478 892.385 Q337.124 894.059 334.697 894.661 Q337.443 895.3 338.967 897.162 Q340.509 899.024 340.509 901.714 Q340.509 905.795 338.008 907.977 Q335.525 910.158 330.879 910.158 Q326.234 910.158 323.732 907.977 Q321.25 905.795 321.25 901.714 Q321.25 899.024 322.792 897.162 Q324.334 895.3 327.08 894.661 M325.688 888.661 Q325.688 890.843 327.043 892.065 Q328.416 893.288 330.879 893.288 Q333.324 893.288 334.697 892.065 Q336.089 890.843 336.089 888.661 Q336.089 886.479 334.697 885.257 Q333.324 884.034 330.879 884.034 Q328.416 884.034 327.043 885.257 Q325.688 886.479 325.688 888.661 Z\" fill=\"#000000\" fill-rule=\"evenodd\" fill-opacity=\"1\" /><path clip-path=\"url(#clip920)\" d=\"M114.26 713.417 L143.936 713.417 L143.936 717.352 L114.26 717.352 L114.26 713.417 Z\" fill=\"#000000\" fill-rule=\"evenodd\" fill-opacity=\"1\" /><path clip-path=\"url(#clip920)\" d=\"M168.195 711.612 Q171.552 712.329 173.427 714.598 Q175.325 716.866 175.325 720.2 Q175.325 725.315 171.806 728.116 Q168.288 730.917 161.806 730.917 Q159.63 730.917 157.315 730.477 Q155.024 730.061 152.57 729.204 L152.57 724.69 Q154.515 725.825 156.829 726.403 Q159.144 726.982 161.667 726.982 Q166.065 726.982 168.357 725.246 Q170.672 723.51 170.672 720.2 Q170.672 717.144 168.519 715.431 Q166.39 713.695 162.57 713.695 L158.542 713.695 L158.542 709.852 L162.755 709.852 Q166.204 709.852 168.033 708.487 Q169.862 707.098 169.862 704.505 Q169.862 701.843 167.964 700.431 Q166.089 698.996 162.57 698.996 Q160.649 698.996 158.45 699.413 Q156.251 699.829 153.612 700.709 L153.612 696.542 Q156.274 695.802 158.589 695.431 Q160.927 695.061 162.987 695.061 Q168.311 695.061 171.413 697.491 Q174.514 699.899 174.514 704.019 Q174.514 706.89 172.871 708.88 Q171.227 710.848 168.195 711.612 Z\" fill=\"#000000\" fill-rule=\"evenodd\" fill-opacity=\"1\" /><path clip-path=\"url(#clip920)\" d=\"M184.19 724.366 L189.075 724.366 L189.075 730.246 L184.19 730.246 L184.19 724.366 Z\" fill=\"#000000\" fill-rule=\"evenodd\" fill-opacity=\"1\" /><path clip-path=\"url(#clip920)\" d=\"M209.26 698.765 Q205.649 698.765 203.82 702.329 Q202.014 705.871 202.014 713.001 Q202.014 720.107 203.82 723.672 Q205.649 727.213 209.26 727.213 Q212.894 727.213 214.699 723.672 Q216.528 720.107 216.528 713.001 Q216.528 705.871 214.699 702.329 Q212.894 698.765 209.26 698.765 M209.26 695.061 Q215.07 695.061 218.125 699.667 Q221.204 704.251 221.204 713.001 Q221.204 721.727 218.125 726.334 Q215.07 730.917 209.26 730.917 Q203.449 730.917 200.371 726.334 Q197.315 721.727 197.315 713.001 Q197.315 704.251 200.371 699.667 Q203.449 695.061 209.26 695.061 Z\" fill=\"#000000\" fill-rule=\"evenodd\" fill-opacity=\"1\" /><path clip-path=\"url(#clip920)\" d=\"M257.593 704.783 L247.014 715.408 L257.593 725.987 L254.838 728.788 L244.213 718.163 L233.588 728.788 L230.857 725.987 L241.412 715.408 L230.857 704.783 L233.588 701.982 L244.213 712.607 L254.838 701.982 L257.593 704.783 Z\" fill=\"#000000\" fill-rule=\"evenodd\" fill-opacity=\"1\" /><path clip-path=\"url(#clip920)\" d=\"M269.954 726.311 L277.593 726.311 L277.593 699.945 L269.282 701.612 L269.282 697.353 L277.546 695.686 L282.222 695.686 L282.222 726.311 L289.861 726.311 L289.861 730.246 L269.954 730.246 L269.954 726.311 Z\" fill=\"#000000\" fill-rule=\"evenodd\" fill-opacity=\"1\" /><path clip-path=\"url(#clip920)\" d=\"M309.305 698.765 Q305.694 698.765 303.866 702.329 Q302.06 705.871 302.06 713.001 Q302.06 720.107 303.866 723.672 Q305.694 727.213 309.305 727.213 Q312.94 727.213 314.745 723.672 Q316.574 720.107 316.574 713.001 Q316.574 705.871 314.745 702.329 Q312.94 698.765 309.305 698.765 M309.305 695.061 Q315.116 695.061 318.171 699.667 Q321.25 704.251 321.25 713.001 Q321.25 721.727 318.171 726.334 Q315.116 730.917 309.305 730.917 Q303.495 730.917 300.417 726.334 Q297.361 721.727 297.361 713.001 Q297.361 704.251 300.417 699.667 Q303.495 695.061 309.305 695.061 Z\" fill=\"#000000\" fill-rule=\"evenodd\" fill-opacity=\"1\" /><path clip-path=\"url(#clip920)\" d=\"M330.879 689.501 Q328.171 689.501 326.61 690.949 Q325.068 692.397 325.068 694.936 Q325.068 697.475 326.61 698.923 Q328.171 700.372 330.879 700.372 Q333.588 700.372 335.149 698.923 Q336.71 697.456 336.71 694.936 Q336.71 692.397 335.149 690.949 Q333.606 689.501 330.879 689.501 M327.08 687.883 Q324.635 687.281 323.262 685.608 Q321.908 683.934 321.908 681.526 Q321.908 678.16 324.297 676.204 Q326.704 674.248 330.879 674.248 Q335.073 674.248 337.462 676.204 Q339.851 678.16 339.851 681.526 Q339.851 683.934 338.478 685.608 Q337.124 687.281 334.697 687.883 Q337.443 688.523 338.967 690.385 Q340.509 692.247 340.509 694.936 Q340.509 699.018 338.008 701.199 Q335.525 703.381 330.879 703.381 Q326.234 703.381 323.732 701.199 Q321.25 699.018 321.25 694.936 Q321.25 692.247 322.792 690.385 Q324.334 688.523 327.08 687.883 M325.688 681.884 Q325.688 684.065 327.043 685.288 Q328.416 686.51 330.879 686.51 Q333.324 686.51 334.697 685.288 Q336.089 684.065 336.089 681.884 Q336.089 679.702 334.697 678.479 Q333.324 677.257 330.879 677.257 Q328.416 677.257 327.043 678.479 Q325.688 679.702 325.688 681.884 Z\" fill=\"#000000\" fill-rule=\"evenodd\" fill-opacity=\"1\" /><path clip-path=\"url(#clip920)\" d=\"M114.26 506.64 L143.936 506.64 L143.936 510.575 L114.26 510.575 L114.26 506.64 Z\" fill=\"#000000\" fill-rule=\"evenodd\" fill-opacity=\"1\" /><path clip-path=\"url(#clip920)\" d=\"M158.056 519.533 L174.376 519.533 L174.376 523.468 L152.431 523.468 L152.431 519.533 Q155.093 516.779 159.677 512.149 Q164.283 507.496 165.464 506.154 Q167.709 503.63 168.589 501.894 Q169.491 500.135 169.491 498.445 Q169.491 495.691 167.547 493.955 Q165.626 492.219 162.524 492.219 Q160.325 492.219 157.871 492.982 Q155.44 493.746 152.663 495.297 L152.663 490.575 Q155.487 489.441 157.94 488.862 Q160.394 488.283 162.431 488.283 Q167.802 488.283 170.996 490.969 Q174.19 493.654 174.19 498.144 Q174.19 500.274 173.38 502.195 Q172.593 504.093 170.487 506.686 Q169.908 507.357 166.806 510.575 Q163.704 513.769 158.056 519.533 Z\" fill=\"#000000\" fill-rule=\"evenodd\" fill-opacity=\"1\" /><path clip-path=\"url(#clip920)\" d=\"M184.19 517.589 L189.075 517.589 L189.075 523.468 L184.19 523.468 L184.19 517.589 Z\" fill=\"#000000\" fill-rule=\"evenodd\" fill-opacity=\"1\" /><path clip-path=\"url(#clip920)\" d=\"M209.26 491.987 Q205.649 491.987 203.82 495.552 Q202.014 499.093 202.014 506.223 Q202.014 513.33 203.82 516.894 Q205.649 520.436 209.26 520.436 Q212.894 520.436 214.699 516.894 Q216.528 513.33 216.528 506.223 Q216.528 499.093 214.699 495.552 Q212.894 491.987 209.26 491.987 M209.26 488.283 Q215.07 488.283 218.125 492.89 Q221.204 497.473 221.204 506.223 Q221.204 514.95 218.125 519.556 Q215.07 524.14 209.26 524.14 Q203.449 524.14 200.371 519.556 Q197.315 514.95 197.315 506.223 Q197.315 497.473 200.371 492.89 Q203.449 488.283 209.26 488.283 Z\" fill=\"#000000\" fill-rule=\"evenodd\" fill-opacity=\"1\" /><path clip-path=\"url(#clip920)\" d=\"M257.593 498.006 L247.014 508.63 L257.593 519.209 L254.838 522.01 L244.213 511.385 L233.588 522.01 L230.857 519.209 L241.412 508.63 L230.857 498.006 L233.588 495.205 L244.213 505.83 L254.838 495.205 L257.593 498.006 Z\" fill=\"#000000\" fill-rule=\"evenodd\" fill-opacity=\"1\" /><path clip-path=\"url(#clip920)\" d=\"M269.954 519.533 L277.593 519.533 L277.593 493.168 L269.282 494.834 L269.282 490.575 L277.546 488.908 L282.222 488.908 L282.222 519.533 L289.861 519.533 L289.861 523.468 L269.954 523.468 L269.954 519.533 Z\" fill=\"#000000\" fill-rule=\"evenodd\" fill-opacity=\"1\" /><path clip-path=\"url(#clip920)\" d=\"M309.305 491.987 Q305.694 491.987 303.866 495.552 Q302.06 499.093 302.06 506.223 Q302.06 513.33 303.866 516.894 Q305.694 520.436 309.305 520.436 Q312.94 520.436 314.745 516.894 Q316.574 513.33 316.574 506.223 Q316.574 499.093 314.745 495.552 Q312.94 491.987 309.305 491.987 M309.305 488.283 Q315.116 488.283 318.171 492.89 Q321.25 497.473 321.25 506.223 Q321.25 514.95 318.171 519.556 Q315.116 524.14 309.305 524.14 Q303.495 524.14 300.417 519.556 Q297.361 514.95 297.361 506.223 Q297.361 497.473 300.417 492.89 Q303.495 488.283 309.305 488.283 Z\" fill=\"#000000\" fill-rule=\"evenodd\" fill-opacity=\"1\" /><path clip-path=\"url(#clip920)\" d=\"M330.879 482.723 Q328.171 482.723 326.61 484.171 Q325.068 485.62 325.068 488.159 Q325.068 490.698 326.61 492.146 Q328.171 493.594 330.879 493.594 Q333.588 493.594 335.149 492.146 Q336.71 490.679 336.71 488.159 Q336.71 485.62 335.149 484.171 Q333.606 482.723 330.879 482.723 M327.08 481.106 Q324.635 480.504 323.262 478.83 Q321.908 477.156 321.908 474.749 Q321.908 471.382 324.297 469.426 Q326.704 467.47 330.879 467.47 Q335.073 467.47 337.462 469.426 Q339.851 471.382 339.851 474.749 Q339.851 477.156 338.478 478.83 Q337.124 480.504 334.697 481.106 Q337.443 481.745 338.967 483.607 Q340.509 485.469 340.509 488.159 Q340.509 492.24 338.008 494.422 Q335.525 496.603 330.879 496.603 Q326.234 496.603 323.732 494.422 Q321.25 492.24 321.25 488.159 Q321.25 485.469 322.792 483.607 Q324.334 481.745 327.08 481.106 M325.688 475.106 Q325.688 477.288 327.043 478.51 Q328.416 479.733 330.879 479.733 Q333.324 479.733 334.697 478.51 Q336.089 477.288 336.089 475.106 Q336.089 472.924 334.697 471.702 Q333.324 470.479 330.879 470.479 Q328.416 470.479 327.043 471.702 Q325.688 472.924 325.688 475.106 Z\" fill=\"#000000\" fill-rule=\"evenodd\" fill-opacity=\"1\" /><path clip-path=\"url(#clip920)\" d=\"M114.26 299.862 L143.936 299.862 L143.936 303.797 L114.26 303.797 L114.26 299.862 Z\" fill=\"#000000\" fill-rule=\"evenodd\" fill-opacity=\"1\" /><path clip-path=\"url(#clip920)\" d=\"M154.839 312.756 L162.477 312.756 L162.477 286.39 L154.167 288.057 L154.167 283.797 L162.431 282.131 L167.107 282.131 L167.107 312.756 L174.746 312.756 L174.746 316.691 L154.839 316.691 L154.839 312.756 Z\" fill=\"#000000\" fill-rule=\"evenodd\" fill-opacity=\"1\" /><path clip-path=\"url(#clip920)\" d=\"M184.19 310.811 L189.075 310.811 L189.075 316.691 L184.19 316.691 L184.19 310.811 Z\" fill=\"#000000\" fill-rule=\"evenodd\" fill-opacity=\"1\" /><path clip-path=\"url(#clip920)\" d=\"M209.26 285.209 Q205.649 285.209 203.82 288.774 Q202.014 292.316 202.014 299.446 Q202.014 306.552 203.82 310.117 Q205.649 313.658 209.26 313.658 Q212.894 313.658 214.699 310.117 Q216.528 306.552 216.528 299.446 Q216.528 292.316 214.699 288.774 Q212.894 285.209 209.26 285.209 M209.26 281.506 Q215.07 281.506 218.125 286.112 Q221.204 290.696 221.204 299.446 Q221.204 308.172 218.125 312.779 Q215.07 317.362 209.26 317.362 Q203.449 317.362 200.371 312.779 Q197.315 308.172 197.315 299.446 Q197.315 290.696 200.371 286.112 Q203.449 281.506 209.26 281.506 Z\" fill=\"#000000\" fill-rule=\"evenodd\" fill-opacity=\"1\" /><path clip-path=\"url(#clip920)\" d=\"M257.593 291.228 L247.014 301.853 L257.593 312.432 L254.838 315.232 L244.213 304.608 L233.588 315.232 L230.857 312.432 L241.412 301.853 L230.857 291.228 L233.588 288.427 L244.213 299.052 L254.838 288.427 L257.593 291.228 Z\" fill=\"#000000\" fill-rule=\"evenodd\" fill-opacity=\"1\" /><path clip-path=\"url(#clip920)\" d=\"M269.954 312.756 L277.593 312.756 L277.593 286.39 L269.282 288.057 L269.282 283.797 L277.546 282.131 L282.222 282.131 L282.222 312.756 L289.861 312.756 L289.861 316.691 L269.954 316.691 L269.954 312.756 Z\" fill=\"#000000\" fill-rule=\"evenodd\" fill-opacity=\"1\" /><path clip-path=\"url(#clip920)\" d=\"M309.305 285.209 Q305.694 285.209 303.866 288.774 Q302.06 292.316 302.06 299.446 Q302.06 306.552 303.866 310.117 Q305.694 313.658 309.305 313.658 Q312.94 313.658 314.745 310.117 Q316.574 306.552 316.574 299.446 Q316.574 292.316 314.745 288.774 Q312.94 285.209 309.305 285.209 M309.305 281.506 Q315.116 281.506 318.171 286.112 Q321.25 290.696 321.25 299.446 Q321.25 308.172 318.171 312.779 Q315.116 317.362 309.305 317.362 Q303.495 317.362 300.417 312.779 Q297.361 308.172 297.361 299.446 Q297.361 290.696 300.417 286.112 Q303.495 281.506 309.305 281.506 Z\" fill=\"#000000\" fill-rule=\"evenodd\" fill-opacity=\"1\" /><path clip-path=\"url(#clip920)\" d=\"M330.879 275.946 Q328.171 275.946 326.61 277.394 Q325.068 278.842 325.068 281.381 Q325.068 283.92 326.61 285.368 Q328.171 286.817 330.879 286.817 Q333.588 286.817 335.149 285.368 Q336.71 283.901 336.71 281.381 Q336.71 278.842 335.149 277.394 Q333.606 275.946 330.879 275.946 M327.08 274.328 Q324.635 273.726 323.262 272.052 Q321.908 270.379 321.908 267.971 Q321.908 264.605 324.297 262.649 Q326.704 260.693 330.879 260.693 Q335.073 260.693 337.462 262.649 Q339.851 264.605 339.851 267.971 Q339.851 270.379 338.478 272.052 Q337.124 273.726 334.697 274.328 Q337.443 274.968 338.967 276.83 Q340.509 278.692 340.509 281.381 Q340.509 285.462 338.008 287.644 Q335.525 289.826 330.879 289.826 Q326.234 289.826 323.732 287.644 Q321.25 285.462 321.25 281.381 Q321.25 278.692 322.792 276.83 Q324.334 274.968 327.08 274.328 M325.688 268.329 Q325.688 270.51 327.043 271.733 Q328.416 272.955 330.879 272.955 Q333.324 272.955 334.697 271.733 Q336.089 270.51 336.089 268.329 Q336.089 266.147 334.697 264.924 Q333.324 263.702 330.879 263.702 Q328.416 263.702 327.043 264.924 Q325.688 266.147 325.688 268.329 Z\" fill=\"#000000\" fill-rule=\"evenodd\" fill-opacity=\"1\" /><path clip-path=\"url(#clip920)\" d=\"M328.565 71.9844 Q324.953 71.9844 323.125 75.5491 Q321.319 79.0908 321.319 86.2204 Q321.319 93.3268 323.125 96.8916 Q324.953 100.433 328.565 100.433 Q332.199 100.433 334.004 96.8916 Q335.833 93.3268 335.833 86.2204 Q335.833 79.0908 334.004 75.5491 Q332.199 71.9844 328.565 71.9844 M328.565 68.2807 Q334.375 68.2807 337.43 72.8871 Q340.509 77.4704 340.509 86.2204 Q340.509 94.9472 337.43 99.5537 Q334.375 104.137 328.565 104.137 Q322.754 104.137 319.676 99.5537 Q316.62 94.9472 316.62 86.2204 Q316.62 77.4704 319.676 72.8871 Q322.754 68.2807 328.565 68.2807 Z\" fill=\"#000000\" fill-rule=\"evenodd\" fill-opacity=\"1\" /><path clip-path=\"url(#clip920)\" d=\"M14.479 751.031 L14.479 745.142 L43.7294 745.142 L28.3562 727.669 L28.3562 720.189 L45.0344 739.095 L64.0042 719.393 L64.0042 727.032 L46.5939 745.142 L64.0042 745.142 L64.0042 751.031 L14.479 751.031 Z\" fill=\"#000000\" fill-rule=\"evenodd\" fill-opacity=\"1\" /><polyline clip-path=\"url(#clip922)\" style=\"stroke:#009af9; stroke-linecap:butt; stroke-linejoin:round; stroke-width:4; stroke-opacity:1; fill:none\" points=\"\n",
       "  401.444,1384.24 403.362,248.529 405.28,134.313 407.198,106.5 409.117,96.5924 411.035,92.2113 412.953,89.9823 414.871,88.7305 416.789,87.974 418.707,87.4901 \n",
       "  420.625,87.1662 422.543,86.9414 424.461,86.7804 426.379,86.6621 428.298,86.5732 430.216,86.5052 432.134,86.4522 434.052,86.4103 435.97,86.3768 437.888,86.3496 \n",
       "  439.806,86.3274 441.724,86.309 443.642,86.2937 445.56,86.2808 447.478,86.2699 449.397,86.2606 451.315,86.2526 453.233,86.2457 455.151,86.2397 457.069,86.2345 \n",
       "  458.987,86.23 460.905,86.226 462.823,86.2225 464.741,86.2193 466.659,86.2165 468.577,86.2141 470.496,86.2118 472.414,86.2098 474.332,86.208 476.25,86.2064 \n",
       "  478.168,86.2049 480.086,86.2036 482.004,86.2024 483.922,86.2013 485.84,86.2003 487.758,86.1994 489.677,86.1985 491.595,86.1977 493.513,86.197 495.431,86.1964 \n",
       "  497.349,86.1957 499.267,86.1952 501.185,86.1947 503.103,86.1942 505.021,86.1937 506.939,86.1933 508.857,86.1929 510.776,86.1926 512.694,86.1922 514.612,86.1919 \n",
       "  516.53,86.1916 518.448,86.1913 520.366,86.1911 522.284,86.1908 524.202,86.1906 526.12,86.1904 528.038,86.1902 529.957,86.19 531.875,86.1898 533.793,86.1896 \n",
       "  535.711,86.1895 537.629,86.1893 539.547,86.1892 541.465,86.189 543.383,86.1889 545.301,86.1888 547.219,86.1887 549.137,86.1885 551.056,86.1884 552.974,86.1883 \n",
       "  554.892,86.1882 556.81,86.1881 558.728,86.1881 560.646,86.188 562.564,86.1879 564.482,86.1878 566.4,86.1878 568.318,86.1877 570.237,86.1876 572.155,86.1876 \n",
       "  574.073,86.1875 575.991,86.1874 577.909,86.1874 579.827,86.1873 581.745,86.1873 583.663,86.1872 585.581,86.1872 587.499,86.1871 589.417,86.1871 591.336,86.1871 \n",
       "  593.254,86.187 595.172,86.187 597.09,86.1869 599.008,86.1869 600.926,86.1869 602.844,86.1868 604.762,86.1868 606.68,86.1868 608.598,86.1867 610.517,86.1867 \n",
       "  612.435,86.1867 614.353,86.1867 616.271,86.1866 618.189,86.1866 620.107,86.1866 622.025,86.1866 623.943,86.1865 625.861,86.1865 627.779,86.1865 629.697,86.1865 \n",
       "  631.616,86.1865 633.534,86.1864 635.452,86.1864 637.37,86.1864 639.288,86.1864 641.206,86.1864 643.124,86.1864 645.042,86.1863 646.96,86.1863 648.878,86.1863 \n",
       "  650.797,86.1863 652.715,86.1863 654.633,86.1863 656.551,86.1863 658.469,86.1863 660.387,86.1862 662.305,86.1862 664.223,86.1862 666.141,86.1862 668.059,86.1862 \n",
       "  669.977,86.1862 671.896,86.1862 673.814,86.1862 675.732,86.1862 677.65,86.1861 679.568,86.1861 681.486,86.1861 683.404,86.1861 685.322,86.1861 687.24,86.1861 \n",
       "  689.158,86.1861 691.077,86.1861 692.995,86.1861 694.913,86.1861 696.831,86.1861 698.749,86.1861 700.667,86.186 702.585,86.186 704.503,86.186 706.421,86.186 \n",
       "  708.339,86.186 710.257,86.186 712.176,86.186 714.094,86.186 716.012,86.186 717.93,86.186 719.848,86.186 721.766,86.186 723.684,86.186 725.602,86.186 \n",
       "  727.52,86.186 729.438,86.186 731.356,86.186 733.275,86.186 735.193,86.1859 737.111,86.1859 739.029,86.1859 740.947,86.1859 742.865,86.1859 744.783,86.1859 \n",
       "  746.701,86.1859 748.619,86.1859 750.537,86.1859 752.456,86.1859 754.374,86.1859 756.292,86.1859 758.21,86.1859 760.128,86.1859 762.046,86.1859 763.964,86.1859 \n",
       "  765.882,86.1859 767.8,86.1859 769.718,86.1859 771.636,86.1859 773.555,86.1859 775.473,86.1859 777.391,86.1859 779.309,86.1859 781.227,86.1859 783.145,86.1859 \n",
       "  785.063,86.1859 786.981,86.1859 788.899,86.1859 790.817,86.1859 792.736,86.1859 794.654,86.1858 796.572,86.1858 798.49,86.1858 800.408,86.1858 802.326,86.1858 \n",
       "  804.244,86.1858 806.162,86.1858 808.08,86.1858 809.998,86.1858 811.916,86.1858 813.835,86.1858 815.753,86.1858 817.671,86.1858 819.589,86.1858 821.507,86.1858 \n",
       "  823.425,86.1858 825.343,86.1858 827.261,86.1858 829.179,86.1858 831.097,86.1858 833.016,86.1858 834.934,86.1858 836.852,86.1858 838.77,86.1858 840.688,86.1858 \n",
       "  842.606,86.1858 844.524,86.1858 846.442,86.1858 848.36,86.1858 850.278,86.1858 852.196,86.1858 854.115,86.1858 856.033,86.1858 857.951,86.1858 859.869,86.1858 \n",
       "  861.787,86.1858 863.705,86.1858 865.623,86.1858 867.541,86.1858 869.459,86.1858 871.377,86.1858 873.296,86.1858 875.214,86.1858 877.132,86.1858 879.05,86.1858 \n",
       "  880.968,86.1858 882.886,86.1858 884.804,86.1858 886.722,86.1858 888.64,86.1858 890.558,86.1858 892.476,86.1858 894.395,86.1858 896.313,86.1858 898.231,86.1858 \n",
       "  900.149,86.1858 902.067,86.1858 903.985,86.1858 905.903,86.1858 907.821,86.1858 909.739,86.1858 911.657,86.1858 913.576,86.1858 915.494,86.1858 917.412,86.1858 \n",
       "  919.33,86.1858 921.248,86.1858 923.166,86.1858 925.084,86.1858 927.002,86.1858 928.92,86.1858 930.838,86.1858 932.756,86.1858 934.675,86.1858 936.593,86.1858 \n",
       "  938.511,86.1858 940.429,86.1858 942.347,86.1858 944.265,86.1858 946.183,86.1858 948.101,86.1858 950.019,86.1858 951.937,86.1858 953.856,86.1858 955.774,86.1857 \n",
       "  957.692,86.1857 959.61,86.1857 961.528,86.1857 963.446,86.1857 965.364,86.1857 967.282,86.1857 969.2,86.1857 971.118,86.1857 973.036,86.1857 974.955,86.1857 \n",
       "  976.873,86.1857 978.791,86.1857 980.709,86.1857 982.627,86.1857 984.545,86.1857 986.463,86.1857 988.381,86.1857 990.299,86.1857 992.217,86.1857 994.135,86.1857 \n",
       "  996.054,86.1857 997.972,86.1857 999.89,86.1857 1001.81,86.1857 1003.73,86.1857 1005.64,86.1857 1007.56,86.1857 1009.48,86.1857 1011.4,86.1857 1013.32,86.1857 \n",
       "  1015.23,86.1857 1017.15,86.1857 1019.07,86.1857 1020.99,86.1857 1022.91,86.1857 1024.83,86.1857 1026.74,86.1857 1028.66,86.1857 1030.58,86.1857 1032.5,86.1857 \n",
       "  1034.42,86.1857 1036.33,86.1857 1038.25,86.1857 1040.17,86.1857 1042.09,86.1857 1044.01,86.1857 1045.92,86.1857 1047.84,86.1857 1049.76,86.1857 1051.68,86.1857 \n",
       "  1053.6,86.1857 1055.51,86.1857 1057.43,86.1857 1059.35,86.1857 1061.27,86.1857 1063.19,86.1857 1065.11,86.1857 1067.02,86.1857 1068.94,86.1857 1070.86,86.1857 \n",
       "  1072.78,86.1857 1074.7,86.1857 1076.61,86.1857 1078.53,86.1857 1080.45,86.1857 1082.37,86.1857 1084.29,86.1857 1086.2,86.1857 1088.12,86.1857 1090.04,86.1857 \n",
       "  1091.96,86.1857 1093.88,86.1857 1095.79,86.1857 1097.71,86.1858 1099.63,86.1858 1101.55,86.1858 1103.47,86.1858 1105.38,86.1858 1107.3,86.1858 1109.22,86.1858 \n",
       "  1111.14,86.1858 1113.06,86.1858 1114.98,86.1858 1116.89,86.1858 1118.81,86.1858 1120.73,86.1858 1122.65,86.1858 1124.57,86.1858 1126.48,86.1858 1128.4,86.1858 \n",
       "  1130.32,86.1858 1132.24,86.1858 1134.16,86.1858 1136.07,86.1858 1137.99,86.1858 1139.91,86.1858 1141.83,86.1858 1143.75,86.1858 1145.66,86.1858 1147.58,86.1859 \n",
       "  1149.5,86.1859 1151.42,86.1859 1153.34,86.1859 1155.26,86.1859 1157.17,86.186 1159.09,86.186 1161.01,86.1861 1162.93,86.1863 1164.85,86.1868 1166.76,120.325 \n",
       "  \n",
       "  \"/>\n",
       "<polyline clip-path=\"url(#clip922)\" style=\"stroke:#e26f46; stroke-linecap:butt; stroke-linejoin:round; stroke-width:4; stroke-opacity:1; fill:none\" points=\"\n",
       "  401.444,391.112 403.362,124.357 405.28,97.512 407.198,90.9709 409.117,88.6393 411.035,87.6077 412.953,87.0825 414.871,86.7873 416.789,86.6089 418.707,86.4946 \n",
       "  420.625,86.4181 422.543,86.365 424.461,86.3269 426.379,86.2989 428.298,86.2779 430.216,86.2618 432.134,86.2492 434.052,86.2393 435.97,86.2313 437.888,86.2249 \n",
       "  439.806,86.2196 441.724,86.2152 443.642,86.2116 445.56,86.2085 447.478,86.2059 449.397,86.2037 451.315,86.2018 453.233,86.2001 455.151,86.1987 457.069,86.1975 \n",
       "  458.987,86.1964 460.905,86.1954 462.823,86.1946 464.741,86.1938 466.659,86.1932 468.577,86.1926 470.496,86.192 472.414,86.1915 474.332,86.1911 476.25,86.1907 \n",
       "  478.168,86.1904 480.086,86.1901 482.004,86.1898 483.922,86.1895 485.84,86.1893 487.758,86.189 489.677,86.1888 491.595,86.1886 493.513,86.1885 495.431,86.1883 \n",
       "  497.349,86.1882 499.267,86.188 501.185,86.1879 503.103,86.1878 505.021,86.1877 506.939,86.1876 508.857,86.1875 510.776,86.1874 512.694,86.1873 514.612,86.1872 \n",
       "  516.53,86.1871 518.448,86.1871 520.366,86.187 522.284,86.187 524.202,86.1869 526.12,86.1868 528.038,86.1868 529.957,86.1867 531.875,86.1867 533.793,86.1867 \n",
       "  535.711,86.1866 537.629,86.1866 539.547,86.1865 541.465,86.1865 543.383,86.1865 545.301,86.1865 547.219,86.1864 549.137,86.1864 551.056,86.1864 552.974,86.1863 \n",
       "  554.892,86.1863 556.81,86.1863 558.728,86.1863 560.646,86.1863 562.564,86.1862 564.482,86.1862 566.4,86.1862 568.318,86.1862 570.237,86.1862 572.155,86.1862 \n",
       "  574.073,86.1861 575.991,86.1861 577.909,86.1861 579.827,86.1861 581.745,86.1861 583.663,86.1861 585.581,86.1861 587.499,86.186 589.417,86.186 591.336,86.186 \n",
       "  593.254,86.186 595.172,86.186 597.09,86.186 599.008,86.186 600.926,86.186 602.844,86.186 604.762,86.186 606.68,86.186 608.598,86.186 610.517,86.1859 \n",
       "  612.435,86.1859 614.353,86.1859 616.271,86.1859 618.189,86.1859 620.107,86.1859 622.025,86.1859 623.943,86.1859 625.861,86.1859 627.779,86.1859 629.697,86.1859 \n",
       "  631.616,86.1859 633.534,86.1859 635.452,86.1859 637.37,86.1859 639.288,86.1859 641.206,86.1859 643.124,86.1859 645.042,86.1859 646.96,86.1858 648.878,86.1858 \n",
       "  650.797,86.1858 652.715,86.1858 654.633,86.1858 656.551,86.1858 658.469,86.1858 660.387,86.1858 662.305,86.1858 664.223,86.1858 666.141,86.1858 668.059,86.1858 \n",
       "  669.977,86.1858 671.896,86.1858 673.814,86.1858 675.732,86.1858 677.65,86.1858 679.568,86.1858 681.486,86.1858 683.404,86.1858 685.322,86.1858 687.24,86.1858 \n",
       "  689.158,86.1858 691.077,86.1858 692.995,86.1858 694.913,86.1858 696.831,86.1858 698.749,86.1858 700.667,86.1858 702.585,86.1858 704.503,86.1858 706.421,86.1858 \n",
       "  708.339,86.1858 710.257,86.1858 712.176,86.1858 714.094,86.1858 716.012,86.1858 717.93,86.1858 719.848,86.1858 721.766,86.1858 723.684,86.1858 725.602,86.1858 \n",
       "  727.52,86.1858 729.438,86.1858 731.356,86.1858 733.275,86.1857 735.193,86.1857 737.111,86.1857 739.029,86.1857 740.947,86.1857 742.865,86.1857 744.783,86.1857 \n",
       "  746.701,86.1857 748.619,86.1857 750.537,86.1857 752.456,86.1857 754.374,86.1857 756.292,86.1857 758.21,86.1857 760.128,86.1857 762.046,86.1857 763.964,86.1857 \n",
       "  765.882,86.1857 767.8,86.1857 769.718,86.1857 771.636,86.1857 773.555,86.1857 775.473,86.1857 777.391,86.1857 779.309,86.1857 781.227,86.1857 783.145,86.1857 \n",
       "  785.063,86.1857 786.981,86.1857 788.899,86.1857 790.817,86.1857 792.736,86.1857 794.654,86.1857 796.572,86.1857 798.49,86.1857 800.408,86.1857 802.326,86.1857 \n",
       "  804.244,86.1857 806.162,86.1857 808.08,86.1857 809.998,86.1857 811.916,86.1857 813.835,86.1857 815.753,86.1857 817.671,86.1857 819.589,86.1857 821.507,86.1857 \n",
       "  823.425,86.1857 825.343,86.1857 827.261,86.1857 829.179,86.1857 831.097,86.1857 833.016,86.1857 834.934,86.1857 836.852,86.1857 838.77,86.1857 840.688,86.1857 \n",
       "  842.606,86.1857 844.524,86.1857 846.442,86.1857 848.36,86.1857 850.278,86.1857 852.196,86.1857 854.115,86.1857 856.033,86.1857 857.951,86.1857 859.869,86.1857 \n",
       "  861.787,86.1857 863.705,86.1857 865.623,86.1857 867.541,86.1857 869.459,86.1857 871.377,86.1857 873.296,86.1857 875.214,86.1857 877.132,86.1857 879.05,86.1857 \n",
       "  880.968,86.1857 882.886,86.1857 884.804,86.1857 886.722,86.1857 888.64,86.1857 890.558,86.1857 892.476,86.1857 894.395,86.1857 896.313,86.1857 898.231,86.1857 \n",
       "  900.149,86.1857 902.067,86.1857 903.985,86.1857 905.903,86.1857 907.821,86.1857 909.739,86.1857 911.657,86.1857 913.576,86.1857 915.494,86.1857 917.412,86.1857 \n",
       "  919.33,86.1857 921.248,86.1857 923.166,86.1857 925.084,86.1857 927.002,86.1857 928.92,86.1857 930.838,86.1857 932.756,86.1857 934.675,86.1857 936.593,86.1857 \n",
       "  938.511,86.1857 940.429,86.1857 942.347,86.1857 944.265,86.1857 946.183,86.1857 948.101,86.1857 950.019,86.1857 951.937,86.1857 953.856,86.1857 955.774,86.1857 \n",
       "  957.692,86.1857 959.61,86.1857 961.528,86.1857 963.446,86.1857 965.364,86.1857 967.282,86.1857 969.2,86.1857 971.118,86.1857 973.036,86.1857 974.955,86.1857 \n",
       "  976.873,86.1857 978.791,86.1857 980.709,86.1857 982.627,86.1857 984.545,86.1857 986.463,86.1857 988.381,86.1857 990.299,86.1857 992.217,86.1857 994.135,86.1857 \n",
       "  996.054,86.1857 997.972,86.1857 999.89,86.1857 1001.81,86.1857 1003.73,86.1857 1005.64,86.1857 1007.56,86.1857 1009.48,86.1857 1011.4,86.1857 1013.32,86.1857 \n",
       "  1015.23,86.1857 1017.15,86.1857 1019.07,86.1857 1020.99,86.1857 1022.91,86.1857 1024.83,86.1857 1026.74,86.1857 1028.66,86.1857 1030.58,86.1857 1032.5,86.1857 \n",
       "  1034.42,86.1857 1036.33,86.1857 1038.25,86.1857 1040.17,86.1857 1042.09,86.1857 1044.01,86.1857 1045.92,86.1857 1047.84,86.1857 1049.76,86.1857 1051.68,86.1857 \n",
       "  1053.6,86.1857 1055.51,86.1857 1057.43,86.1857 1059.35,86.1857 1061.27,86.1857 1063.19,86.1857 1065.11,86.1857 1067.02,86.1857 1068.94,86.1857 1070.86,86.1857 \n",
       "  1072.78,86.1857 1074.7,86.1857 1076.61,86.1857 1078.53,86.1857 1080.45,86.1857 1082.37,86.1857 1084.29,86.1857 1086.2,86.1857 1088.12,86.1857 1090.04,86.1857 \n",
       "  1091.96,86.1857 1093.88,86.1857 1095.79,86.1857 1097.71,86.1857 1099.63,86.1857 1101.55,86.1857 1103.47,86.1857 1105.38,86.1857 1107.3,86.1857 1109.22,86.1857 \n",
       "  1111.14,86.1857 1113.06,86.1857 1114.98,86.1857 1116.89,86.1857 1118.81,86.1857 1120.73,86.1857 1122.65,86.1857 1124.57,86.1857 1126.48,86.1857 1128.4,86.1857 \n",
       "  1130.32,86.1857 1132.24,86.1857 1134.16,86.1857 1136.07,86.1857 1137.99,86.1857 1139.91,86.1857 1141.83,86.1857 1143.75,86.1857 1145.66,86.1857 1147.58,86.1858 \n",
       "  1149.5,86.1858 1151.42,86.1858 1153.34,86.1858 1155.26,86.1858 1157.17,86.1858 1159.09,86.1858 1161.01,86.1859 1162.93,86.1859 1164.85,86.1861 1166.76,90.4836 \n",
       "  \n",
       "  \"/>\n",
       "<polyline clip-path=\"url(#clip922)\" style=\"stroke:#3da44d; stroke-linecap:butt; stroke-linejoin:round; stroke-width:4; stroke-opacity:1; fill:none\" points=\"\n",
       "  401.444,205.874 403.362,101.176 405.28,90.6362 407.198,88.067 409.117,87.1508 411.035,86.7453 412.953,86.5388 414.871,86.4227 416.789,86.3525 418.707,86.3075 \n",
       "  420.625,86.2774 422.543,86.2565 424.461,86.2415 426.379,86.2304 428.298,86.2221 430.216,86.2158 432.134,86.2108 434.052,86.2069 435.97,86.2038 437.888,86.2012 \n",
       "  439.806,86.1991 441.724,86.1974 443.642,86.196 445.56,86.1947 447.478,86.1937 449.397,86.1928 451.315,86.1921 453.233,86.1914 455.151,86.1909 457.069,86.1904 \n",
       "  458.987,86.1899 460.905,86.1896 462.823,86.1892 464.741,86.1889 466.659,86.1887 468.577,86.1884 470.496,86.1882 472.414,86.188 474.332,86.1879 476.25,86.1877 \n",
       "  478.168,86.1876 480.086,86.1874 482.004,86.1873 483.922,86.1872 485.84,86.1871 487.758,86.187 489.677,86.1869 491.595,86.1869 493.513,86.1868 495.431,86.1867 \n",
       "  497.349,86.1867 499.267,86.1866 501.185,86.1866 503.103,86.1865 505.021,86.1865 506.939,86.1864 508.857,86.1864 510.776,86.1864 512.694,86.1863 514.612,86.1863 \n",
       "  516.53,86.1863 518.448,86.1862 520.366,86.1862 522.284,86.1862 524.202,86.1862 526.12,86.1861 528.038,86.1861 529.957,86.1861 531.875,86.1861 533.793,86.1861 \n",
       "  535.711,86.1861 537.629,86.186 539.547,86.186 541.465,86.186 543.383,86.186 545.301,86.186 547.219,86.186 549.137,86.186 551.056,86.186 552.974,86.1859 \n",
       "  554.892,86.1859 556.81,86.1859 558.728,86.1859 560.646,86.1859 562.564,86.1859 564.482,86.1859 566.4,86.1859 568.318,86.1859 570.237,86.1859 572.155,86.1859 \n",
       "  574.073,86.1859 575.991,86.1859 577.909,86.1858 579.827,86.1858 581.745,86.1858 583.663,86.1858 585.581,86.1858 587.499,86.1858 589.417,86.1858 591.336,86.1858 \n",
       "  593.254,86.1858 595.172,86.1858 597.09,86.1858 599.008,86.1858 600.926,86.1858 602.844,86.1858 604.762,86.1858 606.68,86.1858 608.598,86.1858 610.517,86.1858 \n",
       "  612.435,86.1858 614.353,86.1858 616.271,86.1858 618.189,86.1858 620.107,86.1858 622.025,86.1858 623.943,86.1858 625.861,86.1858 627.779,86.1858 629.697,86.1858 \n",
       "  631.616,86.1858 633.534,86.1858 635.452,86.1858 637.37,86.1858 639.288,86.1857 641.206,86.1857 643.124,86.1857 645.042,86.1857 646.96,86.1857 648.878,86.1857 \n",
       "  650.797,86.1857 652.715,86.1857 654.633,86.1857 656.551,86.1857 658.469,86.1857 660.387,86.1857 662.305,86.1857 664.223,86.1857 666.141,86.1857 668.059,86.1857 \n",
       "  669.977,86.1857 671.896,86.1857 673.814,86.1857 675.732,86.1857 677.65,86.1857 679.568,86.1857 681.486,86.1857 683.404,86.1857 685.322,86.1857 687.24,86.1857 \n",
       "  689.158,86.1857 691.077,86.1857 692.995,86.1857 694.913,86.1857 696.831,86.1857 698.749,86.1857 700.667,86.1857 702.585,86.1857 704.503,86.1857 706.421,86.1857 \n",
       "  708.339,86.1857 710.257,86.1857 712.176,86.1857 714.094,86.1857 716.012,86.1857 717.93,86.1857 719.848,86.1857 721.766,86.1857 723.684,86.1857 725.602,86.1857 \n",
       "  727.52,86.1857 729.438,86.1857 731.356,86.1857 733.275,86.1857 735.193,86.1857 737.111,86.1857 739.029,86.1857 740.947,86.1857 742.865,86.1857 744.783,86.1857 \n",
       "  746.701,86.1857 748.619,86.1857 750.537,86.1857 752.456,86.1857 754.374,86.1857 756.292,86.1857 758.21,86.1857 760.128,86.1857 762.046,86.1857 763.964,86.1857 \n",
       "  765.882,86.1857 767.8,86.1857 769.718,86.1857 771.636,86.1857 773.555,86.1857 775.473,86.1857 777.391,86.1857 779.309,86.1857 781.227,86.1857 783.145,86.1857 \n",
       "  785.063,86.1857 786.981,86.1857 788.899,86.1857 790.817,86.1857 792.736,86.1857 794.654,86.1857 796.572,86.1857 798.49,86.1857 800.408,86.1857 802.326,86.1857 \n",
       "  804.244,86.1857 806.162,86.1857 808.08,86.1857 809.998,86.1857 811.916,86.1857 813.835,86.1857 815.753,86.1857 817.671,86.1857 819.589,86.1857 821.507,86.1857 \n",
       "  823.425,86.1857 825.343,86.1857 827.261,86.1857 829.179,86.1857 831.097,86.1857 833.016,86.1857 834.934,86.1857 836.852,86.1857 838.77,86.1857 840.688,86.1857 \n",
       "  842.606,86.1857 844.524,86.1857 846.442,86.1857 848.36,86.1857 850.278,86.1857 852.196,86.1857 854.115,86.1857 856.033,86.1857 857.951,86.1857 859.869,86.1857 \n",
       "  861.787,86.1857 863.705,86.1857 865.623,86.1857 867.541,86.1857 869.459,86.1857 871.377,86.1857 873.296,86.1857 875.214,86.1857 877.132,86.1857 879.05,86.1857 \n",
       "  880.968,86.1857 882.886,86.1857 884.804,86.1857 886.722,86.1857 888.64,86.1857 890.558,86.1857 892.476,86.1857 894.395,86.1857 896.313,86.1857 898.231,86.1857 \n",
       "  900.149,86.1857 902.067,86.1857 903.985,86.1857 905.903,86.1857 907.821,86.1857 909.739,86.1857 911.657,86.1857 913.576,86.1857 915.494,86.1857 917.412,86.1857 \n",
       "  919.33,86.1857 921.248,86.1857 923.166,86.1857 925.084,86.1857 927.002,86.1857 928.92,86.1857 930.838,86.1857 932.756,86.1857 934.675,86.1857 936.593,86.1857 \n",
       "  938.511,86.1857 940.429,86.1857 942.347,86.1857 944.265,86.1857 946.183,86.1857 948.101,86.1857 950.019,86.1857 951.937,86.1857 953.856,86.1857 955.774,86.1857 \n",
       "  957.692,86.1857 959.61,86.1857 961.528,86.1857 963.446,86.1857 965.364,86.1857 967.282,86.1857 969.2,86.1857 971.118,86.1857 973.036,86.1857 974.955,86.1857 \n",
       "  976.873,86.1857 978.791,86.1857 980.709,86.1857 982.627,86.1857 984.545,86.1857 986.463,86.1857 988.381,86.1857 990.299,86.1857 992.217,86.1857 994.135,86.1857 \n",
       "  996.054,86.1857 997.972,86.1857 999.89,86.1857 1001.81,86.1857 1003.73,86.1857 1005.64,86.1857 1007.56,86.1857 1009.48,86.1857 1011.4,86.1857 1013.32,86.1857 \n",
       "  1015.23,86.1857 1017.15,86.1857 1019.07,86.1857 1020.99,86.1857 1022.91,86.1857 1024.83,86.1857 1026.74,86.1857 1028.66,86.1857 1030.58,86.1857 1032.5,86.1857 \n",
       "  1034.42,86.1857 1036.33,86.1857 1038.25,86.1857 1040.17,86.1857 1042.09,86.1857 1044.01,86.1857 1045.92,86.1857 1047.84,86.1857 1049.76,86.1857 1051.68,86.1857 \n",
       "  1053.6,86.1857 1055.51,86.1857 1057.43,86.1857 1059.35,86.1857 1061.27,86.1857 1063.19,86.1857 1065.11,86.1857 1067.02,86.1857 1068.94,86.1857 1070.86,86.1857 \n",
       "  1072.78,86.1857 1074.7,86.1857 1076.61,86.1857 1078.53,86.1857 1080.45,86.1857 1082.37,86.1857 1084.29,86.1857 1086.2,86.1857 1088.12,86.1857 1090.04,86.1857 \n",
       "  1091.96,86.1857 1093.88,86.1857 1095.79,86.1857 1097.71,86.1857 1099.63,86.1857 1101.55,86.1857 1103.47,86.1857 1105.38,86.1857 1107.3,86.1857 1109.22,86.1857 \n",
       "  1111.14,86.1857 1113.06,86.1857 1114.98,86.1857 1116.89,86.1857 1118.81,86.1857 1120.73,86.1857 1122.65,86.1857 1124.57,86.1857 1126.48,86.1857 1128.4,86.1857 \n",
       "  1130.32,86.1857 1132.24,86.1857 1134.16,86.1857 1136.07,86.1857 1137.99,86.1857 1139.91,86.1857 1141.83,86.1857 1143.75,86.1857 1145.66,86.1857 1147.58,86.1857 \n",
       "  1149.5,86.1857 1151.42,86.1857 1153.34,86.1857 1155.26,86.1857 1157.17,86.1857 1159.09,86.1857 1161.01,86.1858 1162.93,86.1858 1164.85,86.1859 1166.76,86.7267 \n",
       "  \n",
       "  \"/>\n",
       "<polyline clip-path=\"url(#clip922)\" style=\"stroke:#c271d2; stroke-linecap:butt; stroke-linejoin:round; stroke-width:4; stroke-opacity:1; fill:none\" points=\"\n",
       "  401.444,141.31 403.362,93.0901 405.28,88.2356 407.198,87.0522 409.117,86.6303 411.035,86.4435 412.953,86.3484 414.871,86.2949 416.789,86.2625 418.707,86.2418 \n",
       "  420.625,86.2279 422.543,86.2183 424.461,86.2114 426.379,86.2063 428.298,86.2025 430.216,86.1995 432.134,86.1973 434.052,86.1955 435.97,86.194 437.888,86.1928 \n",
       "  439.806,86.1919 441.724,86.1911 443.642,86.1904 445.56,86.1898 447.478,86.1894 449.397,86.189 451.315,86.1886 453.233,86.1883 455.151,86.1881 457.069,86.1878 \n",
       "  458.987,86.1876 460.905,86.1875 462.823,86.1873 464.741,86.1872 466.659,86.187 468.577,86.1869 470.496,86.1868 472.414,86.1868 474.332,86.1867 476.25,86.1866 \n",
       "  478.168,86.1865 480.086,86.1865 482.004,86.1864 483.922,86.1864 485.84,86.1863 487.758,86.1863 489.677,86.1863 491.595,86.1862 493.513,86.1862 495.431,86.1862 \n",
       "  497.349,86.1861 499.267,86.1861 501.185,86.1861 503.103,86.1861 505.021,86.186 506.939,86.186 508.857,86.186 510.776,86.186 512.694,86.186 514.612,86.186 \n",
       "  516.53,86.1859 518.448,86.1859 520.366,86.1859 522.284,86.1859 524.202,86.1859 526.12,86.1859 528.038,86.1859 529.957,86.1859 531.875,86.1859 533.793,86.1859 \n",
       "  535.711,86.1858 537.629,86.1858 539.547,86.1858 541.465,86.1858 543.383,86.1858 545.301,86.1858 547.219,86.1858 549.137,86.1858 551.056,86.1858 552.974,86.1858 \n",
       "  554.892,86.1858 556.81,86.1858 558.728,86.1858 560.646,86.1858 562.564,86.1858 564.482,86.1858 566.4,86.1858 568.318,86.1858 570.237,86.1858 572.155,86.1858 \n",
       "  574.073,86.1858 575.991,86.1858 577.909,86.1858 579.827,86.1857 581.745,86.1857 583.663,86.1857 585.581,86.1857 587.499,86.1857 589.417,86.1857 591.336,86.1857 \n",
       "  593.254,86.1857 595.172,86.1857 597.09,86.1857 599.008,86.1857 600.926,86.1857 602.844,86.1857 604.762,86.1857 606.68,86.1857 608.598,86.1857 610.517,86.1857 \n",
       "  612.435,86.1857 614.353,86.1857 616.271,86.1857 618.189,86.1857 620.107,86.1857 622.025,86.1857 623.943,86.1857 625.861,86.1857 627.779,86.1857 629.697,86.1857 \n",
       "  631.616,86.1857 633.534,86.1857 635.452,86.1857 637.37,86.1857 639.288,86.1857 641.206,86.1857 643.124,86.1857 645.042,86.1857 646.96,86.1857 648.878,86.1857 \n",
       "  650.797,86.1857 652.715,86.1857 654.633,86.1857 656.551,86.1857 658.469,86.1857 660.387,86.1857 662.305,86.1857 664.223,86.1857 666.141,86.1857 668.059,86.1857 \n",
       "  669.977,86.1857 671.896,86.1857 673.814,86.1857 675.732,86.1857 677.65,86.1857 679.568,86.1857 681.486,86.1857 683.404,86.1857 685.322,86.1857 687.24,86.1857 \n",
       "  689.158,86.1857 691.077,86.1857 692.995,86.1857 694.913,86.1857 696.831,86.1857 698.749,86.1857 700.667,86.1857 702.585,86.1857 704.503,86.1857 706.421,86.1857 \n",
       "  708.339,86.1857 710.257,86.1857 712.176,86.1857 714.094,86.1857 716.012,86.1857 717.93,86.1857 719.848,86.1857 721.766,86.1857 723.684,86.1857 725.602,86.1857 \n",
       "  727.52,86.1857 729.438,86.1857 731.356,86.1857 733.275,86.1857 735.193,86.1857 737.111,86.1857 739.029,86.1857 740.947,86.1857 742.865,86.1857 744.783,86.1857 \n",
       "  746.701,86.1857 748.619,86.1857 750.537,86.1857 752.456,86.1857 754.374,86.1857 756.292,86.1857 758.21,86.1857 760.128,86.1857 762.046,86.1857 763.964,86.1857 \n",
       "  765.882,86.1857 767.8,86.1857 769.718,86.1857 771.636,86.1857 773.555,86.1857 775.473,86.1857 777.391,86.1857 779.309,86.1857 781.227,86.1857 783.145,86.1857 \n",
       "  785.063,86.1857 786.981,86.1857 788.899,86.1857 790.817,86.1857 792.736,86.1857 794.654,86.1857 796.572,86.1857 798.49,86.1857 800.408,86.1857 802.326,86.1857 \n",
       "  804.244,86.1857 806.162,86.1857 808.08,86.1857 809.998,86.1857 811.916,86.1857 813.835,86.1857 815.753,86.1857 817.671,86.1857 819.589,86.1857 821.507,86.1857 \n",
       "  823.425,86.1857 825.343,86.1857 827.261,86.1857 829.179,86.1857 831.097,86.1857 833.016,86.1857 834.934,86.1857 836.852,86.1857 838.77,86.1857 840.688,86.1857 \n",
       "  842.606,86.1857 844.524,86.1857 846.442,86.1857 848.36,86.1857 850.278,86.1857 852.196,86.1857 854.115,86.1857 856.033,86.1857 857.951,86.1857 859.869,86.1857 \n",
       "  861.787,86.1857 863.705,86.1857 865.623,86.1857 867.541,86.1857 869.459,86.1857 871.377,86.1857 873.296,86.1857 875.214,86.1857 877.132,86.1857 879.05,86.1857 \n",
       "  880.968,86.1857 882.886,86.1857 884.804,86.1857 886.722,86.1857 888.64,86.1857 890.558,86.1857 892.476,86.1857 894.395,86.1857 896.313,86.1857 898.231,86.1857 \n",
       "  900.149,86.1857 902.067,86.1857 903.985,86.1857 905.903,86.1857 907.821,86.1857 909.739,86.1857 911.657,86.1857 913.576,86.1857 915.494,86.1857 917.412,86.1857 \n",
       "  919.33,86.1857 921.248,86.1857 923.166,86.1857 925.084,86.1857 927.002,86.1857 928.92,86.1857 930.838,86.1857 932.756,86.1857 934.675,86.1857 936.593,86.1857 \n",
       "  938.511,86.1857 940.429,86.1857 942.347,86.1857 944.265,86.1857 946.183,86.1857 948.101,86.1857 950.019,86.1857 951.937,86.1857 953.856,86.1857 955.774,86.1857 \n",
       "  957.692,86.1857 959.61,86.1857 961.528,86.1857 963.446,86.1857 965.364,86.1857 967.282,86.1857 969.2,86.1857 971.118,86.1857 973.036,86.1857 974.955,86.1857 \n",
       "  976.873,86.1857 978.791,86.1857 980.709,86.1857 982.627,86.1857 984.545,86.1857 986.463,86.1857 988.381,86.1857 990.299,86.1857 992.217,86.1857 994.135,86.1857 \n",
       "  996.054,86.1857 997.972,86.1857 999.89,86.1857 1001.81,86.1857 1003.73,86.1857 1005.64,86.1857 1007.56,86.1857 1009.48,86.1857 1011.4,86.1857 1013.32,86.1857 \n",
       "  1015.23,86.1857 1017.15,86.1857 1019.07,86.1857 1020.99,86.1857 1022.91,86.1857 1024.83,86.1857 1026.74,86.1857 1028.66,86.1857 1030.58,86.1857 1032.5,86.1857 \n",
       "  1034.42,86.1857 1036.33,86.1857 1038.25,86.1857 1040.17,86.1857 1042.09,86.1857 1044.01,86.1857 1045.92,86.1857 1047.84,86.1857 1049.76,86.1857 1051.68,86.1857 \n",
       "  1053.6,86.1857 1055.51,86.1857 1057.43,86.1857 1059.35,86.1857 1061.27,86.1857 1063.19,86.1857 1065.11,86.1857 1067.02,86.1857 1068.94,86.1857 1070.86,86.1857 \n",
       "  1072.78,86.1857 1074.7,86.1857 1076.61,86.1857 1078.53,86.1857 1080.45,86.1857 1082.37,86.1857 1084.29,86.1857 1086.2,86.1857 1088.12,86.1857 1090.04,86.1857 \n",
       "  1091.96,86.1857 1093.88,86.1857 1095.79,86.1857 1097.71,86.1857 1099.63,86.1857 1101.55,86.1857 1103.47,86.1857 1105.38,86.1857 1107.3,86.1857 1109.22,86.1857 \n",
       "  1111.14,86.1857 1113.06,86.1857 1114.98,86.1857 1116.89,86.1857 1118.81,86.1857 1120.73,86.1857 1122.65,86.1857 1124.57,86.1857 1126.48,86.1857 1128.4,86.1857 \n",
       "  1130.32,86.1857 1132.24,86.1857 1134.16,86.1857 1136.07,86.1857 1137.99,86.1857 1139.91,86.1857 1141.83,86.1857 1143.75,86.1857 1145.66,86.1857 1147.58,86.1857 \n",
       "  1149.5,86.1857 1151.42,86.1857 1153.34,86.1857 1155.26,86.1857 1157.17,86.1857 1159.09,86.1857 1161.01,86.1857 1162.93,86.1857 1164.85,86.1857 1166.76,86.2538 \n",
       "  \n",
       "  \"/>\n",
       "<path clip-path=\"url(#clip920)\" d=\"\n",
       "M757.395 352.309 L1162.67 352.309 L1162.67 93.1086 L757.395 93.1086  Z\n",
       "  \" fill=\"#ffffff\" fill-rule=\"evenodd\" fill-opacity=\"1\"/>\n",
       "<polyline clip-path=\"url(#clip920)\" style=\"stroke:#000000; stroke-linecap:butt; stroke-linejoin:round; stroke-width:4; stroke-opacity:1; fill:none\" points=\"\n",
       "  757.395,352.309 1162.67,352.309 1162.67,93.1086 757.395,93.1086 757.395,352.309 \n",
       "  \"/>\n",
       "<polyline clip-path=\"url(#clip920)\" style=\"stroke:#009af9; stroke-linecap:butt; stroke-linejoin:round; stroke-width:4; stroke-opacity:1; fill:none\" points=\"\n",
       "  781.395,144.949 925.395,144.949 \n",
       "  \"/>\n",
       "<path clip-path=\"url(#clip920)\" d=\"M949.395 126.21 L953.678 126.21 L953.678 147.483 L966.386 136.303 L971.826 136.303 L958.076 148.432 L972.404 162.229 L966.849 162.229 L953.678 149.567 L953.678 162.229 L949.395 162.229 L949.395 126.21 Z\" fill=\"#000000\" fill-rule=\"evenodd\" fill-opacity=\"1\" /><path clip-path=\"url(#clip920)\" d=\"M977.566 140.701 L1007.24 140.701 L1007.24 144.59 L977.566 144.59 L977.566 140.701 M977.566 150.145 L1007.24 150.145 L1007.24 154.081 L977.566 154.081 L977.566 150.145 Z\" fill=\"#000000\" fill-rule=\"evenodd\" fill-opacity=\"1\" /><path clip-path=\"url(#clip920)\" d=\"M1027.33 130.747 Q1023.72 130.747 1021.89 134.312 Q1020.09 137.854 1020.09 144.983 Q1020.09 152.09 1021.89 155.655 Q1023.72 159.196 1027.33 159.196 Q1030.97 159.196 1032.77 155.655 Q1034.6 152.09 1034.6 144.983 Q1034.6 137.854 1032.77 134.312 Q1030.97 130.747 1027.33 130.747 M1027.33 127.044 Q1033.14 127.044 1036.2 131.65 Q1039.28 136.233 1039.28 144.983 Q1039.28 153.71 1036.2 158.317 Q1033.14 162.9 1027.33 162.9 Q1021.52 162.9 1018.45 158.317 Q1015.39 153.71 1015.39 144.983 Q1015.39 136.233 1018.45 131.65 Q1021.52 127.044 1027.33 127.044 Z\" fill=\"#000000\" fill-rule=\"evenodd\" fill-opacity=\"1\" /><path clip-path=\"url(#clip920)\" d=\"M1047.5 156.349 L1052.38 156.349 L1052.38 162.229 L1047.5 162.229 L1047.5 156.349 Z\" fill=\"#000000\" fill-rule=\"evenodd\" fill-opacity=\"1\" /><path clip-path=\"url(#clip920)\" d=\"M1072.57 130.747 Q1068.95 130.747 1067.13 134.312 Q1065.32 137.854 1065.32 144.983 Q1065.32 152.09 1067.13 155.655 Q1068.95 159.196 1072.57 159.196 Q1076.2 159.196 1078.01 155.655 Q1079.83 152.09 1079.83 144.983 Q1079.83 137.854 1078.01 134.312 Q1076.2 130.747 1072.57 130.747 M1072.57 127.044 Q1078.38 127.044 1081.43 131.65 Q1084.51 136.233 1084.51 144.983 Q1084.51 153.71 1081.43 158.317 Q1078.38 162.9 1072.57 162.9 Q1066.76 162.9 1063.68 158.317 Q1060.62 153.71 1060.62 144.983 Q1060.62 136.233 1063.68 131.65 Q1066.76 127.044 1072.57 127.044 Z\" fill=\"#000000\" fill-rule=\"evenodd\" fill-opacity=\"1\" /><path clip-path=\"url(#clip920)\" d=\"M1106.89 143.594 Q1110.25 144.312 1112.13 146.581 Q1114.02 148.849 1114.02 152.182 Q1114.02 157.298 1110.51 160.099 Q1106.99 162.9 1100.51 162.9 Q1098.33 162.9 1096.01 162.46 Q1093.72 162.043 1091.27 161.187 L1091.27 156.673 Q1093.21 157.807 1095.53 158.386 Q1097.84 158.965 1100.37 158.965 Q1104.76 158.965 1107.06 157.229 Q1109.37 155.493 1109.37 152.182 Q1109.37 149.127 1107.22 147.414 Q1105.09 145.678 1101.27 145.678 L1097.24 145.678 L1097.24 141.835 L1101.45 141.835 Q1104.9 141.835 1106.73 140.469 Q1108.56 139.081 1108.56 136.488 Q1108.56 133.826 1106.66 132.414 Q1104.79 130.979 1101.27 130.979 Q1099.35 130.979 1097.15 131.395 Q1094.95 131.812 1092.31 132.692 L1092.31 128.525 Q1094.97 127.784 1097.29 127.414 Q1099.63 127.044 1101.69 127.044 Q1107.01 127.044 1110.11 129.474 Q1113.21 131.882 1113.21 136.002 Q1113.21 138.872 1111.57 140.863 Q1109.93 142.831 1106.89 143.594 Z\" fill=\"#000000\" fill-rule=\"evenodd\" fill-opacity=\"1\" /><polyline clip-path=\"url(#clip920)\" style=\"stroke:#e26f46; stroke-linecap:butt; stroke-linejoin:round; stroke-width:4; stroke-opacity:1; fill:none\" points=\"\n",
       "  781.395,196.789 925.395,196.789 \n",
       "  \"/>\n",
       "<path clip-path=\"url(#clip920)\" d=\"M949.395 178.05 L953.678 178.05 L953.678 199.323 L966.386 188.143 L971.826 188.143 L958.076 200.272 L972.404 214.069 L966.849 214.069 L953.678 201.407 L953.678 214.069 L949.395 214.069 L949.395 178.05 Z\" fill=\"#000000\" fill-rule=\"evenodd\" fill-opacity=\"1\" /><path clip-path=\"url(#clip920)\" d=\"M977.566 192.541 L1007.24 192.541 L1007.24 196.43 L977.566 196.43 L977.566 192.541 M977.566 201.985 L1007.24 201.985 L1007.24 205.921 L977.566 205.921 L977.566 201.985 Z\" fill=\"#000000\" fill-rule=\"evenodd\" fill-opacity=\"1\" /><path clip-path=\"url(#clip920)\" d=\"M1027.33 182.587 Q1023.72 182.587 1021.89 186.152 Q1020.09 189.694 1020.09 196.823 Q1020.09 203.93 1021.89 207.495 Q1023.72 211.036 1027.33 211.036 Q1030.97 211.036 1032.77 207.495 Q1034.6 203.93 1034.6 196.823 Q1034.6 189.694 1032.77 186.152 Q1030.97 182.587 1027.33 182.587 M1027.33 178.884 Q1033.14 178.884 1036.2 183.49 Q1039.28 188.073 1039.28 196.823 Q1039.28 205.55 1036.2 210.157 Q1033.14 214.74 1027.33 214.74 Q1021.52 214.74 1018.45 210.157 Q1015.39 205.55 1015.39 196.823 Q1015.39 188.073 1018.45 183.49 Q1021.52 178.884 1027.33 178.884 Z\" fill=\"#000000\" fill-rule=\"evenodd\" fill-opacity=\"1\" /><path clip-path=\"url(#clip920)\" d=\"M1047.5 208.189 L1052.38 208.189 L1052.38 214.069 L1047.5 214.069 L1047.5 208.189 Z\" fill=\"#000000\" fill-rule=\"evenodd\" fill-opacity=\"1\" /><path clip-path=\"url(#clip920)\" d=\"M1076.73 195.434 Q1080.09 196.152 1081.96 198.421 Q1083.86 200.689 1083.86 204.022 Q1083.86 209.138 1080.34 211.939 Q1076.83 214.74 1070.34 214.74 Q1068.17 214.74 1065.85 214.3 Q1063.56 213.883 1061.11 213.027 L1061.11 208.513 Q1063.05 209.647 1065.37 210.226 Q1067.68 210.805 1070.2 210.805 Q1074.6 210.805 1076.89 209.069 Q1079.21 207.333 1079.21 204.022 Q1079.21 200.967 1077.06 199.254 Q1074.93 197.518 1071.11 197.518 L1067.08 197.518 L1067.08 193.675 L1071.29 193.675 Q1074.74 193.675 1076.57 192.309 Q1078.4 190.921 1078.4 188.328 Q1078.4 185.666 1076.5 184.254 Q1074.63 182.819 1071.11 182.819 Q1069.19 182.819 1066.99 183.235 Q1064.79 183.652 1062.15 184.532 L1062.15 180.365 Q1064.81 179.624 1067.13 179.254 Q1069.46 178.884 1071.52 178.884 Q1076.85 178.884 1079.95 181.314 Q1083.05 183.722 1083.05 187.842 Q1083.05 190.712 1081.41 192.703 Q1079.76 194.671 1076.73 195.434 Z\" fill=\"#000000\" fill-rule=\"evenodd\" fill-opacity=\"1\" /><polyline clip-path=\"url(#clip920)\" style=\"stroke:#3da44d; stroke-linecap:butt; stroke-linejoin:round; stroke-width:4; stroke-opacity:1; fill:none\" points=\"\n",
       "  781.395,248.629 925.395,248.629 \n",
       "  \"/>\n",
       "<path clip-path=\"url(#clip920)\" d=\"M949.395 229.89 L953.678 229.89 L953.678 251.163 L966.386 239.983 L971.826 239.983 L958.076 252.112 L972.404 265.909 L966.849 265.909 L953.678 253.247 L953.678 265.909 L949.395 265.909 L949.395 229.89 Z\" fill=\"#000000\" fill-rule=\"evenodd\" fill-opacity=\"1\" /><path clip-path=\"url(#clip920)\" d=\"M977.566 244.381 L1007.24 244.381 L1007.24 248.27 L977.566 248.27 L977.566 244.381 M977.566 253.825 L1007.24 253.825 L1007.24 257.761 L977.566 257.761 L977.566 253.825 Z\" fill=\"#000000\" fill-rule=\"evenodd\" fill-opacity=\"1\" /><path clip-path=\"url(#clip920)\" d=\"M1031.5 247.274 Q1034.86 247.992 1036.73 250.261 Q1038.63 252.529 1038.63 255.862 Q1038.63 260.978 1035.11 263.779 Q1031.59 266.58 1025.11 266.58 Q1022.94 266.58 1020.62 266.14 Q1018.33 265.723 1015.88 264.867 L1015.88 260.353 Q1017.82 261.487 1020.14 262.066 Q1022.45 262.645 1024.97 262.645 Q1029.37 262.645 1031.66 260.909 Q1033.98 259.173 1033.98 255.862 Q1033.98 252.807 1031.83 251.094 Q1029.7 249.358 1025.88 249.358 L1021.85 249.358 L1021.85 245.515 L1026.06 245.515 Q1029.51 245.515 1031.34 244.149 Q1033.17 242.761 1033.17 240.168 Q1033.17 237.506 1031.27 236.094 Q1029.39 234.659 1025.88 234.659 Q1023.95 234.659 1021.76 235.075 Q1019.56 235.492 1016.92 236.372 L1016.92 232.205 Q1019.58 231.464 1021.89 231.094 Q1024.23 230.724 1026.29 230.724 Q1031.62 230.724 1034.72 233.154 Q1037.82 235.562 1037.82 239.682 Q1037.82 242.552 1036.18 244.543 Q1034.53 246.511 1031.5 247.274 Z\" fill=\"#000000\" fill-rule=\"evenodd\" fill-opacity=\"1\" /><path clip-path=\"url(#clip920)\" d=\"M1047.5 260.029 L1052.38 260.029 L1052.38 265.909 L1047.5 265.909 L1047.5 260.029 Z\" fill=\"#000000\" fill-rule=\"evenodd\" fill-opacity=\"1\" /><path clip-path=\"url(#clip920)\" d=\"M1072.57 234.427 Q1068.95 234.427 1067.13 237.992 Q1065.32 241.534 1065.32 248.663 Q1065.32 255.77 1067.13 259.335 Q1068.95 262.876 1072.57 262.876 Q1076.2 262.876 1078.01 259.335 Q1079.83 255.77 1079.83 248.663 Q1079.83 241.534 1078.01 237.992 Q1076.2 234.427 1072.57 234.427 M1072.57 230.724 Q1078.38 230.724 1081.43 235.33 Q1084.51 239.913 1084.51 248.663 Q1084.51 257.39 1081.43 261.997 Q1078.38 266.58 1072.57 266.58 Q1066.76 266.58 1063.68 261.997 Q1060.62 257.39 1060.62 248.663 Q1060.62 239.913 1063.68 235.33 Q1066.76 230.724 1072.57 230.724 Z\" fill=\"#000000\" fill-rule=\"evenodd\" fill-opacity=\"1\" /><polyline clip-path=\"url(#clip920)\" style=\"stroke:#c271d2; stroke-linecap:butt; stroke-linejoin:round; stroke-width:4; stroke-opacity:1; fill:none\" points=\"\n",
       "  781.395,300.469 925.395,300.469 \n",
       "  \"/>\n",
       "<path clip-path=\"url(#clip920)\" d=\"M949.395 281.73 L953.678 281.73 L953.678 303.003 L966.386 291.823 L971.826 291.823 L958.076 303.952 L972.404 317.749 L966.849 317.749 L953.678 305.087 L953.678 317.749 L949.395 317.749 L949.395 281.73 Z\" fill=\"#000000\" fill-rule=\"evenodd\" fill-opacity=\"1\" /><path clip-path=\"url(#clip920)\" d=\"M977.566 296.221 L1007.24 296.221 L1007.24 300.11 L977.566 300.11 L977.566 296.221 M977.566 305.665 L1007.24 305.665 L1007.24 309.601 L977.566 309.601 L977.566 305.665 Z\" fill=\"#000000\" fill-rule=\"evenodd\" fill-opacity=\"1\" /><path clip-path=\"url(#clip920)\" d=\"M1031.5 299.114 Q1034.86 299.832 1036.73 302.101 Q1038.63 304.369 1038.63 307.702 Q1038.63 312.818 1035.11 315.619 Q1031.59 318.42 1025.11 318.42 Q1022.94 318.42 1020.62 317.98 Q1018.33 317.563 1015.88 316.707 L1015.88 312.193 Q1017.82 313.327 1020.14 313.906 Q1022.45 314.485 1024.97 314.485 Q1029.37 314.485 1031.66 312.749 Q1033.98 311.013 1033.98 307.702 Q1033.98 304.647 1031.83 302.934 Q1029.7 301.198 1025.88 301.198 L1021.85 301.198 L1021.85 297.355 L1026.06 297.355 Q1029.51 297.355 1031.34 295.989 Q1033.17 294.601 1033.17 292.008 Q1033.17 289.346 1031.27 287.934 Q1029.39 286.499 1025.88 286.499 Q1023.95 286.499 1021.76 286.915 Q1019.56 287.332 1016.92 288.212 L1016.92 284.045 Q1019.58 283.304 1021.89 282.934 Q1024.23 282.564 1026.29 282.564 Q1031.62 282.564 1034.72 284.994 Q1037.82 287.402 1037.82 291.522 Q1037.82 294.392 1036.18 296.383 Q1034.53 298.351 1031.5 299.114 Z\" fill=\"#000000\" fill-rule=\"evenodd\" fill-opacity=\"1\" /><path clip-path=\"url(#clip920)\" d=\"M1057.5 286.267 Q1053.89 286.267 1052.06 289.832 Q1050.25 293.374 1050.25 300.503 Q1050.25 307.61 1052.06 311.175 Q1053.89 314.716 1057.5 314.716 Q1061.13 314.716 1062.94 311.175 Q1064.76 307.61 1064.76 300.503 Q1064.76 293.374 1062.94 289.832 Q1061.13 286.267 1057.5 286.267 M1057.5 282.564 Q1063.31 282.564 1066.36 287.17 Q1069.44 291.753 1069.44 300.503 Q1069.44 309.23 1066.36 313.837 Q1063.31 318.42 1057.5 318.42 Q1051.69 318.42 1048.61 313.837 Q1045.55 309.23 1045.55 300.503 Q1045.55 291.753 1048.61 287.17 Q1051.69 282.564 1057.5 282.564 Z\" fill=\"#000000\" fill-rule=\"evenodd\" fill-opacity=\"1\" /><path clip-path=\"url(#clip920)\" d=\"M1077.66 311.869 L1082.54 311.869 L1082.54 317.749 L1077.66 317.749 L1077.66 311.869 Z\" fill=\"#000000\" fill-rule=\"evenodd\" fill-opacity=\"1\" /><path clip-path=\"url(#clip920)\" d=\"M1102.73 286.267 Q1099.12 286.267 1097.29 289.832 Q1095.48 293.374 1095.48 300.503 Q1095.48 307.61 1097.29 311.175 Q1099.12 314.716 1102.73 314.716 Q1106.36 314.716 1108.17 311.175 Q1110 307.61 1110 300.503 Q1110 293.374 1108.17 289.832 Q1106.36 286.267 1102.73 286.267 M1102.73 282.564 Q1108.54 282.564 1111.59 287.17 Q1114.67 291.753 1114.67 300.503 Q1114.67 309.23 1111.59 313.837 Q1108.54 318.42 1102.73 318.42 Q1096.92 318.42 1093.84 313.837 Q1090.78 309.23 1090.78 300.503 Q1090.78 291.753 1093.84 287.17 Q1096.92 282.564 1102.73 282.564 Z\" fill=\"#000000\" fill-rule=\"evenodd\" fill-opacity=\"1\" /><path clip-path=\"url(#clip920)\" d=\"\n",
       "M1539.48 1423.18 L2352.76 1423.18 L2352.76 47.2441 L1539.48 47.2441  Z\n",
       "  \" fill=\"#ffffff\" fill-rule=\"evenodd\" fill-opacity=\"1\"/>\n",
       "<defs>\n",
       "  <clipPath id=\"clip923\">\n",
       "    <rect x=\"1539\" y=\"47\" width=\"814\" height=\"1377\"/>\n",
       "  </clipPath>\n",
       "</defs>\n",
       "<polyline clip-path=\"url(#clip923)\" style=\"stroke:#000000; stroke-linecap:butt; stroke-linejoin:round; stroke-width:2; stroke-opacity:0.1; fill:none\" points=\"\n",
       "  1630.46,1423.18 1630.46,47.2441 \n",
       "  \"/>\n",
       "<polyline clip-path=\"url(#clip923)\" style=\"stroke:#000000; stroke-linecap:butt; stroke-linejoin:round; stroke-width:2; stroke-opacity:0.1; fill:none\" points=\"\n",
       "  1805.82,1423.18 1805.82,47.2441 \n",
       "  \"/>\n",
       "<polyline clip-path=\"url(#clip923)\" style=\"stroke:#000000; stroke-linecap:butt; stroke-linejoin:round; stroke-width:2; stroke-opacity:0.1; fill:none\" points=\"\n",
       "  1981.19,1423.18 1981.19,47.2441 \n",
       "  \"/>\n",
       "<polyline clip-path=\"url(#clip923)\" style=\"stroke:#000000; stroke-linecap:butt; stroke-linejoin:round; stroke-width:2; stroke-opacity:0.1; fill:none\" points=\"\n",
       "  2156.56,1423.18 2156.56,47.2441 \n",
       "  \"/>\n",
       "<polyline clip-path=\"url(#clip923)\" style=\"stroke:#000000; stroke-linecap:butt; stroke-linejoin:round; stroke-width:2; stroke-opacity:0.1; fill:none\" points=\"\n",
       "  2331.93,1423.18 2331.93,47.2441 \n",
       "  \"/>\n",
       "<polyline clip-path=\"url(#clip920)\" style=\"stroke:#000000; stroke-linecap:butt; stroke-linejoin:round; stroke-width:4; stroke-opacity:1; fill:none\" points=\"\n",
       "  1539.48,1423.18 2352.76,1423.18 \n",
       "  \"/>\n",
       "<polyline clip-path=\"url(#clip920)\" style=\"stroke:#000000; stroke-linecap:butt; stroke-linejoin:round; stroke-width:4; stroke-opacity:1; fill:none\" points=\"\n",
       "  1630.46,1423.18 1630.46,1404.28 \n",
       "  \"/>\n",
       "<polyline clip-path=\"url(#clip920)\" style=\"stroke:#000000; stroke-linecap:butt; stroke-linejoin:round; stroke-width:4; stroke-opacity:1; fill:none\" points=\"\n",
       "  1805.82,1423.18 1805.82,1404.28 \n",
       "  \"/>\n",
       "<polyline clip-path=\"url(#clip920)\" style=\"stroke:#000000; stroke-linecap:butt; stroke-linejoin:round; stroke-width:4; stroke-opacity:1; fill:none\" points=\"\n",
       "  1981.19,1423.18 1981.19,1404.28 \n",
       "  \"/>\n",
       "<polyline clip-path=\"url(#clip920)\" style=\"stroke:#000000; stroke-linecap:butt; stroke-linejoin:round; stroke-width:4; stroke-opacity:1; fill:none\" points=\"\n",
       "  2156.56,1423.18 2156.56,1404.28 \n",
       "  \"/>\n",
       "<polyline clip-path=\"url(#clip920)\" style=\"stroke:#000000; stroke-linecap:butt; stroke-linejoin:round; stroke-width:4; stroke-opacity:1; fill:none\" points=\"\n",
       "  2331.93,1423.18 2331.93,1404.28 \n",
       "  \"/>\n",
       "<path clip-path=\"url(#clip920)\" d=\"M1608.64 1454.1 Q1605.03 1454.1 1603.2 1457.66 Q1601.39 1461.2 1601.39 1468.33 Q1601.39 1475.44 1603.2 1479.01 Q1605.03 1482.55 1608.64 1482.55 Q1612.27 1482.55 1614.08 1479.01 Q1615.91 1475.44 1615.91 1468.33 Q1615.91 1461.2 1614.08 1457.66 Q1612.27 1454.1 1608.64 1454.1 M1608.64 1450.39 Q1614.45 1450.39 1617.5 1455 Q1620.58 1459.58 1620.58 1468.33 Q1620.58 1477.06 1617.5 1481.67 Q1614.45 1486.25 1608.64 1486.25 Q1602.83 1486.25 1599.75 1481.67 Q1596.69 1477.06 1596.69 1468.33 Q1596.69 1459.58 1599.75 1455 Q1602.83 1450.39 1608.64 1450.39 Z\" fill=\"#000000\" fill-rule=\"evenodd\" fill-opacity=\"1\" /><path clip-path=\"url(#clip920)\" d=\"M1628.8 1479.7 L1633.69 1479.7 L1633.69 1485.58 L1628.8 1485.58 L1628.8 1479.7 Z\" fill=\"#000000\" fill-rule=\"evenodd\" fill-opacity=\"1\" /><path clip-path=\"url(#clip920)\" d=\"M1647.9 1481.64 L1664.22 1481.64 L1664.22 1485.58 L1642.27 1485.58 L1642.27 1481.64 Q1644.94 1478.89 1649.52 1474.26 Q1654.13 1469.61 1655.31 1468.27 Q1657.55 1465.74 1658.43 1464.01 Q1659.33 1462.25 1659.33 1460.56 Q1659.33 1457.8 1657.39 1456.07 Q1655.47 1454.33 1652.37 1454.33 Q1650.17 1454.33 1647.71 1455.09 Q1645.28 1455.86 1642.5 1457.41 L1642.5 1452.69 Q1645.33 1451.55 1647.78 1450.97 Q1650.24 1450.39 1652.27 1450.39 Q1657.64 1450.39 1660.84 1453.08 Q1664.03 1455.77 1664.03 1460.26 Q1664.03 1462.39 1663.22 1464.31 Q1662.44 1466.2 1660.33 1468.8 Q1659.75 1469.47 1656.65 1472.69 Q1653.55 1475.88 1647.9 1481.64 Z\" fill=\"#000000\" fill-rule=\"evenodd\" fill-opacity=\"1\" /><path clip-path=\"url(#clip920)\" d=\"M1782.97 1454.1 Q1779.36 1454.1 1777.53 1457.66 Q1775.72 1461.2 1775.72 1468.33 Q1775.72 1475.44 1777.53 1479.01 Q1779.36 1482.55 1782.97 1482.55 Q1786.6 1482.55 1788.41 1479.01 Q1790.23 1475.44 1790.23 1468.33 Q1790.23 1461.2 1788.41 1457.66 Q1786.6 1454.1 1782.97 1454.1 M1782.97 1450.39 Q1788.78 1450.39 1791.83 1455 Q1794.91 1459.58 1794.91 1468.33 Q1794.91 1477.06 1791.83 1481.67 Q1788.78 1486.25 1782.97 1486.25 Q1777.16 1486.25 1774.08 1481.67 Q1771.02 1477.06 1771.02 1468.33 Q1771.02 1459.58 1774.08 1455 Q1777.16 1450.39 1782.97 1450.39 Z\" fill=\"#000000\" fill-rule=\"evenodd\" fill-opacity=\"1\" /><path clip-path=\"url(#clip920)\" d=\"M1803.13 1479.7 L1808.01 1479.7 L1808.01 1485.58 L1803.13 1485.58 L1803.13 1479.7 Z\" fill=\"#000000\" fill-rule=\"evenodd\" fill-opacity=\"1\" /><path clip-path=\"url(#clip920)\" d=\"M1831.04 1455.09 L1819.24 1473.54 L1831.04 1473.54 L1831.04 1455.09 M1829.82 1451.02 L1835.7 1451.02 L1835.7 1473.54 L1840.63 1473.54 L1840.63 1477.43 L1835.7 1477.43 L1835.7 1485.58 L1831.04 1485.58 L1831.04 1477.43 L1815.44 1477.43 L1815.44 1472.92 L1829.82 1451.02 Z\" fill=\"#000000\" fill-rule=\"evenodd\" fill-opacity=\"1\" /><path clip-path=\"url(#clip920)\" d=\"M1958.5 1454.1 Q1954.89 1454.1 1953.06 1457.66 Q1951.25 1461.2 1951.25 1468.33 Q1951.25 1475.44 1953.06 1479.01 Q1954.89 1482.55 1958.5 1482.55 Q1962.13 1482.55 1963.94 1479.01 Q1965.77 1475.44 1965.77 1468.33 Q1965.77 1461.2 1963.94 1457.66 Q1962.13 1454.1 1958.5 1454.1 M1958.5 1450.39 Q1964.31 1450.39 1967.36 1455 Q1970.44 1459.58 1970.44 1468.33 Q1970.44 1477.06 1967.36 1481.67 Q1964.31 1486.25 1958.5 1486.25 Q1952.69 1486.25 1949.61 1481.67 Q1946.55 1477.06 1946.55 1468.33 Q1946.55 1459.58 1949.61 1455 Q1952.69 1450.39 1958.5 1450.39 Z\" fill=\"#000000\" fill-rule=\"evenodd\" fill-opacity=\"1\" /><path clip-path=\"url(#clip920)\" d=\"M1978.66 1479.7 L1983.54 1479.7 L1983.54 1485.58 L1978.66 1485.58 L1978.66 1479.7 Z\" fill=\"#000000\" fill-rule=\"evenodd\" fill-opacity=\"1\" /><path clip-path=\"url(#clip920)\" d=\"M2004.31 1466.44 Q2001.16 1466.44 1999.31 1468.59 Q1997.48 1470.74 1997.48 1474.49 Q1997.48 1478.22 1999.31 1480.39 Q2001.16 1482.55 2004.31 1482.55 Q2007.45 1482.55 2009.28 1480.39 Q2011.14 1478.22 2011.14 1474.49 Q2011.14 1470.74 2009.28 1468.59 Q2007.45 1466.44 2004.31 1466.44 M2013.59 1451.78 L2013.59 1456.04 Q2011.83 1455.21 2010.02 1454.77 Q2008.24 1454.33 2006.48 1454.33 Q2001.85 1454.33 1999.4 1457.45 Q1996.97 1460.58 1996.62 1466.9 Q1997.99 1464.89 2000.05 1463.82 Q2002.11 1462.73 2004.58 1462.73 Q2009.79 1462.73 2012.8 1465.9 Q2015.83 1469.05 2015.83 1474.49 Q2015.83 1479.82 2012.69 1483.03 Q2009.54 1486.25 2004.31 1486.25 Q1998.31 1486.25 1995.14 1481.67 Q1991.97 1477.06 1991.97 1468.33 Q1991.97 1460.14 1995.86 1455.28 Q1999.75 1450.39 2006.3 1450.39 Q2008.06 1450.39 2009.84 1450.74 Q2011.64 1451.09 2013.59 1451.78 Z\" fill=\"#000000\" fill-rule=\"evenodd\" fill-opacity=\"1\" /><path clip-path=\"url(#clip920)\" d=\"M2133.99 1454.1 Q2130.38 1454.1 2128.55 1457.66 Q2126.75 1461.2 2126.75 1468.33 Q2126.75 1475.44 2128.55 1479.01 Q2130.38 1482.55 2133.99 1482.55 Q2137.63 1482.55 2139.43 1479.01 Q2141.26 1475.44 2141.26 1468.33 Q2141.26 1461.2 2139.43 1457.66 Q2137.63 1454.1 2133.99 1454.1 M2133.99 1450.39 Q2139.8 1450.39 2142.86 1455 Q2145.94 1459.58 2145.94 1468.33 Q2145.94 1477.06 2142.86 1481.67 Q2139.8 1486.25 2133.99 1486.25 Q2128.18 1486.25 2125.1 1481.67 Q2122.05 1477.06 2122.05 1468.33 Q2122.05 1459.58 2125.1 1455 Q2128.18 1450.39 2133.99 1450.39 Z\" fill=\"#000000\" fill-rule=\"evenodd\" fill-opacity=\"1\" /><path clip-path=\"url(#clip920)\" d=\"M2154.15 1479.7 L2159.04 1479.7 L2159.04 1485.58 L2154.15 1485.58 L2154.15 1479.7 Z\" fill=\"#000000\" fill-rule=\"evenodd\" fill-opacity=\"1\" /><path clip-path=\"url(#clip920)\" d=\"M2179.22 1469.17 Q2175.89 1469.17 2173.97 1470.95 Q2172.07 1472.73 2172.07 1475.86 Q2172.07 1478.98 2173.97 1480.77 Q2175.89 1482.55 2179.22 1482.55 Q2182.56 1482.55 2184.48 1480.77 Q2186.4 1478.96 2186.4 1475.86 Q2186.4 1472.73 2184.48 1470.95 Q2182.58 1469.17 2179.22 1469.17 M2174.55 1467.18 Q2171.54 1466.44 2169.85 1464.38 Q2168.18 1462.32 2168.18 1459.35 Q2168.18 1455.21 2171.12 1452.8 Q2174.09 1450.39 2179.22 1450.39 Q2184.39 1450.39 2187.33 1452.8 Q2190.27 1455.21 2190.27 1459.35 Q2190.27 1462.32 2188.58 1464.38 Q2186.91 1466.44 2183.92 1467.18 Q2187.3 1467.96 2189.18 1470.26 Q2191.08 1472.55 2191.08 1475.86 Q2191.08 1480.88 2188 1483.57 Q2184.94 1486.25 2179.22 1486.25 Q2173.51 1486.25 2170.43 1483.57 Q2167.37 1480.88 2167.37 1475.86 Q2167.37 1472.55 2169.27 1470.26 Q2171.17 1467.96 2174.55 1467.18 M2172.84 1459.79 Q2172.84 1462.48 2174.5 1463.98 Q2176.19 1465.49 2179.22 1465.49 Q2182.23 1465.49 2183.92 1463.98 Q2185.64 1462.48 2185.64 1459.79 Q2185.64 1457.11 2183.92 1455.6 Q2182.23 1454.1 2179.22 1454.1 Q2176.19 1454.1 2174.5 1455.6 Q2172.84 1457.11 2172.84 1459.79 Z\" fill=\"#000000\" fill-rule=\"evenodd\" fill-opacity=\"1\" /><path clip-path=\"url(#clip920)\" d=\"M2299.08 1481.64 L2306.72 1481.64 L2306.72 1455.28 L2298.41 1456.95 L2298.41 1452.69 L2306.68 1451.02 L2311.35 1451.02 L2311.35 1481.64 L2318.99 1481.64 L2318.99 1485.58 L2299.08 1485.58 L2299.08 1481.64 Z\" fill=\"#000000\" fill-rule=\"evenodd\" fill-opacity=\"1\" /><path clip-path=\"url(#clip920)\" d=\"M2328.44 1479.7 L2333.32 1479.7 L2333.32 1485.58 L2328.44 1485.58 L2328.44 1479.7 Z\" fill=\"#000000\" fill-rule=\"evenodd\" fill-opacity=\"1\" /><path clip-path=\"url(#clip920)\" d=\"M2353.5 1454.1 Q2349.89 1454.1 2348.07 1457.66 Q2346.26 1461.2 2346.26 1468.33 Q2346.26 1475.44 2348.07 1479.01 Q2349.89 1482.55 2353.5 1482.55 Q2357.14 1482.55 2358.94 1479.01 Q2360.77 1475.44 2360.77 1468.33 Q2360.77 1461.2 2358.94 1457.66 Q2357.14 1454.1 2353.5 1454.1 M2353.5 1450.39 Q2359.31 1450.39 2362.37 1455 Q2365.45 1459.58 2365.45 1468.33 Q2365.45 1477.06 2362.37 1481.67 Q2359.31 1486.25 2353.5 1486.25 Q2347.69 1486.25 2344.62 1481.67 Q2341.56 1477.06 2341.56 1468.33 Q2341.56 1459.58 2344.62 1455 Q2347.69 1450.39 2353.5 1450.39 Z\" fill=\"#000000\" fill-rule=\"evenodd\" fill-opacity=\"1\" /><path clip-path=\"url(#clip920)\" d=\"M1957.83 1533.45 L1957.83 1538.98 Q1955.35 1537.71 1952.68 1537.07 Q1950 1536.44 1947.14 1536.44 Q1942.78 1536.44 1940.58 1537.77 Q1938.42 1539.11 1938.42 1541.79 Q1938.42 1543.82 1939.98 1545 Q1941.54 1546.15 1946.25 1547.2 L1948.25 1547.64 Q1954.49 1548.98 1957.1 1551.43 Q1959.74 1553.85 1959.74 1558.21 Q1959.74 1563.17 1955.8 1566.07 Q1951.88 1568.97 1945.01 1568.97 Q1942.14 1568.97 1939.02 1568.39 Q1935.93 1567.85 1932.5 1566.74 L1932.5 1560.69 Q1935.74 1562.38 1938.89 1563.24 Q1942.05 1564.07 1945.13 1564.07 Q1949.27 1564.07 1951.5 1562.66 Q1953.73 1561.23 1953.73 1558.65 Q1953.73 1556.27 1952.1 1554.99 Q1950.51 1553.72 1945.07 1552.54 L1943.03 1552.07 Q1937.59 1550.92 1935.17 1548.56 Q1932.75 1546.18 1932.75 1542.04 Q1932.75 1537.01 1936.32 1534.27 Q1939.88 1531.54 1946.44 1531.54 Q1949.68 1531.54 1952.55 1532.01 Q1955.41 1532.49 1957.83 1533.45 Z\" fill=\"#000000\" fill-rule=\"evenodd\" fill-opacity=\"1\" /><polyline clip-path=\"url(#clip923)\" style=\"stroke:#000000; stroke-linecap:butt; stroke-linejoin:round; stroke-width:2; stroke-opacity:0.1; fill:none\" points=\"\n",
       "  1539.48,1268.11 2352.76,1268.11 \n",
       "  \"/>\n",
       "<polyline clip-path=\"url(#clip923)\" style=\"stroke:#000000; stroke-linecap:butt; stroke-linejoin:round; stroke-width:2; stroke-opacity:0.1; fill:none\" points=\"\n",
       "  1539.48,1031.59 2352.76,1031.59 \n",
       "  \"/>\n",
       "<polyline clip-path=\"url(#clip923)\" style=\"stroke:#000000; stroke-linecap:butt; stroke-linejoin:round; stroke-width:2; stroke-opacity:0.1; fill:none\" points=\"\n",
       "  1539.48,795.067 2352.76,795.067 \n",
       "  \"/>\n",
       "<polyline clip-path=\"url(#clip923)\" style=\"stroke:#000000; stroke-linecap:butt; stroke-linejoin:round; stroke-width:2; stroke-opacity:0.1; fill:none\" points=\"\n",
       "  1539.48,558.544 2352.76,558.544 \n",
       "  \"/>\n",
       "<polyline clip-path=\"url(#clip923)\" style=\"stroke:#000000; stroke-linecap:butt; stroke-linejoin:round; stroke-width:2; stroke-opacity:0.1; fill:none\" points=\"\n",
       "  1539.48,322.022 2352.76,322.022 \n",
       "  \"/>\n",
       "<polyline clip-path=\"url(#clip923)\" style=\"stroke:#000000; stroke-linecap:butt; stroke-linejoin:round; stroke-width:2; stroke-opacity:0.1; fill:none\" points=\"\n",
       "  1539.48,85.4994 2352.76,85.4994 \n",
       "  \"/>\n",
       "<polyline clip-path=\"url(#clip920)\" style=\"stroke:#000000; stroke-linecap:butt; stroke-linejoin:round; stroke-width:4; stroke-opacity:1; fill:none\" points=\"\n",
       "  1539.48,1423.18 1539.48,47.2441 \n",
       "  \"/>\n",
       "<polyline clip-path=\"url(#clip920)\" style=\"stroke:#000000; stroke-linecap:butt; stroke-linejoin:round; stroke-width:4; stroke-opacity:1; fill:none\" points=\"\n",
       "  1539.48,1268.11 1558.38,1268.11 \n",
       "  \"/>\n",
       "<polyline clip-path=\"url(#clip920)\" style=\"stroke:#000000; stroke-linecap:butt; stroke-linejoin:round; stroke-width:4; stroke-opacity:1; fill:none\" points=\"\n",
       "  1539.48,1031.59 1558.38,1031.59 \n",
       "  \"/>\n",
       "<polyline clip-path=\"url(#clip920)\" style=\"stroke:#000000; stroke-linecap:butt; stroke-linejoin:round; stroke-width:4; stroke-opacity:1; fill:none\" points=\"\n",
       "  1539.48,795.067 1558.38,795.067 \n",
       "  \"/>\n",
       "<polyline clip-path=\"url(#clip920)\" style=\"stroke:#000000; stroke-linecap:butt; stroke-linejoin:round; stroke-width:4; stroke-opacity:1; fill:none\" points=\"\n",
       "  1539.48,558.544 1558.38,558.544 \n",
       "  \"/>\n",
       "<polyline clip-path=\"url(#clip920)\" style=\"stroke:#000000; stroke-linecap:butt; stroke-linejoin:round; stroke-width:4; stroke-opacity:1; fill:none\" points=\"\n",
       "  1539.48,322.022 1558.38,322.022 \n",
       "  \"/>\n",
       "<polyline clip-path=\"url(#clip920)\" style=\"stroke:#000000; stroke-linecap:butt; stroke-linejoin:round; stroke-width:4; stroke-opacity:1; fill:none\" points=\"\n",
       "  1539.48,85.4994 1558.38,85.4994 \n",
       "  \"/>\n",
       "<path clip-path=\"url(#clip920)\" d=\"M1351.29 1268.56 L1380.96 1268.56 L1380.96 1272.5 L1351.29 1272.5 L1351.29 1268.56 Z\" fill=\"#000000\" fill-rule=\"evenodd\" fill-opacity=\"1\" /><path clip-path=\"url(#clip920)\" d=\"M1391.1 1250.83 L1409.46 1250.83 L1409.46 1254.77 L1395.38 1254.77 L1395.38 1263.24 Q1396.4 1262.89 1397.42 1262.73 Q1398.44 1262.54 1399.46 1262.54 Q1405.24 1262.54 1408.62 1265.72 Q1412 1268.89 1412 1274.3 Q1412 1279.88 1408.53 1282.98 Q1405.06 1286.06 1398.74 1286.06 Q1396.56 1286.06 1394.29 1285.69 Q1392.05 1285.32 1389.64 1284.58 L1389.64 1279.88 Q1391.73 1281.02 1393.95 1281.57 Q1396.17 1282.13 1398.65 1282.13 Q1402.65 1282.13 1404.99 1280.02 Q1407.33 1277.91 1407.33 1274.3 Q1407.33 1270.69 1404.99 1268.59 Q1402.65 1266.48 1398.65 1266.48 Q1396.77 1266.48 1394.9 1266.9 Q1393.04 1267.31 1391.1 1268.19 L1391.1 1250.83 Z\" fill=\"#000000\" fill-rule=\"evenodd\" fill-opacity=\"1\" /><path clip-path=\"url(#clip920)\" d=\"M1431.22 1253.91 Q1427.6 1253.91 1425.78 1257.48 Q1423.97 1261.02 1423.97 1268.15 Q1423.97 1275.25 1425.78 1278.82 Q1427.6 1282.36 1431.22 1282.36 Q1434.85 1282.36 1436.66 1278.82 Q1438.48 1275.25 1438.48 1268.15 Q1438.48 1261.02 1436.66 1257.48 Q1434.85 1253.91 1431.22 1253.91 M1431.22 1250.21 Q1437.03 1250.21 1440.08 1254.81 Q1443.16 1259.4 1443.16 1268.15 Q1443.16 1276.87 1440.08 1281.48 Q1437.03 1286.06 1431.22 1286.06 Q1425.41 1286.06 1422.33 1281.48 Q1419.27 1276.87 1419.27 1268.15 Q1419.27 1259.4 1422.33 1254.81 Q1425.41 1250.21 1431.22 1250.21 Z\" fill=\"#000000\" fill-rule=\"evenodd\" fill-opacity=\"1\" /><path clip-path=\"url(#clip920)\" d=\"M1461.38 1253.91 Q1457.77 1253.91 1455.94 1257.48 Q1454.13 1261.02 1454.13 1268.15 Q1454.13 1275.25 1455.94 1278.82 Q1457.77 1282.36 1461.38 1282.36 Q1465.01 1282.36 1466.82 1278.82 Q1468.65 1275.25 1468.65 1268.15 Q1468.65 1261.02 1466.82 1257.48 Q1465.01 1253.91 1461.38 1253.91 M1461.38 1250.21 Q1467.19 1250.21 1470.24 1254.81 Q1473.32 1259.4 1473.32 1268.15 Q1473.32 1276.87 1470.24 1281.48 Q1467.19 1286.06 1461.38 1286.06 Q1455.57 1286.06 1452.49 1281.48 Q1449.43 1276.87 1449.43 1268.15 Q1449.43 1259.4 1452.49 1254.81 Q1455.57 1250.21 1461.38 1250.21 Z\" fill=\"#000000\" fill-rule=\"evenodd\" fill-opacity=\"1\" /><path clip-path=\"url(#clip920)\" d=\"M1491.54 1253.91 Q1487.93 1253.91 1486.1 1257.48 Q1484.29 1261.02 1484.29 1268.15 Q1484.29 1275.25 1486.1 1278.82 Q1487.93 1282.36 1491.54 1282.36 Q1495.17 1282.36 1496.98 1278.82 Q1498.81 1275.25 1498.81 1268.15 Q1498.81 1261.02 1496.98 1257.48 Q1495.17 1253.91 1491.54 1253.91 M1491.54 1250.21 Q1497.35 1250.21 1500.4 1254.81 Q1503.48 1259.4 1503.48 1268.15 Q1503.48 1276.87 1500.4 1281.48 Q1497.35 1286.06 1491.54 1286.06 Q1485.73 1286.06 1482.65 1281.48 Q1479.59 1276.87 1479.59 1268.15 Q1479.59 1259.4 1482.65 1254.81 Q1485.73 1250.21 1491.54 1250.21 Z\" fill=\"#000000\" fill-rule=\"evenodd\" fill-opacity=\"1\" /><path clip-path=\"url(#clip920)\" d=\"M1351.29 1032.04 L1380.96 1032.04 L1380.96 1035.98 L1351.29 1035.98 L1351.29 1032.04 Z\" fill=\"#000000\" fill-rule=\"evenodd\" fill-opacity=\"1\" /><path clip-path=\"url(#clip920)\" d=\"M1403.9 1018.38 L1392.1 1036.83 L1403.9 1036.83 L1403.9 1018.38 M1402.67 1014.31 L1408.55 1014.31 L1408.55 1036.83 L1413.48 1036.83 L1413.48 1040.72 L1408.55 1040.72 L1408.55 1048.87 L1403.9 1048.87 L1403.9 1040.72 L1388.3 1040.72 L1388.3 1036.21 L1402.67 1014.31 Z\" fill=\"#000000\" fill-rule=\"evenodd\" fill-opacity=\"1\" /><path clip-path=\"url(#clip920)\" d=\"M1431.22 1017.39 Q1427.6 1017.39 1425.78 1020.95 Q1423.97 1024.49 1423.97 1031.62 Q1423.97 1038.73 1425.78 1042.3 Q1427.6 1045.84 1431.22 1045.84 Q1434.85 1045.84 1436.66 1042.3 Q1438.48 1038.73 1438.48 1031.62 Q1438.48 1024.49 1436.66 1020.95 Q1434.85 1017.39 1431.22 1017.39 M1431.22 1013.68 Q1437.03 1013.68 1440.08 1018.29 Q1443.16 1022.87 1443.16 1031.62 Q1443.16 1040.35 1440.08 1044.96 Q1437.03 1049.54 1431.22 1049.54 Q1425.41 1049.54 1422.33 1044.96 Q1419.27 1040.35 1419.27 1031.62 Q1419.27 1022.87 1422.33 1018.29 Q1425.41 1013.68 1431.22 1013.68 Z\" fill=\"#000000\" fill-rule=\"evenodd\" fill-opacity=\"1\" /><path clip-path=\"url(#clip920)\" d=\"M1461.38 1017.39 Q1457.77 1017.39 1455.94 1020.95 Q1454.13 1024.49 1454.13 1031.62 Q1454.13 1038.73 1455.94 1042.3 Q1457.77 1045.84 1461.38 1045.84 Q1465.01 1045.84 1466.82 1042.3 Q1468.65 1038.73 1468.65 1031.62 Q1468.65 1024.49 1466.82 1020.95 Q1465.01 1017.39 1461.38 1017.39 M1461.38 1013.68 Q1467.19 1013.68 1470.24 1018.29 Q1473.32 1022.87 1473.32 1031.62 Q1473.32 1040.35 1470.24 1044.96 Q1467.19 1049.54 1461.38 1049.54 Q1455.57 1049.54 1452.49 1044.96 Q1449.43 1040.35 1449.43 1031.62 Q1449.43 1022.87 1452.49 1018.29 Q1455.57 1013.68 1461.38 1013.68 Z\" fill=\"#000000\" fill-rule=\"evenodd\" fill-opacity=\"1\" /><path clip-path=\"url(#clip920)\" d=\"M1491.54 1017.39 Q1487.93 1017.39 1486.1 1020.95 Q1484.29 1024.49 1484.29 1031.62 Q1484.29 1038.73 1486.1 1042.3 Q1487.93 1045.84 1491.54 1045.84 Q1495.17 1045.84 1496.98 1042.3 Q1498.81 1038.73 1498.81 1031.62 Q1498.81 1024.49 1496.98 1020.95 Q1495.17 1017.39 1491.54 1017.39 M1491.54 1013.68 Q1497.35 1013.68 1500.4 1018.29 Q1503.48 1022.87 1503.48 1031.62 Q1503.48 1040.35 1500.4 1044.96 Q1497.35 1049.54 1491.54 1049.54 Q1485.73 1049.54 1482.65 1044.96 Q1479.59 1040.35 1479.59 1031.62 Q1479.59 1022.87 1482.65 1018.29 Q1485.73 1013.68 1491.54 1013.68 Z\" fill=\"#000000\" fill-rule=\"evenodd\" fill-opacity=\"1\" /><path clip-path=\"url(#clip920)\" d=\"M1351.29 795.518 L1380.96 795.518 L1380.96 799.453 L1351.29 799.453 L1351.29 795.518 Z\" fill=\"#000000\" fill-rule=\"evenodd\" fill-opacity=\"1\" /><path clip-path=\"url(#clip920)\" d=\"M1405.22 793.713 Q1408.58 794.43 1410.45 796.699 Q1412.35 798.967 1412.35 802.3 Q1412.35 807.416 1408.83 810.217 Q1405.31 813.018 1398.83 813.018 Q1396.66 813.018 1394.34 812.578 Q1392.05 812.162 1389.6 811.305 L1389.6 806.791 Q1391.54 807.925 1393.85 808.504 Q1396.17 809.083 1398.69 809.083 Q1403.09 809.083 1405.38 807.347 Q1407.7 805.611 1407.7 802.3 Q1407.7 799.245 1405.54 797.532 Q1403.41 795.796 1399.6 795.796 L1395.57 795.796 L1395.57 791.953 L1399.78 791.953 Q1403.23 791.953 1405.06 790.588 Q1406.89 789.199 1406.89 786.606 Q1406.89 783.944 1404.99 782.532 Q1403.11 781.097 1399.6 781.097 Q1397.67 781.097 1395.48 781.514 Q1393.28 781.93 1390.64 782.81 L1390.64 778.643 Q1393.3 777.902 1395.61 777.532 Q1397.95 777.162 1400.01 777.162 Q1405.34 777.162 1408.44 779.592 Q1411.54 782 1411.54 786.12 Q1411.54 788.99 1409.9 790.981 Q1408.25 792.949 1405.22 793.713 Z\" fill=\"#000000\" fill-rule=\"evenodd\" fill-opacity=\"1\" /><path clip-path=\"url(#clip920)\" d=\"M1431.22 780.865 Q1427.6 780.865 1425.78 784.43 Q1423.97 787.972 1423.97 795.101 Q1423.97 802.208 1425.78 805.773 Q1427.6 809.314 1431.22 809.314 Q1434.85 809.314 1436.66 805.773 Q1438.48 802.208 1438.48 795.101 Q1438.48 787.972 1436.66 784.43 Q1434.85 780.865 1431.22 780.865 M1431.22 777.162 Q1437.03 777.162 1440.08 781.768 Q1443.16 786.351 1443.16 795.101 Q1443.16 803.828 1440.08 808.435 Q1437.03 813.018 1431.22 813.018 Q1425.41 813.018 1422.33 808.435 Q1419.27 803.828 1419.27 795.101 Q1419.27 786.351 1422.33 781.768 Q1425.41 777.162 1431.22 777.162 Z\" fill=\"#000000\" fill-rule=\"evenodd\" fill-opacity=\"1\" /><path clip-path=\"url(#clip920)\" d=\"M1461.38 780.865 Q1457.77 780.865 1455.94 784.43 Q1454.13 787.972 1454.13 795.101 Q1454.13 802.208 1455.94 805.773 Q1457.77 809.314 1461.38 809.314 Q1465.01 809.314 1466.82 805.773 Q1468.65 802.208 1468.65 795.101 Q1468.65 787.972 1466.82 784.43 Q1465.01 780.865 1461.38 780.865 M1461.38 777.162 Q1467.19 777.162 1470.24 781.768 Q1473.32 786.351 1473.32 795.101 Q1473.32 803.828 1470.24 808.435 Q1467.19 813.018 1461.38 813.018 Q1455.57 813.018 1452.49 808.435 Q1449.43 803.828 1449.43 795.101 Q1449.43 786.351 1452.49 781.768 Q1455.57 777.162 1461.38 777.162 Z\" fill=\"#000000\" fill-rule=\"evenodd\" fill-opacity=\"1\" /><path clip-path=\"url(#clip920)\" d=\"M1491.54 780.865 Q1487.93 780.865 1486.1 784.43 Q1484.29 787.972 1484.29 795.101 Q1484.29 802.208 1486.1 805.773 Q1487.93 809.314 1491.54 809.314 Q1495.17 809.314 1496.98 805.773 Q1498.81 802.208 1498.81 795.101 Q1498.81 787.972 1496.98 784.43 Q1495.17 780.865 1491.54 780.865 M1491.54 777.162 Q1497.35 777.162 1500.4 781.768 Q1503.48 786.351 1503.48 795.101 Q1503.48 803.828 1500.4 808.435 Q1497.35 813.018 1491.54 813.018 Q1485.73 813.018 1482.65 808.435 Q1479.59 803.828 1479.59 795.101 Q1479.59 786.351 1482.65 781.768 Q1485.73 777.162 1491.54 777.162 Z\" fill=\"#000000\" fill-rule=\"evenodd\" fill-opacity=\"1\" /><path clip-path=\"url(#clip920)\" d=\"M1351.29 558.996 L1380.96 558.996 L1380.96 562.931 L1351.29 562.931 L1351.29 558.996 Z\" fill=\"#000000\" fill-rule=\"evenodd\" fill-opacity=\"1\" /><path clip-path=\"url(#clip920)\" d=\"M1395.08 571.889 L1411.4 571.889 L1411.4 575.824 L1389.46 575.824 L1389.46 571.889 Q1392.12 569.135 1396.7 564.505 Q1401.31 559.852 1402.49 558.51 Q1404.73 555.986 1405.61 554.25 Q1406.52 552.491 1406.52 550.801 Q1406.52 548.047 1404.57 546.311 Q1402.65 544.574 1399.55 544.574 Q1397.35 544.574 1394.9 545.338 Q1392.47 546.102 1389.69 547.653 L1389.69 542.931 Q1392.51 541.797 1394.97 541.218 Q1397.42 540.639 1399.46 540.639 Q1404.83 540.639 1408.02 543.324 Q1411.22 546.01 1411.22 550.5 Q1411.22 552.63 1410.41 554.551 Q1409.62 556.449 1407.51 559.042 Q1406.93 559.713 1403.83 562.931 Q1400.73 566.125 1395.08 571.889 Z\" fill=\"#000000\" fill-rule=\"evenodd\" fill-opacity=\"1\" /><path clip-path=\"url(#clip920)\" d=\"M1431.22 544.343 Q1427.6 544.343 1425.78 547.908 Q1423.97 551.449 1423.97 558.579 Q1423.97 565.685 1425.78 569.25 Q1427.6 572.792 1431.22 572.792 Q1434.85 572.792 1436.66 569.25 Q1438.48 565.685 1438.48 558.579 Q1438.48 551.449 1436.66 547.908 Q1434.85 544.343 1431.22 544.343 M1431.22 540.639 Q1437.03 540.639 1440.08 545.246 Q1443.16 549.829 1443.16 558.579 Q1443.16 567.306 1440.08 571.912 Q1437.03 576.496 1431.22 576.496 Q1425.41 576.496 1422.33 571.912 Q1419.27 567.306 1419.27 558.579 Q1419.27 549.829 1422.33 545.246 Q1425.41 540.639 1431.22 540.639 Z\" fill=\"#000000\" fill-rule=\"evenodd\" fill-opacity=\"1\" /><path clip-path=\"url(#clip920)\" d=\"M1461.38 544.343 Q1457.77 544.343 1455.94 547.908 Q1454.13 551.449 1454.13 558.579 Q1454.13 565.685 1455.94 569.25 Q1457.77 572.792 1461.38 572.792 Q1465.01 572.792 1466.82 569.25 Q1468.65 565.685 1468.65 558.579 Q1468.65 551.449 1466.82 547.908 Q1465.01 544.343 1461.38 544.343 M1461.38 540.639 Q1467.19 540.639 1470.24 545.246 Q1473.32 549.829 1473.32 558.579 Q1473.32 567.306 1470.24 571.912 Q1467.19 576.496 1461.38 576.496 Q1455.57 576.496 1452.49 571.912 Q1449.43 567.306 1449.43 558.579 Q1449.43 549.829 1452.49 545.246 Q1455.57 540.639 1461.38 540.639 Z\" fill=\"#000000\" fill-rule=\"evenodd\" fill-opacity=\"1\" /><path clip-path=\"url(#clip920)\" d=\"M1491.54 544.343 Q1487.93 544.343 1486.1 547.908 Q1484.29 551.449 1484.29 558.579 Q1484.29 565.685 1486.1 569.25 Q1487.93 572.792 1491.54 572.792 Q1495.17 572.792 1496.98 569.25 Q1498.81 565.685 1498.81 558.579 Q1498.81 551.449 1496.98 547.908 Q1495.17 544.343 1491.54 544.343 M1491.54 540.639 Q1497.35 540.639 1500.4 545.246 Q1503.48 549.829 1503.48 558.579 Q1503.48 567.306 1500.4 571.912 Q1497.35 576.496 1491.54 576.496 Q1485.73 576.496 1482.65 571.912 Q1479.59 567.306 1479.59 558.579 Q1479.59 549.829 1482.65 545.246 Q1485.73 540.639 1491.54 540.639 Z\" fill=\"#000000\" fill-rule=\"evenodd\" fill-opacity=\"1\" /><path clip-path=\"url(#clip920)\" d=\"M1351.29 322.473 L1380.96 322.473 L1380.96 326.408 L1351.29 326.408 L1351.29 322.473 Z\" fill=\"#000000\" fill-rule=\"evenodd\" fill-opacity=\"1\" /><path clip-path=\"url(#clip920)\" d=\"M1391.86 335.367 L1399.5 335.367 L1399.5 309.001 L1391.19 310.668 L1391.19 306.409 L1399.46 304.742 L1404.13 304.742 L1404.13 335.367 L1411.77 335.367 L1411.77 339.302 L1391.86 339.302 L1391.86 335.367 Z\" fill=\"#000000\" fill-rule=\"evenodd\" fill-opacity=\"1\" /><path clip-path=\"url(#clip920)\" d=\"M1431.22 307.821 Q1427.6 307.821 1425.78 311.385 Q1423.97 314.927 1423.97 322.057 Q1423.97 329.163 1425.78 332.728 Q1427.6 336.269 1431.22 336.269 Q1434.85 336.269 1436.66 332.728 Q1438.48 329.163 1438.48 322.057 Q1438.48 314.927 1436.66 311.385 Q1434.85 307.821 1431.22 307.821 M1431.22 304.117 Q1437.03 304.117 1440.08 308.723 Q1443.16 313.307 1443.16 322.057 Q1443.16 330.783 1440.08 335.39 Q1437.03 339.973 1431.22 339.973 Q1425.41 339.973 1422.33 335.39 Q1419.27 330.783 1419.27 322.057 Q1419.27 313.307 1422.33 308.723 Q1425.41 304.117 1431.22 304.117 Z\" fill=\"#000000\" fill-rule=\"evenodd\" fill-opacity=\"1\" /><path clip-path=\"url(#clip920)\" d=\"M1461.38 307.821 Q1457.77 307.821 1455.94 311.385 Q1454.13 314.927 1454.13 322.057 Q1454.13 329.163 1455.94 332.728 Q1457.77 336.269 1461.38 336.269 Q1465.01 336.269 1466.82 332.728 Q1468.65 329.163 1468.65 322.057 Q1468.65 314.927 1466.82 311.385 Q1465.01 307.821 1461.38 307.821 M1461.38 304.117 Q1467.19 304.117 1470.24 308.723 Q1473.32 313.307 1473.32 322.057 Q1473.32 330.783 1470.24 335.39 Q1467.19 339.973 1461.38 339.973 Q1455.57 339.973 1452.49 335.39 Q1449.43 330.783 1449.43 322.057 Q1449.43 313.307 1452.49 308.723 Q1455.57 304.117 1461.38 304.117 Z\" fill=\"#000000\" fill-rule=\"evenodd\" fill-opacity=\"1\" /><path clip-path=\"url(#clip920)\" d=\"M1491.54 307.821 Q1487.93 307.821 1486.1 311.385 Q1484.29 314.927 1484.29 322.057 Q1484.29 329.163 1486.1 332.728 Q1487.93 336.269 1491.54 336.269 Q1495.17 336.269 1496.98 332.728 Q1498.81 329.163 1498.81 322.057 Q1498.81 314.927 1496.98 311.385 Q1495.17 307.821 1491.54 307.821 M1491.54 304.117 Q1497.35 304.117 1500.4 308.723 Q1503.48 313.307 1503.48 322.057 Q1503.48 330.783 1500.4 335.39 Q1497.35 339.973 1491.54 339.973 Q1485.73 339.973 1482.65 335.39 Q1479.59 330.783 1479.59 322.057 Q1479.59 313.307 1482.65 308.723 Q1485.73 304.117 1491.54 304.117 Z\" fill=\"#000000\" fill-rule=\"evenodd\" fill-opacity=\"1\" /><path clip-path=\"url(#clip920)\" d=\"M1491.54 71.2981 Q1487.93 71.2981 1486.1 74.8629 Q1484.29 78.4046 1484.29 85.5342 Q1484.29 92.6406 1486.1 96.2054 Q1487.93 99.747 1491.54 99.747 Q1495.17 99.747 1496.98 96.2054 Q1498.81 92.6406 1498.81 85.5342 Q1498.81 78.4046 1496.98 74.8629 Q1495.17 71.2981 1491.54 71.2981 M1491.54 67.5944 Q1497.35 67.5944 1500.4 72.2009 Q1503.48 76.7842 1503.48 85.5342 Q1503.48 94.261 1500.4 98.8674 Q1497.35 103.451 1491.54 103.451 Q1485.73 103.451 1482.65 98.8674 Q1479.59 94.261 1479.59 85.5342 Q1479.59 76.7842 1482.65 72.2009 Q1485.73 67.5944 1491.54 67.5944 Z\" fill=\"#000000\" fill-rule=\"evenodd\" fill-opacity=\"1\" /><path clip-path=\"url(#clip920)\" d=\"M1251.5 751.031 L1251.5 745.142 L1280.75 745.142 L1265.38 727.669 L1265.38 720.189 L1282.06 739.095 L1301.03 719.393 L1301.03 727.032 L1283.62 745.142 L1301.03 745.142 L1301.03 751.031 L1251.5 751.031 Z\" fill=\"#000000\" fill-rule=\"evenodd\" fill-opacity=\"1\" /><polyline clip-path=\"url(#clip923)\" style=\"stroke:#009af9; stroke-linecap:butt; stroke-linejoin:round; stroke-width:4; stroke-opacity:1; fill:none\" points=\"\n",
       "  1562.5,1384.24 1564.69,1308.68 1566.89,1238.91 1569.08,1174.38 1571.27,1114.61 1573.46,1059.15 1575.65,1007.64 1577.85,959.724 1580.04,915.093 1582.23,873.471 \n",
       "  1584.42,834.607 1586.61,798.278 1588.81,764.278 1591,732.424 1593.19,702.548 1595.38,674.5 1597.57,648.141 1599.77,623.345 1601.96,599.998 1604.15,577.996 \n",
       "  1606.34,557.242 1608.54,537.65 1610.73,519.139 1612.92,501.635 1615.11,485.07 1617.3,469.382 1619.5,454.514 1621.69,440.412 1623.88,427.029 1626.07,414.317 \n",
       "  1628.26,402.236 1630.46,390.748 1632.65,379.815 1634.84,369.404 1637.03,359.486 1639.22,350.03 1641.42,341.011 1643.61,332.402 1645.8,324.182 1647.99,316.328 \n",
       "  1650.19,308.819 1652.38,301.638 1654.57,294.767 1656.76,288.188 1658.95,281.886 1661.15,275.848 1663.34,270.058 1665.53,264.506 1667.72,259.177 1669.91,254.062 \n",
       "  1672.11,249.149 1674.3,244.43 1676.49,239.893 1678.68,235.531 1680.87,231.334 1683.07,227.296 1685.26,223.409 1687.45,219.666 1689.64,216.06 1691.84,212.584 \n",
       "  1694.03,209.234 1696.22,206.003 1698.41,202.887 1700.6,199.879 1702.8,196.976 1704.99,194.173 1707.18,191.465 1709.37,188.849 1711.56,186.32 1713.76,183.876 \n",
       "  1715.95,181.512 1718.14,179.225 1720.33,177.012 1722.52,174.871 1724.72,172.797 1726.91,170.79 1729.1,168.845 1731.29,166.961 1733.49,165.135 1735.68,163.365 \n",
       "  1737.87,161.648 1740.06,159.984 1742.25,158.369 1744.45,156.802 1746.64,155.282 1748.83,153.806 1751.02,152.373 1753.21,150.981 1755.41,149.629 1757.6,148.315 \n",
       "  1759.79,147.038 1761.98,145.798 1764.17,144.591 1766.37,143.418 1768.56,142.278 1770.75,141.168 1772.94,140.088 1775.14,139.037 1777.33,138.015 1779.52,137.019 \n",
       "  1781.71,136.05 1783.9,135.106 1786.1,134.186 1788.29,133.291 1790.48,132.418 1792.67,131.567 1794.86,130.738 1797.06,129.93 1799.25,129.142 1801.44,128.374 \n",
       "  1803.63,127.625 1805.82,126.894 1808.02,126.181 1810.21,125.485 1812.4,124.806 1814.59,124.143 1816.79,123.496 1818.98,122.864 1821.17,122.247 1823.36,121.645 \n",
       "  1825.55,121.057 1827.75,120.482 1829.94,119.92 1832.13,119.371 1834.32,118.835 1836.51,118.311 1838.71,117.799 1840.9,117.298 1843.09,116.808 1845.28,116.329 \n",
       "  1847.47,115.861 1849.67,115.403 1851.86,114.955 1854.05,114.517 1856.24,114.088 1858.44,113.668 1860.63,113.257 1862.82,112.855 1865.01,112.462 1867.2,112.076 \n",
       "  1869.4,111.699 1871.59,111.33 1873.78,110.968 1875.97,110.614 1878.16,110.267 1880.36,109.927 1882.55,109.594 1884.74,109.268 1886.93,108.949 1889.12,108.635 \n",
       "  1891.32,108.328 1893.51,108.028 1895.7,107.733 1897.89,107.444 1900.09,107.16 1902.28,106.882 1904.47,106.61 1906.66,106.343 1908.85,106.081 1911.05,105.824 \n",
       "  1913.24,105.572 1915.43,105.325 1917.62,105.082 1919.81,104.844 1922.01,104.611 1924.2,104.382 1926.39,104.157 1928.58,103.937 1930.78,103.72 1932.97,103.508 \n",
       "  1935.16,103.3 1937.35,103.095 1939.54,102.894 1941.74,102.697 1943.93,102.504 1946.12,102.313 1948.31,102.127 1950.5,101.944 1952.7,101.764 1954.89,101.587 \n",
       "  1957.08,101.414 1959.27,101.243 1961.46,101.076 1963.66,100.912 1965.85,100.751 1968.04,100.592 1970.23,100.436 1972.43,100.283 1974.62,100.133 1976.81,99.9856 \n",
       "  1979,99.8406 1981.19,99.6982 1983.39,99.5583 1985.58,99.4209 1987.77,99.2858 1989.96,99.1532 1992.15,99.0228 1994.35,98.8947 1996.54,98.7689 1998.73,98.6453 \n",
       "  2000.92,98.5238 2003.11,98.4045 2005.31,98.2873 2007.5,98.1721 2009.69,98.0589 2011.88,97.9477 2014.08,97.8384 2016.27,97.7311 2018.46,97.6257 2020.65,97.5221 \n",
       "  2022.84,97.4203 2025.04,97.3204 2027.23,97.2222 2029.42,97.1257 2031.61,97.031 2033.8,96.9379 2036,96.8466 2038.19,96.7568 2040.38,96.6687 2042.57,96.5822 \n",
       "  2044.76,96.4972 2046.96,96.4138 2049.15,96.3319 2051.34,96.2515 2053.53,96.1727 2055.73,96.0953 2057.92,96.0193 2060.11,95.9448 2062.3,95.8717 2064.49,95.8 \n",
       "  2066.69,95.7297 2068.88,95.6607 2071.07,95.5932 2073.26,95.5269 2075.45,95.462 2077.65,95.3984 2079.84,95.3361 2082.03,95.2751 2084.22,95.2154 2086.41,95.157 \n",
       "  2088.61,95.0998 2090.8,95.0439 2092.99,94.9892 2095.18,94.9358 2097.38,94.8836 2099.57,94.8326 2101.76,94.7828 2103.95,94.7343 2106.14,94.6869 2108.34,94.6408 \n",
       "  2110.53,94.5958 2112.72,94.5521 2114.91,94.5095 2117.1,94.4681 2119.3,94.428 2121.49,94.389 2123.68,94.3512 2125.87,94.3146 2128.06,94.2792 2130.26,94.245 \n",
       "  2132.45,94.212 2134.64,94.1803 2136.83,94.1497 2139.03,94.1203 2141.22,94.0922 2143.41,94.0654 2145.6,94.0397 2147.79,94.0154 2149.99,93.9923 2152.18,93.9705 \n",
       "  2154.37,93.95 2156.56,93.9308 2158.75,93.9129 2160.95,93.8964 2163.14,93.8813 2165.33,93.8676 2167.52,93.8552 2169.71,93.8444 2171.91,93.835 2174.1,93.8271 \n",
       "  2176.29,93.8207 2178.48,93.816 2180.68,93.8128 2182.87,93.8112 2185.06,93.8114 2187.25,93.8133 2189.44,93.817 2191.64,93.8225 2193.83,93.8299 2196.02,93.8392 \n",
       "  2198.21,93.8506 2200.4,93.8641 2202.6,93.8797 2204.79,93.8975 2206.98,93.9177 2209.17,93.9403 2211.36,93.9655 2213.56,93.9932 2215.75,94.0237 2217.94,94.057 \n",
       "  2220.13,94.0934 2222.33,94.1329 2224.52,94.1756 2226.71,94.2219 2228.9,94.2718 2231.09,94.3256 2233.29,94.3834 2235.48,94.4456 2237.67,94.5123 2239.86,94.5839 \n",
       "  2242.05,94.6606 2244.25,94.7429 2246.44,94.831 2248.63,94.9255 2250.82,95.0267 2253.01,95.1352 2255.21,95.2515 2257.4,95.3762 2259.59,95.5102 2261.78,95.6541 \n",
       "  2263.98,95.8088 2266.17,95.9754 2268.36,96.1549 2270.55,96.3487 2272.74,96.5583 2274.94,96.7852 2277.13,97.0316 2279.32,97.2995 2281.51,97.5917 2283.7,97.9113 \n",
       "  2285.9,98.2619 2288.09,98.6478 2290.28,99.0743 2292.47,99.5477 2294.67,100.076 2296.86,100.668 2299.05,101.337 2301.24,102.097 2303.43,102.968 2305.63,103.977 \n",
       "  2307.82,105.158 2310.01,106.559 2312.2,108.247 2314.39,110.325 2316.59,112.943 2318.78,116.353 2320.97,120.987 2323.16,127.68 2325.35,138.287 2327.55,158.001 \n",
       "  2329.74,210.066 \n",
       "  \"/>\n",
       "<polyline clip-path=\"url(#clip923)\" style=\"stroke:#e26f46; stroke-linecap:butt; stroke-linejoin:round; stroke-width:4; stroke-opacity:1; fill:none\" points=\"\n",
       "  1562.5,405.219 1564.69,386.935 1566.89,370.04 1569.08,354.404 1571.27,339.911 1573.46,326.457 1575.65,313.952 1577.85,302.312 1580.04,291.464 1582.23,281.34 \n",
       "  1584.42,271.882 1586.61,263.034 1588.81,254.749 1591,246.982 1593.19,239.692 1595.38,232.844 1597.57,226.405 1599.77,220.343 1601.96,214.632 1604.15,209.247 \n",
       "  1606.34,204.164 1608.54,199.362 1610.73,194.823 1612.92,190.527 1615.11,186.46 1617.3,182.605 1619.5,178.95 1621.69,175.481 1623.88,172.186 1626.07,169.055 \n",
       "  1628.26,166.078 1630.46,163.244 1632.65,160.546 1634.84,157.975 1637.03,155.524 1639.22,153.186 1641.42,150.955 1643.61,148.824 1645.8,146.787 1647.99,144.84 \n",
       "  1650.19,142.978 1652.38,141.196 1654.57,139.489 1656.76,137.854 1658.95,136.287 1661.15,134.785 1663.34,133.343 1665.53,131.96 1667.72,130.632 1669.91,129.356 \n",
       "  1672.11,128.129 1674.3,126.951 1676.49,125.817 1678.68,124.726 1680.87,123.676 1683.07,122.665 1685.26,121.691 1687.45,120.753 1689.64,119.848 1691.84,118.976 \n",
       "  1694.03,118.134 1696.22,117.322 1698.41,116.539 1700.6,115.782 1702.8,115.051 1704.99,114.345 1707.18,113.662 1709.37,113.002 1711.56,112.364 1713.76,111.747 \n",
       "  1715.95,111.149 1718.14,110.571 1720.33,110.012 1722.52,109.469 1724.72,108.944 1726.91,108.435 1729.1,107.942 1731.29,107.464 1733.49,107 1735.68,106.551 \n",
       "  1737.87,106.114 1740.06,105.691 1742.25,105.28 1744.45,104.881 1746.64,104.494 1748.83,104.117 1751.02,103.752 1753.21,103.397 1755.41,103.051 1757.6,102.716 \n",
       "  1759.79,102.389 1761.98,102.072 1764.17,101.763 1766.37,101.463 1768.56,101.17 1770.75,100.886 1772.94,100.609 1775.14,100.339 1777.33,100.077 1779.52,99.8207 \n",
       "  1781.71,99.5715 1783.9,99.3287 1786.1,99.0921 1788.29,98.8615 1790.48,98.6366 1792.67,98.4174 1794.86,98.2036 1797.06,97.9951 1799.25,97.7917 1801.44,97.5932 \n",
       "  1803.63,97.3996 1805.82,97.2106 1808.02,97.0262 1810.21,96.8461 1812.4,96.6703 1814.59,96.4986 1816.79,96.3309 1818.98,96.1671 1821.17,96.0071 1823.36,95.8508 \n",
       "  1825.55,95.698 1827.75,95.5487 1829.94,95.4028 1832.13,95.2601 1834.32,95.1207 1836.51,94.9843 1838.71,94.851 1840.9,94.7206 1843.09,94.593 1845.28,94.4682 \n",
       "  1847.47,94.3461 1849.67,94.2267 1851.86,94.1098 1854.05,93.9953 1856.24,93.8834 1858.44,93.7738 1860.63,93.6665 1862.82,93.5614 1865.01,93.4585 1867.2,93.3578 \n",
       "  1869.4,93.2591 1871.59,93.1625 1873.78,93.0678 1875.97,92.9751 1878.16,92.8843 1880.36,92.7952 1882.55,92.708 1884.74,92.6226 1886.93,92.5388 1889.12,92.4567 \n",
       "  1891.32,92.3762 1893.51,92.2973 1895.7,92.22 1897.89,92.1442 1900.09,92.0698 1902.28,91.9969 1904.47,91.9255 1906.66,91.8554 1908.85,91.7866 1911.05,91.7192 \n",
       "  1913.24,91.653 1915.43,91.5882 1917.62,91.5245 1919.81,91.4621 1922.01,91.4009 1924.2,91.3408 1926.39,91.2818 1928.58,91.224 1930.78,91.1672 1932.97,91.1115 \n",
       "  1935.16,91.0568 1937.35,91.0032 1939.54,90.9505 1941.74,90.8989 1943.93,90.8482 1946.12,90.7984 1948.31,90.7495 1950.5,90.7016 1952.7,90.6545 1954.89,90.6083 \n",
       "  1957.08,90.563 1959.27,90.5185 1961.46,90.4748 1963.66,90.4319 1965.85,90.3898 1968.04,90.3485 1970.23,90.3079 1972.43,90.2681 1974.62,90.2291 1976.81,90.1907 \n",
       "  1979,90.153 1981.19,90.1161 1983.39,90.0798 1985.58,90.0442 1987.77,90.0093 1989.96,89.975 1992.15,89.9413 1994.35,89.9083 1996.54,89.8759 1998.73,89.8441 \n",
       "  2000.92,89.8129 2003.11,89.7823 2005.31,89.7523 2007.5,89.7229 2009.69,89.694 2011.88,89.6657 2014.08,89.6379 2016.27,89.6107 2018.46,89.584 2020.65,89.5578 \n",
       "  2022.84,89.5321 2025.04,89.507 2027.23,89.4823 2029.42,89.4582 2031.61,89.4346 2033.8,89.4114 2036,89.3887 2038.19,89.3665 2040.38,89.3448 2042.57,89.3235 \n",
       "  2044.76,89.3027 2046.96,89.2824 2049.15,89.2625 2051.34,89.2431 2053.53,89.2241 2055.73,89.2055 2057.92,89.1874 2060.11,89.1697 2062.3,89.1524 2064.49,89.1356 \n",
       "  2066.69,89.1192 2068.88,89.1032 2071.07,89.0876 2073.26,89.0725 2075.45,89.0577 2077.65,89.0434 2079.84,89.0295 2082.03,89.016 2084.22,89.0029 2086.41,88.9902 \n",
       "  2088.61,88.9779 2090.8,88.9661 2092.99,88.9546 2095.18,88.9435 2097.38,88.9329 2099.57,88.9226 2101.76,88.9128 2103.95,88.9033 2106.14,88.8943 2108.34,88.8857 \n",
       "  2110.53,88.8774 2112.72,88.8696 2114.91,88.8622 2117.1,88.8553 2119.3,88.8487 2121.49,88.8426 2123.68,88.8369 2125.87,88.8316 2128.06,88.8267 2130.26,88.8223 \n",
       "  2132.45,88.8183 2134.64,88.8148 2136.83,88.8117 2139.03,88.8091 2141.22,88.807 2143.41,88.8053 2145.6,88.8041 2147.79,88.8033 2149.99,88.8031 2152.18,88.8034 \n",
       "  2154.37,88.8041 2156.56,88.8054 2158.75,88.8073 2160.95,88.8096 2163.14,88.8126 2165.33,88.8161 2167.52,88.8201 2169.71,88.8248 2171.91,88.8301 2174.1,88.836 \n",
       "  2176.29,88.8425 2178.48,88.8497 2180.68,88.8576 2182.87,88.8662 2185.06,88.8755 2187.25,88.8855 2189.44,88.8964 2191.64,88.908 2193.83,88.9204 2196.02,88.9337 \n",
       "  2198.21,88.9479 2200.4,88.963 2202.6,88.9791 2204.79,88.9962 2206.98,89.0143 2209.17,89.0335 2211.36,89.0538 2213.56,89.0753 2215.75,89.0981 2217.94,89.1222 \n",
       "  2220.13,89.1476 2222.33,89.1744 2224.52,89.2028 2226.71,89.2328 2228.9,89.2644 2231.09,89.2978 2233.29,89.3331 2235.48,89.3704 2237.67,89.4098 2239.86,89.4515 \n",
       "  2242.05,89.4956 2244.25,89.5422 2246.44,89.5915 2248.63,89.6438 2250.82,89.6992 2253.01,89.7579 2255.21,89.8204 2257.4,89.8867 2259.59,89.9573 2261.78,90.0326 \n",
       "  2263.98,90.1128 2266.17,90.1986 2268.36,90.2903 2270.55,90.3887 2272.74,90.4943 2274.94,90.608 2277.13,90.7307 2279.32,90.8633 2281.51,91.007 2283.7,91.1634 \n",
       "  2285.9,91.3339 2288.09,91.5206 2290.28,91.7259 2292.47,91.9526 2294.67,92.2041 2296.86,92.4847 2299.05,92.7999 2301.24,93.1564 2303.43,93.5629 2305.63,94.0309 \n",
       "  2307.82,94.5757 2310.01,95.2186 2312.2,95.9891 2314.39,96.9309 2316.59,98.1106 2318.78,99.6357 2320.97,101.693 2323.16,104.639 2325.35,109.261 2327.55,117.751 \n",
       "  2329.74,139.83 \n",
       "  \"/>\n",
       "<polyline clip-path=\"url(#clip923)\" style=\"stroke:#3da44d; stroke-linecap:butt; stroke-linejoin:round; stroke-width:4; stroke-opacity:1; fill:none\" points=\"\n",
       "  1562.5,214.285 1564.69,206.987 1566.89,200.24 1569.08,193.994 1571.27,188.202 1573.46,182.824 1575.65,177.824 1577.85,173.167 1580.04,168.826 1582.23,164.774 \n",
       "  1584.42,160.987 1586.61,157.443 1588.81,154.123 1591,151.009 1593.19,148.086 1595.38,145.339 1597.57,142.755 1599.77,140.322 1601.96,138.029 1604.15,135.866 \n",
       "  1606.34,133.824 1608.54,131.894 1610.73,130.069 1612.92,128.341 1615.11,126.704 1617.3,125.153 1619.5,123.681 1621.69,122.284 1623.88,120.957 1626.07,119.695 \n",
       "  1628.26,118.494 1630.46,117.352 1632.65,116.263 1634.84,115.226 1637.03,114.236 1639.22,113.292 1641.42,112.39 1643.61,111.529 1645.8,110.706 1647.99,109.919 \n",
       "  1650.19,109.165 1652.38,108.444 1654.57,107.753 1656.76,107.091 1658.95,106.457 1661.15,105.848 1663.34,105.264 1665.53,104.703 1667.72,104.164 1669.91,103.646 \n",
       "  1672.11,103.149 1674.3,102.67 1676.49,102.21 1678.68,101.767 1680.87,101.34 1683.07,100.929 1685.26,100.533 1687.45,100.151 1689.64,99.783 1691.84,99.428 \n",
       "  1694.03,99.0854 1696.22,98.7547 1698.41,98.4354 1700.6,98.127 1702.8,97.829 1704.99,97.541 1707.18,97.2625 1709.37,96.9932 1711.56,96.7327 1713.76,96.4806 \n",
       "  1715.95,96.2367 1718.14,96.0004 1720.33,95.7716 1722.52,95.55 1724.72,95.3352 1726.91,95.127 1729.1,94.9252 1731.29,94.7295 1733.49,94.5396 1735.68,94.3555 \n",
       "  1737.87,94.1767 1740.06,94.0032 1742.25,93.8347 1744.45,93.6711 1746.64,93.5121 1748.83,93.3577 1751.02,93.2077 1753.21,93.0618 1755.41,92.92 1757.6,92.7821 \n",
       "  1759.79,92.648 1761.98,92.5175 1764.17,92.3905 1766.37,92.2669 1768.56,92.1467 1770.75,92.0296 1772.94,91.9155 1775.14,91.8045 1777.33,91.6963 1779.52,91.5909 \n",
       "  1781.71,91.4882 1783.9,91.3881 1786.1,91.2905 1788.29,91.1954 1790.48,91.1026 1792.67,91.0121 1794.86,90.9239 1797.06,90.8377 1799.25,90.7537 1801.44,90.6717 \n",
       "  1803.63,90.5917 1805.82,90.5136 1808.02,90.4373 1810.21,90.3628 1812.4,90.29 1814.59,90.219 1816.79,90.1496 1818.98,90.0817 1821.17,90.0155 1823.36,89.9507 \n",
       "  1825.55,89.8874 1827.75,89.8255 1829.94,89.765 1832.13,89.7059 1834.32,89.648 1836.51,89.5914 1838.71,89.5361 1840.9,89.4819 1843.09,89.429 1845.28,89.3771 \n",
       "  1847.47,89.3264 1849.67,89.2768 1851.86,89.2282 1854.05,89.1806 1856.24,89.1341 1858.44,89.0885 1860.63,89.0438 1862.82,89.0001 1865.01,88.9573 1867.2,88.9154 \n",
       "  1869.4,88.8743 1871.59,88.834 1873.78,88.7946 1875.97,88.756 1878.16,88.7181 1880.36,88.681 1882.55,88.6446 1884.74,88.609 1886.93,88.5741 1889.12,88.5398 \n",
       "  1891.32,88.5062 1893.51,88.4733 1895.7,88.441 1897.89,88.4094 1900.09,88.3783 1902.28,88.3479 1904.47,88.318 1906.66,88.2888 1908.85,88.26 1911.05,88.2318 \n",
       "  1913.24,88.2042 1915.43,88.1771 1917.62,88.1505 1919.81,88.1244 1922.01,88.0988 1924.2,88.0736 1926.39,88.049 1928.58,88.0247 1930.78,88.001 1932.97,87.9777 \n",
       "  1935.16,87.9548 1937.35,87.9323 1939.54,87.9103 1941.74,87.8887 1943.93,87.8674 1946.12,87.8466 1948.31,87.8261 1950.5,87.8061 1952.7,87.7863 1954.89,87.767 \n",
       "  1957.08,87.748 1959.27,87.7293 1961.46,87.711 1963.66,87.6931 1965.85,87.6754 1968.04,87.6581 1970.23,87.6411 1972.43,87.6244 1974.62,87.6081 1976.81,87.592 \n",
       "  1979,87.5762 1981.19,87.5607 1983.39,87.5455 1985.58,87.5306 1987.77,87.516 1989.96,87.5016 1992.15,87.4875 1994.35,87.4737 1996.54,87.4601 1998.73,87.4468 \n",
       "  2000.92,87.4337 2003.11,87.4209 2005.31,87.4083 2007.5,87.396 2009.69,87.3839 2011.88,87.3721 2014.08,87.3605 2016.27,87.3491 2018.46,87.3379 2020.65,87.327 \n",
       "  2022.84,87.3162 2025.04,87.3057 2027.23,87.2954 2029.42,87.2853 2031.61,87.2755 2033.8,87.2658 2036,87.2563 2038.19,87.2471 2040.38,87.238 2042.57,87.2292 \n",
       "  2044.76,87.2205 2046.96,87.212 2049.15,87.2038 2051.34,87.1957 2053.53,87.1878 2055.73,87.1801 2057.92,87.1726 2060.11,87.1652 2062.3,87.1581 2064.49,87.1511 \n",
       "  2066.69,87.1444 2068.88,87.1377 2071.07,87.1313 2073.26,87.1251 2075.45,87.119 2077.65,87.1131 2079.84,87.1074 2082.03,87.1019 2084.22,87.0965 2086.41,87.0914 \n",
       "  2088.61,87.0864 2090.8,87.0815 2092.99,87.0769 2095.18,87.0724 2097.38,87.0681 2099.57,87.064 2101.76,87.06 2103.95,87.0562 2106.14,87.0526 2108.34,87.0492 \n",
       "  2110.53,87.046 2112.72,87.0429 2114.91,87.04 2117.1,87.0373 2119.3,87.0348 2121.49,87.0325 2123.68,87.0303 2125.87,87.0284 2128.06,87.0266 2130.26,87.025 \n",
       "  2132.45,87.0236 2134.64,87.0225 2136.83,87.0215 2139.03,87.0207 2141.22,87.0201 2143.41,87.0197 2145.6,87.0195 2147.79,87.0196 2149.99,87.0198 2152.18,87.0203 \n",
       "  2154.37,87.021 2156.56,87.0219 2158.75,87.0231 2160.95,87.0245 2163.14,87.0262 2165.33,87.0281 2167.52,87.0302 2169.71,87.0326 2171.91,87.0353 2174.1,87.0383 \n",
       "  2176.29,87.0415 2178.48,87.045 2180.68,87.0489 2182.87,87.053 2185.06,87.0575 2187.25,87.0623 2189.44,87.0674 2191.64,87.0729 2193.83,87.0788 2196.02,87.085 \n",
       "  2198.21,87.0916 2200.4,87.0986 2202.6,87.1061 2204.79,87.114 2206.98,87.1223 2209.17,87.1312 2211.36,87.1405 2213.56,87.1503 2215.75,87.1607 2217.94,87.1717 \n",
       "  2220.13,87.1833 2222.33,87.1955 2224.52,87.2083 2226.71,87.2219 2228.9,87.2362 2231.09,87.2513 2233.29,87.2672 2235.48,87.284 2237.67,87.3017 2239.86,87.3204 \n",
       "  2242.05,87.3401 2244.25,87.361 2246.44,87.383 2248.63,87.4063 2250.82,87.431 2253.01,87.4572 2255.21,87.4849 2257.4,87.5144 2259.59,87.5457 2261.78,87.579 \n",
       "  2263.98,87.6145 2266.17,87.6524 2268.36,87.6928 2270.55,87.7362 2272.74,87.7826 2274.94,87.8326 2277.13,87.8864 2279.32,87.9445 2281.51,88.0074 2283.7,88.0756 \n",
       "  2285.9,88.15 2288.09,88.2313 2290.28,88.3206 2292.47,88.419 2294.67,88.5279 2296.86,88.6493 2299.05,88.7854 2301.24,88.939 2303.43,89.1138 2305.63,89.3146 \n",
       "  2307.82,89.548 2310.01,89.8226 2312.2,90.1509 2314.39,90.5512 2316.59,91.0511 2318.78,91.6956 2320.97,92.5619 2323.16,93.7981 2325.35,95.7298 2327.55,99.262 \n",
       "  2329.74,108.398 \n",
       "  \"/>\n",
       "<polyline clip-path=\"url(#clip923)\" style=\"stroke:#c271d2; stroke-linecap:butt; stroke-linejoin:round; stroke-width:4; stroke-opacity:1; fill:none\" points=\"\n",
       "  1562.5,144.913 1564.69,141.548 1566.89,138.436 1569.08,135.556 1571.27,132.885 1573.46,130.405 1575.65,128.099 1577.85,125.951 1580.04,123.949 1582.23,122.08 \n",
       "  1584.42,120.333 1586.61,118.699 1588.81,117.167 1591,115.731 1593.19,114.383 1595.38,113.116 1597.57,111.924 1599.77,110.801 1601.96,109.744 1604.15,108.746 \n",
       "  1606.34,107.803 1608.54,106.913 1610.73,106.071 1612.92,105.274 1615.11,104.519 1617.3,103.803 1619.5,103.124 1621.69,102.479 1623.88,101.867 1626.07,101.285 \n",
       "  1628.26,100.731 1630.46,100.203 1632.65,99.7011 1634.84,99.2224 1637.03,98.7658 1639.22,98.33 1641.42,97.914 1643.61,97.5166 1645.8,97.1366 1647.99,96.7733 \n",
       "  1650.19,96.4256 1652.38,96.0927 1654.57,95.7739 1656.76,95.4683 1658.95,95.1754 1661.15,94.8944 1663.34,94.6247 1665.53,94.3658 1667.72,94.1171 1669.91,93.8782 \n",
       "  1672.11,93.6484 1674.3,93.4275 1676.49,93.2149 1678.68,93.0104 1680.87,92.8134 1683.07,92.6236 1685.26,92.4408 1687.45,92.2645 1689.64,92.0946 1691.84,91.9307 \n",
       "  1694.03,91.7725 1696.22,91.6198 1698.41,91.4724 1700.6,91.3299 1702.8,91.1923 1704.99,91.0593 1707.18,90.9308 1709.37,90.8064 1711.56,90.6861 1713.76,90.5697 \n",
       "  1715.95,90.457 1718.14,90.3479 1720.33,90.2422 1722.52,90.1399 1724.72,90.0407 1726.91,89.9445 1729.1,89.8513 1731.29,89.7609 1733.49,89.6732 1735.68,89.5881 \n",
       "  1737.87,89.5055 1740.06,89.4254 1742.25,89.3476 1744.45,89.272 1746.64,89.1985 1748.83,89.1272 1751.02,89.0579 1753.21,88.9905 1755.41,88.925 1757.6,88.8612 \n",
       "  1759.79,88.7993 1761.98,88.739 1764.17,88.6803 1766.37,88.6232 1768.56,88.5676 1770.75,88.5135 1772.94,88.4608 1775.14,88.4095 1777.33,88.3595 1779.52,88.3108 \n",
       "  1781.71,88.2633 1783.9,88.2171 1786.1,88.172 1788.29,88.128 1790.48,88.0851 1792.67,88.0433 1794.86,88.0025 1797.06,87.9627 1799.25,87.9238 1801.44,87.8859 \n",
       "  1803.63,87.8489 1805.82,87.8128 1808.02,87.7775 1810.21,87.7431 1812.4,87.7094 1814.59,87.6766 1816.79,87.6445 1818.98,87.6131 1821.17,87.5825 1823.36,87.5525 \n",
       "  1825.55,87.5232 1827.75,87.4946 1829.94,87.4666 1832.13,87.4393 1834.32,87.4125 1836.51,87.3863 1838.71,87.3607 1840.9,87.3357 1843.09,87.3112 1845.28,87.2872 \n",
       "  1847.47,87.2637 1849.67,87.2408 1851.86,87.2183 1854.05,87.1963 1856.24,87.1747 1858.44,87.1536 1860.63,87.133 1862.82,87.1127 1865.01,87.0929 1867.2,87.0735 \n",
       "  1869.4,87.0545 1871.59,87.0358 1873.78,87.0176 1875.97,86.9997 1878.16,86.9821 1880.36,86.965 1882.55,86.9481 1884.74,86.9316 1886.93,86.9154 1889.12,86.8996 \n",
       "  1891.32,86.884 1893.51,86.8688 1895.7,86.8538 1897.89,86.8391 1900.09,86.8247 1902.28,86.8106 1904.47,86.7968 1906.66,86.7832 1908.85,86.7699 1911.05,86.7568 \n",
       "  1913.24,86.744 1915.43,86.7314 1917.62,86.7191 1919.81,86.707 1922.01,86.6951 1924.2,86.6834 1926.39,86.672 1928.58,86.6608 1930.78,86.6497 1932.97,86.6389 \n",
       "  1935.16,86.6283 1937.35,86.6179 1939.54,86.6076 1941.74,86.5976 1943.93,86.5877 1946.12,86.578 1948.31,86.5685 1950.5,86.5592 1952.7,86.55 1954.89,86.541 \n",
       "  1957.08,86.5322 1959.27,86.5235 1961.46,86.515 1963.66,86.5066 1965.85,86.4984 1968.04,86.4904 1970.23,86.4825 1972.43,86.4747 1974.62,86.4671 1976.81,86.4596 \n",
       "  1979,86.4522 1981.19,86.445 1983.39,86.4379 1985.58,86.431 1987.77,86.4241 1989.96,86.4174 1992.15,86.4108 1994.35,86.4044 1996.54,86.398 1998.73,86.3918 \n",
       "  2000.92,86.3857 2003.11,86.3797 2005.31,86.3738 2007.5,86.3681 2009.69,86.3624 2011.88,86.3569 2014.08,86.3514 2016.27,86.3461 2018.46,86.3408 2020.65,86.3357 \n",
       "  2022.84,86.3307 2025.04,86.3257 2027.23,86.3209 2029.42,86.3161 2031.61,86.3115 2033.8,86.3069 2036,86.3025 2038.19,86.2981 2040.38,86.2938 2042.57,86.2897 \n",
       "  2044.76,86.2856 2046.96,86.2816 2049.15,86.2776 2051.34,86.2738 2053.53,86.2701 2055.73,86.2664 2057.92,86.2628 2060.11,86.2593 2062.3,86.2559 2064.49,86.2526 \n",
       "  2066.69,86.2494 2068.88,86.2462 2071.07,86.2431 2073.26,86.2401 2075.45,86.2372 2077.65,86.2344 2079.84,86.2316 2082.03,86.2289 2084.22,86.2263 2086.41,86.2238 \n",
       "  2088.61,86.2214 2090.8,86.219 2092.99,86.2167 2095.18,86.2145 2097.38,86.2124 2099.57,86.2103 2101.76,86.2084 2103.95,86.2065 2106.14,86.2046 2108.34,86.2029 \n",
       "  2110.53,86.2013 2112.72,86.1997 2114.91,86.1982 2117.1,86.1968 2119.3,86.1954 2121.49,86.1942 2123.68,86.193 2125.87,86.1919 2128.06,86.1909 2130.26,86.19 \n",
       "  2132.45,86.1892 2134.64,86.1884 2136.83,86.1878 2139.03,86.1872 2141.22,86.1867 2143.41,86.1863 2145.6,86.186 2147.79,86.1858 2149.99,86.1857 2152.18,86.1857 \n",
       "  2154.37,86.1858 2156.56,86.1859 2158.75,86.1862 2160.95,86.1866 2163.14,86.1871 2165.33,86.1877 2167.52,86.1884 2169.71,86.1892 2171.91,86.1901 2174.1,86.1912 \n",
       "  2176.29,86.1924 2178.48,86.1937 2180.68,86.1951 2182.87,86.1967 2185.06,86.1984 2187.25,86.2002 2189.44,86.2022 2191.64,86.2044 2193.83,86.2067 2196.02,86.2091 \n",
       "  2198.21,86.2117 2200.4,86.2145 2202.6,86.2175 2204.79,86.2207 2206.98,86.224 2209.17,86.2276 2211.36,86.2314 2213.56,86.2354 2215.75,86.2396 2217.94,86.2441 \n",
       "  2220.13,86.2488 2222.33,86.2538 2224.52,86.2591 2226.71,86.2646 2228.9,86.2705 2231.09,86.2767 2233.29,86.2833 2235.48,86.2902 2237.67,86.2975 2239.86,86.3052 \n",
       "  2242.05,86.3134 2244.25,86.322 2246.44,86.3311 2248.63,86.3408 2250.82,86.3511 2253.01,86.3619 2255.21,86.3734 2257.4,86.3857 2259.59,86.3987 2261.78,86.4125 \n",
       "  2263.98,86.4273 2266.17,86.443 2268.36,86.4599 2270.55,86.4779 2272.74,86.4972 2274.94,86.518 2277.13,86.5404 2279.32,86.5646 2281.51,86.5907 2283.7,86.6191 \n",
       "  2285.9,86.6501 2288.09,86.6839 2290.28,86.721 2292.47,86.7619 2294.67,86.8072 2296.86,86.8576 2299.05,86.9141 2301.24,86.9779 2303.43,87.0504 2305.63,87.1337 \n",
       "  2307.82,87.2304 2310.01,87.3441 2312.2,87.48 2314.39,87.6456 2316.59,87.8523 2318.78,88.1184 2320.97,88.4759 2323.16,88.9854 2325.35,89.7808 2327.55,91.2334 \n",
       "  2329.74,94.9854 \n",
       "  \"/>\n",
       "<path clip-path=\"url(#clip920)\" d=\"\n",
       "M1920.37 352.309 L2325.65 352.309 L2325.65 93.1086 L1920.37 93.1086  Z\n",
       "  \" fill=\"#ffffff\" fill-rule=\"evenodd\" fill-opacity=\"1\"/>\n",
       "<polyline clip-path=\"url(#clip920)\" style=\"stroke:#000000; stroke-linecap:butt; stroke-linejoin:round; stroke-width:4; stroke-opacity:1; fill:none\" points=\"\n",
       "  1920.37,352.309 2325.65,352.309 2325.65,93.1086 1920.37,93.1086 1920.37,352.309 \n",
       "  \"/>\n",
       "<polyline clip-path=\"url(#clip920)\" style=\"stroke:#009af9; stroke-linecap:butt; stroke-linejoin:round; stroke-width:4; stroke-opacity:1; fill:none\" points=\"\n",
       "  1944.37,144.949 2088.37,144.949 \n",
       "  \"/>\n",
       "<path clip-path=\"url(#clip920)\" d=\"M2112.37 126.21 L2116.65 126.21 L2116.65 147.483 L2129.36 136.303 L2134.8 136.303 L2121.05 148.432 L2135.38 162.229 L2129.82 162.229 L2116.65 149.567 L2116.65 162.229 L2112.37 162.229 L2112.37 126.21 Z\" fill=\"#000000\" fill-rule=\"evenodd\" fill-opacity=\"1\" /><path clip-path=\"url(#clip920)\" d=\"M2140.54 140.701 L2170.22 140.701 L2170.22 144.59 L2140.54 144.59 L2140.54 140.701 M2140.54 150.145 L2170.22 150.145 L2170.22 154.081 L2140.54 154.081 L2140.54 150.145 Z\" fill=\"#000000\" fill-rule=\"evenodd\" fill-opacity=\"1\" /><path clip-path=\"url(#clip920)\" d=\"M2190.31 130.747 Q2186.7 130.747 2184.87 134.312 Q2183.06 137.854 2183.06 144.983 Q2183.06 152.09 2184.87 155.655 Q2186.7 159.196 2190.31 159.196 Q2193.94 159.196 2195.75 155.655 Q2197.58 152.09 2197.58 144.983 Q2197.58 137.854 2195.75 134.312 Q2193.94 130.747 2190.31 130.747 M2190.31 127.044 Q2196.12 127.044 2199.18 131.65 Q2202.25 136.233 2202.25 144.983 Q2202.25 153.71 2199.18 158.317 Q2196.12 162.9 2190.31 162.9 Q2184.5 162.9 2181.42 158.317 Q2178.36 153.71 2178.36 144.983 Q2178.36 136.233 2181.42 131.65 Q2184.5 127.044 2190.31 127.044 Z\" fill=\"#000000\" fill-rule=\"evenodd\" fill-opacity=\"1\" /><path clip-path=\"url(#clip920)\" d=\"M2210.47 156.349 L2215.36 156.349 L2215.36 162.229 L2210.47 162.229 L2210.47 156.349 Z\" fill=\"#000000\" fill-rule=\"evenodd\" fill-opacity=\"1\" /><path clip-path=\"url(#clip920)\" d=\"M2235.54 130.747 Q2231.93 130.747 2230.1 134.312 Q2228.3 137.854 2228.3 144.983 Q2228.3 152.09 2230.1 155.655 Q2231.93 159.196 2235.54 159.196 Q2239.17 159.196 2240.98 155.655 Q2242.81 152.09 2242.81 144.983 Q2242.81 137.854 2240.98 134.312 Q2239.17 130.747 2235.54 130.747 M2235.54 127.044 Q2241.35 127.044 2244.41 131.65 Q2247.48 136.233 2247.48 144.983 Q2247.48 153.71 2244.41 158.317 Q2241.35 162.9 2235.54 162.9 Q2229.73 162.9 2226.65 158.317 Q2223.6 153.71 2223.6 144.983 Q2223.6 136.233 2226.65 131.65 Q2229.73 127.044 2235.54 127.044 Z\" fill=\"#000000\" fill-rule=\"evenodd\" fill-opacity=\"1\" /><path clip-path=\"url(#clip920)\" d=\"M2269.87 143.594 Q2273.23 144.312 2275.1 146.581 Q2277 148.849 2277 152.182 Q2277 157.298 2273.48 160.099 Q2269.96 162.9 2263.48 162.9 Q2261.3 162.9 2258.99 162.46 Q2256.7 162.043 2254.24 161.187 L2254.24 156.673 Q2256.19 157.807 2258.5 158.386 Q2260.82 158.965 2263.34 158.965 Q2267.74 158.965 2270.03 157.229 Q2272.35 155.493 2272.35 152.182 Q2272.35 149.127 2270.19 147.414 Q2268.06 145.678 2264.24 145.678 L2260.22 145.678 L2260.22 141.835 L2264.43 141.835 Q2267.88 141.835 2269.71 140.469 Q2271.54 139.081 2271.54 136.488 Q2271.54 133.826 2269.64 132.414 Q2267.76 130.979 2264.24 130.979 Q2262.32 130.979 2260.12 131.395 Q2257.92 131.812 2255.29 132.692 L2255.29 128.525 Q2257.95 127.784 2260.26 127.414 Q2262.6 127.044 2264.66 127.044 Q2269.98 127.044 2273.09 129.474 Q2276.19 131.882 2276.19 136.002 Q2276.19 138.872 2274.54 140.863 Q2272.9 142.831 2269.87 143.594 Z\" fill=\"#000000\" fill-rule=\"evenodd\" fill-opacity=\"1\" /><polyline clip-path=\"url(#clip920)\" style=\"stroke:#e26f46; stroke-linecap:butt; stroke-linejoin:round; stroke-width:4; stroke-opacity:1; fill:none\" points=\"\n",
       "  1944.37,196.789 2088.37,196.789 \n",
       "  \"/>\n",
       "<path clip-path=\"url(#clip920)\" d=\"M2112.37 178.05 L2116.65 178.05 L2116.65 199.323 L2129.36 188.143 L2134.8 188.143 L2121.05 200.272 L2135.38 214.069 L2129.82 214.069 L2116.65 201.407 L2116.65 214.069 L2112.37 214.069 L2112.37 178.05 Z\" fill=\"#000000\" fill-rule=\"evenodd\" fill-opacity=\"1\" /><path clip-path=\"url(#clip920)\" d=\"M2140.54 192.541 L2170.22 192.541 L2170.22 196.43 L2140.54 196.43 L2140.54 192.541 M2140.54 201.985 L2170.22 201.985 L2170.22 205.921 L2140.54 205.921 L2140.54 201.985 Z\" fill=\"#000000\" fill-rule=\"evenodd\" fill-opacity=\"1\" /><path clip-path=\"url(#clip920)\" d=\"M2190.31 182.587 Q2186.7 182.587 2184.87 186.152 Q2183.06 189.694 2183.06 196.823 Q2183.06 203.93 2184.87 207.495 Q2186.7 211.036 2190.31 211.036 Q2193.94 211.036 2195.75 207.495 Q2197.58 203.93 2197.58 196.823 Q2197.58 189.694 2195.75 186.152 Q2193.94 182.587 2190.31 182.587 M2190.31 178.884 Q2196.12 178.884 2199.18 183.49 Q2202.25 188.073 2202.25 196.823 Q2202.25 205.55 2199.18 210.157 Q2196.12 214.74 2190.31 214.74 Q2184.5 214.74 2181.42 210.157 Q2178.36 205.55 2178.36 196.823 Q2178.36 188.073 2181.42 183.49 Q2184.5 178.884 2190.31 178.884 Z\" fill=\"#000000\" fill-rule=\"evenodd\" fill-opacity=\"1\" /><path clip-path=\"url(#clip920)\" d=\"M2210.47 208.189 L2215.36 208.189 L2215.36 214.069 L2210.47 214.069 L2210.47 208.189 Z\" fill=\"#000000\" fill-rule=\"evenodd\" fill-opacity=\"1\" /><path clip-path=\"url(#clip920)\" d=\"M2239.71 195.434 Q2243.06 196.152 2244.94 198.421 Q2246.84 200.689 2246.84 204.022 Q2246.84 209.138 2243.32 211.939 Q2239.8 214.74 2233.32 214.74 Q2231.14 214.74 2228.83 214.3 Q2226.54 213.883 2224.08 213.027 L2224.08 208.513 Q2226.03 209.647 2228.34 210.226 Q2230.66 210.805 2233.18 210.805 Q2237.58 210.805 2239.87 209.069 Q2242.18 207.333 2242.18 204.022 Q2242.18 200.967 2240.03 199.254 Q2237.9 197.518 2234.08 197.518 L2230.05 197.518 L2230.05 193.675 L2234.27 193.675 Q2237.72 193.675 2239.55 192.309 Q2241.37 190.921 2241.37 188.328 Q2241.37 185.666 2239.48 184.254 Q2237.6 182.819 2234.08 182.819 Q2232.16 182.819 2229.96 183.235 Q2227.76 183.652 2225.12 184.532 L2225.12 180.365 Q2227.79 179.624 2230.1 179.254 Q2232.44 178.884 2234.5 178.884 Q2239.82 178.884 2242.92 181.314 Q2246.03 183.722 2246.03 187.842 Q2246.03 190.712 2244.38 192.703 Q2242.74 194.671 2239.71 195.434 Z\" fill=\"#000000\" fill-rule=\"evenodd\" fill-opacity=\"1\" /><polyline clip-path=\"url(#clip920)\" style=\"stroke:#3da44d; stroke-linecap:butt; stroke-linejoin:round; stroke-width:4; stroke-opacity:1; fill:none\" points=\"\n",
       "  1944.37,248.629 2088.37,248.629 \n",
       "  \"/>\n",
       "<path clip-path=\"url(#clip920)\" d=\"M2112.37 229.89 L2116.65 229.89 L2116.65 251.163 L2129.36 239.983 L2134.8 239.983 L2121.05 252.112 L2135.38 265.909 L2129.82 265.909 L2116.65 253.247 L2116.65 265.909 L2112.37 265.909 L2112.37 229.89 Z\" fill=\"#000000\" fill-rule=\"evenodd\" fill-opacity=\"1\" /><path clip-path=\"url(#clip920)\" d=\"M2140.54 244.381 L2170.22 244.381 L2170.22 248.27 L2140.54 248.27 L2140.54 244.381 M2140.54 253.825 L2170.22 253.825 L2170.22 257.761 L2140.54 257.761 L2140.54 253.825 Z\" fill=\"#000000\" fill-rule=\"evenodd\" fill-opacity=\"1\" /><path clip-path=\"url(#clip920)\" d=\"M2194.48 247.274 Q2197.83 247.992 2199.71 250.261 Q2201.61 252.529 2201.61 255.862 Q2201.61 260.978 2198.09 263.779 Q2194.57 266.58 2188.09 266.58 Q2185.91 266.58 2183.6 266.14 Q2181.3 265.723 2178.85 264.867 L2178.85 260.353 Q2180.8 261.487 2183.11 262.066 Q2185.43 262.645 2187.95 262.645 Q2192.35 262.645 2194.64 260.909 Q2196.95 259.173 2196.95 255.862 Q2196.95 252.807 2194.8 251.094 Q2192.67 249.358 2188.85 249.358 L2184.82 249.358 L2184.82 245.515 L2189.04 245.515 Q2192.49 245.515 2194.31 244.149 Q2196.14 242.761 2196.14 240.168 Q2196.14 237.506 2194.24 236.094 Q2192.37 234.659 2188.85 234.659 Q2186.93 234.659 2184.73 235.075 Q2182.53 235.492 2179.89 236.372 L2179.89 232.205 Q2182.55 231.464 2184.87 231.094 Q2187.21 230.724 2189.27 230.724 Q2194.59 230.724 2197.69 233.154 Q2200.8 235.562 2200.8 239.682 Q2200.8 242.552 2199.15 244.543 Q2197.51 246.511 2194.48 247.274 Z\" fill=\"#000000\" fill-rule=\"evenodd\" fill-opacity=\"1\" /><path clip-path=\"url(#clip920)\" d=\"M2210.47 260.029 L2215.36 260.029 L2215.36 265.909 L2210.47 265.909 L2210.47 260.029 Z\" fill=\"#000000\" fill-rule=\"evenodd\" fill-opacity=\"1\" /><path clip-path=\"url(#clip920)\" d=\"M2235.54 234.427 Q2231.93 234.427 2230.1 237.992 Q2228.3 241.534 2228.3 248.663 Q2228.3 255.77 2230.1 259.335 Q2231.93 262.876 2235.54 262.876 Q2239.17 262.876 2240.98 259.335 Q2242.81 255.77 2242.81 248.663 Q2242.81 241.534 2240.98 237.992 Q2239.17 234.427 2235.54 234.427 M2235.54 230.724 Q2241.35 230.724 2244.41 235.33 Q2247.48 239.913 2247.48 248.663 Q2247.48 257.39 2244.41 261.997 Q2241.35 266.58 2235.54 266.58 Q2229.73 266.58 2226.65 261.997 Q2223.6 257.39 2223.6 248.663 Q2223.6 239.913 2226.65 235.33 Q2229.73 230.724 2235.54 230.724 Z\" fill=\"#000000\" fill-rule=\"evenodd\" fill-opacity=\"1\" /><polyline clip-path=\"url(#clip920)\" style=\"stroke:#c271d2; stroke-linecap:butt; stroke-linejoin:round; stroke-width:4; stroke-opacity:1; fill:none\" points=\"\n",
       "  1944.37,300.469 2088.37,300.469 \n",
       "  \"/>\n",
       "<path clip-path=\"url(#clip920)\" d=\"M2112.37 281.73 L2116.65 281.73 L2116.65 303.003 L2129.36 291.823 L2134.8 291.823 L2121.05 303.952 L2135.38 317.749 L2129.82 317.749 L2116.65 305.087 L2116.65 317.749 L2112.37 317.749 L2112.37 281.73 Z\" fill=\"#000000\" fill-rule=\"evenodd\" fill-opacity=\"1\" /><path clip-path=\"url(#clip920)\" d=\"M2140.54 296.221 L2170.22 296.221 L2170.22 300.11 L2140.54 300.11 L2140.54 296.221 M2140.54 305.665 L2170.22 305.665 L2170.22 309.601 L2140.54 309.601 L2140.54 305.665 Z\" fill=\"#000000\" fill-rule=\"evenodd\" fill-opacity=\"1\" /><path clip-path=\"url(#clip920)\" d=\"M2194.48 299.114 Q2197.83 299.832 2199.71 302.101 Q2201.61 304.369 2201.61 307.702 Q2201.61 312.818 2198.09 315.619 Q2194.57 318.42 2188.09 318.42 Q2185.91 318.42 2183.6 317.98 Q2181.3 317.563 2178.85 316.707 L2178.85 312.193 Q2180.8 313.327 2183.11 313.906 Q2185.43 314.485 2187.95 314.485 Q2192.35 314.485 2194.64 312.749 Q2196.95 311.013 2196.95 307.702 Q2196.95 304.647 2194.8 302.934 Q2192.67 301.198 2188.85 301.198 L2184.82 301.198 L2184.82 297.355 L2189.04 297.355 Q2192.49 297.355 2194.31 295.989 Q2196.14 294.601 2196.14 292.008 Q2196.14 289.346 2194.24 287.934 Q2192.37 286.499 2188.85 286.499 Q2186.93 286.499 2184.73 286.915 Q2182.53 287.332 2179.89 288.212 L2179.89 284.045 Q2182.55 283.304 2184.87 282.934 Q2187.21 282.564 2189.27 282.564 Q2194.59 282.564 2197.69 284.994 Q2200.8 287.402 2200.8 291.522 Q2200.8 294.392 2199.15 296.383 Q2197.51 298.351 2194.48 299.114 Z\" fill=\"#000000\" fill-rule=\"evenodd\" fill-opacity=\"1\" /><path clip-path=\"url(#clip920)\" d=\"M2220.47 286.267 Q2216.86 286.267 2215.03 289.832 Q2213.23 293.374 2213.23 300.503 Q2213.23 307.61 2215.03 311.175 Q2216.86 314.716 2220.47 314.716 Q2224.11 314.716 2225.91 311.175 Q2227.74 307.61 2227.74 300.503 Q2227.74 293.374 2225.91 289.832 Q2224.11 286.267 2220.47 286.267 M2220.47 282.564 Q2226.28 282.564 2229.34 287.17 Q2232.42 291.753 2232.42 300.503 Q2232.42 309.23 2229.34 313.837 Q2226.28 318.42 2220.47 318.42 Q2214.66 318.42 2211.58 313.837 Q2208.53 309.23 2208.53 300.503 Q2208.53 291.753 2211.58 287.17 Q2214.66 282.564 2220.47 282.564 Z\" fill=\"#000000\" fill-rule=\"evenodd\" fill-opacity=\"1\" /><path clip-path=\"url(#clip920)\" d=\"M2240.63 311.869 L2245.52 311.869 L2245.52 317.749 L2240.63 317.749 L2240.63 311.869 Z\" fill=\"#000000\" fill-rule=\"evenodd\" fill-opacity=\"1\" /><path clip-path=\"url(#clip920)\" d=\"M2265.7 286.267 Q2262.09 286.267 2260.26 289.832 Q2258.46 293.374 2258.46 300.503 Q2258.46 307.61 2260.26 311.175 Q2262.09 314.716 2265.7 314.716 Q2269.34 314.716 2271.14 311.175 Q2272.97 307.61 2272.97 300.503 Q2272.97 293.374 2271.14 289.832 Q2269.34 286.267 2265.7 286.267 M2265.7 282.564 Q2271.51 282.564 2274.57 287.17 Q2277.65 291.753 2277.65 300.503 Q2277.65 309.23 2274.57 313.837 Q2271.51 318.42 2265.7 318.42 Q2259.89 318.42 2256.81 313.837 Q2253.76 309.23 2253.76 300.503 Q2253.76 291.753 2256.81 287.17 Q2259.89 282.564 2265.7 282.564 Z\" fill=\"#000000\" fill-rule=\"evenodd\" fill-opacity=\"1\" /></svg>\n"
      ]
     },
     "metadata": {},
     "output_type": "display_data"
    }
   ],
   "source": [
    "precision = 400 # it's the number of points I make on the graph\n",
    "k1 = 0.03\n",
    "k2 = 0.3\n",
    "k3 = 3.\n",
    "k4 = 30.\n",
    "nb_simulations = 200\n",
    "objectives_k1  = []\n",
    "objectives_k2 = []\n",
    "objectives_k3  = []\n",
    "objectives_k4 = []\n",
    "list_of_s = []\n",
    "for i in 0:precision\n",
    "    s = i/precision\n",
    "    append!(list_of_s, s)\n",
    "    append!(objectives_k1, objective(parms, nb_simulations, k1))\n",
    "    append!(objectives_k2, objective(parms, nb_simulations, k2))\n",
    "    append!(objectives_k3, objective(parms, nb_simulations, k3))\n",
    "    append!(objectives_k4, objective(parms, nb_simulations, k4))\n",
    "end\n",
    "\n",
    "p1 = plot(list_of_s, objectives_k1, xlabel = \"s\", ylabel = \"k\", lab=\"k0=$k1\")\n",
    "plot!(p1,list_of_s, objectives_k2, lab=\"k0=$k2\")\n",
    "plot!(p1,list_of_s, objectives_k3, lab=\"k0=$k3\")\n",
    "plot!(p1,list_of_s, objectives_k4, lab=\"k0=$k4\")\n",
    "\n",
    "p2 = plot(list_of_s[50:end-1], objectives_k1[50:end-1], xlabel = \"s\", ylabel = \"k\", lab=\"k0=$k1\") # it is a zoom on the s not too close from 0 or 1\n",
    "plot!(p2,list_of_s[50:end-1], objectives_k2[50:end-1], lab=\"k0=$k2\")\n",
    "plot!(p2,list_of_s[50:end-1], objectives_k3[50:end-1], lab=\"k0=$k3\")\n",
    "plot!(p2,list_of_s[50:end-1], objectives_k4[50:end-1], lab=\"k0=$k4\")\n",
    "\n",
    "plot(p1, p2, layout = (1,2))"
   ]
  },
  {
   "cell_type": "markdown",
   "metadata": {},
   "source": [
    "__Use library Optim.jl to compute optimal saving. Plot it against initial capital. Bonus: compare the optimal steady-state level with the one you can evaluate in closed form.__"
   ]
  },
  {
   "cell_type": "code",
   "execution_count": 11,
   "metadata": {},
   "outputs": [],
   "source": [
    "using Optim\n",
    "using LinearAlgebra"
   ]
  },
  {
   "cell_type": "code",
   "execution_count": 12,
   "metadata": {},
   "outputs": [
    {
     "data": {
      "text/plain": [
       "objective (generic function with 2 methods)"
      ]
     },
     "metadata": {},
     "output_type": "display_data"
    }
   ],
   "source": [
    "function f(s, k::Float64, p::Parameters) # I create another f to set s as an input\n",
    "    return (1-p.δ)*k + k^p.α * (1-s)\n",
    "end\n",
    "\n",
    "function simulate(s, k0::Float64, T::Int, p::Parameters) # I create another simulate to set s as an input\n",
    "    list_of_k = [k0]\n",
    "    for i in 1:T\n",
    "        k0 = f(s, k0, p)\n",
    "        append!(list_of_k,k0)\n",
    "    end\n",
    "    return list_of_k\n",
    "end\n",
    "\n",
    "function objective(s::Float64, p::Parameters, T::Int, k0::Float64)\n",
    "    list_of_k = simulate(s, k0, T, p)\n",
    "    list_of_c = s*list_of_k .^ p.α\n",
    "    list_of_u = u(list_of_c,p)\n",
    "    return sum([p.β^k for k in 0:T] .* list_of_u) + list_of_u[T+1]*p.β^(T+1)/(1-p.β)\n",
    "end"
   ]
  },
  {
   "cell_type": "code",
   "execution_count": 35,
   "metadata": {},
   "outputs": [
    {
     "data": {
      "text/plain": [
       "1-element Vector{Float64}:\n",
       " 0.7877283017534882"
      ]
     },
     "metadata": {},
     "output_type": "display_data"
    }
   ],
   "source": [
    "k0 = 2.\n",
    "T0 = 300\n",
    "res = optimize(x -> -objective(x[1], parms, T0, k0), [0.], [1.], [0.81])\n",
    "Optim.minimizer(res)"
   ]
  },
  {
   "cell_type": "markdown",
   "metadata": {},
   "source": [
    "That shows that with $k_0 = 2$, the optimal saving rate is about $s = 0.787728$."
   ]
  },
  {
   "cell_type": "markdown",
   "metadata": {},
   "source": [
    "## Deterministic Neoclassical Model: bruteforce"
   ]
  },
  {
   "cell_type": "markdown",
   "metadata": {},
   "source": [
    "Model is exactly the same as in the last exercise, but now we look for a time-dependent saving rule, that is a different $s_t$ for each date. We will try to choose $s_t$ to maximize\n",
    "\n",
    "$$\\sum_{t = 0}^T \\beta^t U(c_t) + \\sum_{t = T+1}^{\\infty} \\beta^t U(c_T) $$\n",
    "\n",
    "__Explain why the second term is important__"
   ]
  },
  {
   "cell_type": "markdown",
   "metadata": {},
   "source": [
    "We have $\\sum_{t=T+1}^\\infty \\beta^t U(c_T) = U(c_T) * \\frac{\\beta^{T+1}}{1-\\beta} << 0 $. Indeed, since $\\gamma$ is higher than 1, the utility is always negative and increasing with c. Therefore the second term might be very far from negligible and especially if we don't dare taking a very high T (which requires a high computation time for the first term and is often not worthy because the convergence is fast)."
   ]
  },
  {
   "cell_type": "markdown",
   "metadata": {},
   "source": [
    "__Choose an horizon $T$ and write a function `objective(s, k0::Float64, T::Int, p::Parameters)` to compute the objective approximated with $T$ periods as a function of initial state `k0::Float64` and of the vector of saving rates `s::Vector` representing $(s_0, s_1, \\cdots s_{T})$. Note that argument type of `s` is left unspecified to make it compatible with automatic differentiation.__"
   ]
  },
  {
   "cell_type": "code",
   "execution_count": 47,
   "metadata": {},
   "outputs": [
    {
     "data": {
      "text/plain": [
       "simulate_neoclassical (generic function with 1 method)"
      ]
     },
     "metadata": {},
     "output_type": "display_data"
    }
   ],
   "source": [
    "function simulate_neoclassical(s, k0::Float64, T::Int, p::Parameters)\n",
    "    list_of_k = [k0]\n",
    "    for i in 1:T\n",
    "        k0 = f(s[i], k0, p)\n",
    "        append!(list_of_k,k0)\n",
    "    end\n",
    "    return list_of_k\n",
    "end"
   ]
  },
  {
   "cell_type": "code",
   "execution_count": 48,
   "metadata": {},
   "outputs": [
    {
     "data": {
      "text/plain": [
       "objective (generic function with 3 methods)"
      ]
     },
     "metadata": {},
     "output_type": "display_data"
    }
   ],
   "source": [
    "function objective(s, k0::Float64, T::Int, p::Parameters)\n",
    "    list_of_k = simulate_neoclassical(s, k0, T, p)\n",
    "    list_of_c = s .* list_of_k .^ p.α\n",
    "    list_of_u = u(list_of_c,p)\n",
    "    return sum([p.β^k for k in 0:T] .* list_of_u) + list_of_u[T+1]*p.β^(T+1)/(1-p.β)\n",
    "end"
   ]
  },
  {
   "cell_type": "code",
   "execution_count": 53,
   "metadata": {},
   "outputs": [
    {
     "data": {
      "text/plain": [
       "-152431.42394513558"
      ]
     },
     "metadata": {},
     "output_type": "display_data"
    }
   ],
   "source": [
    "T0=200\n",
    "objective(rand(T+1),2.,T0,parms)"
   ]
  },
  {
   "cell_type": "markdown",
   "metadata": {},
   "source": [
    "__Use library `Optim.jl` to maximize the utility function. If possible, find a way to specify derivatives of the objective function.__"
   ]
  },
  {
   "cell_type": "code",
   "execution_count": 60,
   "metadata": {},
   "outputs": [
    {
     "data": {
      "text/plain": [
       "201-element Vector{Float64}:\n",
       " 0.7871529909009092\n",
       " 0.7871893877521557\n",
       " 0.7872304554822098\n",
       " 0.7872744860373108\n",
       " 0.7873201713382715\n",
       " 0.7873665170296168\n",
       " 0.7874127733007849\n",
       " 0.7874583734963454\n",
       " 0.7875029033870298\n",
       " 0.7875460638723675\n",
       " ⋮\n",
       " 0.7710448981779895\n",
       " 0.7690474232618213\n",
       " 0.7668320138483498\n",
       " 0.7643782833717073\n",
       " 0.7616646557429992\n",
       " 0.7586685608992672\n",
       " 0.7553665671624806\n",
       " 0.7517346168261373\n",
       " 0.9999999999571989"
      ]
     },
     "metadata": {},
     "output_type": "display_data"
    }
   ],
   "source": [
    "k0 = 2.\n",
    "T0 = 200\n",
    "res2 = optimize(x -> - objective(x, k0, T0, parms), [0. for k in 1:T0+1], [1. for k in 1:T0+1], rand(T0+1))\n",
    "Optim.minimizer(res2) # this gives the vector s maximising the utility since I have put a (-) before the objective function."
   ]
  },
  {
   "cell_type": "markdown",
   "metadata": {},
   "source": [
    "This is counterintuitive : here, people should save nearly all at date T and not before. I would have expected to get nearly the same s all along the path."
   ]
  },
  {
   "cell_type": "markdown",
   "metadata": {},
   "source": [
    "## RBC Model with Dolo"
   ]
  },
  {
   "cell_type": "markdown",
   "metadata": {},
   "source": [
    "__If needed, install Dolo, AxisArrays and DataFrames__"
   ]
  },
  {
   "cell_type": "code",
   "execution_count": 109,
   "metadata": {},
   "outputs": [
    {
     "name": "stderr",
     "output_type": "stream",
     "text": [
      "\u001b[32m\u001b[1m  Resolving\u001b[22m\u001b[39m package versions...\n",
      "\u001b[32m\u001b[1m  Installed\u001b[22m\u001b[39m PooledArrays ────── v1.2.1\n",
      "\u001b[32m\u001b[1m  Installed\u001b[22m\u001b[39m StructTypes ─────── v1.5.2\n",
      "\u001b[32m\u001b[1m  Installed\u001b[22m\u001b[39m CategoricalArrays ─ v0.9.5\n",
      "\u001b[32m\u001b[1m  Installed\u001b[22m\u001b[39m DataFrames ──────── v0.22.7\n",
      "\u001b[32m\u001b[1m  Installed\u001b[22m\u001b[39m PrettyTables ────── v0.11.1\n",
      "\u001b[32m\u001b[1mUpdating\u001b[22m\u001b[39m `~/Teaching/mie37/Project.toml`\n",
      " \u001b[90m [a93c6f00] \u001b[39m\u001b[92m+ DataFrames v0.22.7\u001b[39m\n",
      "\u001b[32m\u001b[1mUpdating\u001b[22m\u001b[39m `~/Teaching/mie37/Manifest.toml`\n",
      " \u001b[90m [324d7699] \u001b[39m\u001b[92m+ CategoricalArrays v0.9.5\u001b[39m\n",
      " \u001b[90m [a8cc5b0e] \u001b[39m\u001b[92m+ Crayons v4.0.4\u001b[39m\n",
      " \u001b[90m [a93c6f00] \u001b[39m\u001b[92m+ DataFrames v0.22.7\u001b[39m\n",
      " \u001b[90m [41ab1584] \u001b[39m\u001b[92m+ InvertedIndices v1.0.0\u001b[39m\n",
      " \u001b[90m [2dfb63ee] \u001b[39m\u001b[92m+ PooledArrays v1.2.1\u001b[39m\n",
      " \u001b[90m [08abe8d2] \u001b[39m\u001b[92m+ PrettyTables v0.11.1\u001b[39m\n",
      " \u001b[90m [856f2bd8] \u001b[39m\u001b[92m+ StructTypes v1.5.2\u001b[39m\n",
      " \u001b[90m [9fa8497b] \u001b[39m\u001b[92m+ Future\u001b[39m\n"
     ]
    }
   ],
   "source": [
    "]add DataFrames\n",
    "]add AxisArrays\n",
    "]add Dolo"
   ]
  },
  {
   "cell_type": "markdown",
   "metadata": {},
   "source": [
    "__Examine the `yaml` file `rbc.yaml`. It represents a basic version of the RBC model,\n",
    "similar to the one seen in class.__"
   ]
  },
  {
   "cell_type": "code",
   "execution_count": 1,
   "metadata": {},
   "outputs": [
    {
     "data": {
      "text/plain": [
       "63-element Vector{String}:\n",
       " \"name: Real Business Cycle\"\n",
       " \"\"\n",
       " \"symbols:\"\n",
       " \"\"\n",
       " \"   exogenous: [epsilon]\"\n",
       " \"   states: [z, k]\"\n",
       " \"   controls: [n, i]\"\n",
       " \"   parameters: [beta, sigma, eta, chi, delta, alpha, rho, zbar, sig_z]\"\n",
       " \"\"\n",
       " \"definitions: |\"\n",
       " ⋮\n",
       " \"\"\n",
       " \"\"\n",
       " \"exogenous: \"\n",
       " \"    epsilon: !UNormal\"\n",
       " \"        sigma: 0.001\"\n",
       " \"\"\n",
       " \"domain:\"\n",
       " \"    z: [-0.1, 0.1]\"\n",
       " \"    k: [0.5*k, 1.5*k]\""
      ]
     },
     "metadata": {},
     "output_type": "display_data"
    }
   ],
   "source": [
    "filename= \"../notebooks/rbc.yaml\"\n",
    "\n",
    "readlines(filename)"
   ]
  },
  {
   "cell_type": "markdown",
   "metadata": {},
   "source": [
    "__What are the states (predetermined variables), what are the controls (to be determined), what are the exogenous variables?__"
   ]
  },
  {
   "cell_type": "markdown",
   "metadata": {},
   "source": [
    "$z_t$ (productivity) and $k_t$ (capital) are the states.\n",
    "\n",
    "$n_t$ (labour) and $i_t$ (investment) are the controls.\n",
    "\n",
    "$\\epsilon_t$ is the exogeneous shock."
   ]
  },
  {
   "cell_type": "markdown",
   "metadata": {},
   "source": [
    "__Compare the calibration from the yaml file, with the one given in the course. What is the specification for the utility function? ($U$ and $V$)__"
   ]
  },
  {
   "cell_type": "markdown",
   "metadata": {},
   "source": [
    "Here, the calibration mentions that $U(c_t, n_t) = \\frac{c_t^{1-\\sigma}}{1-\\sigma} - \\chi \\frac{n_t^{1+\\eta}}{1+\\eta}$ and $V(c_t) = \\frac{log(c_t)}{1-\\beta}$. \n",
    "\n",
    "This is not exactly like in the course since, in the course, it said that the total utility looks like $U(c_t) +\\chi V(1-n_t)$ with $U'≥0$, $U\"≤0$, $U'(0)=+\\infty$ and $U'(+\\infty)=0$ (idem for V).\n",
    "\n",
    "However, $u0(c_t) := \\frac{c_t^{1-\\sigma}}{1-\\sigma} = -\\frac{1}{4c_t^4}$ verifies the Inada conditions. $V(c_t)$ too. But, the fact that $\\chi = \\frac{w}{c^\\sigma *n^\\eta}$ is what allows to find a closed form solution for the steady state as in the course."
   ]
  },
  {
   "cell_type": "markdown",
   "metadata": {},
   "source": [
    "__Import the model. Inspect fields symbols and exogenous.__"
   ]
  },
  {
   "cell_type": "code",
   "execution_count": 1,
   "metadata": {},
   "outputs": [
    {
     "data": {
      "text/plain": [
       "Model"
      ]
     },
     "metadata": {},
     "output_type": "display_data"
    }
   ],
   "source": [
    "using Dolo\n",
    "model = yaml_import(\"rbc.yaml\")"
   ]
  },
  {
   "cell_type": "code",
   "execution_count": 2,
   "metadata": {},
   "outputs": [
    {
     "data": {
      "text/plain": [
       "Dict{Symbol, Vector{Symbol}} with 4 entries:\n",
       "  :controls   => [:n, :i]\n",
       "  :states     => [:z, :k]\n",
       "  :exogenous  => [:epsilon]\n",
       "  :parameters => [:beta, :sigma, :eta, :chi, :delta, :alpha, :rho, :zbar, :sig_…"
      ]
     },
     "metadata": {},
     "output_type": "display_data"
    }
   ],
   "source": [
    "model.symbols"
   ]
  },
  {
   "cell_type": "markdown",
   "metadata": {},
   "source": [
    "`model.exogenous` is a julia object representing the random distribution driving the model"
   ]
  },
  {
   "cell_type": "code",
   "execution_count": 3,
   "metadata": {},
   "outputs": [
    {
     "data": {
      "text/plain": [
       "Dolo.MvNormal([0.0], [1.0e-6])"
      ]
     },
     "metadata": {},
     "output_type": "display_data"
    }
   ],
   "source": [
    "model.exogenous"
   ]
  },
  {
   "cell_type": "code",
   "execution_count": 4,
   "metadata": {},
   "outputs": [
    {
     "data": {
      "text/plain": [
       "3-dimensional AxisArray{Float64,3,...} with axes:\n",
       "    :V, 1:1\n",
       "    :N, 1:2\n",
       "    :T, 1:10\n",
       "And data, a 1×2×10 Array{Float64, 3}:\n",
       "[:, :, 1] =\n",
       " 0.0  0.0\n",
       "\n",
       "[:, :, 2] =\n",
       " -0.00167173  0.000253332\n",
       "\n",
       "[:, :, 3] =\n",
       " 0.000111536  0.000742954\n",
       "\n",
       "[:, :, 4] =\n",
       " 0.000851613  -0.00055654\n",
       "\n",
       "[:, :, 5] =\n",
       " 0.000498942  0.00195736\n",
       "\n",
       "[:, :, 6] =\n",
       " 0.00017375  -0.00130362\n",
       "\n",
       "[:, :, 7] =\n",
       " 0.00116603  -0.00103126\n",
       "\n",
       "[:, :, 8] =\n",
       " 0.00139274  0.000305739\n",
       "\n",
       "[:, :, 9] =\n",
       " -0.000526224  0.0018782\n",
       "\n",
       "[:, :, 10] =\n",
       " 0.000297456  0.000938546"
      ]
     },
     "metadata": {},
     "output_type": "display_data"
    }
   ],
   "source": [
    "# one can simulate 2 sets of simulations for 10 periods with\n",
    "sim = Dolo.simulate(model.exogenous, 2, 10)"
   ]
  },
  {
   "cell_type": "code",
   "execution_count": 5,
   "metadata": {},
   "outputs": [
    {
     "data": {
      "text/plain": [
       "1-dimensional AxisArray{Float64,1,...} with axes:\n",
       "    :T, 1:10\n",
       "And data, a 10-element Vector{Float64}:\n",
       "  0.0\n",
       " -0.001671725980348356\n",
       "  0.00011153550163534923\n",
       "  0.0008516132938763589\n",
       "  0.0004989418822108454\n",
       "  0.00017374983465866736\n",
       "  0.0011660269992798185\n",
       "  0.0013927430117652308\n",
       " -0.000526223740936376\n",
       "  0.00029745558330743156"
      ]
     },
     "metadata": {},
     "output_type": "display_data"
    }
   ],
   "source": [
    "# the result is a special AxisArray object\n",
    "# it is essentially a multidmensional array with labels on axes\n",
    "# which is super useful to avoid reordering mistakes\n",
    "using AxisArrays\n",
    "sim[Axis{:V}(1), Axis{:N}(1)] "
   ]
  },
  {
   "cell_type": "code",
   "execution_count": 6,
   "metadata": {},
   "outputs": [
    {
     "data": {
      "text/plain": [
       "10-element Vector{Float64}:\n",
       "  0.0\n",
       " -0.001671725980348356\n",
       "  0.00011153550163534923\n",
       "  0.0008516132938763589\n",
       "  0.0004989418822108454\n",
       "  0.00017374983465866736\n",
       "  0.0011660269992798185\n",
       "  0.0013927430117652308\n",
       " -0.000526223740936376\n",
       "  0.00029745558330743156"
      ]
     },
     "metadata": {},
     "output_type": "display_data"
    }
   ],
   "source": [
    "# Here is the first simulation as a regular vector\n",
    "sim[Axis{:V}(1), Axis{:N}(1)].data"
   ]
  },
  {
   "cell_type": "markdown",
   "metadata": {},
   "source": [
    "__Check that the calibration given in the yaml file satisfies the steady-state__"
   ]
  },
  {
   "cell_type": "code",
   "execution_count": 7,
   "metadata": {},
   "outputs": [
    {
     "data": {
      "text/plain": [
       "ModelCalibration(FlatCalibration(:sigma => 5.0, :n => 0.33, :zbar => 0.0, :beta => 0.99, :eta => 1.0, :epsilon => 0.0, :alpha => 0.33, :sig_z => 0.016, :rho => 0.8, :z => 0.0…), GroupedCalibration(:controls => [0.33, 0.23387445725364966], :states => [0.0, 9.354978290145986], :exogenous => [0.0], :parameters => [0.99, 5.0, 1.0, 23.95785990938192, 0.025, 0.33, 0.8, 0.0, 0.016]), Dict(:alpha => (:parameters, 6), :n => (:controls, 1), :rho => (:parameters, 7), :delta => (:parameters, 5), :eta => (:parameters, 3), :epsilon => (:exogenous, 1), :sigma => (:parameters, 2), :k => (:states, 2), :sig_z => (:parameters, 9), :z => (:states, 1)…), OrderedCollections.OrderedDict(:exogenous => [:epsilon], :states => [:z, :k], :controls => [:n, :i], :parameters => [:beta, :sigma, :eta, :chi, :delta, :alpha, :rho, :zbar, :sig_z]))"
      ]
     },
     "metadata": {},
     "output_type": "display_data"
    }
   ],
   "source": [
    "# calibration, both for the parameters and the steady-state values is a dict-like object:\n",
    "model.calibration"
   ]
  },
  {
   "cell_type": "code",
   "execution_count": 8,
   "metadata": {},
   "outputs": [
    {
     "data": {
      "text/plain": [
       "FlatCalibration with 21 entries:\n",
       "  :sigma   => 5.0\n",
       "  :n       => 0.33\n",
       "  :zbar    => 0.0\n",
       "  :beta    => 0.99\n",
       "  :eta     => 1.0\n",
       "  :epsilon => 0.0\n",
       "  :alpha   => 0.33\n",
       "  :sig_z   => 0.016\n",
       "  :rho     => 0.8\n",
       "  :z       => 0.0\n",
       "  :delta   => 0.025\n",
       "  :m       => 0.0\n",
       "  :rk      => 0.035101\n",
       "  :k       => 9.35498\n",
       "  :y       => 0.995058\n",
       "  :w       => 2.02027\n",
       "  :i       => 0.233874\n",
       "  :c       => 0.761184\n",
       "  :chi     => 23.9579\n",
       "  ⋮        => ⋮"
      ]
     },
     "metadata": {},
     "output_type": "display_data"
    }
   ],
   "source": [
    "# which can behave in several ways:\n",
    "model.calibration.flat"
   ]
  },
  {
   "cell_type": "code",
   "execution_count": 9,
   "metadata": {},
   "outputs": [
    {
     "data": {
      "text/plain": [
       "GroupedCalibration with 4 entries:\n",
       "  :controls   => [0.33, 0.233874]\n",
       "  :states     => [0.0, 9.35498]\n",
       "  :exogenous  => [0.0]\n",
       "  :parameters => [0.99, 5.0, 1.0, 23.9579, 0.025, 0.33, 0.8, 0.0, 0.016]"
      ]
     },
     "metadata": {},
     "output_type": "display_data"
    }
   ],
   "source": [
    "model.calibration.grouped"
   ]
  },
  {
   "cell_type": "code",
   "execution_count": 10,
   "metadata": {},
   "outputs": [
    {
     "data": {
      "text/plain": [
       "4-element Vector{Vector{Float64}}:\n",
       " [0.0]\n",
       " [0.0, 9.354978290145986]\n",
       " [0.33, 0.23387445725364966]\n",
       " [0.99, 5.0, 1.0, 23.95785990938192, 0.025, 0.33, 0.8, 0.0, 0.016]"
      ]
     },
     "metadata": {},
     "output_type": "display_data"
    }
   ],
   "source": [
    "# we get values of parameters and steady_state values\n",
    "e, s, x, p = model.calibration[:exogenous, :states, :controls, :parameters]"
   ]
  },
  {
   "cell_type": "markdown",
   "metadata": {},
   "source": [
    "Denoting the vector of states by $s_t$, the vector of controls by $x_t$ and the vector of exogenous shocks by $e_t$, the *general specification* of a model in Dolo is:\n",
    "\n",
    "$$\n",
    "E_t \\left[ f(e_t, s_t, x_t, e_{t+1}, s_{t+1}, x_{t+1}) \\right]  = 0 \\\\\\\\\n",
    "s_t =  g(e_{t-1}, s_{t-1}, x_{t-1}, e_t)\n",
    "$$\n",
    "\n",
    "The are represented in the function  Dolo.arbitrage and Dolo.transition respectively."
   ]
  },
  {
   "cell_type": "code",
   "execution_count": 11,
   "metadata": {},
   "outputs": [
    {
     "data": {
      "text/plain": [
       "2-element Vector{Float64}:\n",
       " -2.3650900419212035e-16\n",
       " -5.5421436239368925e-17"
      ]
     },
     "metadata": {},
     "output_type": "display_data"
    }
   ],
   "source": [
    "Dolo.arbitrage(model,e,s,x,e,s,x,p) # this is all zero"
   ]
  },
  {
   "cell_type": "code",
   "execution_count": 12,
   "metadata": {},
   "outputs": [
    {
     "data": {
      "text/plain": [
       "2-element Vector{Float64}:\n",
       " 0.0\n",
       " 0.0"
      ]
     },
     "metadata": {},
     "output_type": "display_data"
    }
   ],
   "source": [
    "Dolo.transition(model, e,s,x,e,p) - s"
   ]
  },
  {
   "cell_type": "markdown",
   "metadata": {},
   "source": [
    "### Perturbation\n",
    "\n",
    "Since the shock doesn't appear at date $t$ in the arbitrage function or at date $t-1$ in the transition equation, the first order dynamics can be characterized by:\n",
    "\n",
    "$$\n",
    "\\mathbb{E}_t \\left[ f^{\\prime}_{s_t} \\Delta s_t + f^{\\prime}_{x_t} \\Delta x_t + f^{\\prime}_{e_{t+1}} e_{t+1} + f^{\\prime}_{s_{t+1}} \\Delta s_{t+1} + f^{\\prime}_{x_{t+1}} \\Delta x_{t+1} \\right]  =  0 \\\\\\\\\n",
    "\\Delta s_{t} = g^{\\prime}_{s_{t-1}} \\Delta s_{t-1} + g^{\\prime}_{x_{t-1}} \\Delta x_{t-1} + g^{\\prime}_{e_t} e_{t}\n",
    "$$\n",
    "\n",
    "Taking into account the fact the $e_{t+1}$ is zero mean it simplifies as:\n",
    "\n",
    "$$\n",
    "\\mathbb{E}_t \\left[ \\underbrace{ f^{\\prime}_{s_t}}_{A} \\Delta s_t + \\underbrace{f^{\\prime}_{x_t}}_{B} \\Delta x_t + \\underbrace{f^{\\prime}_{s_{t+1}}}_{C} \\Delta s_{t+1} + \\underbrace{ f^{\\prime}_{x_{t+1}}}_{D}\\Delta x_{t+1} \\right] = 0 \\\\\\\\\n",
    "\\Delta s_{t}  =  \\underbrace{g^{\\prime}_{s_{t-1}}}_{E} \\Delta s_{t-1} + \\underbrace{g^{\\prime}_{x_{t-1}}}_{F} \\Delta x_{t-1} + \\underbrace{g^{\\prime}_{e_t}}_{Q} e_{t}\n",
    "$$\n",
    "\n",
    "The solution of this system, is a matrix $X$ such that $\\Delta x_t = X \\Delta s_t$ satisfies the arbitrage equation for any $\\Delta s_t$ (once the transition equation is susbtituted in)."
   ]
  },
  {
   "cell_type": "markdown",
   "metadata": {},
   "source": [
    "__Compute derivatives A,B,C,D,E,F,Q using Dolo. Check that they have the right dimensions.__"
   ]
  },
  {
   "cell_type": "code",
   "execution_count": 13,
   "metadata": {},
   "outputs": [
    {
     "data": {
      "text/plain": [
       "([0.19999999999999996 0.0; 0.0 0.975], [0.0 0.0; 0.0 1.0], [11.184727590091404 0.39454502087065413; -6.536255055017392 -0.23056859153032627], [34.95244428718071 -13.270578445035312; -13.270578445035309 6.568716708345973], [0.0 0.0; 6.501505055017393 0.23305737336154916], [0.0 0.0; 13.200025414732279 -6.568716708345973])"
      ]
     },
     "metadata": {},
     "output_type": "display_data"
    }
   ],
   "source": [
    "A,B,C,D,E,F = Dolo.get_gf_derivatives(model)"
   ]
  },
  {
   "cell_type": "code",
   "execution_count": 14,
   "metadata": {},
   "outputs": [
    {
     "data": {
      "text/plain": [
       "2×1 Matrix{Float64}:\n",
       " 1.0\n",
       " 0.0"
      ]
     },
     "metadata": {},
     "output_type": "display_data"
    }
   ],
   "source": [
    "Q = Dolo.get_ss_derivatives(model)[1][4] \n",
    "# slightly convoluted, admittedly, that is because get_ss returns (g_e, g_s, g_x, g_E), (f_e, f_s, f_x, f_E, F_S, f_X)"
   ]
  },
  {
   "cell_type": "code",
   "execution_count": 15,
   "metadata": {},
   "outputs": [],
   "source": [
    "@assert size(A) == (2,2) # 2 arbitrage equations x 2 states today"
   ]
  },
  {
   "cell_type": "markdown",
   "metadata": {},
   "source": [
    "__Define a structure `PerturbedModel` to hold matrices A,B,C,D,E,F.__"
   ]
  },
  {
   "cell_type": "code",
   "execution_count": 16,
   "metadata": {},
   "outputs": [
    {
     "data": {
      "text/plain": [
       "PerturbedModel([0.19999999999999996 0.0; 0.0 0.975], [0.0 0.0; 0.0 1.0], [11.184727590091404 0.39454502087065413; -6.536255055017392 -0.23056859153032627], [34.95244428718071 -13.270578445035312; -13.270578445035309 6.568716708345973], [0.0 0.0; 6.501505055017393 0.23305737336154916], [0.0 0.0; 13.200025414732279 -6.568716708345973], [1.0; 0.0])"
      ]
     },
     "metadata": {},
     "output_type": "display_data"
    }
   ],
   "source": [
    "struct PerturbedModel\n",
    "    A::Matrix{Float64}\n",
    "    B::Matrix{Float64}\n",
    "    C::Matrix{Float64}\n",
    "    D::Matrix{Float64}\n",
    "    E::Matrix{Float64}\n",
    "    F::Matrix{Float64}\n",
    "    Q::Matrix{Float64}\n",
    "end\n",
    "\n",
    "pm = PerturbedModel(A,B,C,D,E,F,Q)"
   ]
  },
  {
   "cell_type": "markdown",
   "metadata": {},
   "source": [
    "__We look for a linear solution $x_t = X s_t$ where $X$ is a 2x2 matrix. Write the matrix equation which `X` must satisfy. Write a function `residual(X::Array, M::PerturbedModel)` which to the residual of this equation for a given `X`.__\n"
   ]
  },
  {
   "cell_type": "markdown",
   "metadata": {},
   "source": [
    "$A+BX+(C+DX)(E+FX) = 0$"
   ]
  },
  {
   "cell_type": "code",
   "execution_count": 17,
   "metadata": {},
   "outputs": [
    {
     "data": {
      "text/plain": [
       "residual (generic function with 1 method)"
      ]
     },
     "metadata": {},
     "output_type": "display_data"
    }
   ],
   "source": [
    "function residual(X::Array, M::PerturbedModel)\n",
    "    return M.A + M.B*X + (M.C + M.D*X)*(M.E +M.F*X)\n",
    "end"
   ]
  },
  {
   "cell_type": "markdown",
   "metadata": {},
   "source": [
    "__Write a function `T(X, M::PerturbedModel)`  which implements the time iteration step.__"
   ]
  },
  {
   "cell_type": "code",
   "execution_count": 18,
   "metadata": {},
   "outputs": [
    {
     "data": {
      "text/plain": [
       "T (generic function with 1 method)"
      ]
     },
     "metadata": {},
     "output_type": "display_data"
    }
   ],
   "source": [
    "function T(X, M::PerturbedModel)\n",
    "    return -(M.B + (M.C + M.D*X) * M.F)\\(M.A + (M.C + M.D*X)* M.E)\n",
    "end"
   ]
  },
  {
   "cell_type": "markdown",
   "metadata": {},
   "source": [
    "__Write function `linear_time_iteration(X_0::Matrix, m::PerturbedModel)::Matrix` which implements the time iteration algorithm. Apply it to `X0 = rand(1,2)` and check that the result satisfies the first order model.__\n",
    "\n",
    "    "
   ]
  },
  {
   "cell_type": "code",
   "execution_count": 19,
   "metadata": {},
   "outputs": [
    {
     "data": {
      "text/plain": [
       "linear_time_iteration (generic function with 1 method)"
      ]
     },
     "metadata": {},
     "output_type": "display_data"
    }
   ],
   "source": [
    "ϵ0 = 1.e-5\n",
    "η0 = 1.e-5\n",
    "max_it = 2000\n",
    "function linear_time_iteration(X_0::Matrix, M::PerturbedModel)\n",
    "    X_1 =  T(X_0, M)\n",
    "    iterations = 1\n",
    "    while iterations < max_it && (sum(abs.(X_1-X_0)) > η0 || sum(abs.(residual(X_1,M))) > ϵ0)\n",
    "        X_0 = X_1\n",
    "        X_1 =  T(X_0, M)\n",
    "        iterations += 1\n",
    "    end\n",
    "    return X_1\n",
    "end"
   ]
  },
  {
   "cell_type": "code",
   "execution_count": 20,
   "metadata": {},
   "outputs": [
    {
     "data": {
      "text/plain": [
       "2×2 Matrix{Float64}:\n",
       " -0.489856    -0.502844\n",
       " -0.00178989  -0.975"
      ]
     },
     "metadata": {},
     "output_type": "display_data"
    }
   ],
   "source": [
    "X0 = rand(2,2)\n",
    "sol_time_iteration = linear_time_iteration(X0, pm)"
   ]
  },
  {
   "cell_type": "markdown",
   "metadata": {},
   "source": [
    "__Define two linear operators `L_S(S::Matrix, X_0::Matrix, m::PerturbedModel)::Matrix` and `L_T(S::Matrix, X_0::Matrix, m::PerturbedModel)::Matrix` which implement the derivatives of the simulation and the time-iteration operator respectively.__"
   ]
  },
  {
   "cell_type": "code",
   "execution_count": 55,
   "metadata": {},
   "outputs": [
    {
     "data": {
      "text/plain": [
       "L_T (generic function with 2 methods)"
      ]
     },
     "metadata": {},
     "output_type": "display_data"
    }
   ],
   "source": [
    "function L_S(S::Matrix, X_0::Matrix, m::PerturbedModel) # I am not sure to understand what should be S and why it is a MAtrix and not a vector\n",
    "    return (m.E + m.F*linear_time_iteration(X_0,m)) * S \n",
    "end\n",
    "\n",
    "function L_T(S::Matrix, X_0::Matrix, m::PerturbedModel)\n",
    "    X_SS = linear_time_iteration(X_0,m)\n",
    "    return (m.B + (m.C +m.D*X_SS) * m.F) \\ m.D * S * (m.E + m.F * X_SS)\n",
    "end"
   ]
  },
  {
   "cell_type": "markdown",
   "metadata": {},
   "source": [
    "__Implement a function `spectral_radius(f::Function)::Float64` which implements the power iteration method to compute the biggest eigenvalues of the two previously defined operators. Check that Blamnchard-Kahn conditions are met.__"
   ]
  },
  {
   "cell_type": "code",
   "execution_count": 82,
   "metadata": {},
   "outputs": [
    {
     "data": {
      "text/plain": [
       "norm (generic function with 2 methods)"
      ]
     },
     "metadata": {},
     "output_type": "display_data"
    }
   ],
   "source": [
    "function norm(x::Matrix{Float64})\n",
    "    return maximum(abs.(eigvals(x)))\n",
    "end\n",
    "\n",
    "function norm(x::Vector{Float64})\n",
    "    return sqrt(sum(x.^2))\n",
    "end"
   ]
  },
  {
   "cell_type": "code",
   "execution_count": 83,
   "metadata": {},
   "outputs": [
    {
     "data": {
      "text/plain": [
       "spectral_radius2 (generic function with 1 method)"
      ]
     },
     "metadata": {},
     "output_type": "display_data"
    }
   ],
   "source": [
    "η = 1.e-5\n",
    "\n",
    "function spectral_radius(f::Function)\n",
    "    x0 = rand(2)\n",
    "    u0 = x0 ./ norm(x0)\n",
    "    x1 = f(u0, X0, pm)\n",
    "    u1 = x1 ./ norm(x1)\n",
    "    while norm(u1-u0) > η\n",
    "        u0 = u1\n",
    "        x1 = f(u0, X0, pm)\n",
    "        u1 = x1 ./ norm(x1)\n",
    "    end\n",
    "    return norm(x1)\n",
    "end\n",
    "\n",
    "function spectral_radius2(f::Function)\n",
    "    x0 = rand(2,2)\n",
    "    u0 = x0 ./ norm(x0)\n",
    "    x1 = f(u0, X0, pm)\n",
    "    u1 = x1 ./ norm(x1)\n",
    "    while norm(u1-u0) > η\n",
    "        u0 = u1\n",
    "        x1 = f(u0, X0, pm)\n",
    "        u1 = x1 ./ norm(x1)\n",
    "    end\n",
    "    return norm(x1)\n",
    "end"
   ]
  },
  {
   "cell_type": "code",
   "execution_count": 84,
   "metadata": {},
   "outputs": [
    {
     "data": {
      "text/plain": [
       "7.494005416219807e-16"
      ]
     },
     "metadata": {},
     "output_type": "display_data"
    }
   ],
   "source": [
    "spectral_radius(L_S)"
   ]
  },
  {
   "cell_type": "code",
   "execution_count": 85,
   "metadata": {},
   "outputs": [
    {
     "data": {
      "text/plain": [
       "7.494005416219807e-16"
      ]
     },
     "metadata": {},
     "output_type": "display_data"
    }
   ],
   "source": [
    "# Checking the result for the simulation operator => OK\n",
    "maximum(abs.(eigvals(pm.E + pm.F*linear_time_iteration(X0,pm))))"
   ]
  },
  {
   "cell_type": "code",
   "execution_count": null,
   "metadata": {},
   "outputs": [],
   "source": [
    "spectral_radius2(L_T) # do not know if it works. It's far too long."
   ]
  },
  {
   "cell_type": "markdown",
   "metadata": {},
   "source": [
    "__Compare the solution with the one obtained by dolo__"
   ]
  },
  {
   "cell_type": "code",
   "execution_count": 23,
   "metadata": {},
   "outputs": [
    {
     "data": {
      "text/plain": [
       "Perturbation Results\n",
       " * Decision Rule type: Dolo.BiTaylorExpansion{2}\n",
       " * stable < true\n",
       " * determined < true\n"
      ]
     },
     "metadata": {},
     "output_type": "display_data"
    }
   ],
   "source": [
    "sol_dolo = Dolo.perturb(model)"
   ]
  },
  {
   "cell_type": "code",
   "execution_count": 24,
   "metadata": {},
   "outputs": [
    {
     "data": {
      "text/plain": [
       "2×2 Matrix{Float64}:\n",
       " 0.207879  -0.0152809\n",
       " 1.39034   -0.0105166"
      ]
     },
     "metadata": {},
     "output_type": "display_data"
    }
   ],
   "source": [
    "X_dolo = sol_dolo.dr.x_s"
   ]
  },
  {
   "cell_type": "markdown",
   "metadata": {},
   "source": [
    "__Compute the transition matrix $P = E + F X$__"
   ]
  },
  {
   "cell_type": "code",
   "execution_count": 25,
   "metadata": {},
   "outputs": [
    {
     "data": {
      "text/plain": [
       "2×2 Matrix{Float64}:\n",
       " 0.0       0.0\n",
       " 0.112768  0.100429"
      ]
     },
     "metadata": {},
     "output_type": "display_data"
    }
   ],
   "source": [
    "P = pm.E + pm.F*X_dolo"
   ]
  },
  {
   "cell_type": "markdown",
   "metadata": {},
   "source": [
    "__Create a structure to hold the solution__"
   ]
  },
  {
   "cell_type": "code",
   "execution_count": 26,
   "metadata": {},
   "outputs": [],
   "source": [
    "struct Solution\n",
    "    X::Matrix{Float64}\n",
    "    P::Matrix{Float64}  # transition matrix\n",
    "    Q::Matrix{Float64}\n",
    "    shock               # set it to model.exogenous\n",
    "end"
   ]
  },
  {
   "cell_type": "code",
   "execution_count": 27,
   "metadata": {},
   "outputs": [
    {
     "data": {
      "text/plain": [
       "Solution([0.20787915142620136 -0.015280943914675495; 1.390339699599508 -0.010516596585492944], [0.0 0.0; 0.11276752200022067 0.10042906903279578], [1.0; 0.0], Dolo.MvNormal([0.0], [1.0e-6]))"
      ]
     },
     "metadata": {},
     "output_type": "display_data"
    }
   ],
   "source": [
    "sol = Solution(X_dolo, P, pm.Q, model.exogenous)"
   ]
  },
  {
   "cell_type": "markdown",
   "metadata": {},
   "source": [
    "__Write a function `simulate(s0::Vector, sol::Solution, T::Int64)::Tuple{Matrix, Matrix}` to simulate the model over $T$ periods (by using the formula $\\Delta s_t = P s_{t-1} + Q e_t$. Return a matrix for the states (one line per date) and another matrix for the controls. Use Dolo.simulation(sol.shock) to simulate the exogenous shock.__\n",
    "\n",
    "__Bonus: add a keyword option to compute variables levels or log-deviations. If possible, return a DataFrame or an AxisArrays object.__"
   ]
  },
  {
   "cell_type": "code",
   "execution_count": 33,
   "metadata": {},
   "outputs": [
    {
     "data": {
      "text/plain": [
       "simulate (generic function with 1 method)"
      ]
     },
     "metadata": {},
     "output_type": "display_data"
    }
   ],
   "source": [
    "using LinearAlgebra\n",
    "function simulate(s0::Vector, sol::Solution, T::Int64; result_in_level=false)\n",
    "    simulated_states = zeros(T,2)\n",
    "    simulated_controls = zeros(T,2)\n",
    "    e = Dolo.simulate(sol.shock,1,T-1)\n",
    "    simulated_states[1,:] = s0\n",
    "    simulated_controls[1,:] = sol.X*s0\n",
    "    for i in 1:T-1\n",
    "        s = (sol.P + Matrix(I,2,2)) * s0 + sol.Q * e[i]\n",
    "        simulated_states[i+1,:] = s\n",
    "        simulated_controls[i+1,:] = sol.X*s\n",
    "    end\n",
    "    if result_in_level == true\n",
    "        return log.(simulated_states), log.(simulated_controls)\n",
    "    end\n",
    "    return simulated_states, simulated_controls\n",
    "end"
   ]
  },
  {
   "cell_type": "code",
   "execution_count": 34,
   "metadata": {},
   "outputs": [
    {
     "data": {
      "text/plain": [
       "100×2 Matrix{Float64}:\n",
       " 0.0562514  0.412895\n",
       " 0.0551205  0.412117\n",
       " 0.0548347  0.410206\n",
       " 0.0550971  0.41196\n",
       " 0.0550729  0.411798\n",
       " 0.0550758  0.411818\n",
       " 0.0551247  0.412145\n",
       " 0.0552571  0.41303\n",
       " 0.0552486  0.412974\n",
       " 0.054767   0.409752\n",
       " ⋮          \n",
       " 0.0549826  0.411194\n",
       " 0.0550484  0.411634\n",
       " 0.055107   0.412026\n",
       " 0.0549964  0.411287\n",
       " 0.0548969  0.410621\n",
       " 0.0551085  0.412037\n",
       " 0.0549054  0.410678\n",
       " 0.0553048  0.413349\n",
       " 0.0553134  0.413407"
      ]
     },
     "metadata": {},
     "output_type": "display_data"
    }
   ],
   "source": [
    "simulate([0.3,0.4],sol, 100)[1]\n",
    "simulate([0.3,0.4],sol, 100)[2]"
   ]
  },
  {
   "cell_type": "markdown",
   "metadata": {},
   "source": [
    "__Write a function response(sol::Solution, T::Int64, δ::Float64) which computes the deterministic response of a model, followint an initial deviation of the shock δ.__"
   ]
  },
  {
   "cell_type": "markdown",
   "metadata": {},
   "source": [
    "As I understand it, we want to compare the initial exogeneous shock with another exogeneous shock deviated initially (ie for t=1) and not after. To show the response to that, I think that the initial state is required to compute the entire time path of the states."
   ]
  },
  {
   "cell_type": "code",
   "execution_count": 30,
   "metadata": {},
   "outputs": [
    {
     "data": {
      "text/plain": [
       "response (generic function with 1 method)"
      ]
     },
     "metadata": {},
     "output_type": "display_data"
    }
   ],
   "source": [
    "function response(s0::Vector, sol::Solution, T::Int64, δ::Float64)\n",
    "    simulated_states = zeros(T,2)\n",
    "    simulated_controls = zeros(T,2)\n",
    "    e = Dolo.simulate(sol.shock,1,T-1)\n",
    "    e[1] += δ\n",
    "    simulated_states[1,:] = s0\n",
    "    simulated_controls[1,:] = sol.X*s0\n",
    "    for i in 1:T-1\n",
    "        s = (sol.P + Matrix(I,2,2)) * s0 + sol.Q * e[i]\n",
    "        simulated_states[i+1,:] = s\n",
    "        simulated_controls[i+1,:] = sol.X*s\n",
    "    end\n",
    "    return simulated_states, simulated_controls\n",
    "end"
   ]
  },
  {
   "cell_type": "code",
   "execution_count": 35,
   "metadata": {},
   "outputs": [
    {
     "data": {
      "text/plain": [
       "100×2 Matrix{Float64}:\n",
       " 0.0562514  0.412895\n",
       " 0.678758   4.58314\n",
       " 0.0553239  0.413477\n",
       " 0.0553106  0.413388\n",
       " 0.0548756  0.410478\n",
       " 0.0555315  0.414865\n",
       " 0.0547784  0.409829\n",
       " 0.0550466  0.411622\n",
       " 0.0547915  0.409917\n",
       " 0.055271   0.413123\n",
       " ⋮          \n",
       " 0.0547686  0.409763\n",
       " 0.0551428  0.412266\n",
       " 0.0551741  0.412475\n",
       " 0.0549723  0.411126\n",
       " 0.0553426  0.413602\n",
       " 0.0551412  0.412255\n",
       " 0.0548391  0.410234\n",
       " 0.0551119  0.412059\n",
       " 0.0550688  0.411771"
      ]
     },
     "metadata": {},
     "output_type": "display_data"
    }
   ],
   "source": [
    "response([0.3,0.4],sol, 100, 3.)[1] # states\n",
    "response([0.3,0.4],sol, 100, 3.)[2] # controls"
   ]
  },
  {
   "cell_type": "markdown",
   "metadata": {},
   "source": [
    "__Bonus: Introduce a 10% income tax in the model, by editing the yaml file. How does it affect the responses of the model's variables?__"
   ]
  },
  {
   "cell_type": "code",
   "execution_count": 32,
   "metadata": {},
   "outputs": [],
   "source": []
  }
 ],
 "metadata": {
  "kernelspec": {
   "display_name": "Julia 1.6.3",
   "language": "julia",
   "name": "julia-1.6"
  },
  "language_info": {
   "file_extension": ".jl",
   "mimetype": "application/julia",
   "name": "julia",
   "version": "1.6.3"
  }
 },
 "nbformat": 4,
 "nbformat_minor": 4
}
