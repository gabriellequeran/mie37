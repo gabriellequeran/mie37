{
 "cells": [
  {
   "cell_type": "markdown",
   "metadata": {},
   "source": [
    "# Homework 1"
   ]
  },
  {
   "cell_type": "markdown",
   "metadata": {},
   "source": [
    "## Solow Model"
   ]
  },
  {
   "cell_type": "markdown",
   "metadata": {},
   "source": [
    "\n",
    "We consider here, another deterministic version of the neoclassical growth model, but propose a slightly different solution method.\n",
    "\n",
    "A representative agent uses capital $k_t$ to produce $y_t$ using the following production function:\n",
    "\n",
    "$$y_t = k_t^{\\alpha}$$\n",
    "\n",
    "He chooses to consume an amount $c_t \\in ]0, y_t]$ and invests what remains:\n",
    "\n",
    "$$i_t = y_t - c_t$$ \n",
    "\n",
    "He accumulates capital $k_t$ according to:\n",
    "\n",
    "$$k_{t+1} = \\left( 1-\\delta \\right) k_{t} + i_{t}$$\n",
    "\n",
    "where $\\delta$ is the depreciation rate and $i_t$ is the amount invested.\n",
    "\n",
    "The goal of the representative agent is to maximize:\n",
    "\n",
    "$$\\sum_{t\\geq 0} \\beta^t U(c_t)$$\n",
    "\n",
    "where $U(x)=\\frac{x^{1-\\gamma}}{1-\\gamma}$ and $\\beta<1$ is the discount factor.\n",
    "\n",
    "For now, we ignore the objective and assume that the saving rate $s=\\frac{c_t}{y_t}$ is constant over time."
   ]
  },
  {
   "cell_type": "markdown",
   "metadata": {},
   "source": [
    "__Create a structure `Parameters` to hold parameter values $\\beta=0.96$, $\\delta=0.1$, $\\alpha=0.3$, $\\gamma=4$__ "
   ]
  },
  {
   "cell_type": "code",
   "execution_count": 2,
   "metadata": {},
   "outputs": [
    {
     "data": {
      "text/plain": [
       "Parameters(0.96, 0.1, 0.3, 4.0)"
      ]
     },
     "metadata": {},
     "output_type": "display_data"
    }
   ],
   "source": [
    "struct Parameters\n",
    "    β\n",
    "    δ\n",
    "    α\n",
    "    γ\n",
    "end\n",
    "\n",
    "parms = Parameters(0.96, 0.1, 0.3, 4.)"
   ]
  },
  {
   "cell_type": "markdown",
   "metadata": {},
   "source": [
    "__Write down the formula of function $f$ such that $k_{t+1}$: $k_{t+1} = f(k_t)$.__\n",
    "\n",
    "We have that $k_{t+1} = (1-\\delta)k_t + i_t $. But, $i_t = y_t-c_t = y_t(1-s) = k_t^\\alpha (1-s)$. Thus, we deduce that : $ k_{t+1} = (1-\\delta)k_t + k_t^\\alpha (1-s) $."
   ]
  },
  {
   "cell_type": "markdown",
   "metadata": {},
   "source": [
    "__Define a function `f(k::Float64, p::Parameters)::Float64` to represent $f$ for a given calibration__"
   ]
  },
  {
   "cell_type": "code",
   "execution_count": 3,
   "metadata": {},
   "outputs": [
    {
     "data": {
      "text/plain": [
       "f (generic function with 1 method)"
      ]
     },
     "metadata": {},
     "output_type": "display_data"
    }
   ],
   "source": [
    "function f(k::Float64, p::Parameters)\n",
    "    return (1-p.δ)*k + k^p.α * (1-s)\n",
    "end"
   ]
  },
  {
   "cell_type": "markdown",
   "metadata": {},
   "source": [
    "__Write a function `simulate(k0::Float64, T::Int, p::Parameters)::Vector{Float64}` to compute the simulation over `T` periods starting from initial capital level `k0`.__"
   ]
  },
  {
   "cell_type": "code",
   "execution_count": 4,
   "metadata": {},
   "outputs": [
    {
     "data": {
      "text/plain": [
       "simulate (generic function with 1 method)"
      ]
     },
     "metadata": {},
     "output_type": "display_data"
    }
   ],
   "source": [
    "function simulate(k0::Float64, T::Int, p::Parameters)\n",
    "    list_of_k = [k0]\n",
    "    for i in 1:T\n",
    "        k0 = f(k0,p)\n",
    "        append!(list_of_k,k0)\n",
    "    end\n",
    "    return list_of_k\n",
    "end"
   ]
  },
  {
   "cell_type": "code",
   "execution_count": 5,
   "metadata": {},
   "outputs": [
    {
     "data": {
      "text/plain": [
       "0.1"
      ]
     },
     "metadata": {},
     "output_type": "display_data"
    }
   ],
   "source": [
    "s = 0.1"
   ]
  },
  {
   "cell_type": "markdown",
   "metadata": {},
   "source": [
    "__Make a nice plot to illustrate the convergence. Do we get convergence from any initial level of capital?__"
   ]
  },
  {
   "cell_type": "code",
   "execution_count": 6,
   "metadata": {},
   "outputs": [],
   "source": [
    "using Plots"
   ]
  },
  {
   "cell_type": "code",
   "execution_count": 7,
   "metadata": {},
   "outputs": [],
   "source": [
    "T0 = 200\n",
    "k0 = 2.\n",
    "s = 0.5\n",
    "plot([i for i in 0:T0], simulate(k0,T0, parms), lab = \"k0= $k0\")"
   ]
  },
  {
   "cell_type": "markdown",
   "metadata": {},
   "source": [
    "We get the convergence for any $s \\in [0.,1.]$ and $k_0$, given the parameters fixed above.\n",
    "\n",
    "Indeed, $k_{t+1} = 0.9k_t + k_t^0.3(1-s) := f(k_t)$. Thus : $\\frac{k_{t+1}}{k_t} = 0.9 + k_t^{-0.7}(1-s) := g(k_t)$.\n",
    "\n",
    "But : $g'(k) = -0.7(1-s)k^{-1.7} ≤ 0$. And $g(k) = 1 <=> k = (\\frac{0.1}{1-s})^0.7 := k_{SS}$. We deduce that if $k_t > k_{SS}$ (resp. $k_t ≤ k_{SS}$) then $k_{t+1} < k_t$ (resp. $k_{t+1} ≥ k_t$). The remaining question is then whether, if $k_t > k_{SS}$ (resp. $k_t ≤ k_{SS}$), we have that $k_{t+1} ≥ k_{SS}$ (resp. $k_{t+1} ≤ k_{SS}$).\n",
    "\n",
    "We know that $f'(k) = 0.9 + 0.3(1-s)k^{-0.7} ≥ 0 $. It is thus clear that g increases on $[0,+∞]$ and has a fixed point in $k_{SS}$. This validates the previous question and confirms the systematic convergence."
   ]
  },
  {
   "cell_type": "markdown",
   "metadata": {},
   "source": [
    "__Suppose you were interested in using `f` to compute the steady-state. What would you propose to measure convergence speed? To speed-up convergence? Implement these ideas.__"
   ]
  },
  {
   "cell_type": "markdown",
   "metadata": {},
   "source": [
    "It would be interesting to define and follow the evolution of $\\eta_t := |k_{t+1} - k_t|$ and use Steffenson's algorithm."
   ]
  },
  {
   "cell_type": "code",
   "execution_count": null,
   "metadata": {},
   "outputs": [],
   "source": [
    "function η(k0::Float64,k1::Float64)\n",
    "    return abs(k1-k0)\n",
    "end\n",
    "\n",
    "function aitken_guess(k0::Float64,k1::Float64,k2::Float64)\n",
    "    return k0 - (k1-k0)^2 / (k2 - 2*k1 + k0)\n",
    "end\n",
    "\n",
    "function speed(k1,k2,k_star)\n",
    "    return abs(k2-k_star)/abs(k1-k_star)\n",
    "end\n",
    "\n",
    "tolerance = 1e-5\n",
    "T_max = 500\n",
    "\n",
    "function steffenson(k0::Float64,p::Parameters)\n",
    "    k1 = f(k0,p)\n",
    "    k2 = f(k1,p)\n",
    "    k0 = aitken_guess(k0,k1,k2)\n",
    "    list_of_speed = [speed(k1, k2, k0)]\n",
    "    t = 0\n",
    "    while (t<T_max && η(k2,k0)>tolerance)\n",
    "        k1 = f(k0,p)\n",
    "        k2 = f(k1,p)\n",
    "        k0 = aitken_guess(k0,k1,k2)\n",
    "        t += 1\n",
    "        append!(list_of_speed,speed(k1, k2, k0))\n",
    "    end\n",
    "    if t==T_max\n",
    "        return \"does not seem to converge\"\n",
    "    end\n",
    "    return \"limit:\", k0, \"speed:\", list_of_speed, \"iterations:\", t+1\n",
    "end"
   ]
  },
  {
   "cell_type": "code",
   "execution_count": null,
   "metadata": {},
   "outputs": [],
   "source": [
    "s = 0.5\n",
    "steffenson(2.,parms) # Very strangely, the speed of convergence seems to be rather linear here (but it might be because I am considering only the first values of the speed whereas it is better to look at the speed for high T)."
   ]
  },
  {
   "cell_type": "markdown",
   "metadata": {},
   "source": [
    "__Consider now the full intertemporal objective. Propose a function to approximate it numerically . Plot this objective as a function of the saving rate. Does it depend on the initial capital?__\n"
   ]
  },
  {
   "cell_type": "code",
   "execution_count": null,
   "metadata": {},
   "outputs": [],
   "source": [
    "function u(x::Vector{Float64},p::Parameters)\n",
    "    return x .^ (1-p.γ) ./ (1-p.γ)\n",
    "end\n",
    "\n",
    "function objective(p::Parameters, T::Int, k0::Float64)\n",
    "    list_of_k = simulate(k0,T,p)\n",
    "    list_of_c = s*list_of_k .^ p.α\n",
    "    list_of_u = u(list_of_c,p)\n",
    "    return sum([p.β^k for k in 0:T] .* list_of_u) + list_of_u[T+1]*p.β^(T+1)/(1-p.β)\n",
    "end"
   ]
  },
  {
   "cell_type": "code",
   "execution_count": null,
   "metadata": {},
   "outputs": [],
   "source": [
    "precision = 400 # it's the number of points I make on the graph\n",
    "k1 = 0.03\n",
    "k2 = 0.3\n",
    "k3 = 3.\n",
    "k4 = 30.\n",
    "nb_simulations = 200\n",
    "objectives_k1  = []\n",
    "objectives_k2 = []\n",
    "objectives_k3  = []\n",
    "objectives_k4 = []\n",
    "list_of_s = []\n",
    "for i in 0:precision\n",
    "    s = i/precision\n",
    "    append!(list_of_s, s)\n",
    "    append!(objectives_k1, objective(parms, nb_simulations, k1))\n",
    "    append!(objectives_k2, objective(parms, nb_simulations, k2))\n",
    "    append!(objectives_k3, objective(parms, nb_simulations, k3))\n",
    "    append!(objectives_k4, objective(parms, nb_simulations, k4))\n",
    "end\n",
    "\n",
    "p1 = plot(list_of_s, objectives_k1, xlabel = \"s\", ylabel = \"k\", lab=\"k0=$k1\")\n",
    "plot!(p1,list_of_s, objectives_k2, lab=\"k0=$k2\")\n",
    "plot!(p1,list_of_s, objectives_k3, lab=\"k0=$k3\")\n",
    "plot!(p1,list_of_s, objectives_k4, lab=\"k0=$k4\")\n",
    "\n",
    "p2 = plot(list_of_s[50:end-1], objectives_k1[50:end-1], xlabel = \"s\", ylabel = \"k\", lab=\"k0=$k1\") # it is a zoom on the s not too close from 0 or 1\n",
    "plot!(p2,list_of_s[50:end-1], objectives_k2[50:end-1], lab=\"k0=$k2\")\n",
    "plot!(p2,list_of_s[50:end-1], objectives_k3[50:end-1], lab=\"k0=$k3\")\n",
    "plot!(p2,list_of_s[50:end-1], objectives_k4[50:end-1], lab=\"k0=$k4\")\n",
    "\n",
    "plot(p1, p2, layout = (1,2))"
   ]
  },
  {
   "cell_type": "markdown",
   "metadata": {},
   "source": [
    "__Use library Optim.jl to compute optimal saving. Plot it against initial capital. Bonus: compare the optimal steady-state level with the one you can evaluate in closed form.__"
   ]
  },
  {
   "cell_type": "code",
   "execution_count": null,
   "metadata": {},
   "outputs": [],
   "source": [
    "using Optim\n",
    "using LinearAlgebra"
   ]
  },
  {
   "cell_type": "code",
   "execution_count": null,
   "metadata": {},
   "outputs": [],
   "source": [
    "function f(s, k::Float64, p::Parameters) # I create another f to set s as an input\n",
    "    return (1-p.δ)*k + k^p.α * (1-s)\n",
    "end\n",
    "\n",
    "function simulate(s, k0::Float64, T::Int, p::Parameters) # I create another simulate to set s as an input\n",
    "    list_of_k = [k0]\n",
    "    for i in 1:T\n",
    "        k0 = f(s, k0, p)\n",
    "        append!(list_of_k,k0)\n",
    "    end\n",
    "    return list_of_k\n",
    "end\n",
    "\n",
    "function objective(s::Float64, p::Parameters, T::Int, k0::Float64)\n",
    "    list_of_k = simulate(s, k0, T, p)\n",
    "    list_of_c = s*list_of_k .^ p.α\n",
    "    list_of_u = u(list_of_c,p)\n",
    "    return sum([p.β^k for k in 0:T] .* list_of_u) + list_of_u[T+1]*p.β^(T+1)/(1-p.β)\n",
    "end"
   ]
  },
  {
   "cell_type": "code",
   "execution_count": null,
   "metadata": {},
   "outputs": [],
   "source": [
    "T0 = 300\n",
    "list_k0 = Float64.([k/4 for k in 1:200])\n",
    "list_s = [Optim.minimizer(optimize(x -> -objective(x[1], parms, T0, k), [0.], [1.], [0.81]))[1] for k in list_k0]\n",
    "plot(list_k0,list_s, xlabel =\"k0\", ylabel = \"s\", title = \"optimal saving\")\n"
   ]
  },
  {
   "cell_type": "markdown",
   "metadata": {},
   "source": [
    "## Deterministic Neoclassical Model: bruteforce"
   ]
  },
  {
   "cell_type": "markdown",
   "metadata": {},
   "source": [
    "Model is exactly the same as in the last exercise, but now we look for a time-dependent saving rule, that is a different $s_t$ for each date. We will try to choose $s_t$ to maximize\n",
    "\n",
    "$$\\sum_{t = 0}^T \\beta^t U(c_t) + \\sum_{t = T+1}^{\\infty} \\beta^t U(c_T) $$\n",
    "\n",
    "__Explain why the second term is important__"
   ]
  },
  {
   "cell_type": "markdown",
   "metadata": {},
   "source": [
    "We have $\\sum_{t=T+1}^\\infty \\beta^t U(c_T) = U(c_T) * \\frac{\\beta^{T+1}}{1-\\beta} << 0 $. Indeed, since $\\gamma$ is higher than 1, the utility is always negative and increasing with c. Therefore the second term might be very far from negligible and especially if we don't dare taking a very high T (which requires a high computation time for the first term and is often not worthy because the convergence is fast)."
   ]
  },
  {
   "cell_type": "markdown",
   "metadata": {},
   "source": [
    "__Choose an horizon $T$ and write a function `objective(s, k0::Float64, T::Int, p::Parameters)` to compute the objective approximated with $T$ periods as a function of initial state `k0::Float64` and of the vector of saving rates `s::Vector` representing $(s_0, s_1, \\cdots s_{T})$. Note that argument type of `s` is left unspecified to make it compatible with automatic differentiation.__"
   ]
  },
  {
   "cell_type": "code",
   "execution_count": null,
   "metadata": {},
   "outputs": [],
   "source": [
    "function simulate_neoclassical(s, k0::Float64, T::Int, p::Parameters)\n",
    "    list_of_k = [k0]\n",
    "    for i in 1:T\n",
    "        k0 = f(s[i], k0, p)\n",
    "        append!(list_of_k,k0)\n",
    "    end\n",
    "    return list_of_k\n",
    "end"
   ]
  },
  {
   "cell_type": "code",
   "execution_count": null,
   "metadata": {},
   "outputs": [],
   "source": [
    "function objective(s, k0::Float64, T::Int, p::Parameters)\n",
    "    list_of_k = simulate_neoclassical(s, k0, T, p)\n",
    "    list_of_c = s .* list_of_k .^ p.α\n",
    "    list_of_u = u(list_of_c,p)\n",
    "    return sum([p.β^k for k in 0:T] .* list_of_u) + list_of_u[T+1]*p.β^(T+1)/(1-p.β)\n",
    "end"
   ]
  },
  {
   "cell_type": "code",
   "execution_count": null,
   "metadata": {},
   "outputs": [],
   "source": [
    "T0=200\n",
    "objective(rand(T+1),2.,T0,parms)"
   ]
  },
  {
   "cell_type": "markdown",
   "metadata": {},
   "source": [
    "__Use library `Optim.jl` to maximize the utility function. If possible, find a way to specify derivatives of the objective function.__"
   ]
  },
  {
   "cell_type": "code",
   "execution_count": null,
   "metadata": {},
   "outputs": [],
   "source": [
    "k0 = 2.\n",
    "T0 = 200\n",
    "res2 = optimize(x -> - objective(x, k0, T0, parms), [0. for k in 1:T0+1], [1. for k in 1:T0+1], rand(T0+1))\n",
    "Optim.minimizer(res2) # this gives the vector s maximising the utility since I have put a (-) before the objective function."
   ]
  },
  {
   "cell_type": "markdown",
   "metadata": {},
   "source": [
    "This is counterintuitive : here, people should save nearly all at date T and not before. I would have expected to get nearly the same s all along the path."
   ]
  },
  {
   "cell_type": "markdown",
   "metadata": {},
   "source": [
    "## RBC Model with Dolo"
   ]
  },
  {
   "cell_type": "markdown",
   "metadata": {},
   "source": [
    "__If needed, install Dolo, AxisArrays and DataFrames__"
   ]
  },
  {
   "cell_type": "code",
   "execution_count": null,
   "metadata": {},
   "outputs": [],
   "source": [
    "]add DataFrames\n",
    "]add AxisArrays\n",
    "]add Dolo"
   ]
  },
  {
   "cell_type": "markdown",
   "metadata": {},
   "source": [
    "__Examine the `yaml` file `rbc.yaml`. It represents a basic version of the RBC model,\n",
    "similar to the one seen in class.__"
   ]
  },
  {
   "cell_type": "code",
   "execution_count": null,
   "metadata": {},
   "outputs": [],
   "source": [
    "filename= \"../notebooks/rbc.yaml\"\n",
    "\n",
    "readlines(filename)"
   ]
  },
  {
   "cell_type": "markdown",
   "metadata": {},
   "source": [
    "__What are the states (predetermined variables), what are the controls (to be determined), what are the exogenous variables?__"
   ]
  },
  {
   "cell_type": "markdown",
   "metadata": {},
   "source": [
    "$z_t$ (productivity) and $k_t$ (capital) are the states.\n",
    "\n",
    "$n_t$ (labour) and $i_t$ (investment) are the controls.\n",
    "\n",
    "$\\epsilon_t$ is the exogeneous shock."
   ]
  },
  {
   "cell_type": "markdown",
   "metadata": {},
   "source": [
    "__Compare the calibration from the yaml file, with the one given in the course. What is the specification for the utility function? ($U$ and $V$)__"
   ]
  },
  {
   "cell_type": "markdown",
   "metadata": {},
   "source": [
    "Here, the calibration mentions that $U(c_t, n_t) = \\frac{c_t^{1-\\sigma}}{1-\\sigma} - \\chi \\frac{n_t^{1+\\eta}}{1+\\eta}$ and $V(c_t) = \\frac{log(c_t)}{1-\\beta}$. \n",
    "\n",
    "This is not exactly like in the course since, in the course, it said that the total utility looks like $U(c_t) +\\chi V(1-n_t)$ with $U'≥0$, $U\"≤0$, $U'(0)=+\\infty$ and $U'(+\\infty)=0$ (idem for V).\n",
    "\n",
    "However, $u0(c_t) := \\frac{c_t^{1-\\sigma}}{1-\\sigma} = -\\frac{1}{4c_t^4}$ verifies the Inada conditions. $V(c_t)$ too. But, the fact that $\\chi = \\frac{w}{c^\\sigma *n^\\eta}$ is what allows to find a closed form solution for the steady state as in the course."
   ]
  },
  {
   "cell_type": "markdown",
   "metadata": {},
   "source": [
    "__Import the model. Inspect fields symbols and exogenous.__"
   ]
  },
  {
   "cell_type": "code",
   "execution_count": null,
   "metadata": {},
   "outputs": [],
   "source": [
    "using Dolo\n",
    "model = yaml_import(\"rbc.yaml\")"
   ]
  },
  {
   "cell_type": "code",
   "execution_count": null,
   "metadata": {},
   "outputs": [],
   "source": [
    "model.symbols"
   ]
  },
  {
   "cell_type": "markdown",
   "metadata": {},
   "source": [
    "`model.exogenous` is a julia object representing the random distribution driving the model"
   ]
  },
  {
   "cell_type": "code",
   "execution_count": null,
   "metadata": {},
   "outputs": [],
   "source": [
    "model.exogenous"
   ]
  },
  {
   "cell_type": "code",
   "execution_count": null,
   "metadata": {},
   "outputs": [],
   "source": [
    "# one can simulate 2 sets of simulations for 10 periods with\n",
    "sim = Dolo.simulate(model.exogenous, 2, 10)"
   ]
  },
  {
   "cell_type": "code",
   "execution_count": null,
   "metadata": {},
   "outputs": [],
   "source": [
    "# the result is a special AxisArray object\n",
    "# it is essentially a multidmensional array with labels on axes\n",
    "# which is super useful to avoid reordering mistakes\n",
    "using AxisArrays\n",
    "sim[Axis{:V}(1), Axis{:N}(1)] "
   ]
  },
  {
   "cell_type": "code",
   "execution_count": null,
   "metadata": {},
   "outputs": [],
   "source": [
    "# Here is the first simulation as a regular vector\n",
    "sim[Axis{:V}(1), Axis{:N}(1)].data"
   ]
  },
  {
   "cell_type": "markdown",
   "metadata": {},
   "source": [
    "__Check that the calibration given in the yaml file satisfies the steady-state__"
   ]
  },
  {
   "cell_type": "code",
   "execution_count": null,
   "metadata": {},
   "outputs": [],
   "source": [
    "# calibration, both for the parameters and the steady-state values is a dict-like object:\n",
    "model.calibration"
   ]
  },
  {
   "cell_type": "code",
   "execution_count": null,
   "metadata": {},
   "outputs": [],
   "source": [
    "# which can behave in several ways:\n",
    "model.calibration.flat"
   ]
  },
  {
   "cell_type": "code",
   "execution_count": null,
   "metadata": {},
   "outputs": [],
   "source": [
    "model.calibration.grouped"
   ]
  },
  {
   "cell_type": "code",
   "execution_count": null,
   "metadata": {},
   "outputs": [],
   "source": [
    "# we get values of parameters and steady_state values\n",
    "e, s, x, p = model.calibration[:exogenous, :states, :controls, :parameters]"
   ]
  },
  {
   "cell_type": "markdown",
   "metadata": {},
   "source": [
    "Denoting the vector of states by $s_t$, the vector of controls by $x_t$ and the vector of exogenous shocks by $e_t$, the *general specification* of a model in Dolo is:\n",
    "\n",
    "$$\n",
    "E_t \\left[ f(e_t, s_t, x_t, e_{t+1}, s_{t+1}, x_{t+1}) \\right]  = 0 \\\\\\\\\n",
    "s_t =  g(e_{t-1}, s_{t-1}, x_{t-1}, e_t)\n",
    "$$\n",
    "\n",
    "The are represented in the function  Dolo.arbitrage and Dolo.transition respectively."
   ]
  },
  {
   "cell_type": "code",
   "execution_count": null,
   "metadata": {},
   "outputs": [],
   "source": [
    "Dolo.arbitrage(model,e,s,x,e,s,x,p) # this is all zero"
   ]
  },
  {
   "cell_type": "code",
   "execution_count": null,
   "metadata": {},
   "outputs": [],
   "source": [
    "Dolo.transition(model, e,s,x,e,p) - s"
   ]
  },
  {
   "cell_type": "markdown",
   "metadata": {},
   "source": [
    "### Perturbation\n",
    "\n",
    "Since the shock doesn't appear at date $t$ in the arbitrage function or at date $t-1$ in the transition equation, the first order dynamics can be characterized by:\n",
    "\n",
    "$$\n",
    "\\mathbb{E}_t \\left[ f^{\\prime}_{s_t} \\Delta s_t + f^{\\prime}_{x_t} \\Delta x_t + f^{\\prime}_{e_{t+1}} e_{t+1} + f^{\\prime}_{s_{t+1}} \\Delta s_{t+1} + f^{\\prime}_{x_{t+1}} \\Delta x_{t+1} \\right]  =  0 \\\\\\\\\n",
    "\\Delta s_{t} = g^{\\prime}_{s_{t-1}} \\Delta s_{t-1} + g^{\\prime}_{x_{t-1}} \\Delta x_{t-1} + g^{\\prime}_{e_t} e_{t}\n",
    "$$\n",
    "\n",
    "Taking into account the fact the $e_{t+1}$ is zero mean it simplifies as:\n",
    "\n",
    "$$\n",
    "\\mathbb{E}_t \\left[ \\underbrace{ f^{\\prime}_{s_t}}_{A} \\Delta s_t + \\underbrace{f^{\\prime}_{x_t}}_{B} \\Delta x_t + \\underbrace{f^{\\prime}_{s_{t+1}}}_{C} \\Delta s_{t+1} + \\underbrace{ f^{\\prime}_{x_{t+1}}}_{D}\\Delta x_{t+1} \\right] = 0 \\\\\\\\\n",
    "\\Delta s_{t}  =  \\underbrace{g^{\\prime}_{s_{t-1}}}_{E} \\Delta s_{t-1} + \\underbrace{g^{\\prime}_{x_{t-1}}}_{F} \\Delta x_{t-1} + \\underbrace{g^{\\prime}_{e_t}}_{Q} e_{t}\n",
    "$$\n",
    "\n",
    "The solution of this system, is a matrix $X$ such that $\\Delta x_t = X \\Delta s_t$ satisfies the arbitrage equation for any $\\Delta s_t$ (once the transition equation is susbtituted in)."
   ]
  },
  {
   "cell_type": "markdown",
   "metadata": {},
   "source": [
    "__Compute derivatives A,B,C,D,E,F,Q using Dolo. Check that they have the right dimensions.__"
   ]
  },
  {
   "cell_type": "code",
   "execution_count": null,
   "metadata": {},
   "outputs": [],
   "source": [
    "A,B,C,D,E,F = Dolo.get_gf_derivatives(model)"
   ]
  },
  {
   "cell_type": "code",
   "execution_count": null,
   "metadata": {},
   "outputs": [],
   "source": [
    "Q = Dolo.get_ss_derivatives(model)[1][4] \n",
    "# slightly convoluted, admittedly, that is because get_ss returns (g_e, g_s, g_x, g_E), (f_e, f_s, f_x, f_E, F_S, f_X)"
   ]
  },
  {
   "cell_type": "code",
   "execution_count": null,
   "metadata": {},
   "outputs": [],
   "source": [
    "@assert size(A) == (2,2) # 2 arbitrage equations x 2 states today"
   ]
  },
  {
   "cell_type": "markdown",
   "metadata": {},
   "source": [
    "__Define a structure `PerturbedModel` to hold matrices A,B,C,D,E,F.__"
   ]
  },
  {
   "cell_type": "code",
   "execution_count": null,
   "metadata": {},
   "outputs": [],
   "source": [
    "struct PerturbedModel\n",
    "    A::Matrix{Float64}\n",
    "    B::Matrix{Float64}\n",
    "    C::Matrix{Float64}\n",
    "    D::Matrix{Float64}\n",
    "    E::Matrix{Float64}\n",
    "    F::Matrix{Float64}\n",
    "    Q::Matrix{Float64}\n",
    "end\n",
    "\n",
    "pm = PerturbedModel(A,B,C,D,E,F,Q)"
   ]
  },
  {
   "cell_type": "markdown",
   "metadata": {},
   "source": [
    "__We look for a linear solution $x_t = X s_t$ where $X$ is a 2x2 matrix. Write the matrix equation which `X` must satisfy. Write a function `residual(X::Array, M::PerturbedModel)` which to the residual of this equation for a given `X`.__\n"
   ]
  },
  {
   "cell_type": "markdown",
   "metadata": {},
   "source": [
    "$A+BX+(C+DX)(E+FX) = 0$"
   ]
  },
  {
   "cell_type": "code",
   "execution_count": null,
   "metadata": {},
   "outputs": [],
   "source": [
    "function residual(X::Array, M::PerturbedModel)\n",
    "    return M.A + M.B*X + (M.C + M.D*X)*(M.E +M.F*X)\n",
    "end"
   ]
  },
  {
   "cell_type": "markdown",
   "metadata": {},
   "source": [
    "__Write a function `T(X, M::PerturbedModel)`  which implements the time iteration step.__"
   ]
  },
  {
   "cell_type": "code",
   "execution_count": null,
   "metadata": {},
   "outputs": [],
   "source": [
    "function T(X, M::PerturbedModel)\n",
    "    return -(M.B + (M.C + M.D*X) * M.F)\\(M.A + (M.C + M.D*X)* M.E)\n",
    "end"
   ]
  },
  {
   "cell_type": "markdown",
   "metadata": {},
   "source": [
    "__Write function `linear_time_iteration(X_0::Matrix, m::PerturbedModel)::Matrix` which implements the time iteration algorithm. Apply it to `X0 = rand(1,2)` and check that the result satisfies the first order model.__\n",
    "\n",
    "    "
   ]
  },
  {
   "cell_type": "code",
   "execution_count": null,
   "metadata": {},
   "outputs": [],
   "source": [
    "ϵ0 = 1.e-5\n",
    "η0 = 1.e-5\n",
    "max_it = 2000\n",
    "function linear_time_iteration(X_0::Matrix, M::PerturbedModel)\n",
    "    X_1 =  T(X_0, M)\n",
    "    iterations = 1\n",
    "    while iterations < max_it && (sum(abs.(X_1-X_0)) > η0 || sum(abs.(residual(X_1,M))) > ϵ0)\n",
    "        X_0 = X_1\n",
    "        X_1 =  T(X_0, M)\n",
    "        iterations += 1\n",
    "    end\n",
    "    return X_1\n",
    "end"
   ]
  },
  {
   "cell_type": "code",
   "execution_count": null,
   "metadata": {},
   "outputs": [],
   "source": [
    "X0 = rand(2,2)\n",
    "sol_time_iteration = linear_time_iteration(X0, pm)"
   ]
  },
  {
   "cell_type": "markdown",
   "metadata": {},
   "source": [
    "__Define two linear operators `L_S(S::Matrix, X_0::Matrix, m::PerturbedModel)::Matrix` and `L_T(S::Matrix, X_0::Matrix, m::PerturbedModel)::Matrix` which implement the derivatives of the simulation and the time-iteration operator respectively.__"
   ]
  },
  {
   "cell_type": "code",
   "execution_count": null,
   "metadata": {},
   "outputs": [],
   "source": [
    "function L_S(S::Matrix, X_0::Matrix, m::PerturbedModel) # I am not sure to understand what should be S and why it is a MAtrix and not a vector\n",
    "    return (m.E + m.F*linear_time_iteration(X_0,m)) * S \n",
    "end\n",
    "\n",
    "function L_T(S::Matrix, X_0::Matrix, m::PerturbedModel)\n",
    "    X_SS = linear_time_iteration(X_0,m)\n",
    "    return (m.B + (m.C +m.D*X_SS) * m.F) \\ m.D * S * (m.E + m.F * X_SS)\n",
    "end"
   ]
  },
  {
   "cell_type": "markdown",
   "metadata": {},
   "source": [
    "__Implement a function `spectral_radius(f::Function)::Float64` which implements the power iteration method to compute the biggest eigenvalues of the two previously defined operators. Check that Blamnchard-Kahn conditions are met.__"
   ]
  },
  {
   "cell_type": "code",
   "execution_count": null,
   "metadata": {},
   "outputs": [],
   "source": [
    "function norm(x::Matrix{Float64})\n",
    "    return maximum(abs.(eigvals(x)))\n",
    "end\n",
    "\n",
    "function norm(x::Vector{Float64})\n",
    "    return sqrt(sum(x.^2))\n",
    "end"
   ]
  },
  {
   "cell_type": "code",
   "execution_count": null,
   "metadata": {},
   "outputs": [],
   "source": [
    "η0 = 1.e-5\n",
    "\n",
    "function spectral_radius(f::Function)\n",
    "    x0 = rand(2)\n",
    "    u0 = x0 ./ norm(x0)\n",
    "    x1 = f(u0, X0, pm)\n",
    "    u1 = x1 ./ norm(x1)\n",
    "    while norm(u1-u0) > η0\n",
    "        u0 = u1\n",
    "        x1 = f(u0, X0, pm)\n",
    "        u1 = x1 ./ norm(x1)\n",
    "    end\n",
    "    return norm(x1)\n",
    "end\n",
    "\n",
    "function spectral_radius2(f::Function)\n",
    "    x0 = rand(2,2)\n",
    "    u0 = x0 ./ norm(x0)\n",
    "    x1 = f(u0, X0, pm)\n",
    "    u1 = x1 ./ norm(x1)\n",
    "    while norm(u1-u0) > η0\n",
    "        u0 = u1\n",
    "        x1 = f(u0, X0, pm)\n",
    "        u1 = x1 ./ norm(x1)\n",
    "    end\n",
    "    return norm(x1)\n",
    "end"
   ]
  },
  {
   "cell_type": "code",
   "execution_count": null,
   "metadata": {},
   "outputs": [],
   "source": [
    "spectral_radius(L_S)"
   ]
  },
  {
   "cell_type": "code",
   "execution_count": 85,
   "metadata": {},
   "outputs": [
    {
     "data": {
      "text/plain": [
       "7.494005416219807e-16"
      ]
     },
     "metadata": {},
     "output_type": "display_data"
    }
   ],
   "source": [
    "# Checking the result for the simulation operator => OK\n",
    "maximum(abs.(eigvals(pm.E + pm.F*linear_time_iteration(X0,pm))))"
   ]
  },
  {
   "cell_type": "code",
   "execution_count": null,
   "metadata": {},
   "outputs": [],
   "source": [
    "spectral_radius2(L_T) # do not know if it works. It's far too long."
   ]
  },
  {
   "cell_type": "markdown",
   "metadata": {},
   "source": [
    "__Compare the solution with the one obtained by dolo__"
   ]
  },
  {
   "cell_type": "code",
   "execution_count": 23,
   "metadata": {},
   "outputs": [
    {
     "data": {
      "text/plain": [
       "Perturbation Results\n",
       " * Decision Rule type: Dolo.BiTaylorExpansion{2}\n",
       " * stable < true\n",
       " * determined < true\n"
      ]
     },
     "metadata": {},
     "output_type": "display_data"
    }
   ],
   "source": [
    "sol_dolo = Dolo.perturb(model)"
   ]
  },
  {
   "cell_type": "code",
   "execution_count": 24,
   "metadata": {},
   "outputs": [
    {
     "data": {
      "text/plain": [
       "2×2 Matrix{Float64}:\n",
       " 0.207879  -0.0152809\n",
       " 1.39034   -0.0105166"
      ]
     },
     "metadata": {},
     "output_type": "display_data"
    }
   ],
   "source": [
    "X_dolo = sol_dolo.dr.x_s"
   ]
  },
  {
   "cell_type": "markdown",
   "metadata": {},
   "source": [
    "__Compute the transition matrix $P = E + F X$__"
   ]
  },
  {
   "cell_type": "code",
   "execution_count": 25,
   "metadata": {},
   "outputs": [
    {
     "data": {
      "text/plain": [
       "2×2 Matrix{Float64}:\n",
       " 0.0       0.0\n",
       " 0.112768  0.100429"
      ]
     },
     "metadata": {},
     "output_type": "display_data"
    }
   ],
   "source": [
    "P = pm.E + pm.F*X_dolo"
   ]
  },
  {
   "cell_type": "markdown",
   "metadata": {},
   "source": [
    "__Create a structure to hold the solution__"
   ]
  },
  {
   "cell_type": "code",
   "execution_count": 26,
   "metadata": {},
   "outputs": [],
   "source": [
    "struct Solution\n",
    "    X::Matrix{Float64}\n",
    "    P::Matrix{Float64}  # transition matrix\n",
    "    Q::Matrix{Float64}\n",
    "    shock               # set it to model.exogenous\n",
    "end"
   ]
  },
  {
   "cell_type": "code",
   "execution_count": 27,
   "metadata": {},
   "outputs": [
    {
     "data": {
      "text/plain": [
       "Solution([0.20787915142620136 -0.015280943914675495; 1.390339699599508 -0.010516596585492944], [0.0 0.0; 0.11276752200022067 0.10042906903279578], [1.0; 0.0], Dolo.MvNormal([0.0], [1.0e-6]))"
      ]
     },
     "metadata": {},
     "output_type": "display_data"
    }
   ],
   "source": [
    "sol = Solution(X_dolo, P, pm.Q, model.exogenous)"
   ]
  },
  {
   "cell_type": "markdown",
   "metadata": {},
   "source": [
    "__Write a function `simulate(s0::Vector, sol::Solution, T::Int64)::Tuple{Matrix, Matrix}` to simulate the model over $T$ periods (by using the formula $\\Delta s_t = P s_{t-1} + Q e_t$. Return a matrix for the states (one line per date) and another matrix for the controls. Use Dolo.simulation(sol.shock) to simulate the exogenous shock.__\n",
    "\n",
    "__Bonus: add a keyword option to compute variables levels or log-deviations. If possible, return a DataFrame or an AxisArrays object.__"
   ]
  },
  {
   "cell_type": "code",
   "execution_count": 33,
   "metadata": {},
   "outputs": [
    {
     "data": {
      "text/plain": [
       "simulate (generic function with 1 method)"
      ]
     },
     "metadata": {},
     "output_type": "display_data"
    }
   ],
   "source": [
    "using LinearAlgebra\n",
    "function simulate(s0::Vector, sol::Solution, T::Int64; result_in_level=false)\n",
    "    simulated_states = zeros(T,2)\n",
    "    simulated_controls = zeros(T,2)\n",
    "    e = Dolo.simulate(sol.shock,1,T-1)\n",
    "    simulated_states[1,:] = s0\n",
    "    simulated_controls[1,:] = sol.X*s0\n",
    "    for i in 1:T-1\n",
    "        s = (sol.P + Matrix(I,2,2)) * s0 + sol.Q * e[i]\n",
    "        simulated_states[i+1,:] = s\n",
    "        simulated_controls[i+1,:] = sol.X*s\n",
    "    end\n",
    "    if result_in_level == true\n",
    "        return log.(simulated_states), log.(simulated_controls)\n",
    "    end\n",
    "    return simulated_states, simulated_controls\n",
    "end"
   ]
  },
  {
   "cell_type": "code",
   "execution_count": 34,
   "metadata": {},
   "outputs": [
    {
     "data": {
      "text/plain": [
       "100×2 Matrix{Float64}:\n",
       " 0.0562514  0.412895\n",
       " 0.0551205  0.412117\n",
       " 0.0548347  0.410206\n",
       " 0.0550971  0.41196\n",
       " 0.0550729  0.411798\n",
       " 0.0550758  0.411818\n",
       " 0.0551247  0.412145\n",
       " 0.0552571  0.41303\n",
       " 0.0552486  0.412974\n",
       " 0.054767   0.409752\n",
       " ⋮          \n",
       " 0.0549826  0.411194\n",
       " 0.0550484  0.411634\n",
       " 0.055107   0.412026\n",
       " 0.0549964  0.411287\n",
       " 0.0548969  0.410621\n",
       " 0.0551085  0.412037\n",
       " 0.0549054  0.410678\n",
       " 0.0553048  0.413349\n",
       " 0.0553134  0.413407"
      ]
     },
     "metadata": {},
     "output_type": "display_data"
    }
   ],
   "source": [
    "simulate([0.3,0.4],sol, 100)[1]\n",
    "simulate([0.3,0.4],sol, 100)[2]"
   ]
  },
  {
   "cell_type": "markdown",
   "metadata": {},
   "source": [
    "__Write a function response(sol::Solution, T::Int64, δ::Float64) which computes the deterministic response of a model, followint an initial deviation of the shock δ.__"
   ]
  },
  {
   "cell_type": "markdown",
   "metadata": {},
   "source": [
    "As I understand it, we want to compare the initial exogeneous shock with another exogeneous shock deviated initially (ie for t=1) and not after. To show the response to that, I think that the initial state is required to compute the entire time path of the states."
   ]
  },
  {
   "cell_type": "code",
   "execution_count": 30,
   "metadata": {},
   "outputs": [
    {
     "data": {
      "text/plain": [
       "response (generic function with 1 method)"
      ]
     },
     "metadata": {},
     "output_type": "display_data"
    }
   ],
   "source": [
    "function response(s0::Vector, sol::Solution, T::Int64, δ::Float64)\n",
    "    simulated_states = zeros(T,2)\n",
    "    simulated_controls = zeros(T,2)\n",
    "    e = Dolo.simulate(sol.shock,1,T-1)\n",
    "    e[1] += δ\n",
    "    simulated_states[1,:] = s0\n",
    "    simulated_controls[1,:] = sol.X*s0\n",
    "    for i in 1:T-1\n",
    "        s = (sol.P + Matrix(I,2,2)) * s0 + sol.Q * e[i]\n",
    "        simulated_states[i+1,:] = s\n",
    "        simulated_controls[i+1,:] = sol.X*s\n",
    "    end\n",
    "    return simulated_states, simulated_controls\n",
    "end"
   ]
  },
  {
   "cell_type": "code",
   "execution_count": 35,
   "metadata": {},
   "outputs": [
    {
     "data": {
      "text/plain": [
       "100×2 Matrix{Float64}:\n",
       " 0.0562514  0.412895\n",
       " 0.678758   4.58314\n",
       " 0.0553239  0.413477\n",
       " 0.0553106  0.413388\n",
       " 0.0548756  0.410478\n",
       " 0.0555315  0.414865\n",
       " 0.0547784  0.409829\n",
       " 0.0550466  0.411622\n",
       " 0.0547915  0.409917\n",
       " 0.055271   0.413123\n",
       " ⋮          \n",
       " 0.0547686  0.409763\n",
       " 0.0551428  0.412266\n",
       " 0.0551741  0.412475\n",
       " 0.0549723  0.411126\n",
       " 0.0553426  0.413602\n",
       " 0.0551412  0.412255\n",
       " 0.0548391  0.410234\n",
       " 0.0551119  0.412059\n",
       " 0.0550688  0.411771"
      ]
     },
     "metadata": {},
     "output_type": "display_data"
    }
   ],
   "source": [
    "response([0.3,0.4],sol, 100, 3.)[1] # states\n",
    "response([0.3,0.4],sol, 100, 3.)[2] # controls"
   ]
  },
  {
   "cell_type": "markdown",
   "metadata": {},
   "source": [
    "__Bonus: Introduce a 10% income tax in the model, by editing the yaml file. How does it affect the responses of the model's variables?__"
   ]
  },
  {
   "cell_type": "code",
   "execution_count": 32,
   "metadata": {},
   "outputs": [],
   "source": []
  }
 ],
 "metadata": {
  "kernelspec": {
   "display_name": "Julia 1.6.3",
   "language": "julia",
   "name": "julia-1.6"
  },
  "language_info": {
   "file_extension": ".jl",
   "mimetype": "application/julia",
   "name": "julia",
   "version": "1.6.3"
  }
 },
 "nbformat": 4,
 "nbformat_minor": 4
}
